{
  "nbformat": 4,
  "nbformat_minor": 0,
  "metadata": {
    "colab": {
      "name": "LeetCode-Python.ipynb",
      "provenance": [],
      "authorship_tag": "ABX9TyNQ6+JXmKx+SF5XoxQo2Tjf",
      "include_colab_link": true
    },
    "kernelspec": {
      "name": "python3",
      "display_name": "Python 3"
    },
    "language_info": {
      "name": "python"
    }
  },
  "cells": [
    {
      "cell_type": "markdown",
      "metadata": {
        "id": "view-in-github",
        "colab_type": "text"
      },
      "source": [
        "<a href=\"https://colab.research.google.com/github/nityanandkore/Python-Study-Repo/blob/master/LeetCode_Python.ipynb\" target=\"_parent\"><img src=\"https://colab.research.google.com/assets/colab-badge.svg\" alt=\"Open In Colab\"/></a>"
      ]
    },
    {
      "cell_type": "markdown",
      "source": [
        "1678. Goal Parser Interpretation\n",
        "Easy\n",
        "\n",
        "743\n",
        "\n",
        "62\n",
        "\n",
        "Add to List\n",
        "\n",
        "Share\n",
        "You own a Goal Parser that can interpret a string command. The command consists of an alphabet of \"G\", \"()\" and/or \"(al)\" in some order. The Goal Parser will interpret \"G\" as the string \"G\", \"()\" as the string \"o\", and \"(al)\" as the string \"al\". The interpreted strings are then concatenated in the original order.\n",
        "\n",
        "Given the string command, return the Goal Parser's interpretation of command.\n",
        "\n",
        " \n",
        "\n",
        "Example 1:\n",
        "\n",
        "Input: command = \"G()(al)\"\n",
        "Output: \"Goal\"\n",
        "Explanation: The Goal Parser interprets the command as follows:\n",
        "G -> G\n",
        "() -> o\n",
        "(al) -> al\n",
        "The final concatenated result is \"Goal\".\n",
        "Example 2:\n",
        "\n",
        "Input: command = \"G()()()()(al)\"\n",
        "Output: \"Gooooal\"\n",
        "Example 3:\n",
        "\n",
        "Input: command = \"(al)G(al)()()G\"\n",
        "Output: \"alGalooG\"\n",
        " \n",
        "\n",
        "Constraints:\n",
        "\n",
        "1 <= command.length <= 100\n",
        "command consists of \"G\", \"()\", and/or \"(al)\" in some order."
      ],
      "metadata": {
        "id": "_naHIrCPjP7z"
      }
    },
    {
      "cell_type": "code",
      "source": [
        "class Solution:\n",
        "    def interpret(self, command: str) -> str:\n",
        "        return command.replace(\"()\",\"o\").replace(\"(al)\",\"al\")"
      ],
      "metadata": {
        "id": "VfyickkxjVkj"
      },
      "execution_count": null,
      "outputs": []
    }
  ]
}