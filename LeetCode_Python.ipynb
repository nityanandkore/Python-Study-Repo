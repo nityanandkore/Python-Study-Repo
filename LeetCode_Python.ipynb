{
  "nbformat": 4,
  "nbformat_minor": 0,
  "metadata": {
    "colab": {
      "name": "LeetCode-Python.ipynb",
      "provenance": [],
      "authorship_tag": "ABX9TyN113JIEDREJmptOCggWSzf",
      "include_colab_link": true
    },
    "kernelspec": {
      "name": "python3",
      "display_name": "Python 3"
    },
    "language_info": {
      "name": "python"
    }
  },
  "cells": [
    {
      "cell_type": "markdown",
      "metadata": {
        "id": "view-in-github",
        "colab_type": "text"
      },
      "source": [
        "<a href=\"https://colab.research.google.com/github/nityanandkore/Python-Study-Repo/blob/master/LeetCode_Python.ipynb\" target=\"_parent\"><img src=\"https://colab.research.google.com/assets/colab-badge.svg\" alt=\"Open In Colab\"/></a>"
      ]
    },
    {
      "cell_type": "markdown",
      "source": [
        "\"1678.\" Goal Parser Interpretation\n",
        "Easy\n",
        "\n",
        "743\n",
        "\n",
        "62\n",
        "\n",
        "Add to List\n",
        "\n",
        "Share\n",
        "You own a Goal Parser that can interpret a string command. The command consists of an alphabet of \"G\", \"()\" and/or \"(al)\" in some order. The Goal Parser will interpret \"G\" as the string \"G\", \"()\" as the string \"o\", and \"(al)\" as the string \"al\". The interpreted strings are then concatenated in the original order.\n",
        "\n",
        "Given the string command, return the Goal Parser's interpretation of command.\n",
        "\n",
        " \n",
        "\n",
        "Example 1:\n",
        "\n",
        "Input: command = \"G()(al)\"\n",
        "Output: \"Goal\"\n",
        "Explanation: The Goal Parser interprets the command as follows:\n",
        "G -> G\n",
        "() -> o\n",
        "(al) -> al\n",
        "The final concatenated result is \"Goal\".\n",
        "Example 2:\n",
        "\n",
        "Input: command = \"G()()()()(al)\"\n",
        "Output: \"Gooooal\"\n",
        "Example 3:\n",
        "\n",
        "Input: command = \"(al)G(al)()()G\"\n",
        "Output: \"alGalooG\"\n",
        " \n",
        "\n",
        "Constraints:\n",
        "\n",
        "1 <= command.length <= 100\n",
        "command consists of \"G\", \"()\", and/or \"(al)\" in some order."
      ],
      "metadata": {
        "id": "_naHIrCPjP7z"
      }
    },
    {
      "cell_type": "code",
      "source": [
        "command = \"G()(al)\""
      ],
      "metadata": {
        "id": "IinKkTAlqTqb"
      },
      "execution_count": 1,
      "outputs": []
    },
    {
      "cell_type": "code",
      "source": [
        "class Solution:\n",
        "    def interpret(self, command: str) -> str:\n",
        "        return command.replace(\"()\",\"o\").replace(\"(al)\",\"al\")"
      ],
      "metadata": {
        "id": "VfyickkxjVkj"
      },
      "execution_count": 2,
      "outputs": []
    },
    {
      "cell_type": "code",
      "source": [
        "new_Sol = Solution()\n",
        "new_Sol.interpret(\"G()(al)\")"
      ],
      "metadata": {
        "colab": {
          "base_uri": "https://localhost:8080/",
          "height": 35
        },
        "id": "re3whpCmqW8L",
        "outputId": "15c61dfc-716c-4805-d32b-6d9f1e48fad0"
      },
      "execution_count": 5,
      "outputs": [
        {
          "output_type": "execute_result",
          "data": {
            "text/plain": [
              "'Goal'"
            ],
            "application/vnd.google.colaboratory.intrinsic+json": {
              "type": "string"
            }
          },
          "metadata": {},
          "execution_count": 5
        }
      ]
    },
    {
      "cell_type": "code",
      "source": [
        "class Solution:\n",
        "    def interpret(self, command: str) -> str:\n",
        "        #return command.replace(\"()\",\"o\").replace(\"(al)\",\"al\")\n",
        "        \n",
        "        result=\"\"\n",
        "        i=0\n",
        "        \n",
        "        while i<len(command):\n",
        "            if command[i]=='G':\n",
        "                result +='G'\n",
        "                i += 1\n",
        "            elif command[i]==\"(\" and command[i+1] ==\")\":\n",
        "                result +='o'\n",
        "                i +=2\n",
        "            else:\n",
        "                result +='al'\n",
        "                i +=4\n",
        "        return result"
      ],
      "metadata": {
        "id": "a8YaJJNMnn2C"
      },
      "execution_count": 9,
      "outputs": []
    },
    {
      "cell_type": "code",
      "source": [
        "new_Sol = Solution()\n",
        "new_Sol.interpret(\"G()(al)\")"
      ],
      "metadata": {
        "colab": {
          "base_uri": "https://localhost:8080/",
          "height": 35
        },
        "id": "lZogR_Shqpis",
        "outputId": "47ec257b-726b-4b3c-fd91-25b4b6c61bb7"
      },
      "execution_count": 10,
      "outputs": [
        {
          "output_type": "execute_result",
          "data": {
            "text/plain": [
              "'Goal'"
            ],
            "application/vnd.google.colaboratory.intrinsic+json": {
              "type": "string"
            }
          },
          "metadata": {},
          "execution_count": 10
        }
      ]
    },
    {
      "cell_type": "code",
      "source": [
        "new_Sol.interpret(\"G()()()()(al)\")"
      ],
      "metadata": {
        "colab": {
          "base_uri": "https://localhost:8080/",
          "height": 35
        },
        "id": "r9uJJeIeqrLT",
        "outputId": "de80ab0c-c938-488b-aa16-0afa3ca987e0"
      },
      "execution_count": 11,
      "outputs": [
        {
          "output_type": "execute_result",
          "data": {
            "text/plain": [
              "'Gooooal'"
            ],
            "application/vnd.google.colaboratory.intrinsic+json": {
              "type": "string"
            }
          },
          "metadata": {},
          "execution_count": 11
        }
      ]
    },
    {
      "cell_type": "markdown",
      "source": [
        "\"1436.\" Destination City\n",
        " \n",
        "You are given the array paths, where paths[i] = [cityAi, cityBi] means there exists a direct path going from cityAi to cityBi. Return the destination city, that is, the city without any path outgoing to another city.\n",
        "\n",
        "It is guaranteed that the graph of paths forms a line without any loop, therefore, there will be exactly one destination city.\n",
        "\n",
        " \n",
        "\n",
        "Example 1:\n",
        "\n",
        "Input: paths = [[\"London\",\"New York\"],[\"New York\",\"Lima\"],[\"Lima\",\"Sao Paulo\"]]\n",
        "Output: \"Sao Paulo\" \n",
        "Explanation: Starting at \"London\" city you will reach \"Sao Paulo\" city which is the destination city. Your trip consist of: \"London\" -> \"New York\" -> \"Lima\" -> \"Sao Paulo\".\n",
        "Example 2:\n",
        "\n",
        "Input: paths = [[\"B\",\"C\"],[\"D\",\"B\"],[\"C\",\"A\"]]\n",
        "Output: \"A\"\n",
        "Explanation: All possible trips are: \n",
        "\"D\" -> \"B\" -> \"C\" -> \"A\". \n",
        "\"B\" -> \"C\" -> \"A\". \n",
        "\"C\" -> \"A\". \n",
        "\"A\". \n",
        "Clearly the destination city is \"A\".\n",
        "Example 3:\n",
        "\n",
        "Input: paths = [[\"A\",\"Z\"]]\n",
        "Output: \"Z\"\n",
        " \n",
        "\n",
        "Constraints:\n",
        "\n",
        "1 <= paths.length <= 100\n",
        "paths[i].length == 2\n",
        "1 <= cityAi.length, cityBi.length <= 10\n",
        "cityAi != cityBi\n",
        "All strings consist of lowercase and uppercase English letters and the space character."
      ],
      "metadata": {
        "id": "dULpSaS0Ggf1"
      }
    },
    {
      "cell_type": "code",
      "source": [
        "class Solution:\n",
        "    def destCity(self, paths: List[List[str]]) -> str:\n",
        "        \"\"\"\n",
        "        :type paths: List[List[str]]\n",
        "        :rtype str\n",
        "        \"\"\"\n",
        "        if len(paths)==1:\n",
        "            return paths[0][-1]\n",
        "        \n",
        "        sources = []\n",
        "        destinations = []\n",
        "        \n",
        "        for i in range(len(paths)):\n",
        "            sources.append(paths[i][0])\n",
        "            destinations.append(paths[i][1])\n",
        "            \n",
        "            \n",
        "        for destination in destinations:\n",
        "            if destination not in sources:\n",
        "                return destination"
      ],
      "metadata": {
        "colab": {
          "base_uri": "https://localhost:8080/",
          "height": 356
        },
        "id": "-TJWQmwXGtMb",
        "outputId": "5d52ee3c-ac05-40a7-a1e4-47d1b48a2cfe"
      },
      "execution_count": 17,
      "outputs": [
        {
          "output_type": "error",
          "ename": "TypeError",
          "evalue": "ignored",
          "traceback": [
            "\u001b[0;31m---------------------------------------------------------------------------\u001b[0m",
            "\u001b[0;31mTypeError\u001b[0m                                 Traceback (most recent call last)",
            "\u001b[0;32m<ipython-input-17-6e156f204e40>\u001b[0m in \u001b[0;36m<module>\u001b[0;34m()\u001b[0m\n\u001b[0;32m----> 1\u001b[0;31m \u001b[0;32mclass\u001b[0m \u001b[0mSolution\u001b[0m\u001b[0;34m:\u001b[0m\u001b[0;34m\u001b[0m\u001b[0;34m\u001b[0m\u001b[0m\n\u001b[0m\u001b[1;32m      2\u001b[0m     \u001b[0;32mdef\u001b[0m \u001b[0mdestCity\u001b[0m\u001b[0;34m(\u001b[0m\u001b[0mself\u001b[0m\u001b[0;34m,\u001b[0m \u001b[0mpaths\u001b[0m\u001b[0;34m:\u001b[0m \u001b[0mList\u001b[0m\u001b[0;34m[\u001b[0m\u001b[0mList\u001b[0m\u001b[0;34m[\u001b[0m\u001b[0mstr\u001b[0m\u001b[0;34m]\u001b[0m\u001b[0;34m]\u001b[0m\u001b[0;34m)\u001b[0m \u001b[0;34m->\u001b[0m \u001b[0mstr\u001b[0m\u001b[0;34m:\u001b[0m\u001b[0;34m\u001b[0m\u001b[0;34m\u001b[0m\u001b[0m\n\u001b[1;32m      3\u001b[0m         \"\"\"\n\u001b[1;32m      4\u001b[0m         \u001b[0;34m:\u001b[0m\u001b[0mtype\u001b[0m \u001b[0mpaths\u001b[0m\u001b[0;34m:\u001b[0m \u001b[0mList\u001b[0m\u001b[0;34m[\u001b[0m\u001b[0mList\u001b[0m\u001b[0;34m[\u001b[0m\u001b[0mstr\u001b[0m\u001b[0;34m]\u001b[0m\u001b[0;34m]\u001b[0m\u001b[0;34m\u001b[0m\u001b[0;34m\u001b[0m\u001b[0m\n\u001b[1;32m      5\u001b[0m         \u001b[0;34m:\u001b[0m\u001b[0mrtype\u001b[0m \u001b[0mstr\u001b[0m\u001b[0;34m\u001b[0m\u001b[0;34m\u001b[0m\u001b[0m\n",
            "\u001b[0;32m<ipython-input-17-6e156f204e40>\u001b[0m in \u001b[0;36mSolution\u001b[0;34m()\u001b[0m\n\u001b[1;32m      1\u001b[0m \u001b[0;32mclass\u001b[0m \u001b[0mSolution\u001b[0m\u001b[0;34m:\u001b[0m\u001b[0;34m\u001b[0m\u001b[0;34m\u001b[0m\u001b[0m\n\u001b[0;32m----> 2\u001b[0;31m     \u001b[0;32mdef\u001b[0m \u001b[0mdestCity\u001b[0m\u001b[0;34m(\u001b[0m\u001b[0mself\u001b[0m\u001b[0;34m,\u001b[0m \u001b[0mpaths\u001b[0m\u001b[0;34m:\u001b[0m \u001b[0mList\u001b[0m\u001b[0;34m[\u001b[0m\u001b[0mList\u001b[0m\u001b[0;34m[\u001b[0m\u001b[0mstr\u001b[0m\u001b[0;34m]\u001b[0m\u001b[0;34m]\u001b[0m\u001b[0;34m)\u001b[0m \u001b[0;34m->\u001b[0m \u001b[0mstr\u001b[0m\u001b[0;34m:\u001b[0m\u001b[0;34m\u001b[0m\u001b[0;34m\u001b[0m\u001b[0m\n\u001b[0m\u001b[1;32m      3\u001b[0m         \"\"\"\n\u001b[1;32m      4\u001b[0m         \u001b[0;34m:\u001b[0m\u001b[0mtype\u001b[0m \u001b[0mpaths\u001b[0m\u001b[0;34m:\u001b[0m \u001b[0mList\u001b[0m\u001b[0;34m[\u001b[0m\u001b[0mList\u001b[0m\u001b[0;34m[\u001b[0m\u001b[0mstr\u001b[0m\u001b[0;34m]\u001b[0m\u001b[0;34m]\u001b[0m\u001b[0;34m\u001b[0m\u001b[0;34m\u001b[0m\u001b[0m\n\u001b[1;32m      5\u001b[0m         \u001b[0;34m:\u001b[0m\u001b[0mrtype\u001b[0m \u001b[0mstr\u001b[0m\u001b[0;34m\u001b[0m\u001b[0;34m\u001b[0m\u001b[0m\n",
            "\u001b[0;31mTypeError\u001b[0m: list indices must be integers or slices, not type"
          ]
        }
      ]
    },
    {
      "cell_type": "code",
      "source": [
        "paths = [[\"London\",\"New York\"],[\"New York\",\"Lima\"],[\"Lima\",\"Sao Paulo\"]]"
      ],
      "metadata": {
        "id": "jzw5WO_WGxJq"
      },
      "execution_count": 5,
      "outputs": []
    },
    {
      "cell_type": "code",
      "source": [
        "new_Sol = Solution()\n",
        "\n",
        "new_sol.destCity(paths)"
      ],
      "metadata": {
        "colab": {
          "base_uri": "https://localhost:8080/",
          "height": 200
        },
        "id": "3f2cwobDG2Jq",
        "outputId": "20a0191c-9874-4ae8-9a49-7508acfe1137"
      },
      "execution_count": 14,
      "outputs": [
        {
          "output_type": "error",
          "ename": "NameError",
          "evalue": "ignored",
          "traceback": [
            "\u001b[0;31m---------------------------------------------------------------------------\u001b[0m",
            "\u001b[0;31mNameError\u001b[0m                                 Traceback (most recent call last)",
            "\u001b[0;32m<ipython-input-14-dda46bd07f83>\u001b[0m in \u001b[0;36m<module>\u001b[0;34m()\u001b[0m\n\u001b[1;32m      1\u001b[0m \u001b[0mnew_Sol\u001b[0m \u001b[0;34m=\u001b[0m \u001b[0mSolution\u001b[0m\u001b[0;34m(\u001b[0m\u001b[0;34m)\u001b[0m\u001b[0;34m\u001b[0m\u001b[0;34m\u001b[0m\u001b[0m\n\u001b[1;32m      2\u001b[0m \u001b[0;34m\u001b[0m\u001b[0m\n\u001b[0;32m----> 3\u001b[0;31m \u001b[0mnew_sol\u001b[0m\u001b[0;34m.\u001b[0m\u001b[0mdestCity\u001b[0m\u001b[0;34m(\u001b[0m\u001b[0mpaths\u001b[0m\u001b[0;34m)\u001b[0m\u001b[0;34m\u001b[0m\u001b[0;34m\u001b[0m\u001b[0m\n\u001b[0m",
            "\u001b[0;31mNameError\u001b[0m: name 'new_sol' is not defined"
          ]
        }
      ]
    }
  ]
}