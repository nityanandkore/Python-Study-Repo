{
  "nbformat": 4,
  "nbformat_minor": 0,
  "metadata": {
    "colab": {
      "name": "LeetCode-Python.ipynb",
      "provenance": [],
      "authorship_tag": "ABX9TyOvBEf2i5xP8EMItflj3FZp",
      "include_colab_link": true
    },
    "kernelspec": {
      "name": "python3",
      "display_name": "Python 3"
    },
    "language_info": {
      "name": "python"
    }
  },
  "cells": [
    {
      "cell_type": "markdown",
      "metadata": {
        "id": "view-in-github",
        "colab_type": "text"
      },
      "source": [
        "<a href=\"https://colab.research.google.com/github/nityanandkore/Python-Study-Repo/blob/master/LeetCode_Python.ipynb\" target=\"_parent\"><img src=\"https://colab.research.google.com/assets/colab-badge.svg\" alt=\"Open In Colab\"/></a>"
      ]
    },
    {
      "cell_type": "markdown",
      "source": [
        "\"1678.\" Goal Parser Interpretation\n",
        "Easy\n",
        "\n",
        "743\n",
        "\n",
        "62\n",
        "\n",
        "Add to List\n",
        "\n",
        "Share\n",
        "You own a Goal Parser that can interpret a string command. The command consists of an alphabet of \"G\", \"()\" and/or \"(al)\" in some order. The Goal Parser will interpret \"G\" as the string \"G\", \"()\" as the string \"o\", and \"(al)\" as the string \"al\". The interpreted strings are then concatenated in the original order.\n",
        "\n",
        "Given the string command, return the Goal Parser's interpretation of command.\n",
        "\n",
        " \n",
        "\n",
        "Example 1:\n",
        "\n",
        "Input: command = \"G()(al)\"\n",
        "Output: \"Goal\"\n",
        "Explanation: The Goal Parser interprets the command as follows:\n",
        "G -> G\n",
        "() -> o\n",
        "(al) -> al\n",
        "The final concatenated result is \"Goal\".\n",
        "Example 2:\n",
        "\n",
        "Input: command = \"G()()()()(al)\"\n",
        "Output: \"Gooooal\"\n",
        "Example 3:\n",
        "\n",
        "Input: command = \"(al)G(al)()()G\"\n",
        "Output: \"alGalooG\"\n",
        " \n",
        "\n",
        "Constraints:\n",
        "\n",
        "1 <= command.length <= 100\n",
        "command consists of \"G\", \"()\", and/or \"(al)\" in some order."
      ],
      "metadata": {
        "id": "_naHIrCPjP7z"
      }
    },
    {
      "cell_type": "code",
      "source": [
        "command = \"G()(al)\""
      ],
      "metadata": {
        "id": "IinKkTAlqTqb"
      },
      "execution_count": 1,
      "outputs": []
    },
    {
      "cell_type": "code",
      "source": [
        "class Solution:\n",
        "    def interpret(self, command: str) -> str:\n",
        "        return command.replace(\"()\",\"o\").replace(\"(al)\",\"al\")"
      ],
      "metadata": {
        "id": "VfyickkxjVkj"
      },
      "execution_count": 2,
      "outputs": []
    },
    {
      "cell_type": "code",
      "source": [
        "new_Sol = Solution()\n",
        "new_Sol.interpret(\"G()(al)\")"
      ],
      "metadata": {
        "colab": {
          "base_uri": "https://localhost:8080/",
          "height": 35
        },
        "id": "re3whpCmqW8L",
        "outputId": "15c61dfc-716c-4805-d32b-6d9f1e48fad0"
      },
      "execution_count": 5,
      "outputs": [
        {
          "output_type": "execute_result",
          "data": {
            "text/plain": [
              "'Goal'"
            ],
            "application/vnd.google.colaboratory.intrinsic+json": {
              "type": "string"
            }
          },
          "metadata": {},
          "execution_count": 5
        }
      ]
    },
    {
      "cell_type": "code",
      "source": [
        "class Solution:\n",
        "    def interpret(self, command: str) -> str:\n",
        "        #return command.replace(\"()\",\"o\").replace(\"(al)\",\"al\")\n",
        "        \n",
        "        result=\"\"\n",
        "        i=0\n",
        "        \n",
        "        while i<len(command):\n",
        "            if command[i]=='G':\n",
        "                result +='G'\n",
        "                i += 1\n",
        "            elif command[i]==\"(\" and command[i+1] ==\")\":\n",
        "                result +='o'\n",
        "                i +=2\n",
        "            else:\n",
        "                result +='al'\n",
        "                i +=4\n",
        "        return result"
      ],
      "metadata": {
        "id": "a8YaJJNMnn2C"
      },
      "execution_count": null,
      "outputs": []
    },
    {
      "cell_type": "code",
      "source": [
        "new_Sol = Solution()\n",
        "new_Sol.interpret(\"G()(al)\")"
      ],
      "metadata": {
        "colab": {
          "base_uri": "https://localhost:8080/",
          "height": 35
        },
        "id": "lZogR_Shqpis",
        "outputId": "92d7bbcf-464f-4a6e-e54b-2b59d4667d98"
      },
      "execution_count": 6,
      "outputs": [
        {
          "output_type": "execute_result",
          "data": {
            "text/plain": [
              "'Goal'"
            ],
            "application/vnd.google.colaboratory.intrinsic+json": {
              "type": "string"
            }
          },
          "metadata": {},
          "execution_count": 6
        }
      ]
    },
    {
      "cell_type": "code",
      "source": [
        "new_Sol.interpret(\"G()()()()(al)\")"
      ],
      "metadata": {
        "colab": {
          "base_uri": "https://localhost:8080/",
          "height": 35
        },
        "id": "r9uJJeIeqrLT",
        "outputId": "1b4f1cef-bde4-4dd2-f494-a3862b89c565"
      },
      "execution_count": 7,
      "outputs": [
        {
          "output_type": "execute_result",
          "data": {
            "text/plain": [
              "'Gooooal'"
            ],
            "application/vnd.google.colaboratory.intrinsic+json": {
              "type": "string"
            }
          },
          "metadata": {},
          "execution_count": 7
        }
      ]
    }
  ]
}