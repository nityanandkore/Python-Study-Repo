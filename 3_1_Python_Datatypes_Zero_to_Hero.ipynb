{
  "cells": [
    {
      "cell_type": "markdown",
      "metadata": {
        "id": "view-in-github",
        "colab_type": "text"
      },
      "source": [
        "<a href=\"https://colab.research.google.com/github/nityanandkore/Python-Study-Repo/blob/master/3_1_Python_Datatypes_Zero_to_Hero.ipynb\" target=\"_parent\"><img src=\"https://colab.research.google.com/assets/colab-badge.svg\" alt=\"Open In Colab\"/></a>"
      ]
    },
    {
      "cell_type": "markdown",
      "metadata": {
        "id": "Z_LMLHZORx7q"
      },
      "source": [
        "## Python Arithmatic"
      ]
    },
    {
      "cell_type": "code",
      "execution_count": null,
      "metadata": {
        "id": "p6U6YhjZRx7s",
        "outputId": "1d2d3a57-c859-447d-bbb9-db773ce3cc86"
      },
      "outputs": [
        {
          "data": {
            "text/plain": [
              "2"
            ]
          },
          "execution_count": 1,
          "metadata": {},
          "output_type": "execute_result"
        }
      ],
      "source": [
        "1+1"
      ]
    },
    {
      "cell_type": "code",
      "execution_count": null,
      "metadata": {
        "id": "M14g91eNRx7u",
        "outputId": "af9b030b-8f5e-46a8-e1c9-7807e4872701"
      },
      "outputs": [
        {
          "data": {
            "text/plain": [
              "4"
            ]
          },
          "execution_count": 2,
          "metadata": {},
          "output_type": "execute_result"
        }
      ],
      "source": [
        "2*2"
      ]
    },
    {
      "cell_type": "code",
      "execution_count": null,
      "metadata": {
        "id": "IigOCZJmRx7v",
        "outputId": "853be0a3-1b23-480f-f319-559997f65358"
      },
      "outputs": [
        {
          "data": {
            "text/plain": [
              "1.5"
            ]
          },
          "execution_count": 3,
          "metadata": {},
          "output_type": "execute_result"
        }
      ],
      "source": [
        "3/2"
      ]
    },
    {
      "cell_type": "markdown",
      "metadata": {
        "id": "3AT770g2Rx7w"
      },
      "source": [
        "MOD"
      ]
    },
    {
      "cell_type": "code",
      "execution_count": null,
      "metadata": {
        "id": "qOQBowfTRx7w",
        "outputId": "658422e0-2c46-41cd-f60f-0284d69dbbdc"
      },
      "outputs": [
        {
          "data": {
            "text/plain": [
              "1"
            ]
          },
          "execution_count": 4,
          "metadata": {},
          "output_type": "execute_result"
        }
      ],
      "source": [
        "5%2"
      ]
    },
    {
      "cell_type": "code",
      "execution_count": null,
      "metadata": {
        "id": "bVnJmG7nRx7x",
        "outputId": "a1c78e25-1870-479b-a98f-84d9d765870d"
      },
      "outputs": [
        {
          "data": {
            "text/plain": [
              "4"
            ]
          },
          "execution_count": 5,
          "metadata": {},
          "output_type": "execute_result"
        }
      ],
      "source": [
        "2**2"
      ]
    },
    {
      "cell_type": "code",
      "execution_count": null,
      "metadata": {
        "id": "6O6vqEh4Rx7x",
        "outputId": "617d4c8d-014d-4571-cf1a-13f5a49ebc34"
      },
      "outputs": [
        {
          "data": {
            "text/plain": [
              "16"
            ]
          },
          "execution_count": 6,
          "metadata": {},
          "output_type": "execute_result"
        }
      ],
      "source": [
        "4**2"
      ]
    },
    {
      "cell_type": "code",
      "execution_count": null,
      "metadata": {
        "id": "z29LSk6KRx7y",
        "outputId": "ea424df6-25aa-4dd3-f3d3-574a6dd04355"
      },
      "outputs": [
        {
          "data": {
            "text/plain": [
              "104"
            ]
          },
          "execution_count": 7,
          "metadata": {},
          "output_type": "execute_result"
        }
      ],
      "source": [
        "2+10*10+2"
      ]
    },
    {
      "cell_type": "code",
      "execution_count": null,
      "metadata": {
        "id": "5cBSqGyNRx7z",
        "outputId": "420af71d-a957-450c-de06-c0d9c62c9d56"
      },
      "outputs": [
        {
          "data": {
            "text/plain": [
              "144"
            ]
          },
          "execution_count": 8,
          "metadata": {},
          "output_type": "execute_result"
        }
      ],
      "source": [
        "(2+10)*(10+2)"
      ]
    },
    {
      "cell_type": "code",
      "execution_count": null,
      "metadata": {
        "id": "TnMLeddvRx7z",
        "outputId": "28b33bbb-71c0-462b-cf12-20d9a58cedb4"
      },
      "outputs": [
        {
          "data": {
            "text/plain": [
              "5.551115123125783e-17"
            ]
          },
          "execution_count": 9,
          "metadata": {},
          "output_type": "execute_result"
        }
      ],
      "source": [
        "0.1+0.2-0.3"
      ]
    },
    {
      "cell_type": "code",
      "execution_count": null,
      "metadata": {
        "id": "HdPMJPeJRx70",
        "outputId": "d2786531-b21e-4cb7-f17b-44de2b331146"
      },
      "outputs": [
        {
          "data": {
            "text/plain": [
              "5.551115123125783e-17"
            ]
          },
          "execution_count": 10,
          "metadata": {},
          "output_type": "execute_result"
        }
      ],
      "source": [
        "(0.1+0.2)-0.3"
      ]
    },
    {
      "cell_type": "markdown",
      "metadata": {
        "id": "gRug5wczRx71"
      },
      "source": [
        "## Variable Assignment"
      ]
    },
    {
      "cell_type": "code",
      "execution_count": null,
      "metadata": {
        "id": "Mx6J4RF8Rx72"
      },
      "outputs": [],
      "source": [
        "my_dogs=2"
      ]
    },
    {
      "cell_type": "code",
      "execution_count": null,
      "metadata": {
        "id": "37fXifwtRx72",
        "outputId": "43c0dbca-ef4a-49e3-8a6f-b6f6b2ca49cb"
      },
      "outputs": [
        {
          "data": {
            "text/plain": [
              "2"
            ]
          },
          "execution_count": 12,
          "metadata": {},
          "output_type": "execute_result"
        }
      ],
      "source": [
        "my_dogs"
      ]
    },
    {
      "cell_type": "code",
      "execution_count": null,
      "metadata": {
        "id": "YANqXN65Rx72"
      },
      "outputs": [],
      "source": [
        "my_dogs = [\"Moti\", \"Tomy\"]"
      ]
    },
    {
      "cell_type": "code",
      "execution_count": null,
      "metadata": {
        "id": "tSjigsgBRx73",
        "outputId": "1f0212c3-32f1-4183-c54f-bdcea6fd26fc"
      },
      "outputs": [
        {
          "data": {
            "text/plain": [
              "['Moti', 'Tomy']"
            ]
          },
          "execution_count": 14,
          "metadata": {},
          "output_type": "execute_result"
        }
      ],
      "source": [
        "my_dogs"
      ]
    },
    {
      "cell_type": "code",
      "execution_count": null,
      "metadata": {
        "id": "aONp-kitRx73",
        "outputId": "e174ce72-e6f1-4d38-e885-8544ceee6d0b"
      },
      "outputs": [
        {
          "data": {
            "text/plain": [
              "list"
            ]
          },
          "execution_count": 15,
          "metadata": {},
          "output_type": "execute_result"
        }
      ],
      "source": [
        "type(my_dogs)"
      ]
    },
    {
      "cell_type": "code",
      "execution_count": null,
      "metadata": {
        "id": "KHM3F8ymRx73"
      },
      "outputs": [],
      "source": [
        "a=10"
      ]
    },
    {
      "cell_type": "code",
      "execution_count": null,
      "metadata": {
        "id": "5BmoIqQjRx74"
      },
      "outputs": [],
      "source": [
        "a=a+10"
      ]
    },
    {
      "cell_type": "code",
      "execution_count": null,
      "metadata": {
        "id": "37wTrIYSRx74",
        "outputId": "c3692105-4110-4d8c-87da-c4e68abe2b5d"
      },
      "outputs": [
        {
          "data": {
            "text/plain": [
              "20"
            ]
          },
          "execution_count": 18,
          "metadata": {},
          "output_type": "execute_result"
        }
      ],
      "source": [
        "a"
      ]
    },
    {
      "cell_type": "code",
      "execution_count": null,
      "metadata": {
        "id": "AvEvl1gDRx74",
        "outputId": "31fa4666-a0e9-477d-d1d1-c6111036de94"
      },
      "outputs": [
        {
          "data": {
            "text/plain": [
              "int"
            ]
          },
          "execution_count": 19,
          "metadata": {},
          "output_type": "execute_result"
        }
      ],
      "source": [
        "type(a)\n"
      ]
    },
    {
      "cell_type": "code",
      "execution_count": null,
      "metadata": {
        "id": "vqtB4njvRx75"
      },
      "outputs": [],
      "source": [
        "a=30.1"
      ]
    },
    {
      "cell_type": "code",
      "execution_count": null,
      "metadata": {
        "id": "-US4yPtpRx75",
        "outputId": "858d39aa-fe33-4105-b233-cb50905620f0"
      },
      "outputs": [
        {
          "data": {
            "text/plain": [
              "float"
            ]
          },
          "execution_count": 21,
          "metadata": {},
          "output_type": "execute_result"
        }
      ],
      "source": [
        "type(a)"
      ]
    },
    {
      "cell_type": "code",
      "execution_count": null,
      "metadata": {
        "id": "LE8T2dmkRx75",
        "outputId": "ea3d97df-9fb5-4caf-9ccf-03373b094847"
      },
      "outputs": [
        {
          "data": {
            "text/plain": [
              "20.0"
            ]
          },
          "execution_count": 22,
          "metadata": {},
          "output_type": "execute_result"
        }
      ],
      "source": [
        "my_income=100\n",
        "tax_rate=0.2\n",
        "tax=my_income*tax_rate\n",
        "tax"
      ]
    },
    {
      "cell_type": "markdown",
      "metadata": {
        "id": "dOeQbzCWRx75"
      },
      "source": [
        "## Intro to Strings"
      ]
    },
    {
      "cell_type": "code",
      "execution_count": null,
      "metadata": {
        "id": "Ftlac8bARx76",
        "outputId": "54718161-5608-43cd-dd91-3c7ab8cbbe79"
      },
      "outputs": [
        {
          "data": {
            "text/plain": [
              "'hello'"
            ]
          },
          "execution_count": 23,
          "metadata": {},
          "output_type": "execute_result"
        }
      ],
      "source": [
        "'hello'"
      ]
    },
    {
      "cell_type": "code",
      "execution_count": null,
      "metadata": {
        "id": "8LNEdr2nRx76",
        "outputId": "9219e1f2-f90b-461b-a32f-eb1841a8632c"
      },
      "outputs": [
        {
          "data": {
            "text/plain": [
              "'Hello'"
            ]
          },
          "execution_count": 24,
          "metadata": {},
          "output_type": "execute_result"
        }
      ],
      "source": [
        "\"Hello\""
      ]
    },
    {
      "cell_type": "code",
      "execution_count": null,
      "metadata": {
        "id": "hzfNfQk_Rx76",
        "outputId": "ca762220-685b-492d-fe7b-d7321e2674fb"
      },
      "outputs": [
        {
          "data": {
            "text/plain": [
              "'This is \"String\" example '"
            ]
          },
          "execution_count": 25,
          "metadata": {},
          "output_type": "execute_result"
        }
      ],
      "source": [
        "'This is \"String\" example '"
      ]
    },
    {
      "cell_type": "code",
      "execution_count": null,
      "metadata": {
        "id": "CS5nng7JRx76",
        "outputId": "23369b34-30d2-4149-baa0-bcd64e02fbe7"
      },
      "outputs": [
        {
          "data": {
            "text/plain": [
              "\"I'm going\""
            ]
          },
          "execution_count": 26,
          "metadata": {},
          "output_type": "execute_result"
        }
      ],
      "source": [
        "\"I'm going\""
      ]
    },
    {
      "cell_type": "code",
      "execution_count": null,
      "metadata": {
        "id": "ZBfZLNdPRx77",
        "outputId": "c8cabdf1-eb10-4dbe-86bb-bf5fe3f247a7"
      },
      "outputs": [
        {
          "name": "stdout",
          "output_type": "stream",
          "text": [
            "hello\n"
          ]
        }
      ],
      "source": [
        "print(\"hello\")  ## no out "
      ]
    },
    {
      "cell_type": "code",
      "execution_count": null,
      "metadata": {
        "id": "psBb2mFCRx77",
        "outputId": "bca29b0f-140e-49eb-e688-13aacc8a223c"
      },
      "outputs": [
        {
          "name": "stdout",
          "output_type": "stream",
          "text": [
            "Hello \n",
            "World\n"
          ]
        }
      ],
      "source": [
        "print(\"Hello \\nWorld\")"
      ]
    },
    {
      "cell_type": "code",
      "execution_count": null,
      "metadata": {
        "id": "9vpyWWRARx77",
        "outputId": "7edcc1ee-de73-4e83-beb5-71144ff1d6ae"
      },
      "outputs": [
        {
          "name": "stdout",
          "output_type": "stream",
          "text": [
            "Hello \t World\n"
          ]
        }
      ],
      "source": [
        "print(\"Hello \\t World\")"
      ]
    },
    {
      "cell_type": "code",
      "execution_count": null,
      "metadata": {
        "id": "C6EXEXRXRx77",
        "outputId": "7d45f9aa-3ce4-4aa1-8b86-69393997e5d3"
      },
      "outputs": [
        {
          "data": {
            "text/plain": [
              "5"
            ]
          },
          "execution_count": 30,
          "metadata": {},
          "output_type": "execute_result"
        }
      ],
      "source": [
        "len(\"hello\")"
      ]
    },
    {
      "cell_type": "code",
      "execution_count": null,
      "metadata": {
        "id": "ILlfqlpGRx78",
        "outputId": "9f7aa0a7-79bb-4acb-8232-4455c07d93b2"
      },
      "outputs": [
        {
          "data": {
            "text/plain": [
              "4"
            ]
          },
          "execution_count": 31,
          "metadata": {},
          "output_type": "execute_result"
        }
      ],
      "source": [
        "len(\"I am\")"
      ]
    },
    {
      "cell_type": "code",
      "execution_count": null,
      "metadata": {
        "id": "naik-EmrRx78"
      },
      "outputs": [],
      "source": [
        "mystring=\"Hello World\""
      ]
    },
    {
      "cell_type": "code",
      "execution_count": null,
      "metadata": {
        "id": "NdRvPqgpRx78",
        "outputId": "b50ec371-ed89-4562-b4b8-430fce982fbb"
      },
      "outputs": [
        {
          "data": {
            "text/plain": [
              "'H'"
            ]
          },
          "execution_count": 33,
          "metadata": {},
          "output_type": "execute_result"
        }
      ],
      "source": [
        "mystring[0]"
      ]
    },
    {
      "cell_type": "code",
      "execution_count": null,
      "metadata": {
        "id": "z5i9IxdaRx78",
        "outputId": "9f11b721-ec9c-47b3-f13d-f0da8aef1425"
      },
      "outputs": [
        {
          "data": {
            "text/plain": [
              "'d'"
            ]
          },
          "execution_count": 34,
          "metadata": {},
          "output_type": "execute_result"
        }
      ],
      "source": [
        "mystring[-1]"
      ]
    },
    {
      "cell_type": "code",
      "execution_count": null,
      "metadata": {
        "id": "5at42bx3Rx79",
        "outputId": "bbae9f3b-1c7b-40bc-fc9d-bce009bf95e8"
      },
      "outputs": [
        {
          "data": {
            "text/plain": [
              "11"
            ]
          },
          "execution_count": 35,
          "metadata": {},
          "output_type": "execute_result"
        }
      ],
      "source": [
        "len(mystring)"
      ]
    },
    {
      "cell_type": "code",
      "execution_count": null,
      "metadata": {
        "id": "7RcXZmBSRx79",
        "outputId": "13d80b6d-4034-4619-976d-864d458b90c7"
      },
      "outputs": [
        {
          "data": {
            "text/plain": [
              "'H'"
            ]
          },
          "execution_count": 36,
          "metadata": {},
          "output_type": "execute_result"
        }
      ],
      "source": [
        "mystring[-11]"
      ]
    },
    {
      "cell_type": "code",
      "execution_count": null,
      "metadata": {
        "id": "o0y3GHgQRx79",
        "outputId": "b032a300-d928-4aef-f11c-52e31e2632e9"
      },
      "outputs": [
        {
          "data": {
            "text/plain": [
              "'llo World'"
            ]
          },
          "execution_count": 37,
          "metadata": {},
          "output_type": "execute_result"
        }
      ],
      "source": [
        "mystring[2:]"
      ]
    },
    {
      "cell_type": "code",
      "execution_count": null,
      "metadata": {
        "id": "3T4zEH0NRx79",
        "outputId": "f6337c2d-fb95-44ce-d973-3bfa09b71cec"
      },
      "outputs": [
        {
          "data": {
            "text/plain": [
              "'Hel'"
            ]
          },
          "execution_count": 38,
          "metadata": {},
          "output_type": "execute_result"
        }
      ],
      "source": [
        "mystring[:3] ## STOP is upto and not including"
      ]
    },
    {
      "cell_type": "code",
      "execution_count": null,
      "metadata": {
        "id": "Pp4DKmAORx7-",
        "outputId": "73b45dc0-dcd4-4fe6-9d27-d60ad23218bc"
      },
      "outputs": [
        {
          "data": {
            "text/plain": [
              "'lo W'"
            ]
          },
          "execution_count": 39,
          "metadata": {},
          "output_type": "execute_result"
        }
      ],
      "source": [
        "mystring[3:7] ## Start at 3 and stop at 6.. dont include 7"
      ]
    },
    {
      "cell_type": "code",
      "execution_count": null,
      "metadata": {
        "id": "LxjZRrTaRx7-",
        "outputId": "c2ef50c1-7753-4c4e-b59c-b50f1afc3223"
      },
      "outputs": [
        {
          "data": {
            "text/plain": [
              "'HloWrd'"
            ]
          },
          "execution_count": 40,
          "metadata": {},
          "output_type": "execute_result"
        }
      ],
      "source": [
        "mystring[::2] ## start to end but every alternative letter"
      ]
    },
    {
      "cell_type": "code",
      "execution_count": null,
      "metadata": {
        "id": "itSDdrfBRx7-",
        "outputId": "ddbd1a0c-b68a-4fe2-8cb1-771d8f7f13a2"
      },
      "outputs": [
        {
          "data": {
            "text/plain": [
              "'loWr'"
            ]
          },
          "execution_count": 41,
          "metadata": {},
          "output_type": "execute_result"
        }
      ],
      "source": [
        "mystring[2:10:2] ## start "
      ]
    },
    {
      "cell_type": "code",
      "execution_count": null,
      "metadata": {
        "id": "EWe_f0RaRx7-",
        "outputId": "ccb76728-b755-4d7b-d572-6afb17b90fe0"
      },
      "outputs": [
        {
          "data": {
            "text/plain": [
              "'dlroW olleH'"
            ]
          },
          "execution_count": 42,
          "metadata": {},
          "output_type": "execute_result"
        }
      ],
      "source": [
        "mystring[::-1] ## reverse the text"
      ]
    },
    {
      "cell_type": "markdown",
      "metadata": {
        "id": "GlGFZL_1Rx7_"
      },
      "source": [
        "# Immutability of String"
      ]
    },
    {
      "cell_type": "code",
      "execution_count": null,
      "metadata": {
        "id": "yfxfF-3-Rx7_",
        "outputId": "0b00cebb-74b8-42fa-f526-afab09dd9de1"
      },
      "outputs": [
        {
          "data": {
            "text/plain": [
              "'Sam'"
            ]
          },
          "execution_count": 43,
          "metadata": {},
          "output_type": "execute_result"
        }
      ],
      "source": [
        "name=\"Sam\"\n",
        "\n",
        "name"
      ]
    },
    {
      "cell_type": "code",
      "execution_count": null,
      "metadata": {
        "id": "Th6eWeC6Rx7_",
        "outputId": "c683aaea-5bb4-409c-d7c2-9a27334817eb"
      },
      "outputs": [
        {
          "ename": "TypeError",
          "evalue": "'str' object does not support item assignment",
          "output_type": "error",
          "traceback": [
            "\u001b[1;31m---------------------------------------------------------------------------\u001b[0m",
            "\u001b[1;31mTypeError\u001b[0m                                 Traceback (most recent call last)",
            "\u001b[1;32m<ipython-input-44-87b5da1841e3>\u001b[0m in \u001b[0;36m<module>\u001b[1;34m\u001b[0m\n\u001b[1;32m----> 1\u001b[1;33m \u001b[0mname\u001b[0m\u001b[1;33m[\u001b[0m\u001b[1;36m0\u001b[0m\u001b[1;33m]\u001b[0m\u001b[1;33m=\u001b[0m\u001b[1;34m\"P\"\u001b[0m\u001b[1;33m\u001b[0m\u001b[1;33m\u001b[0m\u001b[0m\n\u001b[0m",
            "\u001b[1;31mTypeError\u001b[0m: 'str' object does not support item assignment"
          ]
        }
      ],
      "source": [
        "name[0]=\"P\""
      ]
    },
    {
      "cell_type": "code",
      "execution_count": null,
      "metadata": {
        "id": "_pUv-KgwRx8A"
      },
      "outputs": [],
      "source": [
        "last_letters=name[1:]"
      ]
    },
    {
      "cell_type": "code",
      "execution_count": null,
      "metadata": {
        "id": "nBOrHMH6Rx8A",
        "outputId": "41bd2940-88e0-4033-cce1-11a24553e05c"
      },
      "outputs": [
        {
          "data": {
            "text/plain": [
              "'am'"
            ]
          },
          "execution_count": 46,
          "metadata": {},
          "output_type": "execute_result"
        }
      ],
      "source": [
        "last_letters"
      ]
    },
    {
      "cell_type": "code",
      "execution_count": null,
      "metadata": {
        "id": "dYwOAEAQRx8B",
        "outputId": "3b3f0484-2cce-4e6a-ecb0-f29fca4075ec"
      },
      "outputs": [
        {
          "data": {
            "text/plain": [
              "'Pam'"
            ]
          },
          "execution_count": 47,
          "metadata": {},
          "output_type": "execute_result"
        }
      ],
      "source": [
        "'P' + last_letters"
      ]
    },
    {
      "cell_type": "code",
      "execution_count": null,
      "metadata": {
        "id": "khyUPEhvRx8B"
      },
      "outputs": [],
      "source": [
        "letter='z'"
      ]
    },
    {
      "cell_type": "code",
      "execution_count": null,
      "metadata": {
        "id": "8_1Da7I1Rx8B",
        "outputId": "153043f5-8751-4af5-f869-1a81fed7e7a7"
      },
      "outputs": [
        {
          "data": {
            "text/plain": [
              "'z'"
            ]
          },
          "execution_count": 49,
          "metadata": {},
          "output_type": "execute_result"
        }
      ],
      "source": [
        "letter"
      ]
    },
    {
      "cell_type": "code",
      "execution_count": null,
      "metadata": {
        "id": "XgTz3MpmRx8B",
        "outputId": "cda862aa-da56-477b-a71d-900f52fdd761"
      },
      "outputs": [
        {
          "data": {
            "text/plain": [
              "'zzzzzzzzzz'"
            ]
          },
          "execution_count": 50,
          "metadata": {},
          "output_type": "execute_result"
        }
      ],
      "source": [
        "letter*10"
      ]
    },
    {
      "cell_type": "code",
      "execution_count": null,
      "metadata": {
        "id": "2S9IAA0ERx8C",
        "outputId": "bdafb0a7-2257-4dea-e233-4cb352239849"
      },
      "outputs": [
        {
          "ename": "TypeError",
          "evalue": "can only concatenate str (not \"int\") to str",
          "output_type": "error",
          "traceback": [
            "\u001b[1;31m---------------------------------------------------------------------------\u001b[0m",
            "\u001b[1;31mTypeError\u001b[0m                                 Traceback (most recent call last)",
            "\u001b[1;32m<ipython-input-51-6dd6e7b18082>\u001b[0m in \u001b[0;36m<module>\u001b[1;34m\u001b[0m\n\u001b[1;32m----> 1\u001b[1;33m \u001b[0mletter\u001b[0m \u001b[1;33m+\u001b[0m \u001b[1;36m3\u001b[0m\u001b[1;33m\u001b[0m\u001b[1;33m\u001b[0m\u001b[0m\n\u001b[0m",
            "\u001b[1;31mTypeError\u001b[0m: can only concatenate str (not \"int\") to str"
          ]
        }
      ],
      "source": [
        "letter + 3"
      ]
    },
    {
      "cell_type": "code",
      "execution_count": null,
      "metadata": {
        "id": "i19W-eRzRx8C",
        "outputId": "47d509c2-174b-498d-e0ad-197cab2c8ebe"
      },
      "outputs": [
        {
          "data": {
            "text/plain": [
              "'23'"
            ]
          },
          "execution_count": 52,
          "metadata": {},
          "output_type": "execute_result"
        }
      ],
      "source": [
        "'2' +'3'"
      ]
    },
    {
      "cell_type": "code",
      "execution_count": null,
      "metadata": {
        "id": "XDyTxg0zRx8C",
        "outputId": "35f0e752-9395-49d9-a2a7-4ca21c03f7a9"
      },
      "outputs": [
        {
          "data": {
            "text/plain": [
              "5"
            ]
          },
          "execution_count": 53,
          "metadata": {},
          "output_type": "execute_result"
        }
      ],
      "source": [
        "2+3"
      ]
    },
    {
      "cell_type": "code",
      "execution_count": null,
      "metadata": {
        "id": "8vKY9C2URx8C",
        "outputId": "7bd66c66-6d38-46c2-acfb-3e9081eec4c0"
      },
      "outputs": [
        {
          "ename": "TypeError",
          "evalue": "can only concatenate str (not \"int\") to str",
          "output_type": "error",
          "traceback": [
            "\u001b[1;31m---------------------------------------------------------------------------\u001b[0m",
            "\u001b[1;31mTypeError\u001b[0m                                 Traceback (most recent call last)",
            "\u001b[1;32m<ipython-input-54-c1b7246263c8>\u001b[0m in \u001b[0;36m<module>\u001b[1;34m\u001b[0m\n\u001b[1;32m----> 1\u001b[1;33m \u001b[1;34m'2'\u001b[0m \u001b[1;33m+\u001b[0m\u001b[1;36m3\u001b[0m\u001b[1;33m\u001b[0m\u001b[1;33m\u001b[0m\u001b[0m\n\u001b[0m",
            "\u001b[1;31mTypeError\u001b[0m: can only concatenate str (not \"int\") to str"
          ]
        }
      ],
      "source": [
        "'2' +3"
      ]
    },
    {
      "cell_type": "code",
      "execution_count": null,
      "metadata": {
        "id": "OfjvmoTDRx8D"
      },
      "outputs": [],
      "source": [
        "x='hello world'"
      ]
    },
    {
      "cell_type": "code",
      "execution_count": null,
      "metadata": {
        "id": "XrJGMQwhRx8D",
        "outputId": "79a7a3f8-a6fe-46f4-9504-fb21143fe0a4"
      },
      "outputs": [
        {
          "data": {
            "text/plain": [
              "'HELLO WORLD'"
            ]
          },
          "execution_count": 56,
          "metadata": {},
          "output_type": "execute_result"
        }
      ],
      "source": [
        "x.upper()"
      ]
    },
    {
      "cell_type": "code",
      "execution_count": null,
      "metadata": {
        "id": "SwjlYk-URx8D",
        "outputId": "9bc69af3-cd63-40a1-b1d6-664a90ca9300"
      },
      "outputs": [
        {
          "data": {
            "text/plain": [
              "'hello world'"
            ]
          },
          "execution_count": 57,
          "metadata": {},
          "output_type": "execute_result"
        }
      ],
      "source": [
        "x"
      ]
    },
    {
      "cell_type": "code",
      "execution_count": null,
      "metadata": {
        "id": "Wdx9zSmARx8D",
        "outputId": "b4f2901f-ed5c-40da-af57-4c3922814ce1"
      },
      "outputs": [
        {
          "data": {
            "text/plain": [
              "['hello', 'world']"
            ]
          },
          "execution_count": 58,
          "metadata": {},
          "output_type": "execute_result"
        }
      ],
      "source": [
        "x.split()   # String to list"
      ]
    },
    {
      "cell_type": "code",
      "execution_count": null,
      "metadata": {
        "id": "IKj9fkACRx8E"
      },
      "outputs": [],
      "source": [
        "my_name='NK'"
      ]
    },
    {
      "cell_type": "code",
      "execution_count": null,
      "metadata": {
        "id": "IKLC-E26Rx8E",
        "outputId": "3e913e49-1f6c-433e-a97d-598c0f69ba77"
      },
      "outputs": [
        {
          "name": "stdout",
          "output_type": "stream",
          "text": [
            "Hello NK\n"
          ]
        }
      ],
      "source": [
        "print('Hello ' + my_name)"
      ]
    },
    {
      "cell_type": "code",
      "execution_count": null,
      "metadata": {
        "id": "cWqmYz9lRx8E",
        "outputId": "69174c92-bd2c-4d52-80ad-bf32bb492aec"
      },
      "outputs": [
        {
          "name": "stdout",
          "output_type": "stream",
          "text": [
            "This is a string INSERTED\n"
          ]
        }
      ],
      "source": [
        "print('This is a string {}'.format('INSERTED'))"
      ]
    },
    {
      "cell_type": "code",
      "execution_count": null,
      "metadata": {
        "id": "pRO3li6sRx8E",
        "outputId": "61a1b886-5f9c-4da6-ffbb-da94edcfdb89"
      },
      "outputs": [
        {
          "name": "stdout",
          "output_type": "stream",
          "text": [
            "My is name NK\n"
          ]
        }
      ],
      "source": [
        "print('My {} {} {}'.format('is', 'name', 'NK'))"
      ]
    },
    {
      "cell_type": "code",
      "execution_count": null,
      "metadata": {
        "id": "J7vWxTDZRx8F",
        "outputId": "ad995951-d546-4a18-b6a5-92076acdd283"
      },
      "outputs": [
        {
          "name": "stdout",
          "output_type": "stream",
          "text": [
            "My name is NK\n"
          ]
        }
      ],
      "source": [
        "print('My {1} {0} {2}'.format('is', 'name', 'NK'))"
      ]
    },
    {
      "cell_type": "code",
      "execution_count": null,
      "metadata": {
        "id": "3aMd7CCKRx8F",
        "outputId": "e1f76f68-989b-4ee4-d9d6-3989090238a6"
      },
      "outputs": [
        {
          "name": "stdout",
          "output_type": "stream",
          "text": [
            "My name is NK\n"
          ]
        }
      ],
      "source": [
        "print('My {n} {i} {N}'.format(i='is', n='name', N='NK'))"
      ]
    },
    {
      "cell_type": "code",
      "execution_count": null,
      "metadata": {
        "id": "7h1noi7kRx8F"
      },
      "outputs": [],
      "source": [
        "result =100/777"
      ]
    },
    {
      "cell_type": "code",
      "execution_count": null,
      "metadata": {
        "id": "56CVjSgQRx8F",
        "outputId": "f1de1c34-dc94-4105-e503-25ac79fbdb65"
      },
      "outputs": [
        {
          "data": {
            "text/plain": [
              "0.1287001287001287"
            ]
          },
          "execution_count": 66,
          "metadata": {},
          "output_type": "execute_result"
        }
      ],
      "source": [
        "result"
      ]
    },
    {
      "cell_type": "code",
      "execution_count": null,
      "metadata": {
        "id": "w2hwNnbWRx8G",
        "outputId": "947c45d1-f6ae-45b3-b885-f14153d6cdd7"
      },
      "outputs": [
        {
          "name": "stdout",
          "output_type": "stream",
          "text": [
            "The result is 0.1287001287001287\n"
          ]
        }
      ],
      "source": [
        "print('The result is {r}'.format(r=result))"
      ]
    },
    {
      "cell_type": "code",
      "execution_count": null,
      "metadata": {
        "id": "9CAkhLtKRx8G",
        "outputId": "2bd10183-849b-4f1b-bbb9-dbfc80b948f7"
      },
      "outputs": [
        {
          "name": "stdout",
          "output_type": "stream",
          "text": [
            "The result is 0.129\n"
          ]
        }
      ],
      "source": [
        "print('The result is {r:1.3f}'.format(r=result))"
      ]
    },
    {
      "cell_type": "code",
      "execution_count": null,
      "metadata": {
        "id": "y-njOJ-0Rx8G",
        "outputId": "3b4a9cd8-4f73-4d46-f0b2-afcad8c740fe"
      },
      "outputs": [
        {
          "name": "stdout",
          "output_type": "stream",
          "text": [
            "The result is      0.129\n"
          ]
        }
      ],
      "source": [
        "print('The result is {r:10.3f}'.format(r=result))"
      ]
    },
    {
      "cell_type": "code",
      "execution_count": null,
      "metadata": {
        "id": "O27OiqAQRx8G"
      },
      "outputs": [],
      "source": [
        "name='NK'"
      ]
    },
    {
      "cell_type": "code",
      "execution_count": null,
      "metadata": {
        "id": "vUlqKNdeRx8H",
        "outputId": "e6776123-eeb1-48f8-d53f-bbd3e02d3f69"
      },
      "outputs": [
        {
          "name": "stdout",
          "output_type": "stream",
          "text": [
            "My name is NK\n"
          ]
        }
      ],
      "source": [
        "print('My name is {}'.format(name))"
      ]
    },
    {
      "cell_type": "code",
      "execution_count": null,
      "metadata": {
        "id": "1Zhru1DIRx8H",
        "outputId": "8de9f6d3-563e-45bb-f8d8-8edbfe9e97ee"
      },
      "outputs": [
        {
          "name": "stdout",
          "output_type": "stream",
          "text": [
            "My name is NK\n"
          ]
        }
      ],
      "source": [
        "print(f'My name is {name}')"
      ]
    },
    {
      "cell_type": "markdown",
      "metadata": {
        "id": "gy3q-dnZRx8H"
      },
      "source": [
        "# LIST"
      ]
    },
    {
      "cell_type": "code",
      "execution_count": null,
      "metadata": {
        "id": "_PjWmc2GRx8H"
      },
      "outputs": [],
      "source": [
        "my_list=[1,2,3]"
      ]
    },
    {
      "cell_type": "code",
      "execution_count": null,
      "metadata": {
        "id": "JUTmCTU6Rx8H"
      },
      "outputs": [],
      "source": [
        "my_list=['NK',2,3]"
      ]
    },
    {
      "cell_type": "code",
      "execution_count": null,
      "metadata": {
        "id": "G_MbA1HURx8I",
        "outputId": "ca839535-898f-4461-f8a5-bb0fb85781c5"
      },
      "outputs": [
        {
          "data": {
            "text/plain": [
              "3"
            ]
          },
          "execution_count": 75,
          "metadata": {},
          "output_type": "execute_result"
        }
      ],
      "source": [
        "len(my_list)"
      ]
    },
    {
      "cell_type": "code",
      "execution_count": null,
      "metadata": {
        "id": "fD7K2AcrRx8I"
      },
      "outputs": [],
      "source": [
        "mylist=['one','two','three']"
      ]
    },
    {
      "cell_type": "code",
      "execution_count": null,
      "metadata": {
        "id": "c8JDan_DRx8I",
        "outputId": "d5d1a4c5-98d3-4263-e787-3e860f0ba1dc"
      },
      "outputs": [
        {
          "data": {
            "text/plain": [
              "'one'"
            ]
          },
          "execution_count": 77,
          "metadata": {},
          "output_type": "execute_result"
        }
      ],
      "source": [
        "mylist[0]"
      ]
    },
    {
      "cell_type": "code",
      "execution_count": null,
      "metadata": {
        "id": "IPD2nwH5Rx8I",
        "outputId": "51370d2b-26bb-4492-b37e-d7d54cb7a4cb"
      },
      "outputs": [
        {
          "data": {
            "text/plain": [
              "['two', 'three']"
            ]
          },
          "execution_count": 78,
          "metadata": {},
          "output_type": "execute_result"
        }
      ],
      "source": [
        "mylist[1:]"
      ]
    },
    {
      "cell_type": "code",
      "execution_count": null,
      "metadata": {
        "id": "UXXjuLzHRx8J"
      },
      "outputs": [],
      "source": [
        "another_list=[4,5,6]"
      ]
    },
    {
      "cell_type": "code",
      "execution_count": null,
      "metadata": {
        "id": "jwof6JxJRx8J",
        "outputId": "a95ad780-8bc4-44e4-dfc7-9d9de8550dca"
      },
      "outputs": [
        {
          "data": {
            "text/plain": [
              "['one', 'two', 'three', 4, 5, 6]"
            ]
          },
          "execution_count": 80,
          "metadata": {},
          "output_type": "execute_result"
        }
      ],
      "source": [
        "mylist+another_list"
      ]
    },
    {
      "cell_type": "code",
      "execution_count": null,
      "metadata": {
        "id": "A82WuVaHRx8J",
        "outputId": "8192ca85-c75d-4bab-8ea7-054decdb81ff"
      },
      "outputs": [
        {
          "data": {
            "text/plain": [
              "['one', 'two', 'three']"
            ]
          },
          "execution_count": 81,
          "metadata": {},
          "output_type": "execute_result"
        }
      ],
      "source": [
        "mylist"
      ]
    },
    {
      "cell_type": "code",
      "execution_count": null,
      "metadata": {
        "id": "AKKHBzU1Rx8J",
        "outputId": "06ec1385-7ce4-4d53-a6d5-87d382cf051e"
      },
      "outputs": [
        {
          "data": {
            "text/plain": [
              "[4, 5, 6]"
            ]
          },
          "execution_count": 82,
          "metadata": {},
          "output_type": "execute_result"
        }
      ],
      "source": [
        "another_list"
      ]
    },
    {
      "cell_type": "markdown",
      "metadata": {
        "id": "n9NykNJURx8K"
      },
      "source": [
        "# List is mutable"
      ]
    },
    {
      "cell_type": "code",
      "execution_count": null,
      "metadata": {
        "id": "Qgp_7rqNRx8K"
      },
      "outputs": [],
      "source": [
        "new_list=mylist+another_list"
      ]
    },
    {
      "cell_type": "code",
      "execution_count": null,
      "metadata": {
        "id": "IOh_apq4Rx8K",
        "outputId": "5b69d140-6389-41cb-b9ba-a930f43b93a1"
      },
      "outputs": [
        {
          "data": {
            "text/plain": [
              "['one', 'two', 'three', 4, 5, 6]"
            ]
          },
          "execution_count": 84,
          "metadata": {},
          "output_type": "execute_result"
        }
      ],
      "source": [
        "new_list"
      ]
    },
    {
      "cell_type": "code",
      "execution_count": null,
      "metadata": {
        "id": "iCSxFKULRx8K"
      },
      "outputs": [],
      "source": [
        "new_list[0]='ONE IN CAPITAL'"
      ]
    },
    {
      "cell_type": "code",
      "execution_count": null,
      "metadata": {
        "id": "utNLNM-1Rx8K",
        "outputId": "598b4276-0f60-46e2-af8a-58ac98669838"
      },
      "outputs": [
        {
          "data": {
            "text/plain": [
              "['ONE IN CAPITAL', 'two', 'three', 4, 5, 6]"
            ]
          },
          "execution_count": 86,
          "metadata": {},
          "output_type": "execute_result"
        }
      ],
      "source": [
        "new_list"
      ]
    },
    {
      "cell_type": "code",
      "execution_count": null,
      "metadata": {
        "id": "gLdS25XmRx8L"
      },
      "outputs": [],
      "source": [
        "new_list.append('Seven') # Add element"
      ]
    },
    {
      "cell_type": "code",
      "execution_count": null,
      "metadata": {
        "id": "r-ry1_rkRx8L",
        "outputId": "832bdabf-3706-437f-daf2-68380ffaa21d"
      },
      "outputs": [
        {
          "data": {
            "text/plain": [
              "['ONE IN CAPITAL', 'two', 'three', 4, 5, 6, 'Seven']"
            ]
          },
          "execution_count": 88,
          "metadata": {},
          "output_type": "execute_result"
        }
      ],
      "source": [
        "new_list"
      ]
    },
    {
      "cell_type": "code",
      "execution_count": null,
      "metadata": {
        "id": "tPVNecr5Rx8L",
        "outputId": "9b74e572-6cfd-4795-a115-7edf1d305e32"
      },
      "outputs": [
        {
          "data": {
            "text/plain": [
              "'Seven'"
            ]
          },
          "execution_count": 89,
          "metadata": {},
          "output_type": "execute_result"
        }
      ],
      "source": [
        "new_list.pop() # remove last element"
      ]
    },
    {
      "cell_type": "code",
      "execution_count": null,
      "metadata": {
        "id": "QaRNpfxMRx8L",
        "outputId": "42eef37d-fe57-4ade-d656-9f52cb58dbe9"
      },
      "outputs": [
        {
          "data": {
            "text/plain": [
              "['ONE IN CAPITAL', 'two', 'three', 4, 5, 6]"
            ]
          },
          "execution_count": 90,
          "metadata": {},
          "output_type": "execute_result"
        }
      ],
      "source": [
        "new_list"
      ]
    },
    {
      "cell_type": "code",
      "execution_count": null,
      "metadata": {
        "id": "KvRihnYtRx8M",
        "outputId": "8bcb9b05-ccea-4c6d-e500-356bcae0dca3"
      },
      "outputs": [
        {
          "data": {
            "text/plain": [
              "'ONE IN CAPITAL'"
            ]
          },
          "execution_count": 91,
          "metadata": {},
          "output_type": "execute_result"
        }
      ],
      "source": [
        "new_list.pop(0)"
      ]
    },
    {
      "cell_type": "code",
      "execution_count": null,
      "metadata": {
        "id": "Pn7mJN0oRx8M",
        "outputId": "217735ea-6c69-44b0-e3f4-4f05a43dbd99"
      },
      "outputs": [
        {
          "data": {
            "text/plain": [
              "['two', 'three', 4, 5, 6]"
            ]
          },
          "execution_count": 92,
          "metadata": {},
          "output_type": "execute_result"
        }
      ],
      "source": [
        "new_list"
      ]
    },
    {
      "cell_type": "code",
      "execution_count": null,
      "metadata": {
        "id": "qGGwES35Rx8M",
        "outputId": "96d5f4a6-3f07-47cb-c28f-b865666a88dc"
      },
      "outputs": [
        {
          "data": {
            "text/plain": [
              "6"
            ]
          },
          "execution_count": 93,
          "metadata": {},
          "output_type": "execute_result"
        }
      ],
      "source": [
        "new_list.pop(-1)"
      ]
    },
    {
      "cell_type": "code",
      "execution_count": null,
      "metadata": {
        "id": "_E9u9A_tRx8N"
      },
      "outputs": [],
      "source": [
        "new_list =['d','a','f','g','a']\n",
        "new_num=[1,5,3,4,6]"
      ]
    },
    {
      "cell_type": "code",
      "execution_count": null,
      "metadata": {
        "id": "94oX2F4vRx8N"
      },
      "outputs": [],
      "source": [
        "new_list.sort() #returns NONE"
      ]
    },
    {
      "cell_type": "code",
      "execution_count": null,
      "metadata": {
        "id": "kbcZ216VRx8N",
        "outputId": "398df866-0ef7-4e5c-b410-48338cf65b24"
      },
      "outputs": [
        {
          "data": {
            "text/plain": [
              "['a', 'a', 'd', 'f', 'g']"
            ]
          },
          "execution_count": 96,
          "metadata": {},
          "output_type": "execute_result"
        }
      ],
      "source": [
        "new_list"
      ]
    },
    {
      "cell_type": "code",
      "execution_count": null,
      "metadata": {
        "id": "u7XgKlJwRx8N"
      },
      "outputs": [],
      "source": [
        "new_num.reverse()"
      ]
    },
    {
      "cell_type": "code",
      "execution_count": null,
      "metadata": {
        "id": "nej6gY82Rx8O",
        "outputId": "9870e123-3f90-42a5-d608-4b16a9802c7b"
      },
      "outputs": [
        {
          "data": {
            "text/plain": [
              "[6, 4, 3, 5, 1]"
            ]
          },
          "execution_count": 98,
          "metadata": {},
          "output_type": "execute_result"
        }
      ],
      "source": [
        "new_num"
      ]
    },
    {
      "cell_type": "markdown",
      "metadata": {
        "id": "pKe5eRZJRx8O"
      },
      "source": [
        "# Dictionaries"
      ]
    },
    {
      "cell_type": "code",
      "execution_count": null,
      "metadata": {
        "id": "F0yyQG2aRx8O"
      },
      "outputs": [],
      "source": [
        "my_dict="
      ]
    }
  ],
  "metadata": {
    "kernelspec": {
      "display_name": "Python 3",
      "language": "python",
      "name": "python3"
    },
    "language_info": {
      "codemirror_mode": {
        "name": "ipython",
        "version": 3
      },
      "file_extension": ".py",
      "mimetype": "text/x-python",
      "name": "python",
      "nbconvert_exporter": "python",
      "pygments_lexer": "ipython3",
      "version": "3.7.4"
    },
    "colab": {
      "name": "3.1 Python Datatypes.ipynb",
      "provenance": [],
      "include_colab_link": true
    }
  },
  "nbformat": 4,
  "nbformat_minor": 0
}