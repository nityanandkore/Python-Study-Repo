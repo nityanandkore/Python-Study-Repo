{
  "nbformat": 4,
  "nbformat_minor": 0,
  "metadata": {
    "kernelspec": {
      "display_name": "Python 3",
      "language": "python",
      "name": "python3"
    },
    "language_info": {
      "codemirror_mode": {
        "name": "ipython",
        "version": 3
      },
      "file_extension": ".py",
      "mimetype": "text/x-python",
      "name": "python",
      "nbconvert_exporter": "python",
      "pygments_lexer": "ipython3",
      "version": "3.7.4"
    },
    "colab": {
      "name": "StringObjects and Collections.ipynb",
      "provenance": [],
      "include_colab_link": true
    }
  },
  "cells": [
    {
      "cell_type": "markdown",
      "metadata": {
        "id": "view-in-github",
        "colab_type": "text"
      },
      "source": [
        "<a href=\"https://colab.research.google.com/github/nityanandkore/Python-Study-Repo/blob/master/StringObjects_and_Collections.ipynb\" target=\"_parent\"><img src=\"https://colab.research.google.com/assets/colab-badge.svg\" alt=\"Open In Colab\"/></a>"
      ]
    },
    {
      "cell_type": "code",
      "metadata": {
        "id": "nVVzXUyZ5Twj",
        "outputId": "55ff9830-7e2f-47f4-84f1-868fa203fedd"
      },
      "source": [
        "print(\"Hello\")"
      ],
      "execution_count": null,
      "outputs": [
        {
          "output_type": "stream",
          "text": [
            "Hello\n"
          ],
          "name": "stdout"
        }
      ]
    },
    {
      "cell_type": "code",
      "metadata": {
        "id": "6TDAVGhJ5Twr",
        "outputId": "6e908ff3-a369-40fe-87c7-b1c578b3cb78"
      },
      "source": [
        "s=\"nityanand\"\n",
        "s"
      ],
      "execution_count": null,
      "outputs": [
        {
          "output_type": "execute_result",
          "data": {
            "text/plain": [
              "'nityanand'"
            ]
          },
          "metadata": {
            "tags": []
          },
          "execution_count": 1
        }
      ]
    },
    {
      "cell_type": "code",
      "metadata": {
        "id": "X_EAVEUp5Tws",
        "outputId": "f99fe51e-9cad-47a7-f4c8-d49efa310196"
      },
      "source": [
        "s+str(1)"
      ],
      "execution_count": null,
      "outputs": [
        {
          "output_type": "execute_result",
          "data": {
            "text/plain": [
              "'nityanand1'"
            ]
          },
          "metadata": {
            "tags": []
          },
          "execution_count": 3
        }
      ]
    },
    {
      "cell_type": "code",
      "metadata": {
        "id": "jQYbLJ3D5Twt",
        "outputId": "bb25364c-fdd2-4451-ca1b-c6170ea2f0d8"
      },
      "source": [
        "s*10"
      ],
      "execution_count": null,
      "outputs": [
        {
          "output_type": "execute_result",
          "data": {
            "text/plain": [
              "'nityanandnityanandnityanandnityanandnityanandnityanandnityanandnityanandnityanandnityanand'"
            ]
          },
          "metadata": {
            "tags": []
          },
          "execution_count": 4
        }
      ]
    },
    {
      "cell_type": "code",
      "metadata": {
        "id": "UWMCs99N5Twt",
        "outputId": "a5033a47-dfda-4478-b9dc-3d1468e0a45f"
      },
      "source": [
        "[1,2,3,4,\"NK\"]*3"
      ],
      "execution_count": null,
      "outputs": [
        {
          "output_type": "execute_result",
          "data": {
            "text/plain": [
              "[1, 2, 3, 4, 'NK', 1, 2, 3, 4, 'NK', 1, 2, 3, 4, 'NK']"
            ]
          },
          "metadata": {
            "tags": []
          },
          "execution_count": 5
        }
      ]
    },
    {
      "cell_type": "code",
      "metadata": {
        "id": "V-A7Y5TQ5Twt",
        "outputId": "2e8476d1-9e73-4a46-9476-80db7a9f79e8"
      },
      "source": [
        "s.upper()"
      ],
      "execution_count": null,
      "outputs": [
        {
          "output_type": "execute_result",
          "data": {
            "text/plain": [
              "'NITYANAND'"
            ]
          },
          "metadata": {
            "tags": []
          },
          "execution_count": 7
        }
      ]
    },
    {
      "cell_type": "code",
      "metadata": {
        "id": "_ZD1rflb5Twu"
      },
      "source": [
        "a='NityanaND'"
      ],
      "execution_count": null,
      "outputs": []
    },
    {
      "cell_type": "code",
      "metadata": {
        "id": "QCOxjEGo5Twu",
        "outputId": "2fc379d8-613e-462a-a1e7-9141de32be11"
      },
      "source": [
        "a.lower()"
      ],
      "execution_count": null,
      "outputs": [
        {
          "output_type": "execute_result",
          "data": {
            "text/plain": [
              "'nityanand'"
            ]
          },
          "metadata": {
            "tags": []
          },
          "execution_count": 9
        }
      ]
    },
    {
      "cell_type": "code",
      "metadata": {
        "id": "PH-Jv_xR5Twu"
      },
      "source": [
        "a='My name is Nityanand Kore'"
      ],
      "execution_count": null,
      "outputs": []
    },
    {
      "cell_type": "code",
      "metadata": {
        "id": "AOw-VmyG5Twv",
        "outputId": "c3c2d9ff-2491-410f-eafd-61ccd4d19c6c"
      },
      "source": [
        "a.split()"
      ],
      "execution_count": null,
      "outputs": [
        {
          "output_type": "execute_result",
          "data": {
            "text/plain": [
              "['My', 'name', 'is', 'Nityanand', 'Kore']"
            ]
          },
          "metadata": {
            "tags": []
          },
          "execution_count": 28
        }
      ]
    },
    {
      "cell_type": "code",
      "metadata": {
        "id": "SOeZYrSS5Twv",
        "outputId": "1628adbd-3d9b-472d-8626-36a484e3d8b4"
      },
      "source": [
        "type(a.split())"
      ],
      "execution_count": null,
      "outputs": [
        {
          "output_type": "execute_result",
          "data": {
            "text/plain": [
              "list"
            ]
          },
          "metadata": {
            "tags": []
          },
          "execution_count": 29
        }
      ]
    },
    {
      "cell_type": "code",
      "metadata": {
        "id": "cQ0p5ol-5Twv"
      },
      "source": [
        "b='My@name@is@Nityanand@Kore'"
      ],
      "execution_count": null,
      "outputs": []
    },
    {
      "cell_type": "code",
      "metadata": {
        "id": "rv7FsWPE5Tww",
        "outputId": "1fe84a32-7691-47f2-ee84-8715233a06b2"
      },
      "source": [
        "b.split('@') # Used separator and seperator is not a part of result."
      ],
      "execution_count": null,
      "outputs": [
        {
          "output_type": "execute_result",
          "data": {
            "text/plain": [
              "['My', 'name', 'is', 'Nityanand', 'Kore']"
            ]
          },
          "metadata": {
            "tags": []
          },
          "execution_count": 24
        }
      ]
    },
    {
      "cell_type": "code",
      "metadata": {
        "id": "V9wkyQWm5Tww",
        "outputId": "8e0388b3-e9ed-497d-814f-441a3b3f671f"
      },
      "source": [
        "b.partition()"
      ],
      "execution_count": null,
      "outputs": [
        {
          "output_type": "error",
          "ename": "TypeError",
          "evalue": "partition() takes exactly one argument (0 given)",
          "traceback": [
            "\u001b[1;31m---------------------------------------------------------------------------\u001b[0m",
            "\u001b[1;31mTypeError\u001b[0m                                 Traceback (most recent call last)",
            "\u001b[1;32m<ipython-input-25-3487ec9e8283>\u001b[0m in \u001b[0;36m<module>\u001b[1;34m\u001b[0m\n\u001b[1;32m----> 1\u001b[1;33m \u001b[0mb\u001b[0m\u001b[1;33m.\u001b[0m\u001b[0mpartition\u001b[0m\u001b[1;33m(\u001b[0m\u001b[1;33m)\u001b[0m\u001b[1;33m\u001b[0m\u001b[1;33m\u001b[0m\u001b[0m\n\u001b[0m",
            "\u001b[1;31mTypeError\u001b[0m: partition() takes exactly one argument (0 given)"
          ]
        }
      ]
    },
    {
      "cell_type": "code",
      "metadata": {
        "id": "bQW_gSEJ5Tww",
        "outputId": "f5d55995-76d3-4776-acdd-795a58b5ca1d"
      },
      "source": [
        "b.partition('@') # Finds first @ and then returns remaining text"
      ],
      "execution_count": null,
      "outputs": [
        {
          "output_type": "execute_result",
          "data": {
            "text/plain": [
              "('My', '@', 'name@is@Nityanand@Kore')"
            ]
          },
          "metadata": {
            "tags": []
          },
          "execution_count": 30
        }
      ]
    },
    {
      "cell_type": "code",
      "metadata": {
        "id": "dpe2ET-T5Tww",
        "outputId": "3f16a55f-4237-4506-e11f-65f47fb362e9"
      },
      "source": [
        "type(b.partition('@'))"
      ],
      "execution_count": null,
      "outputs": [
        {
          "output_type": "execute_result",
          "data": {
            "text/plain": [
              "tuple"
            ]
          },
          "metadata": {
            "tags": []
          },
          "execution_count": 31
        }
      ]
    },
    {
      "cell_type": "code",
      "metadata": {
        "id": "8XahXyds5Twx"
      },
      "source": [
        "c='dsfhjkhkerwlkasdaafdlkjhfdslkj'"
      ],
      "execution_count": null,
      "outputs": []
    },
    {
      "cell_type": "code",
      "metadata": {
        "id": "iwIRjrb85Twx",
        "outputId": "a689e06e-1a4d-4ca1-f526-ba3fb7c794d1"
      },
      "source": [
        "c.find('a') # First occurance of 'a'"
      ],
      "execution_count": null,
      "outputs": [
        {
          "output_type": "execute_result",
          "data": {
            "text/plain": [
              "13"
            ]
          },
          "metadata": {
            "tags": []
          },
          "execution_count": 33
        }
      ]
    },
    {
      "cell_type": "code",
      "metadata": {
        "id": "zr6TahV45Twx",
        "outputId": "2103b50e-40db-4698-a77f-d8c78d30ac9e"
      },
      "source": [
        "c.find('kh')"
      ],
      "execution_count": null,
      "outputs": [
        {
          "output_type": "execute_result",
          "data": {
            "text/plain": [
              "5"
            ]
          },
          "metadata": {
            "tags": []
          },
          "execution_count": 34
        }
      ]
    },
    {
      "cell_type": "code",
      "metadata": {
        "id": "yNqXaRZm5Twx",
        "outputId": "e7b315de-e034-45d6-b3ba-0b282e4d077a"
      },
      "source": [
        "c.find('z') # returns Stack -1  which is empty stack (Stack is data structure)"
      ],
      "execution_count": null,
      "outputs": [
        {
          "output_type": "execute_result",
          "data": {
            "text/plain": [
              "-1"
            ]
          },
          "metadata": {
            "tags": []
          },
          "execution_count": 36
        }
      ]
    },
    {
      "cell_type": "code",
      "metadata": {
        "id": "C2ngSD765Twy"
      },
      "source": [
        "f=\"NK\""
      ],
      "execution_count": null,
      "outputs": []
    },
    {
      "cell_type": "code",
      "metadata": {
        "id": "DW2tDE8S5Twy",
        "outputId": "76b122e2-df9b-4a38-c1ce-077c289785ea"
      },
      "source": [
        "f.center(50,\"R\")"
      ],
      "execution_count": null,
      "outputs": [
        {
          "output_type": "execute_result",
          "data": {
            "text/plain": [
              "'RRRRRRRRRRRRRRRRRRRRRRRRNKRRRRRRRRRRRRRRRRRRRRRRRR'"
            ]
          },
          "metadata": {
            "tags": []
          },
          "execution_count": 38
        }
      ]
    },
    {
      "cell_type": "code",
      "metadata": {
        "id": "iDQTrHLR5Twy",
        "outputId": "8fc4967c-9901-4ce2-82d1-53f4ed9577de"
      },
      "source": [
        "'Nityanand\\tKore'"
      ],
      "execution_count": null,
      "outputs": [
        {
          "output_type": "execute_result",
          "data": {
            "text/plain": [
              "'Nityanand\\tKore'"
            ]
          },
          "metadata": {
            "tags": []
          },
          "execution_count": 40
        }
      ]
    },
    {
      "cell_type": "code",
      "metadata": {
        "id": "kCEdysGq5Twy",
        "outputId": "e476df19-7734-4dc8-cd50-3e633f2392b1"
      },
      "source": [
        "'Nityanand\\tKore'.split('\\t')"
      ],
      "execution_count": null,
      "outputs": [
        {
          "output_type": "execute_result",
          "data": {
            "text/plain": [
              "['Nityanand', 'Kore']"
            ]
          },
          "metadata": {
            "tags": []
          },
          "execution_count": 41
        }
      ]
    },
    {
      "cell_type": "code",
      "metadata": {
        "id": "_jOk723X5Twz",
        "outputId": "f8319f75-7f54-402d-b815-b32785630779"
      },
      "source": [
        "'Nityanand\\tKore'.expandtabs()"
      ],
      "execution_count": null,
      "outputs": [
        {
          "output_type": "execute_result",
          "data": {
            "text/plain": [
              "'Nityanand       Kore'"
            ]
          },
          "metadata": {
            "tags": []
          },
          "execution_count": 42
        }
      ]
    },
    {
      "cell_type": "code",
      "metadata": {
        "id": "k6aIE2GE5Twz",
        "outputId": "e6fc4ff4-0b09-4718-9a84-c17ea7304096"
      },
      "source": [
        "'My Name is {} Kore'.format('Nityanand')"
      ],
      "execution_count": null,
      "outputs": [
        {
          "output_type": "execute_result",
          "data": {
            "text/plain": [
              "'My Name is Nityanand Kore'"
            ]
          },
          "metadata": {
            "tags": []
          },
          "execution_count": 44
        }
      ]
    },
    {
      "cell_type": "code",
      "metadata": {
        "id": "vAy7SdFP5Twz",
        "outputId": "e7ca21b3-8e8a-4af9-bbfb-95186b2e94ee"
      },
      "source": [
        "a=input(\"Enter your name:\")\n",
        "'My Name is {} Kore'.format(a)"
      ],
      "execution_count": null,
      "outputs": [
        {
          "output_type": "stream",
          "text": [
            "Enter your name:Nityanand\n"
          ],
          "name": "stdout"
        },
        {
          "output_type": "execute_result",
          "data": {
            "text/plain": [
              "'My Name is Nityanand Kore'"
            ]
          },
          "metadata": {
            "tags": []
          },
          "execution_count": 46
        }
      ]
    },
    {
      "cell_type": "code",
      "metadata": {
        "id": "kX6szoei5Twz",
        "outputId": "e0fbda1c-fdb1-49c3-9d27-2946a4639be1"
      },
      "source": [
        "a=input(\"Enter First name:\")\n",
        "b=input(\"ENter Last name:\")\n",
        "'My Name is {} {}'.format(a,b)"
      ],
      "execution_count": null,
      "outputs": [
        {
          "output_type": "stream",
          "text": [
            "Enter First name:Nityanand\n",
            "ENter Last name:Kore\n"
          ],
          "name": "stdout"
        },
        {
          "output_type": "execute_result",
          "data": {
            "text/plain": [
              "'My Name is Nityanand Kore'"
            ]
          },
          "metadata": {
            "tags": []
          },
          "execution_count": 48
        }
      ]
    },
    {
      "cell_type": "code",
      "metadata": {
        "id": "gnGm7yaF5Tw0",
        "outputId": "c01aa97d-8929-42e3-99c8-431bbf03e3af"
      },
      "source": [
        "a=input(\"Enter First name:\")\n",
        "b=input(\"ENter Last name:\")\n",
        "'My Name is {} '.format(a,b)"
      ],
      "execution_count": null,
      "outputs": [
        {
          "output_type": "stream",
          "text": [
            "Enter First name:Nityanand\n",
            "ENter Last name:Kore\n"
          ],
          "name": "stdout"
        },
        {
          "output_type": "execute_result",
          "data": {
            "text/plain": [
              "'My Name is Nityanand '"
            ]
          },
          "metadata": {
            "tags": []
          },
          "execution_count": 49
        }
      ]
    },
    {
      "cell_type": "code",
      "metadata": {
        "id": "uFOsHWel5Tw0",
        "outputId": "590e49db-001b-49c1-ad4f-ff62c5f56bc2"
      },
      "source": [
        "a=input(\"Enter First name:\")\n",
        "b=input(\"ENter Last name:\")\n",
        "'My Name is {} {}'.format(a)"
      ],
      "execution_count": null,
      "outputs": [
        {
          "output_type": "stream",
          "text": [
            "Enter First name:Nityanand\n",
            "ENter Last name:Kore\n"
          ],
          "name": "stdout"
        },
        {
          "output_type": "error",
          "ename": "IndexError",
          "evalue": "tuple index out of range",
          "traceback": [
            "\u001b[1;31m---------------------------------------------------------------------------\u001b[0m",
            "\u001b[1;31mIndexError\u001b[0m                                Traceback (most recent call last)",
            "\u001b[1;32m<ipython-input-50-64d0c186a1c6>\u001b[0m in \u001b[0;36m<module>\u001b[1;34m\u001b[0m\n\u001b[0;32m      1\u001b[0m \u001b[0ma\u001b[0m\u001b[1;33m=\u001b[0m\u001b[0minput\u001b[0m\u001b[1;33m(\u001b[0m\u001b[1;34m\"Enter First name:\"\u001b[0m\u001b[1;33m)\u001b[0m\u001b[1;33m\u001b[0m\u001b[1;33m\u001b[0m\u001b[0m\n\u001b[0;32m      2\u001b[0m \u001b[0mb\u001b[0m\u001b[1;33m=\u001b[0m\u001b[0minput\u001b[0m\u001b[1;33m(\u001b[0m\u001b[1;34m\"ENter Last name:\"\u001b[0m\u001b[1;33m)\u001b[0m\u001b[1;33m\u001b[0m\u001b[1;33m\u001b[0m\u001b[0m\n\u001b[1;32m----> 3\u001b[1;33m \u001b[1;34m'My Name is {} {}'\u001b[0m\u001b[1;33m.\u001b[0m\u001b[0mformat\u001b[0m\u001b[1;33m(\u001b[0m\u001b[0ma\u001b[0m\u001b[1;33m)\u001b[0m\u001b[1;33m\u001b[0m\u001b[1;33m\u001b[0m\u001b[0m\n\u001b[0m",
            "\u001b[1;31mIndexError\u001b[0m: tuple index out of range"
          ]
        }
      ]
    },
    {
      "cell_type": "code",
      "metadata": {
        "id": "PezugHur5Tw0"
      },
      "source": [
        "s=\"hello123\""
      ],
      "execution_count": null,
      "outputs": []
    },
    {
      "cell_type": "code",
      "metadata": {
        "id": "gOPC3Ra95Tw0",
        "outputId": "aaafaf44-fef8-4d79-8907-86c75eb16cb6"
      },
      "source": [
        "\n",
        "\n",
        "s.isalnum()"
      ],
      "execution_count": null,
      "outputs": [
        {
          "output_type": "execute_result",
          "data": {
            "text/plain": [
              "True"
            ]
          },
          "metadata": {
            "tags": []
          },
          "execution_count": 58
        }
      ]
    },
    {
      "cell_type": "code",
      "metadata": {
        "id": "gHYxazwz5Tw1",
        "outputId": "acfecfa2-7ded-45c9-bc2b-0066d8e950b8"
      },
      "source": [
        "s.isalpha()"
      ],
      "execution_count": null,
      "outputs": [
        {
          "output_type": "execute_result",
          "data": {
            "text/plain": [
              "False"
            ]
          },
          "metadata": {
            "tags": []
          },
          "execution_count": 59
        }
      ]
    },
    {
      "cell_type": "code",
      "metadata": {
        "id": "QDpvwbOn5Tw1",
        "outputId": "79b24bf2-d9f7-4de1-af55-4db5766a0b83"
      },
      "source": [
        "s.islower() #ignores number"
      ],
      "execution_count": null,
      "outputs": [
        {
          "output_type": "execute_result",
          "data": {
            "text/plain": [
              "True"
            ]
          },
          "metadata": {
            "tags": []
          },
          "execution_count": 61
        }
      ]
    },
    {
      "cell_type": "code",
      "metadata": {
        "id": "8tpoS_tp5Tw1",
        "outputId": "1ecb5932-2375-48cd-e514-cbcc3cd8408b"
      },
      "source": [
        "s.istitle()"
      ],
      "execution_count": null,
      "outputs": [
        {
          "output_type": "execute_result",
          "data": {
            "text/plain": [
              "False"
            ]
          },
          "metadata": {
            "tags": []
          },
          "execution_count": 62
        }
      ]
    },
    {
      "cell_type": "code",
      "metadata": {
        "id": "RBmpA0hN5Tw1"
      },
      "source": [
        "s=\"Nityanand\""
      ],
      "execution_count": null,
      "outputs": []
    },
    {
      "cell_type": "code",
      "metadata": {
        "id": "rXQ72jDl5Tw1",
        "outputId": "455ddbc7-dcac-4f71-80cc-ed3d4e22adb2"
      },
      "source": [
        "s.endswith(\"d\")"
      ],
      "execution_count": null,
      "outputs": [
        {
          "output_type": "execute_result",
          "data": {
            "text/plain": [
              "True"
            ]
          },
          "metadata": {
            "tags": []
          },
          "execution_count": 64
        }
      ]
    },
    {
      "cell_type": "code",
      "metadata": {
        "id": "X9tF8ygy5Tw2",
        "outputId": "1d9a71ed-367a-4475-9c4c-c051e6c83b5f"
      },
      "source": [
        "len(s)"
      ],
      "execution_count": null,
      "outputs": [
        {
          "output_type": "execute_result",
          "data": {
            "text/plain": [
              "9"
            ]
          },
          "metadata": {
            "tags": []
          },
          "execution_count": 65
        }
      ]
    },
    {
      "cell_type": "code",
      "metadata": {
        "id": "PWmfbo0A5Tw2",
        "outputId": "8a941d2d-dcd0-425f-8265-dee01a52530f"
      },
      "source": [
        "print(s) # returns none datatype"
      ],
      "execution_count": null,
      "outputs": [
        {
          "output_type": "stream",
          "text": [
            "Nityanand\n"
          ],
          "name": "stdout"
        }
      ]
    },
    {
      "cell_type": "code",
      "metadata": {
        "id": "_1RBJlbU5Tw2",
        "outputId": "7d2ac6e4-ed13-4dab-b833-46c56e43122a"
      },
      "source": [
        "type(print(s)) # returns none datatype"
      ],
      "execution_count": null,
      "outputs": [
        {
          "output_type": "stream",
          "text": [
            "Nityanand\n"
          ],
          "name": "stdout"
        },
        {
          "output_type": "execute_result",
          "data": {
            "text/plain": [
              "NoneType"
            ]
          },
          "metadata": {
            "tags": []
          },
          "execution_count": 68
        }
      ]
    },
    {
      "cell_type": "code",
      "metadata": {
        "id": "EcZDweoa5Tw2",
        "outputId": "776538d5-2b21-4804-9ae3-868e08ccff8e"
      },
      "source": [
        "s"
      ],
      "execution_count": null,
      "outputs": [
        {
          "output_type": "execute_result",
          "data": {
            "text/plain": [
              "'Nityanand'"
            ]
          },
          "metadata": {
            "tags": []
          },
          "execution_count": 67
        }
      ]
    },
    {
      "cell_type": "code",
      "metadata": {
        "id": "_ivqeIza5Tw3",
        "outputId": "845fef1d-aed0-437f-82ab-8009152fddcc"
      },
      "source": [
        "type(s)"
      ],
      "execution_count": null,
      "outputs": [
        {
          "output_type": "execute_result",
          "data": {
            "text/plain": [
              "str"
            ]
          },
          "metadata": {
            "tags": []
          },
          "execution_count": 69
        }
      ]
    },
    {
      "cell_type": "code",
      "metadata": {
        "id": "HUjjXXXW5Tw3"
      },
      "source": [
        "a=[1,2,3,4,5,\"hello\",\"nk\",\"rk\",4.5,[3,5,4]]\n",
        "b=[\"ak\",4,3,[5,4]]"
      ],
      "execution_count": null,
      "outputs": []
    },
    {
      "cell_type": "code",
      "metadata": {
        "id": "gzeYrCQc5Tw3",
        "outputId": "a080b1ef-c5c3-4809-80a7-f405be4096da"
      },
      "source": [
        "a+b    "
      ],
      "execution_count": null,
      "outputs": [
        {
          "output_type": "execute_result",
          "data": {
            "text/plain": [
              "[1, 2, 3, 4, 5, 'hello', 'nk', 'rk', 4.5, [3, 5, 4], 'ak', 4, 3, [5, 4]]"
            ]
          },
          "metadata": {
            "tags": []
          },
          "execution_count": 73
        }
      ]
    },
    {
      "cell_type": "code",
      "metadata": {
        "id": "8Ua79axg5Tw3",
        "outputId": "0fe65184-d6e9-42a0-9243-2ca822272bd0"
      },
      "source": [
        "b+'nk'"
      ],
      "execution_count": null,
      "outputs": [
        {
          "output_type": "error",
          "ename": "TypeError",
          "evalue": "can only concatenate list (not \"str\") to list",
          "traceback": [
            "\u001b[1;31m---------------------------------------------------------------------------\u001b[0m",
            "\u001b[1;31mTypeError\u001b[0m                                 Traceback (most recent call last)",
            "\u001b[1;32m<ipython-input-76-2adbec492cf6>\u001b[0m in \u001b[0;36m<module>\u001b[1;34m\u001b[0m\n\u001b[1;32m----> 1\u001b[1;33m \u001b[0mb\u001b[0m\u001b[1;33m+\u001b[0m\u001b[1;34m'nk'\u001b[0m\u001b[1;33m\u001b[0m\u001b[1;33m\u001b[0m\u001b[0m\n\u001b[0m",
            "\u001b[1;31mTypeError\u001b[0m: can only concatenate list (not \"str\") to list"
          ]
        }
      ]
    },
    {
      "cell_type": "code",
      "metadata": {
        "id": "uZpcOxhS5Tw3",
        "outputId": "db3e7a2b-fcfd-480d-9646-838431b1613f"
      },
      "source": [
        "b+['nk']"
      ],
      "execution_count": null,
      "outputs": [
        {
          "output_type": "execute_result",
          "data": {
            "text/plain": [
              "['ak', 4, 3, [5, 4], 'nk']"
            ]
          },
          "metadata": {
            "tags": []
          },
          "execution_count": 77
        }
      ]
    },
    {
      "cell_type": "code",
      "metadata": {
        "id": "4yaMNJvR5Tw4",
        "outputId": "4563c710-aa2a-4af0-f001-d87d1c2f6a55"
      },
      "source": [
        "b+list('nk')"
      ],
      "execution_count": null,
      "outputs": [
        {
          "output_type": "execute_result",
          "data": {
            "text/plain": [
              "['ak', 4, 3, [5, 4], 'n', 'k']"
            ]
          },
          "metadata": {
            "tags": []
          },
          "execution_count": 78
        }
      ]
    },
    {
      "cell_type": "code",
      "metadata": {
        "id": "fxm4Mmsw5Tw4",
        "outputId": "3d582841-4078-4bb6-a6b1-5f05f46a6d94"
      },
      "source": [
        "list(34) # List always takes iterable object."
      ],
      "execution_count": null,
      "outputs": [
        {
          "output_type": "error",
          "ename": "TypeError",
          "evalue": "'int' object is not iterable",
          "traceback": [
            "\u001b[1;31m---------------------------------------------------------------------------\u001b[0m",
            "\u001b[1;31mTypeError\u001b[0m                                 Traceback (most recent call last)",
            "\u001b[1;32m<ipython-input-80-18bc233d68fe>\u001b[0m in \u001b[0;36m<module>\u001b[1;34m\u001b[0m\n\u001b[1;32m----> 1\u001b[1;33m \u001b[0mlist\u001b[0m\u001b[1;33m(\u001b[0m\u001b[1;36m34\u001b[0m\u001b[1;33m)\u001b[0m \u001b[1;31m# List always takes iterable object.\u001b[0m\u001b[1;33m\u001b[0m\u001b[1;33m\u001b[0m\u001b[0m\n\u001b[0m",
            "\u001b[1;31mTypeError\u001b[0m: 'int' object is not iterable"
          ]
        }
      ]
    },
    {
      "cell_type": "code",
      "metadata": {
        "id": "6VkqtgTr5Tw4",
        "outputId": "08840371-a9af-4711-999c-ea4bbd0a68ba"
      },
      "source": [
        "list([34]) "
      ],
      "execution_count": null,
      "outputs": [
        {
          "output_type": "execute_result",
          "data": {
            "text/plain": [
              "[34]"
            ]
          },
          "metadata": {
            "tags": []
          },
          "execution_count": 81
        }
      ]
    },
    {
      "cell_type": "code",
      "metadata": {
        "id": "HvWF9Cia5Tw4",
        "outputId": "240e723e-c277-456a-b021-d0dba0b00d87"
      },
      "source": [
        "b.append(\"rk\") # append at the end\n",
        "b"
      ],
      "execution_count": null,
      "outputs": [
        {
          "output_type": "execute_result",
          "data": {
            "text/plain": [
              "['ak', 4, 3, [5, 4], 'rk', 'rk']"
            ]
          },
          "metadata": {
            "tags": []
          },
          "execution_count": 83
        }
      ]
    },
    {
      "cell_type": "code",
      "metadata": {
        "id": "yJ8pvbH25Tw5"
      },
      "source": [
        "b.insert(2,\"ak\") # index based insertion"
      ],
      "execution_count": null,
      "outputs": []
    },
    {
      "cell_type": "code",
      "metadata": {
        "id": "uyJGQ5dr5Tw5",
        "outputId": "934a20d6-e5d5-4388-fcbe-457637e48a5f"
      },
      "source": [
        "b"
      ],
      "execution_count": null,
      "outputs": [
        {
          "output_type": "execute_result",
          "data": {
            "text/plain": [
              "['ak', 4, 'ak', 3, [5, 4], 'rk', 'rk']"
            ]
          },
          "metadata": {
            "tags": []
          },
          "execution_count": 85
        }
      ]
    },
    {
      "cell_type": "code",
      "metadata": {
        "id": "POZOFjYQ5Tw5"
      },
      "source": [
        "  b.insert(-2,\"ak\") # index based insertion"
      ],
      "execution_count": null,
      "outputs": []
    },
    {
      "cell_type": "code",
      "metadata": {
        "id": "qMTMAXvO5Tw5",
        "outputId": "81d47133-a01d-4a3d-9f11-25f395d2fddd"
      },
      "source": [
        "b"
      ],
      "execution_count": null,
      "outputs": [
        {
          "output_type": "execute_result",
          "data": {
            "text/plain": [
              "['ak', 4, 'ak', 3, [5, 4], 'ak', 'rk', 'rk']"
            ]
          },
          "metadata": {
            "tags": []
          },
          "execution_count": 87
        }
      ]
    },
    {
      "cell_type": "code",
      "metadata": {
        "id": "1k98FZI95Tw5"
      },
      "source": [
        "b.insert(-1,\"ak\") # index based insertion"
      ],
      "execution_count": null,
      "outputs": []
    },
    {
      "cell_type": "code",
      "metadata": {
        "id": "qmiyiqPQ5Tw6",
        "outputId": "142c3674-4f56-460b-d6b0-05fddcf55091"
      },
      "source": [
        "b"
      ],
      "execution_count": null,
      "outputs": [
        {
          "output_type": "execute_result",
          "data": {
            "text/plain": [
              "['ak', 4, 'ak', 3, [5, 4], 'ak', 'rk', 'ak', 'rk']"
            ]
          },
          "metadata": {
            "tags": []
          },
          "execution_count": 89
        }
      ]
    },
    {
      "cell_type": "code",
      "metadata": {
        "id": "39W6PZDQ5Tw6"
      },
      "source": [
        "b.insert(-1,[1,2,3,4]) # index based insertion"
      ],
      "execution_count": null,
      "outputs": []
    },
    {
      "cell_type": "code",
      "metadata": {
        "id": "ErhkQTtf5Tw6",
        "outputId": "5687c54d-9d87-488f-d8ec-b06b1098ac5f"
      },
      "source": [
        "b"
      ],
      "execution_count": null,
      "outputs": [
        {
          "output_type": "execute_result",
          "data": {
            "text/plain": [
              "['ak', 4, 'ak', 3, [5, 4], 'ak', 'rk', 'ak', [1, 2, 3, 4], 'rk']"
            ]
          },
          "metadata": {
            "tags": []
          },
          "execution_count": 91
        }
      ]
    },
    {
      "cell_type": "code",
      "metadata": {
        "id": "nGsjHPL45Tw6",
        "outputId": "d4dc41f0-efd4-457d-d5e0-ba830ad2cb73"
      },
      "source": [
        "b.pop() # removes last item from the list"
      ],
      "execution_count": null,
      "outputs": [
        {
          "output_type": "execute_result",
          "data": {
            "text/plain": [
              "'rk'"
            ]
          },
          "metadata": {
            "tags": []
          },
          "execution_count": 92
        }
      ]
    },
    {
      "cell_type": "code",
      "metadata": {
        "id": "obPpp4id5Tw6",
        "outputId": "c632d92b-675b-452d-aac1-91aa07834d66"
      },
      "source": [
        "b"
      ],
      "execution_count": null,
      "outputs": [
        {
          "output_type": "execute_result",
          "data": {
            "text/plain": [
              "['ak', 4, 'ak', 3, [5, 4], 'ak', 'rk', 'ak', [1, 2, 3, 4]]"
            ]
          },
          "metadata": {
            "tags": []
          },
          "execution_count": 93
        }
      ]
    },
    {
      "cell_type": "code",
      "metadata": {
        "id": "-lDnp7Fd5Tw7",
        "outputId": "3d6e9d94-3ede-4992-ac98-ac9634aefdcb"
      },
      "source": [
        "b.pop(3) # index based poping"
      ],
      "execution_count": null,
      "outputs": [
        {
          "output_type": "execute_result",
          "data": {
            "text/plain": [
              "3"
            ]
          },
          "metadata": {
            "tags": []
          },
          "execution_count": 94
        }
      ]
    },
    {
      "cell_type": "code",
      "metadata": {
        "id": "DpFromfQ5Tw7",
        "outputId": "020a5b9e-97f0-497d-981d-fe8a88baf724"
      },
      "source": [
        "b"
      ],
      "execution_count": null,
      "outputs": [
        {
          "output_type": "execute_result",
          "data": {
            "text/plain": [
              "['ak', 4, 'ak', [5, 4], 'ak', 'rk', 'ak', [1, 2, 3, 4]]"
            ]
          },
          "metadata": {
            "tags": []
          },
          "execution_count": 95
        }
      ]
    },
    {
      "cell_type": "code",
      "metadata": {
        "id": "zL-pGG3t5Tw7",
        "outputId": "d58b41d1-adee-4b99-a060-666d06df2a26"
      },
      "source": [
        "b[::-1] #Reverse the list"
      ],
      "execution_count": null,
      "outputs": [
        {
          "output_type": "execute_result",
          "data": {
            "text/plain": [
              "[[1, 2, 3, 4], 'ak', 'rk', 'ak', [5, 4], 'ak', 4, 'ak']"
            ]
          },
          "metadata": {
            "tags": []
          },
          "execution_count": 96
        }
      ]
    },
    {
      "cell_type": "code",
      "metadata": {
        "id": "g7ajUnVw5Tw7",
        "outputId": "9d3d05c4-117f-40ed-f0e6-2e1c066d5076"
      },
      "source": [
        "b[:2:]"
      ],
      "execution_count": null,
      "outputs": [
        {
          "output_type": "execute_result",
          "data": {
            "text/plain": [
              "['ak']"
            ]
          },
          "metadata": {
            "tags": []
          },
          "execution_count": 104
        }
      ]
    },
    {
      "cell_type": "code",
      "metadata": {
        "id": "g2Q2PP8t5Tw8"
      },
      "source": [
        "b.reverse() # Permanent reverse operation"
      ],
      "execution_count": null,
      "outputs": []
    },
    {
      "cell_type": "code",
      "metadata": {
        "id": "myS8rQSf5Tw8",
        "outputId": "c04f6457-7e63-4d3a-977f-57bfff5523da"
      },
      "source": [
        "b"
      ],
      "execution_count": null,
      "outputs": [
        {
          "output_type": "execute_result",
          "data": {
            "text/plain": [
              "[[1, 2, 3, 4], 'ak', 'rk', 'ak', [5, 4], 'ak', 4, 'ak']"
            ]
          },
          "metadata": {
            "tags": []
          },
          "execution_count": 106
        }
      ]
    },
    {
      "cell_type": "code",
      "metadata": {
        "id": "JC1bR2YF5Tw8",
        "outputId": "304b95c3-2c1e-406d-e06a-a320265f6e9f"
      },
      "source": [
        "b.sort()"
      ],
      "execution_count": null,
      "outputs": [
        {
          "output_type": "error",
          "ename": "TypeError",
          "evalue": "'<' not supported between instances of 'str' and 'list'",
          "traceback": [
            "\u001b[1;31m---------------------------------------------------------------------------\u001b[0m",
            "\u001b[1;31mTypeError\u001b[0m                                 Traceback (most recent call last)",
            "\u001b[1;32m<ipython-input-107-b8c00efa69e8>\u001b[0m in \u001b[0;36m<module>\u001b[1;34m\u001b[0m\n\u001b[1;32m----> 1\u001b[1;33m \u001b[0mb\u001b[0m\u001b[1;33m.\u001b[0m\u001b[0msort\u001b[0m\u001b[1;33m(\u001b[0m\u001b[1;33m)\u001b[0m\u001b[1;33m\u001b[0m\u001b[1;33m\u001b[0m\u001b[0m\n\u001b[0m",
            "\u001b[1;31mTypeError\u001b[0m: '<' not supported between instances of 'str' and 'list'"
          ]
        }
      ]
    },
    {
      "cell_type": "code",
      "metadata": {
        "id": "RG9h8HTs5Tw8"
      },
      "source": [
        "n=[3,4,5,6,\"NK\"]"
      ],
      "execution_count": null,
      "outputs": []
    },
    {
      "cell_type": "code",
      "metadata": {
        "id": "xsiJiL_l5Tw8",
        "outputId": "bf1649ca-d613-44ba-825d-ed4000d63918"
      },
      "source": [
        "n.sort()"
      ],
      "execution_count": null,
      "outputs": [
        {
          "output_type": "error",
          "ename": "TypeError",
          "evalue": "'<' not supported between instances of 'str' and 'int'",
          "traceback": [
            "\u001b[1;31m---------------------------------------------------------------------------\u001b[0m",
            "\u001b[1;31mTypeError\u001b[0m                                 Traceback (most recent call last)",
            "\u001b[1;32m<ipython-input-109-4c82585a7e81>\u001b[0m in \u001b[0;36m<module>\u001b[1;34m\u001b[0m\n\u001b[1;32m----> 1\u001b[1;33m \u001b[0mn\u001b[0m\u001b[1;33m.\u001b[0m\u001b[0msort\u001b[0m\u001b[1;33m(\u001b[0m\u001b[1;33m)\u001b[0m\u001b[1;33m\u001b[0m\u001b[1;33m\u001b[0m\u001b[0m\n\u001b[0m",
            "\u001b[1;31mTypeError\u001b[0m: '<' not supported between instances of 'str' and 'int'"
          ]
        }
      ]
    },
    {
      "cell_type": "code",
      "metadata": {
        "id": "l8X_ZflY5Tw9"
      },
      "source": [
        "n=[3,44,5,6]"
      ],
      "execution_count": null,
      "outputs": []
    },
    {
      "cell_type": "code",
      "metadata": {
        "id": "stQMoHKY5Tw9"
      },
      "source": [
        "n.sort()"
      ],
      "execution_count": null,
      "outputs": []
    },
    {
      "cell_type": "code",
      "metadata": {
        "id": "cVmHSoAZ5Tw9",
        "outputId": "8fb0c64b-7d2d-4b8e-f642-e85e04d62751"
      },
      "source": [
        "n"
      ],
      "execution_count": null,
      "outputs": [
        {
          "output_type": "execute_result",
          "data": {
            "text/plain": [
              "[3, 5, 6, 44]"
            ]
          },
          "metadata": {
            "tags": []
          },
          "execution_count": 115
        }
      ]
    },
    {
      "cell_type": "code",
      "metadata": {
        "id": "JjirSXnf5Tw9",
        "outputId": "789ea98d-f369-402e-defb-09769ece7af9"
      },
      "source": [
        "n.sort(reverse=True)\n",
        "n"
      ],
      "execution_count": null,
      "outputs": [
        {
          "output_type": "execute_result",
          "data": {
            "text/plain": [
              "[44, 6, 5, 3]"
            ]
          },
          "metadata": {
            "tags": []
          },
          "execution_count": 119
        }
      ]
    },
    {
      "cell_type": "code",
      "metadata": {
        "id": "Wccc_bcU5Tw9",
        "outputId": "349b46b5-14ec-458b-bf47-430c81d55dce"
      },
      "source": [
        "a=[3,4,5,6]\n",
        "b=[4,5,6,7,8,9]\n",
        "c=[4,3,6,7,8,9,2,3,0]\n",
        "\n",
        "d=[a,b,c]\n",
        "d"
      ],
      "execution_count": null,
      "outputs": [
        {
          "output_type": "execute_result",
          "data": {
            "text/plain": [
              "[[3, 4, 5, 6], [4, 5, 6, 7, 8, 9], [4, 3, 6, 7, 8, 9, 2, 3, 0]]"
            ]
          },
          "metadata": {
            "tags": []
          },
          "execution_count": 144
        }
      ]
    },
    {
      "cell_type": "code",
      "metadata": {
        "id": "QOEI2PNH5Tw-",
        "outputId": "f3e4bfd7-58b7-49b9-cb84-3b99142dc05b"
      },
      "source": [
        "d"
      ],
      "execution_count": null,
      "outputs": [
        {
          "output_type": "execute_result",
          "data": {
            "text/plain": [
              "[[3, 4, 5, 6], [4, 5, 6, 7, 8, 9], [4, 3, 6, 7, 8, 9, 2, 3, 0]]"
            ]
          },
          "metadata": {
            "tags": []
          },
          "execution_count": 145
        }
      ]
    },
    {
      "cell_type": "code",
      "metadata": {
        "id": "NPv83yML5Tw-"
      },
      "source": [
        "m=[]\n",
        "\n",
        "d.reverse()\n",
        "for i in d:\n",
        "    m.append(i[::-1])"
      ],
      "execution_count": null,
      "outputs": []
    },
    {
      "cell_type": "code",
      "metadata": {
        "id": "_CRvKx2F5Tw-",
        "outputId": "64952e8c-2ce8-473c-c4d7-e6c87fc740d8"
      },
      "source": [
        "d"
      ],
      "execution_count": null,
      "outputs": [
        {
          "output_type": "execute_result",
          "data": {
            "text/plain": [
              "[[3, 4, 5, 6], [4, 5, 6, 7, 8, 9], [4, 3, 6, 7, 8, 9, 2, 3, 0]]"
            ]
          },
          "metadata": {
            "tags": []
          },
          "execution_count": 155
        }
      ]
    },
    {
      "cell_type": "code",
      "metadata": {
        "id": "UUu8IaQf5Tw-",
        "outputId": "2a6c2ba4-8592-45c0-e3a9-bc518fbb1c3a"
      },
      "source": [
        "m"
      ],
      "execution_count": null,
      "outputs": [
        {
          "output_type": "execute_result",
          "data": {
            "text/plain": [
              "[[6, 5, 4, 3], [9, 8, 7, 6, 5, 4], [0, 3, 2, 9, 8, 7, 6, 3, 4]]"
            ]
          },
          "metadata": {
            "tags": []
          },
          "execution_count": 156
        }
      ]
    },
    {
      "cell_type": "code",
      "metadata": {
        "id": "gb4NYzxF5Tw-"
      },
      "source": [
        "n=[]\n",
        "\n",
        "for i in m:\n",
        "    n.append(i[2])"
      ],
      "execution_count": null,
      "outputs": []
    },
    {
      "cell_type": "code",
      "metadata": {
        "id": "CB7GoSZi5Tw_",
        "outputId": "b29eac7d-e370-48fc-ba02-2b1c246c0c20"
      },
      "source": [
        "n"
      ],
      "execution_count": null,
      "outputs": [
        {
          "output_type": "execute_result",
          "data": {
            "text/plain": [
              "[4, 7, 2]"
            ]
          },
          "metadata": {
            "tags": []
          },
          "execution_count": 158
        }
      ]
    },
    {
      "cell_type": "code",
      "metadata": {
        "id": "BM0moyD_5Tw_",
        "outputId": "4d7b8750-0da2-4a6e-e7f5-f9377c5ec8f5"
      },
      "source": [
        "n=[]\n",
        "\n",
        "for i in m:\n",
        "    n.append(i[2]*2)\n",
        "n"
      ],
      "execution_count": null,
      "outputs": [
        {
          "output_type": "execute_result",
          "data": {
            "text/plain": [
              "[8, 14, 4]"
            ]
          },
          "metadata": {
            "tags": []
          },
          "execution_count": 160
        }
      ]
    },
    {
      "cell_type": "code",
      "metadata": {
        "id": "fz8Au-Ob5Tw_",
        "outputId": "cdedb67a-c444-42c1-acf6-2097a4316bab"
      },
      "source": [
        "#List comprehensan\n",
        "\n",
        "[i[2]*2 for i in m]"
      ],
      "execution_count": null,
      "outputs": [
        {
          "output_type": "execute_result",
          "data": {
            "text/plain": [
              "[8, 14, 4]"
            ]
          },
          "metadata": {
            "tags": []
          },
          "execution_count": 162
        }
      ]
    },
    {
      "cell_type": "code",
      "metadata": {
        "id": "cTpCFUHh5Tw_",
        "outputId": "6d8b2b9b-450c-45aa-a972-b60978b712c8"
      },
      "source": [
        "[{i[2]*2} for i in m]"
      ],
      "execution_count": null,
      "outputs": [
        {
          "output_type": "execute_result",
          "data": {
            "text/plain": [
              "[{8}, {14}, {4}]"
            ]
          },
          "metadata": {
            "tags": []
          },
          "execution_count": 163
        }
      ]
    },
    {
      "cell_type": "code",
      "metadata": {
        "id": "9ULUKDeh5Tw_",
        "outputId": "a8e5f3ec-9b64-42e5-d7a7-03d202532adc"
      },
      "source": [
        "type([{i[2]*2} for i in m])"
      ],
      "execution_count": null,
      "outputs": [
        {
          "output_type": "execute_result",
          "data": {
            "text/plain": [
              "list"
            ]
          },
          "metadata": {
            "tags": []
          },
          "execution_count": 164
        }
      ]
    },
    {
      "cell_type": "code",
      "metadata": {
        "id": "5xVGEWNe5TxA"
      },
      "source": [
        "m=[4,5,6,7,\"NK\"]"
      ],
      "execution_count": null,
      "outputs": []
    },
    {
      "cell_type": "code",
      "metadata": {
        "id": "YyFF2HDw5TxA",
        "outputId": "953d365c-1d53-4f85-b4cd-5a759c91c93f"
      },
      "source": [
        "m"
      ],
      "execution_count": null,
      "outputs": [
        {
          "output_type": "execute_result",
          "data": {
            "text/plain": [
              "[4, 5, 6, 7, 'NK']"
            ]
          },
          "metadata": {
            "tags": []
          },
          "execution_count": 167
        }
      ]
    },
    {
      "cell_type": "code",
      "metadata": {
        "id": "Hm13lbZf5TxA"
      },
      "source": [
        "m.append([4,4,5]) # Append the list as is"
      ],
      "execution_count": null,
      "outputs": []
    },
    {
      "cell_type": "code",
      "metadata": {
        "id": "z6ERFBy15TxA",
        "outputId": "e34b6e38-d0a9-4e36-af6e-6fb8dfb8298e"
      },
      "source": [
        "m"
      ],
      "execution_count": null,
      "outputs": [
        {
          "output_type": "execute_result",
          "data": {
            "text/plain": [
              "[4, 5, 6, 7, 'NK', [4, 4, 5]]"
            ]
          },
          "metadata": {
            "tags": []
          },
          "execution_count": 169
        }
      ]
    },
    {
      "cell_type": "code",
      "metadata": {
        "id": "WtBl0WzP5TxB"
      },
      "source": [
        "m.extend([4,5,6]) # Adds list as element - Ravel Operation"
      ],
      "execution_count": null,
      "outputs": []
    },
    {
      "cell_type": "code",
      "metadata": {
        "id": "s9G3mCAJ5TxB",
        "outputId": "bd139ae6-0a45-4ece-ead1-539a72792eff"
      },
      "source": [
        "m"
      ],
      "execution_count": null,
      "outputs": [
        {
          "output_type": "execute_result",
          "data": {
            "text/plain": [
              "[4, 5, 6, 7, 'NK', [4, 4, 5], 4, 5, 6]"
            ]
          },
          "metadata": {
            "tags": []
          },
          "execution_count": 171
        }
      ]
    },
    {
      "cell_type": "code",
      "metadata": {
        "id": "djRIchkZ5TxB"
      },
      "source": [
        "m.extend([1,2,3,[4,5,6]]) # Sublist added as list in final list"
      ],
      "execution_count": null,
      "outputs": []
    },
    {
      "cell_type": "code",
      "metadata": {
        "id": "K3uIpcNO5TxC",
        "outputId": "d48d1009-4b71-4b48-9a73-1b8d972eca2d"
      },
      "source": [
        "m"
      ],
      "execution_count": null,
      "outputs": [
        {
          "output_type": "execute_result",
          "data": {
            "text/plain": [
              "[4, 5, 6, 7, 'NK', [4, 4, 5], 4, 5, 6, 1, 2, 3, [4, 5, 6]]"
            ]
          },
          "metadata": {
            "tags": []
          },
          "execution_count": 174
        }
      ]
    },
    {
      "cell_type": "code",
      "metadata": {
        "id": "-q1gMPbl5TxC",
        "outputId": "897080e3-c34f-4fcb-89ee-94911cd2458e"
      },
      "source": [
        "m.index(7)"
      ],
      "execution_count": null,
      "outputs": [
        {
          "output_type": "execute_result",
          "data": {
            "text/plain": [
              "3"
            ]
          },
          "metadata": {
            "tags": []
          },
          "execution_count": 175
        }
      ]
    },
    {
      "cell_type": "code",
      "metadata": {
        "id": "qpyNSB555TxC",
        "outputId": "6a629215-e496-48dc-c039-f47347566c09"
      },
      "source": [
        "m.index(799)"
      ],
      "execution_count": null,
      "outputs": [
        {
          "output_type": "error",
          "ename": "ValueError",
          "evalue": "799 is not in list",
          "traceback": [
            "\u001b[1;31m---------------------------------------------------------------------------\u001b[0m",
            "\u001b[1;31mValueError\u001b[0m                                Traceback (most recent call last)",
            "\u001b[1;32m<ipython-input-176-07940caa3293>\u001b[0m in \u001b[0;36m<module>\u001b[1;34m\u001b[0m\n\u001b[1;32m----> 1\u001b[1;33m \u001b[0mm\u001b[0m\u001b[1;33m.\u001b[0m\u001b[0mindex\u001b[0m\u001b[1;33m(\u001b[0m\u001b[1;36m799\u001b[0m\u001b[1;33m)\u001b[0m\u001b[1;33m\u001b[0m\u001b[1;33m\u001b[0m\u001b[0m\n\u001b[0m",
            "\u001b[1;31mValueError\u001b[0m: 799 is not in list"
          ]
        }
      ]
    },
    {
      "cell_type": "code",
      "metadata": {
        "id": "BSw5r0xK5TxC"
      },
      "source": [
        ""
      ],
      "execution_count": null,
      "outputs": []
    },
    {
      "cell_type": "code",
      "metadata": {
        "id": "-2CdIHyo5TxD"
      },
      "source": [
        ""
      ],
      "execution_count": null,
      "outputs": []
    }
  ]
}