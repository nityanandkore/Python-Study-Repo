{
  "nbformat": 4,
  "nbformat_minor": 0,
  "metadata": {
    "kernelspec": {
      "display_name": "Python 3",
      "language": "python",
      "name": "python3"
    },
    "language_info": {
      "codemirror_mode": {
        "name": "ipython",
        "version": 3
      },
      "file_extension": ".py",
      "mimetype": "text/x-python",
      "name": "python",
      "nbconvert_exporter": "python",
      "pygments_lexer": "ipython3",
      "version": "3.7.4"
    },
    "colab": {
      "name": "2. DataCamp_Introduction_To_Importing_Data_In_Python.ipynb",
      "provenance": [],
      "include_colab_link": true
    }
  },
  "cells": [
    {
      "cell_type": "markdown",
      "metadata": {
        "id": "view-in-github",
        "colab_type": "text"
      },
      "source": [
        "<a href=\"https://colab.research.google.com/github/nityanandkore/Python-Study-Repo/blob/master/2.%20DataCamp_Introduction_To_Importing_Data_In_Python.ipynb\" target=\"_parent\"><img src=\"https://colab.research.google.com/assets/colab-badge.svg\" alt=\"Open In Colab\"/></a>"
      ]
    },
    {
      "cell_type": "markdown",
      "metadata": {
        "id": "V8i9SDXwxkVb",
        "colab_type": "text"
      },
      "source": [
        "# Introduction to Importing Data in Python"
      ]
    },
    {
      "cell_type": "markdown",
      "metadata": {
        "id": "hELW4dIOxkVj",
        "colab_type": "text"
      },
      "source": [
        "## Introduction and flat files\n",
        "\n",
        "In this chapter, you'll learn how to import data into Python from all types of flat files, which are a simple and prevalent form of data storage. You've previously learned how to use NumPy and pandas—you will learn how to use these packages to import flat files and customize your imports."
      ]
    },
    {
      "cell_type": "markdown",
      "metadata": {
        "id": "v7r4SjbOxkVr",
        "colab_type": "text"
      },
      "source": [
        "### Exploring your working directory\n",
        "\n",
        "In order to import data into Python, you should first have an idea of what files are in your working directory."
      ]
    },
    {
      "cell_type": "markdown",
      "metadata": {
        "id": "KeP5M1hWxkVz",
        "colab_type": "text"
      },
      "source": [
        "### Importing entire text files\n",
        "In this exercise, you'll be working with the file moby_dick.txt. It is a text file that contains the opening sentences of Moby Dick, one of the great American novels! Here you'll get experience opening a text file, printing its contents to the shell and, finally, closing it.\n",
        "\n",
        "**Instructions**\n",
        "\n",
        "Open the file moby_dick.txt as read-only and store it in the variable file. Make sure to pass the filename enclosed in quotation marks ''.\n",
        "Print the contents of the file to the shell using the print() function. As Hugo showed in the video, you'll need to apply the method read() to the object file.\n",
        "Check whether the file is closed by executing print(file.closed).\n",
        "Close the file using the close() method.\n",
        "Check again that the file is closed as you did above."
      ]
    },
    {
      "cell_type": "code",
      "metadata": {
        "id": "jmUO2uKaxns6",
        "colab_type": "code",
        "colab": {
          "base_uri": "https://localhost:8080/",
          "height": 135
        },
        "outputId": "8b776ebb-ce0c-4ed6-e011-1c0f888a7e51"
      },
      "source": [
        "\n",
        "!rm -rf Python-Study-Repo\n",
        "!git clone https://github.com/nityanandkore/Python-Study-Repo.git"
      ],
      "execution_count": 1,
      "outputs": [
        {
          "output_type": "stream",
          "text": [
            "Cloning into 'Python-Study-Repo'...\n",
            "remote: Enumerating objects: 117, done.\u001b[K\n",
            "remote: Total 117 (delta 0), reused 0 (delta 0), pack-reused 117\u001b[K\n",
            "Receiving objects: 100% (117/117), 10.71 MiB | 30.14 MiB/s, done.\n",
            "Resolving deltas: 100% (51/51), done.\n"
          ],
          "name": "stdout"
        }
      ]
    },
    {
      "cell_type": "code",
      "metadata": {
        "id": "K5Oe8ijuxkV5",
        "colab_type": "code",
        "colab": {
          "base_uri": "https://localhost:8080/",
          "height": 368
        },
        "outputId": "d31230c2-4ac8-4efe-9211-8408767e121a"
      },
      "source": [
        "# Open a file: file\n",
        "file = open('Python-Study-Repo/_datasets/moby_dick.txt', 'r')\n",
        "\n",
        "# Print it\n",
        "print(file.read())\n",
        "\n",
        "# Check whether file is closed\n",
        "print(file.closed)\n",
        "\n",
        "# Close file\n",
        "file.close()\n",
        "\n",
        "# Check whether file is closed\n",
        "print(file.closed)"
      ],
      "execution_count": 2,
      "outputs": [
        {
          "output_type": "stream",
          "text": [
            "CHAPTER 1. Loomings.\n",
            "\n",
            "Call me Ishmael. Some years ago--never mind how long precisely--having\n",
            "little or no money in my purse, and nothing particular to interest me on\n",
            "shore, I thought I would sail about a little and see the watery part of\n",
            "the world. It is a way I have of driving off the spleen and regulating\n",
            "the circulation. Whenever I find myself growing grim about the mouth;\n",
            "whenever it is a damp, drizzly November in my soul; whenever I find\n",
            "myself involuntarily pausing before coffin warehouses, and bringing up\n",
            "the rear of every funeral I meet; and especially whenever my hypos get\n",
            "such an upper hand of me, that it requires a strong moral principle to\n",
            "prevent me from deliberately stepping into the street, and methodically\n",
            "knocking people's hats off--then, I account it high time to get to sea\n",
            "as soon as I can. This is my substitute for pistol and ball. With a\n",
            "philosophical flourish Cato throws himself upon his sword; I quietly\n",
            "take to the ship. There is nothing surprising in this. If they but knew\n",
            "it, almost all men in their degree, some time or other, cherish very\n",
            "nearly the same feelings towards the ocean with me.\n",
            "False\n",
            "True\n"
          ],
          "name": "stdout"
        }
      ]
    },
    {
      "cell_type": "markdown",
      "metadata": {
        "id": "clw1KV0ixkWT",
        "colab_type": "text"
      },
      "source": [
        "### Importing text files line by line\n",
        "\n",
        "For large files, we may not want to print all of their content to the shell: you may wish to print only the first few lines. Enter the readline() method, which allows you to do this. When a file called file is open, you can print out the first line by executing file.readline(). If you execute the same command again, the second line will print, and so on.\n",
        "In the introductory video, Hugo also introduced the concept of a context manager. He showed that you can bind a variable file by using a context manager construct:\n",
        "with open('huck_finn.txt') as file:\n",
        "While still within this construct, the variable file will be bound to open('huck_finn.txt'); thus, to print the file to the shell, all the code you need to execute is:\n",
        "with open('huck_finn.txt') as file:\n",
        "    print(file.readline())\n",
        "You'll now use these tools to print the first few lines of moby_dick.txt!"
      ]
    },
    {
      "cell_type": "markdown",
      "metadata": {
        "id": "RaJXy2ZKxkWY",
        "colab_type": "text"
      },
      "source": [
        "**Instructions**\n",
        "\n",
        "Open moby_dick.txt using the with context manager and the variable file.\n",
        "Print the first three lines of the file to the shell by using readline() three times within the context manager."
      ]
    },
    {
      "cell_type": "code",
      "metadata": {
        "id": "qDw8O2sfxkWb",
        "colab_type": "code",
        "colab": {
          "base_uri": "https://localhost:8080/",
          "height": 123
        },
        "outputId": "97e6cd06-2a3c-471e-deab-83a56ab7eb34"
      },
      "source": [
        "# Read & print the first 3 lines\n",
        "with open('Python-Study-Repo/_datasets/moby_dick.txt') as file:\n",
        "   print(file.readline())\n",
        "   print(file.readline())\n",
        "   print(file.readline())"
      ],
      "execution_count": 3,
      "outputs": [
        {
          "output_type": "stream",
          "text": [
            "CHAPTER 1. Loomings.\n",
            "\n",
            "\n",
            "\n",
            "Call me Ishmael. Some years ago--never mind how long precisely--having\n",
            "\n"
          ],
          "name": "stdout"
        }
      ]
    },
    {
      "cell_type": "markdown",
      "metadata": {
        "id": "JFzyWmvcxkWp",
        "colab_type": "text"
      },
      "source": [
        "### Using NumPy to import flat files\n",
        "In this exercise, you're now going to load the MNIST digit recognition dataset using the numpy function loadtxt() and see just how easy it can be:\n",
        "The first argument will be the filename.\n",
        "The second will be the delimiter which, in this case, is a comma.\n",
        "You can find more information about the MNIST dataset here on the webpage of Yann LeCun, who is currently Director of AI Research at Facebook and Founding Director of the NYU Center for Data Science, among many other things.\n",
        "\n",
        "**Instructions**\n",
        "\n",
        "Fill in the arguments of np.loadtxt() by passing file and a comma ',' for the delimiter.\n",
        "Fill in the argument of print() to print the type of the object digits. Use the function type().\n",
        "Execute the rest of the code to visualize one of the rows of the data."
      ]
    },
    {
      "cell_type": "code",
      "metadata": {
        "id": "aEalpKS6xkWs",
        "colab_type": "code",
        "colab": {
          "base_uri": "https://localhost:8080/",
          "height": 35
        },
        "outputId": "5cdcb525-729c-4662-e111-fd6a4e5a8b6c"
      },
      "source": [
        "# Import package\n",
        "import numpy as np\n",
        "\n",
        "# Assign filename to variable: file\n",
        "file = 'Python-Study-Repo/_datasets/digits.csv'\n",
        "\n",
        "# Load file as array: digits\n",
        "digits = np.loadtxt(file, delimiter=',')\n",
        "\n",
        "# Print datatype of digits\n",
        "print(type(digits))\n",
        "\n",
        "# Select and reshape a row\n",
        "im = digits[21, 1:]"
      ],
      "execution_count": 4,
      "outputs": [
        {
          "output_type": "stream",
          "text": [
            "<class 'numpy.ndarray'>\n"
          ],
          "name": "stdout"
        }
      ]
    },
    {
      "cell_type": "markdown",
      "metadata": {
        "id": "cK6_azcixkW8",
        "colab_type": "text"
      },
      "source": [
        "### Customizing your NumPy import\n",
        "What if there are rows, such as a header, that you don't want to import? What if your file has a delimiter other than a comma? What if you only wish to import particular columns?\n",
        "There are a number of arguments that np.loadtxt() takes that you'll find useful: \n",
        "delimiter changes the delimiter that loadtxt() is expecting.\n",
        "You can use ',' for comma-delimited.\n",
        "You can use '\\t' for tab-delimited. \n",
        "skiprows allows you to specify how many rows (not indices) you wish to skip\n",
        "usecols takes a list of the indices of the columns you wish to keep.\n",
        "The file that you'll be importing, digits_header.txt, has a header and is tab-delimited.\n",
        "\n",
        "**Instructions**\n",
        "\n",
        "Complete the arguments of np.loadtxt(): the file you're importing is tab-delimited, you want to skip the first row and you only want to import the first and third columns.\n",
        "Complete the argument of the print() call in order to print the entire array that you just imported."
      ]
    },
    {
      "cell_type": "code",
      "metadata": {
        "id": "wEJesJvVxkXA",
        "colab_type": "code",
        "colab": {
          "base_uri": "https://localhost:8080/",
          "height": 1000
        },
        "outputId": "e3ad8d2e-16bc-402c-ad6c-85d5d7307e02"
      },
      "source": [
        "# Import numpy\n",
        "import numpy as np\n",
        "\n",
        "# Assign the filename: file\n",
        "file = 'Python-Study-Repo/_datasets/digits_header.txt'\n",
        "\n",
        "# Load the data: data\n",
        "data = np.loadtxt(file, delimiter='\\t', skiprows=1, usecols=[0,2])\n",
        "\n",
        "# Print data\n",
        "print(data)\n"
      ],
      "execution_count": 5,
      "outputs": [
        {
          "output_type": "stream",
          "text": [
            "[[1. 0.]\n",
            " [0. 0.]\n",
            " [1. 0.]\n",
            " [4. 0.]\n",
            " [0. 0.]\n",
            " [0. 0.]\n",
            " [7. 0.]\n",
            " [3. 0.]\n",
            " [5. 0.]\n",
            " [3. 0.]\n",
            " [8. 0.]\n",
            " [9. 0.]\n",
            " [1. 0.]\n",
            " [3. 0.]\n",
            " [3. 0.]\n",
            " [1. 0.]\n",
            " [2. 0.]\n",
            " [0. 0.]\n",
            " [7. 0.]\n",
            " [5. 0.]\n",
            " [8. 0.]\n",
            " [6. 0.]\n",
            " [2. 0.]\n",
            " [0. 0.]\n",
            " [2. 0.]\n",
            " [3. 0.]\n",
            " [6. 0.]\n",
            " [9. 0.]\n",
            " [9. 0.]\n",
            " [7. 0.]\n",
            " [8. 0.]\n",
            " [9. 0.]\n",
            " [4. 0.]\n",
            " [9. 0.]\n",
            " [2. 0.]\n",
            " [1. 0.]\n",
            " [3. 0.]\n",
            " [1. 0.]\n",
            " [1. 0.]\n",
            " [4. 0.]\n",
            " [9. 0.]\n",
            " [1. 0.]\n",
            " [4. 0.]\n",
            " [4. 0.]\n",
            " [2. 0.]\n",
            " [6. 0.]\n",
            " [3. 0.]\n",
            " [7. 0.]\n",
            " [7. 0.]\n",
            " [4. 0.]\n",
            " [7. 0.]\n",
            " [5. 0.]\n",
            " [1. 0.]\n",
            " [9. 0.]\n",
            " [0. 0.]\n",
            " [2. 0.]\n",
            " [2. 0.]\n",
            " [3. 0.]\n",
            " [9. 0.]\n",
            " [1. 0.]\n",
            " [1. 0.]\n",
            " [1. 0.]\n",
            " [5. 0.]\n",
            " [0. 0.]\n",
            " [6. 0.]\n",
            " [3. 0.]\n",
            " [4. 0.]\n",
            " [8. 0.]\n",
            " [1. 0.]\n",
            " [0. 0.]\n",
            " [3. 0.]\n",
            " [9. 0.]\n",
            " [6. 0.]\n",
            " [2. 0.]\n",
            " [6. 0.]\n",
            " [4. 0.]\n",
            " [7. 0.]\n",
            " [1. 0.]\n",
            " [4. 0.]\n",
            " [1. 0.]\n",
            " [5. 0.]\n",
            " [4. 0.]\n",
            " [8. 0.]\n",
            " [9. 0.]\n",
            " [2. 0.]\n",
            " [9. 0.]\n",
            " [9. 0.]\n",
            " [8. 0.]\n",
            " [9. 0.]\n",
            " [6. 0.]\n",
            " [3. 0.]\n",
            " [6. 0.]\n",
            " [4. 0.]\n",
            " [6. 0.]\n",
            " [2. 0.]\n",
            " [9. 0.]\n",
            " [1. 0.]\n",
            " [2. 0.]\n",
            " [0. 0.]\n",
            " [5. 0.]]\n"
          ],
          "name": "stdout"
        }
      ]
    },
    {
      "cell_type": "markdown",
      "metadata": {
        "id": "oES9YB_cxkXQ",
        "colab_type": "text"
      },
      "source": [
        "### Importing different datatypes\n",
        "The file seaslug.txt\n",
        "has a text header, consisting of strings\n",
        "is tab-delimited.\n",
        "These data consists of percentage of sea slug larvae that had metamorphosed in a given time period. Read more here.\n",
        "Due to the header, if you tried to import it as-is using np.loadtxt(), Python would throw you a ValueError and tell you that it could not convert string to float. There are two ways to deal with this: firstly, you can set the data type argument dtype equal to str (for string).\n",
        "Alternatively, you can skip the first row as we have seen before, using the skiprows argument.\n",
        "\n",
        "**Instructions**\n",
        "\n",
        "Complete the first call to np.loadtxt() by passing file as the first argument.\n",
        "Execute print(data[0]) to print the first element of data.\n",
        "Complete the second call to np.loadtxt(). The file you're importing is tab-delimited, the datatype is float, and you want to skip the first row.\n",
        "Print the 10th element of data_float by completing the print() command. Be guided by the previous print() call.\n",
        "Execute the rest of the code to visualize the data."
      ]
    },
    {
      "cell_type": "code",
      "metadata": {
        "id": "6J3xJpnMxkXW",
        "colab_type": "code",
        "colab": {
          "base_uri": "https://localhost:8080/",
          "height": 315
        },
        "outputId": "abf4508c-1bed-465f-9781-24c025eb570d"
      },
      "source": [
        "# Assign filename: file\n",
        "file = 'Python-Study-Repo/_datasets/seaslug.txt'\n",
        "\n",
        "# Import file: data\n",
        "data = np.loadtxt(file, delimiter='\\t', dtype=str)\n",
        "\n",
        "# Print the first element of data\n",
        "print(data[0])\n",
        "\n",
        "# Import data as floats and skip the first row: data_float\n",
        "data_float = np.loadtxt(file, delimiter='\\t', dtype=float, skiprows=1)\n",
        "\n",
        "# Print the 10th element of data_float\n",
        "print(data_float[9])\n",
        "\n",
        "# Plot a scatterplot of the data\n",
        "import matplotlib.pyplot as plt\n",
        "plt.scatter(data_float[:, 0], data_float[:, 1])\n",
        "plt.xlabel('time (min.)')\n",
        "plt.ylabel('percentage of larvae')\n",
        "plt.show()\n"
      ],
      "execution_count": 6,
      "outputs": [
        {
          "output_type": "stream",
          "text": [
            "['Time' 'Percent']\n",
            "[0.    0.357]\n"
          ],
          "name": "stdout"
        },
        {
          "output_type": "display_data",
          "data": {
            "image/png": "[encoded data removed]",
            "text/plain": [
              "<Figure size 432x288 with 1 Axes>"
            ]
          },
          "metadata": {
            "tags": []
          }
        }
      ]
    },
    {
      "cell_type": "markdown",
      "metadata": {
        "id": "04eCIRJVxkXm",
        "colab_type": "text"
      },
      "source": [
        "### Working with mixed datatypes (1)\n",
        "Much of the time you will need to import datasets which have different datatypes in different columns; one column may contain strings and another floats, for example. The function np.loadtxt() will freak at this. There is another function, np.genfromtxt(), which can handle such structures. If we pass dtype=None to it, it will figure out what types each column should be.\n",
        "Import 'titanic.csv' using the function np.genfromtxt() as follows:\n",
        "data = np.genfromtxt('titanic.csv', delimiter=',', names=True, dtype=None)\n",
        "Here, the first argument is the filename, the second specifies the delimiter , and the third argument names tells us there is a header. Because the data are of different types, data is an object called a structured array. Because numpy arrays have to contain elements that are all the same type, the structured array solves this by being a 1D array, where each element of the array is a row of the flat file imported. You can test this by checking out the array's shape in the shell by executing np.shape(data).\n",
        "Accessing rows and columns of structured arrays is super-intuitive: to get the ith row, merely execute data[i] and to get the column with name 'Fare', execute data['Fare'].\n",
        "After importing the Titanic data as a structured array (as per the instructions above), print the entire column with the name Survived to the shell. What are the last 4 values of this column?"
      ]
    },
    {
      "cell_type": "code",
      "metadata": {
        "id": "otpgoWxRxkXr",
        "colab_type": "code",
        "colab": {
          "base_uri": "https://localhost:8080/",
          "height": 754
        },
        "outputId": "8b54662c-eea8-4a43-a8f0-2b34e8074565"
      },
      "source": [
        "data = np.genfromtxt('Python-Study-Repo/_datasets/titanic.csv', delimiter=',', names=True, dtype=None, encoding=None)\n",
        "\n",
        "print(np.shape(data))\n",
        "\n",
        "data['Survived']"
      ],
      "execution_count": 7,
      "outputs": [
        {
          "output_type": "stream",
          "text": [
            "(891,)\n"
          ],
          "name": "stdout"
        },
        {
          "output_type": "execute_result",
          "data": {
            "text/plain": [
              "array([0, 1, 1, 1, 0, 0, 0, 0, 1, 1, 1, 1, 0, 0, 0, 1, 0, 1, 0, 1, 0, 1,\n",
              "       1, 1, 0, 1, 0, 0, 1, 0, 0, 1, 1, 0, 0, 0, 1, 0, 0, 1, 0, 0, 0, 1,\n",
              "       1, 0, 0, 1, 0, 0, 0, 0, 1, 1, 0, 1, 1, 0, 1, 0, 0, 1, 0, 0, 0, 1,\n",
              "       1, 0, 1, 0, 0, 0, 0, 0, 1, 0, 0, 0, 1, 1, 0, 1, 1, 0, 1, 1, 0, 0,\n",
              "       1, 0, 0, 0, 0, 0, 0, 0, 0, 1, 1, 0, 0, 0, 0, 0, 0, 0, 1, 1, 0, 1,\n",
              "       0, 0, 0, 0, 0, 0, 0, 0, 0, 0, 0, 0, 0, 1, 0, 1, 0, 1, 1, 0, 0, 0,\n",
              "       0, 1, 0, 0, 1, 0, 0, 0, 0, 1, 1, 0, 0, 0, 1, 0, 0, 0, 0, 1, 0, 0,\n",
              "       0, 0, 1, 0, 0, 0, 0, 1, 0, 0, 0, 1, 1, 0, 0, 0, 0, 0, 1, 0, 0, 0,\n",
              "       0, 0, 0, 0, 0, 0, 0, 1, 1, 0, 1, 1, 0, 0, 1, 0, 1, 1, 1, 1, 0, 0,\n",
              "       1, 0, 0, 0, 0, 0, 1, 0, 0, 1, 1, 1, 0, 1, 0, 0, 0, 1, 1, 0, 1, 0,\n",
              "       1, 0, 0, 0, 1, 0, 1, 0, 0, 0, 1, 0, 0, 1, 0, 0, 0, 1, 0, 0, 0, 1,\n",
              "       0, 0, 0, 0, 0, 1, 1, 0, 0, 0, 0, 0, 0, 1, 1, 1, 1, 1, 0, 1, 0, 0,\n",
              "       0, 0, 0, 1, 1, 1, 0, 1, 1, 0, 1, 1, 0, 0, 0, 1, 0, 0, 0, 1, 0, 0,\n",
              "       1, 0, 1, 1, 1, 1, 0, 0, 0, 0, 0, 0, 1, 1, 1, 1, 0, 1, 0, 1, 1, 1,\n",
              "       0, 1, 1, 1, 0, 0, 0, 1, 1, 0, 1, 1, 0, 0, 1, 1, 0, 1, 0, 1, 1, 1,\n",
              "       1, 0, 0, 0, 1, 0, 0, 1, 1, 0, 1, 1, 0, 0, 0, 1, 1, 1, 1, 0, 0, 0,\n",
              "       0, 0, 0, 0, 1, 0, 1, 1, 0, 0, 0, 0, 0, 0, 1, 1, 1, 1, 1, 0, 0, 0,\n",
              "       0, 1, 1, 0, 0, 0, 1, 1, 0, 1, 0, 0, 0, 1, 0, 1, 1, 1, 0, 1, 1, 0,\n",
              "       0, 0, 0, 1, 1, 0, 0, 0, 0, 0, 0, 1, 0, 0, 0, 0, 1, 0, 1, 0, 1, 1,\n",
              "       0, 0, 0, 0, 0, 0, 0, 0, 1, 1, 0, 1, 1, 1, 1, 0, 0, 1, 0, 1, 0, 0,\n",
              "       1, 0, 0, 1, 1, 1, 1, 1, 1, 1, 0, 0, 0, 1, 0, 1, 0, 1, 1, 0, 1, 0,\n",
              "       0, 0, 0, 0, 0, 0, 0, 1, 0, 0, 1, 1, 0, 0, 0, 0, 0, 1, 0, 0, 0, 1,\n",
              "       1, 0, 1, 0, 0, 1, 0, 0, 0, 0, 0, 0, 1, 0, 0, 0, 0, 0, 0, 0, 1, 0,\n",
              "       1, 1, 0, 1, 1, 0, 1, 1, 0, 0, 1, 0, 1, 0, 1, 0, 0, 1, 0, 0, 1, 0,\n",
              "       0, 0, 1, 0, 0, 1, 0, 1, 0, 1, 0, 1, 1, 0, 0, 1, 0, 0, 1, 1, 0, 1,\n",
              "       1, 0, 0, 1, 1, 0, 1, 0, 1, 1, 0, 0, 0, 0, 0, 0, 0, 0, 0, 1, 1, 1,\n",
              "       1, 1, 0, 0, 1, 1, 0, 1, 1, 1, 0, 0, 0, 1, 0, 1, 0, 0, 0, 1, 0, 0,\n",
              "       0, 0, 1, 0, 0, 1, 1, 0, 0, 0, 1, 0, 0, 1, 1, 1, 0, 0, 1, 0, 0, 1,\n",
              "       0, 0, 1, 0, 0, 1, 1, 0, 0, 0, 0, 1, 0, 0, 1, 0, 1, 0, 0, 1, 0, 0,\n",
              "       0, 0, 0, 1, 0, 1, 1, 1, 0, 1, 0, 1, 0, 1, 0, 1, 0, 0, 0, 0, 0, 0,\n",
              "       1, 0, 0, 0, 1, 0, 0, 0, 0, 1, 1, 0, 0, 1, 0, 0, 0, 1, 0, 1, 0, 1,\n",
              "       0, 0, 0, 0, 0, 0, 0, 1, 1, 1, 1, 0, 0, 0, 0, 1, 0, 0, 1, 1, 0, 0,\n",
              "       0, 0, 1, 1, 1, 1, 1, 0, 1, 0, 0, 0, 1, 1, 0, 0, 1, 0, 0, 0, 1, 0,\n",
              "       1, 1, 0, 0, 1, 0, 0, 0, 0, 0, 0, 1, 0, 0, 1, 0, 1, 0, 1, 0, 0, 1,\n",
              "       0, 0, 1, 1, 0, 0, 1, 1, 0, 0, 0, 1, 0, 0, 1, 1, 0, 1, 0, 0, 0, 0,\n",
              "       0, 0, 0, 0, 1, 0, 0, 1, 0, 1, 1, 1, 0, 0, 0, 0, 1, 0, 1, 0, 0, 0,\n",
              "       0, 0, 0, 0, 1, 1, 0, 0, 0, 1, 1, 1, 1, 0, 0, 0, 0, 1, 0, 0, 0, 0,\n",
              "       0, 0, 0, 0, 0, 0, 1, 1, 0, 1, 0, 0, 0, 1, 1, 1, 1, 1, 0, 0, 0, 1,\n",
              "       0, 0, 1, 1, 0, 0, 1, 0, 0, 0, 0, 0, 0, 1, 0, 0, 0, 1, 0, 1, 1, 1,\n",
              "       1, 0, 0, 0, 1, 0, 0, 1, 1, 0, 0, 1, 0, 1, 0, 0, 1, 1, 0, 0, 0, 1,\n",
              "       1, 0, 0, 0, 0, 0, 0, 1, 0, 1, 0])"
            ]
          },
          "metadata": {
            "tags": []
          },
          "execution_count": 7
        }
      ]
    },
    {
      "cell_type": "markdown",
      "metadata": {
        "id": "KvPsI1EGxkX3",
        "colab_type": "text"
      },
      "source": [
        "### Working with mixed datatypes (2)\n",
        "You have just used np.genfromtxt() to import data containing mixed datatypes. There is also another function np.recfromcsv() that behaves similarly to np.genfromtxt(), except that its default dtype is None. In this exercise, you'll practice using this to achieve the same result.\n",
        "\n",
        "**Instructions**\n",
        "\n",
        "Import titanic.csv using the function np.recfromcsv() and assign it to the variable, d. You'll only need to pass file to it because it has the defaults delimiter=',' and names=True in addition to dtype=None!\n",
        "Run the remaining code to print the first three entries of the resulting array d"
      ]
    },
    {
      "cell_type": "code",
      "metadata": {
        "id": "iZ70OB3lxkX7",
        "colab_type": "code",
        "colab": {
          "base_uri": "https://localhost:8080/",
          "height": 70
        },
        "outputId": "a4d6beeb-cd5f-4cd4-fbd2-c3d3ed80a2d6"
      },
      "source": [
        "# Assign the filename: file\n",
        "file = 'Python-Study-Repo/_datasets/titanic.csv'\n",
        "\n",
        "# Import file using np.recfromcsv: d\n",
        "d = np.recfromcsv(file, encoding=None)\n",
        "\n",
        "# Print out first three entries of d\n",
        "print(d[:3])"
      ],
      "execution_count": 9,
      "outputs": [
        {
          "output_type": "stream",
          "text": [
            "[(1, 0, 3, 'male', 22., 1, 0, 'A/5 21171',  7.25  , '', 'S')\n",
            " (2, 1, 1, 'female', 38., 1, 0, 'PC 17599', 71.2833, 'C85', 'C')\n",
            " (3, 1, 3, 'female', 26., 0, 0, 'STON/O2. 3101282',  7.925 , '', 'S')]\n"
          ],
          "name": "stdout"
        }
      ]
    },
    {
      "cell_type": "markdown",
      "metadata": {
        "id": "Aagpo5E-xkYH",
        "colab_type": "text"
      },
      "source": [
        "# Using pandas to import flat files as DataFrames (1)\n",
        "In the last exercise, you were able to import flat files containing columns with different datatypes as numpy arrays. However, the DataFrame object in pandas is a more appropriate structure in which to store such data and, thankfully, we can easily import files of mixed data types as DataFrames using the pandas functions read_csv() and read_table().\n",
        "\n",
        "**Instruciton**\n",
        "\n",
        "Import the pandas package using the alias pd.\n",
        "Read titanic.csv into a DataFrame called df. The file name is already stored in the file object.\n",
        "In a print() call, view the head of the DataFrame."
      ]
    },
    {
      "cell_type": "code",
      "metadata": {
        "id": "lPJKfWk-xkYf",
        "colab_type": "code",
        "colab": {
          "base_uri": "https://localhost:8080/",
          "height": 158
        },
        "outputId": "d193f516-3889-400e-fcb7-e580c38cd4e6"
      },
      "source": [
        "# Import pandas as pd\n",
        "\n",
        "import pandas as pd\n",
        "\n",
        "# Assign the filename: file\n",
        "file = 'Python-Study-Repo/_datasets/titanic.csv'\n",
        "\n",
        "# Read the file into a DataFrame: df\n",
        "df = pd.read_csv(file)\n",
        "\n",
        "# View the head of the DataFrame\n",
        "print(df.head())\n"
      ],
      "execution_count": 10,
      "outputs": [
        {
          "output_type": "stream",
          "text": [
            "   PassengerId  Survived  Pclass  ...     Fare  Cabin  Embarked\n",
            "0            1         0       3  ...   7.2500    NaN         S\n",
            "1            2         1       1  ...  71.2833    C85         C\n",
            "2            3         1       3  ...   7.9250    NaN         S\n",
            "3            4         1       1  ...  53.1000   C123         S\n",
            "4            5         0       3  ...   8.0500    NaN         S\n",
            "\n",
            "[5 rows x 11 columns]\n"
          ],
          "name": "stdout"
        }
      ]
    },
    {
      "cell_type": "markdown",
      "metadata": {
        "id": "SG2c3CRfxkZN",
        "colab_type": "text"
      },
      "source": [
        "# Using pandas to import flat files as DataFrames (2)\n",
        "In the last exercise, you were able to import flat files into a pandas DataFrame. As a bonus, it is then straightforward to retrieve the corresponding numpy array using the attribute values. You'll now have a chance to do this using the MNIST dataset, which is available as digits.csv.\n",
        "\n",
        "**Instruciton**\n",
        "\n",
        "Import the first 5 rows of the file into a DataFrame using the function pd.read_csv() and assign the result to data. You'll need to use the arguments nrows and header (there is no header in this file).\n",
        "Build a numpy array from the resulting DataFrame in data and assign to data_array.\n",
        "Execute print(type(data_array)) to print the datatype of data_array"
      ]
    },
    {
      "cell_type": "code",
      "metadata": {
        "id": "phU5ibmaxkZQ",
        "colab_type": "code",
        "colab": {
          "base_uri": "https://localhost:8080/",
          "height": 35
        },
        "outputId": "c023c87c-5ca8-4569-a824-80359eb8e688"
      },
      "source": [
        "# Assign the filename: file\n",
        "file = 'Python-Study-Repo/_datasets/digits.csv'\n",
        "\n",
        "# Read the first 5 rows of the file into a DataFrame: data\n",
        "\n",
        "data= pd.read_csv(file,nrows=5,header=None)\n",
        "\n",
        "# Build a numpy array from the DataFrame: data_array\n",
        "data_array=data.values\n",
        "\n",
        "# Print the datatype of data_array to the shell\n",
        "print(type(data_array))"
      ],
      "execution_count": 11,
      "outputs": [
        {
          "output_type": "stream",
          "text": [
            "<class 'numpy.ndarray'>\n"
          ],
          "name": "stdout"
        }
      ]
    },
    {
      "cell_type": "markdown",
      "metadata": {
        "id": "LwUcnPGbxkZb",
        "colab_type": "text"
      },
      "source": [
        "# Customizing your pandas import\n",
        "The pandas package is also great at dealing with many of the issues you will encounter when importing data as a data scientist, such as comments occurring in flat files, empty lines and missing values. Note that missing values are also commonly referred to as NA or NaN. To wrap up this chapter, you're now going to import a slightly corrupted copy of the Titanic dataset titanic_corrupt.txt, which\n",
        "contains comments after the character '#'\n",
        "is tab-delimited.\n",
        "\n",
        "**Instructions**\n",
        "\n",
        "Complete the sep (the pandas version of delim), comment and na_values arguments of pd.read_csv(). comment takes characters that comments occur after in the file, which in this case is '#'. na_values takes a list of strings to recognize as NA/NaN, in this case the string 'Nothing'.\n",
        "Execute the rest of the code to print the head of the resulting DataFrame and plot the histogram of the 'Age' of passengers aboard the Titanic."
      ]
    },
    {
      "cell_type": "code",
      "metadata": {
        "id": "C-IEIWugxkZg",
        "colab_type": "code",
        "colab": {
          "base_uri": "https://localhost:8080/",
          "height": 436
        },
        "outputId": "c0d6d752-71ac-4ca8-f408-4d957fa8b4b1"
      },
      "source": [
        "# Import matplotlib.pyplot as plt\n",
        "import matplotlib.pyplot as plt\n",
        "\n",
        "# Assign filename: file\n",
        "file = 'Python-Study-Repo/_datasets/titanic_corrupt.txt'\n",
        "\n",
        "# Import file: data\n",
        "data = pd.read_csv(file, sep='\\t', comment='#', na_values='Nothing')\n",
        "\n",
        "# Print the head of the DataFrame\n",
        "print(data.head())\n",
        "\n",
        "# Plot 'Age' variable in a histogram\n",
        "pd.DataFrame.hist(data[['Age']])\n",
        "plt.xlabel('Age (years)')\n",
        "plt.ylabel('count')\n",
        "plt.show()"
      ],
      "execution_count": 12,
      "outputs": [
        {
          "output_type": "stream",
          "text": [
            "   PassengerId  Survived  Pclass  ...     Fare  Cabin    Embarked\n",
            "0            1         0       3  ...   7.2500    NaN  S #dfafdad\n",
            "1            2         1       1  ...  71.2833    C85           C\n",
            "2            3         1       3  ...   7.9250    NaN           S\n",
            "3            4         1       1  ...  53.1000   C123           S\n",
            "4            5         0       3  ...   8.0500    NaN           S\n",
            "\n",
            "[5 rows x 11 columns]\n"
          ],
          "name": "stdout"
        },
        {
          "output_type": "display_data",
          "data": {
            "image/png": "[encoded data removed]",
            "text/plain": [
              "<Figure size 432x288 with 1 Axes>"
            ]
          },
          "metadata": {
            "tags": []
          }
        }
      ]
    },
    {
      "cell_type": "markdown",
      "metadata": {
        "id": "ih-VBOE-xkZr",
        "colab_type": "text"
      },
      "source": [
        "# Loading a pickled file\n",
        "There are a number of datatypes that cannot be saved easily to flat files, such as lists and dictionaries. If you want your files to be human readable, you may want to save them as text files in a clever manner. JSONs, which you will see in a later chapter, are appropriate for Python dictionaries.\n",
        "However, if you merely want to be able to import them into Python, you can serialize them. All this means is converting the object into a sequence of bytes, or a bytestream.\n",
        "In this exercise, you'll import the pickle package, open a previously pickled data structure from a file and load it.\n",
        "\n",
        "**Instructions**\n",
        "\n",
        "\n",
        "Import the pickle package.\n",
        "Complete the second argument of open() so that it is read only for a binary file. This argument will be a string of two letters, one signifying 'read only', the other 'binary'.\n",
        "Pass the correct argument to pickle.load(); it should use the variable that is bound to open.\n",
        "Print the data, d.\n",
        "Print the datatype of d; take your mind back to your previous use of the function type()"
      ]
    },
    {
      "cell_type": "code",
      "metadata": {
        "id": "tHcMmF3axkZv",
        "colab_type": "code",
        "colab": {
          "base_uri": "https://localhost:8080/",
          "height": 237
        },
        "outputId": "12fba992-fd01-486e-c492-716c775adacb"
      },
      "source": [
        "# Import pickle package\n",
        "import pickle\n",
        "\n",
        "# Open pickle file and load data: d\n",
        "with open('Python-Study-Repo/_datasets/data.pkl', 'rb') as file:\n",
        "    d = pickle.load(file)\n",
        "\n",
        "# Print d\n",
        "print(d)\n",
        "\n",
        "# Print datatype of d\n",
        "print(type(d))"
      ],
      "execution_count": 13,
      "outputs": [
        {
          "output_type": "error",
          "ename": "FileNotFoundError",
          "evalue": "ignored",
          "traceback": [
            "\u001b[0;31m---------------------------------------------------------------------------\u001b[0m",
            "\u001b[0;31mFileNotFoundError\u001b[0m                         Traceback (most recent call last)",
            "\u001b[0;32m<ipython-input-13-1a2db67e3951>\u001b[0m in \u001b[0;36m<module>\u001b[0;34m()\u001b[0m\n\u001b[1;32m      2\u001b[0m \u001b[0;34m\u001b[0m\u001b[0m\n\u001b[1;32m      3\u001b[0m \u001b[0;31m# Open pickle file and load data: d\u001b[0m\u001b[0;34m\u001b[0m\u001b[0;34m\u001b[0m\u001b[0;34m\u001b[0m\u001b[0m\n\u001b[0;32m----> 4\u001b[0;31m \u001b[0;32mwith\u001b[0m \u001b[0mopen\u001b[0m\u001b[0;34m(\u001b[0m\u001b[0;34m'Python-Study-Repo_datasets/data.pkl'\u001b[0m\u001b[0;34m,\u001b[0m \u001b[0;34m'rb'\u001b[0m\u001b[0;34m)\u001b[0m \u001b[0;32mas\u001b[0m \u001b[0mfile\u001b[0m\u001b[0;34m:\u001b[0m\u001b[0;34m\u001b[0m\u001b[0;34m\u001b[0m\u001b[0m\n\u001b[0m\u001b[1;32m      5\u001b[0m     \u001b[0md\u001b[0m \u001b[0;34m=\u001b[0m \u001b[0mpickle\u001b[0m\u001b[0;34m.\u001b[0m\u001b[0mload\u001b[0m\u001b[0;34m(\u001b[0m\u001b[0mfile\u001b[0m\u001b[0;34m)\u001b[0m\u001b[0;34m\u001b[0m\u001b[0;34m\u001b[0m\u001b[0m\n\u001b[1;32m      6\u001b[0m \u001b[0;34m\u001b[0m\u001b[0m\n",
            "\u001b[0;31mFileNotFoundError\u001b[0m: [Errno 2] No such file or directory: 'Python-Study-Repo_datasets/data.pkl'"
          ]
        }
      ]
    },
    {
      "cell_type": "markdown",
      "metadata": {
        "id": "DOBJqLT3xkZ0",
        "colab_type": "text"
      },
      "source": [
        "{'June': '69.4', 'Aug': '85', 'Airline': '8', 'Mar': '84.4'}\n",
        "<class 'dict'>"
      ]
    },
    {
      "cell_type": "markdown",
      "metadata": {
        "id": "O7CQVzahxkZ3",
        "colab_type": "text"
      },
      "source": [
        "# Listing sheets in Excel files\n",
        "Whether you like it or not, any working data scientist will need to deal with Excel spreadsheets at some point in time. You won't always want to do so in Excel, however!\n",
        "Here, you'll learn how to use pandas to import Excel spreadsheets and how to list the names of the sheets in any loaded .xlsx file.\n",
        "Recall from the video that, given an Excel file imported into a variable spreadsheet, you can retrieve a list of the sheet names using the attribute spreadsheet.sheet_names.\n",
        "Specifically, you'll be loading and checking out the spreadsheet 'battledeath.xlsx', modified from the Peace Research Institute Oslo's (PRIO) dataset. This data contains age-adjusted mortality rates due to war in various countries over several years.\n",
        "\n",
        "**Instructions**\n",
        "\n",
        "Assign the spreadsheet filename (provided above) to the variable file.\n",
        "Pass the correct argument to pd.ExcelFile() to load the file using pandas, assigning the result to the variable xls.\n",
        "Print the sheetnames of the Excel spreadsheet by passing the necessary argument to the print() function."
      ]
    },
    {
      "cell_type": "code",
      "metadata": {
        "id": "Vif6pddkxkZ5",
        "colab_type": "code",
        "colab": {
          "base_uri": "https://localhost:8080/",
          "height": 35
        },
        "outputId": "3ef17733-da98-4662-e5cf-b64e96be3997"
      },
      "source": [
        "# Import pandas\n",
        "import pandas as pd\n",
        "\n",
        "# Assign spreadsheet filename: file\n",
        "file = 'Python-Study-Repo/_datasets/battledeath.xlsx'\n",
        "\n",
        "# Load spreadsheet: xls\n",
        "xls = pd.ExcelFile(file)\n",
        "\n",
        "# Print sheet names\n",
        "print(xls.sheet_names)"
      ],
      "execution_count": 14,
      "outputs": [
        {
          "output_type": "stream",
          "text": [
            "['2002', '2004']\n"
          ],
          "name": "stdout"
        }
      ]
    },
    {
      "cell_type": "markdown",
      "metadata": {
        "id": "w0TBtrLCxkaD",
        "colab_type": "text"
      },
      "source": [
        "# Importing sheets from Excel files\n",
        "In the previous exercises, you saw that the Excel file contains two sheets, '2002' and '2004'. The next step is to import these.\n",
        "In this exercise, you'll learn how to import any given sheet of your loaded .xlsx file as a DataFrame. You'll be able to do so by specifying either the sheet's name or its index.\n",
        "The spreadsheet 'battledeath.xlsx' is already loaded as xls.\n",
        "\n",
        "**Instructions**\n",
        "\n",
        "Load the sheet '2004' into the DataFrame df1 using its name as a string.\n",
        "Print the head of df1 to the shell.\n",
        "Load the sheet 2002 into the DataFrame df2 using its index (0).\n",
        "Print the head of df2 to the shell."
      ]
    },
    {
      "cell_type": "code",
      "metadata": {
        "id": "87LtJLqfxkaF",
        "colab_type": "code",
        "colab": {
          "base_uri": "https://localhost:8080/",
          "height": 228
        },
        "outputId": "bb4261c2-d3b4-4101-dda0-8d8d5d8cbd12"
      },
      "source": [
        "# Load a sheet into a DataFrame by name: df1\n",
        "df1 = xls.parse('2004')\n",
        "\n",
        "# Print the head of the DataFrame df1\n",
        "print(df1.head())\n",
        "\n",
        "# Load a sheet into a DataFrame by index: df2\n",
        "df2 = xls.parse(0)\n",
        "\n",
        "# Print the head of the DataFrame df2\n",
        "print(df2.head())"
      ],
      "execution_count": 15,
      "outputs": [
        {
          "output_type": "stream",
          "text": [
            "  War(country)      2004\n",
            "0  Afghanistan  9.451028\n",
            "1      Albania  0.130354\n",
            "2      Algeria  3.407277\n",
            "3      Andorra  0.000000\n",
            "4       Angola  2.597931\n",
            "  War, age-adjusted mortality due to       2002\n",
            "0                        Afghanistan  36.083990\n",
            "1                            Albania   0.128908\n",
            "2                            Algeria  18.314120\n",
            "3                            Andorra   0.000000\n",
            "4                             Angola  18.964560\n"
          ],
          "name": "stdout"
        }
      ]
    },
    {
      "cell_type": "markdown",
      "metadata": {
        "id": "byZoD3obxkaN",
        "colab_type": "text"
      },
      "source": [
        "# Customizing your spreadsheet import\n",
        "Here, you'll parse your spreadsheets and use additional arguments to skip rows, rename columns and select only particular columns.\n",
        "The spreadsheet 'battledeath.xlsx' is already loaded as xls.\n",
        "As before, you'll use the method parse(). This time, however, you'll add the additional arguments skiprows, names and usecols. These skip rows, name the columns and designate which columns to parse, respectively. All these arguments can be assigned to lists containing the specific row numbers, strings and column numbers, as appropriate.\n",
        "\n",
        "**Instructions**\n",
        "\n",
        "Parse the first sheet by index. In doing so, skip the first row of data and name the columns 'Country' and 'AAM due to War (2002)' using the argument names. The values passed to skiprows and names all need to be of type list.\n",
        "Parse the second sheet by index. In doing so, parse only the first column with the usecols parameter, skip the first row and rename the column 'Country'. The argument passed to usecols also needs to be of type list"
      ]
    },
    {
      "cell_type": "code",
      "metadata": {
        "id": "Qr6jzj6mxkaP",
        "colab_type": "code",
        "colab": {
          "base_uri": "https://localhost:8080/",
          "height": 228
        },
        "outputId": "e23b4002-e26e-46ff-9781-f95776d61153"
      },
      "source": [
        "# Parse the first sheet and rename the columns: df1\n",
        "df1 = xls.parse(0, skiprows=[0], names=['Country', 'AAM due to War (2002)'])\n",
        "\n",
        "# Print the head of the DataFrame df1\n",
        "print(df1.head())\n",
        "\n",
        "# Parse the first column of the second sheet and rename the column: df2\n",
        "df2 = xls.parse(1, usecols=[0], skiprows=[0], names=['Country'])\n",
        "\n",
        "# Print the head of the DataFrame df2\n",
        "print(df2.head())"
      ],
      "execution_count": 16,
      "outputs": [
        {
          "output_type": "stream",
          "text": [
            "               Country  AAM due to War (2002)\n",
            "0              Albania               0.128908\n",
            "1              Algeria              18.314120\n",
            "2              Andorra               0.000000\n",
            "3               Angola              18.964560\n",
            "4  Antigua and Barbuda               0.000000\n",
            "               Country\n",
            "0              Albania\n",
            "1              Algeria\n",
            "2              Andorra\n",
            "3               Angola\n",
            "4  Antigua and Barbuda\n"
          ],
          "name": "stdout"
        }
      ]
    },
    {
      "cell_type": "markdown",
      "metadata": {
        "id": "StWyVKPYxkaX",
        "colab_type": "text"
      },
      "source": [
        "# Importing SAS files\n",
        "In this exercise, you'll figure out how to import a SAS file as a DataFrame using SAS7BDAT and pandas. The file 'sales.sas7bdat' is already in your working directory and both pandas and matplotlib.pyplot have already been imported as follows:\n",
        "import pandas as pd\n",
        "import matplotlib.pyplot as plt\n",
        "The data are adapted from the website of the undergraduate text book Principles of Econometrics by Hill, Griffiths and Lim.\n",
        "\n",
        "**Instructions**\n",
        "\n",
        "Import the module SAS7BDAT from the library sas7bdat.\n",
        "In the context of the file 'sales.sas7bdat', load its contents to a DataFrame df_sas, using the method to_data_frame() on the object file.\n",
        "Print the head of the DataFrame df_sas.\n",
        "Execute your entire script to produce a histogram plot!"
      ]
    },
    {
      "cell_type": "code",
      "metadata": {
        "id": "gfzB1STfxkab",
        "colab_type": "code",
        "colab": {
          "base_uri": "https://localhost:8080/",
          "height": 378
        },
        "outputId": "31d0dc37-697d-47e9-8533-f114fac08c6a"
      },
      "source": [
        "# Import sas7bdat package\n",
        "from sas7bdat import SAS7BDAT\n",
        "\n",
        "# Save file to a DataFrame: df_sas\n",
        "with SAS7BDAT('Python-Study-Repo/_datasets/sales.sas7bdat') as file:\n",
        "    df_sas= file.to_data_frame()\n",
        "\n",
        "# Print head of DataFrame\n",
        "print(df_sas.head())\n",
        "# Plot histogram of DataFrame features (pandas and pyplot already imported)\n",
        "pd.DataFrame.hist(df_sas[['P']])\n",
        "plt.ylabel('count')\n",
        "plt.show()"
      ],
      "execution_count": 17,
      "outputs": [
        {
          "output_type": "error",
          "ename": "ModuleNotFoundError",
          "evalue": "ignored",
          "traceback": [
            "\u001b[0;31m---------------------------------------------------------------------------\u001b[0m",
            "\u001b[0;31mModuleNotFoundError\u001b[0m                       Traceback (most recent call last)",
            "\u001b[0;32m<ipython-input-17-8f96c5cd482d>\u001b[0m in \u001b[0;36m<module>\u001b[0;34m()\u001b[0m\n\u001b[0;32m----> 1\u001b[0;31m \u001b[0;32mfrom\u001b[0m \u001b[0msas7bdat\u001b[0m \u001b[0;32mimport\u001b[0m \u001b[0mSAS7BDAT\u001b[0m\u001b[0;34m\u001b[0m\u001b[0;34m\u001b[0m\u001b[0m\n\u001b[0m\u001b[1;32m      2\u001b[0m \u001b[0;34m\u001b[0m\u001b[0m\n\u001b[1;32m      3\u001b[0m \u001b[0;31m# Save file to a DataFrame: df_sas\u001b[0m\u001b[0;34m\u001b[0m\u001b[0;34m\u001b[0m\u001b[0;34m\u001b[0m\u001b[0m\n\u001b[1;32m      4\u001b[0m \u001b[0;32mwith\u001b[0m \u001b[0mSAS7BDAT\u001b[0m\u001b[0;34m(\u001b[0m\u001b[0;34m'Python-Study-Repo/_datasets/sales.sas7bdat'\u001b[0m\u001b[0;34m)\u001b[0m \u001b[0;32mas\u001b[0m \u001b[0mfile\u001b[0m\u001b[0;34m:\u001b[0m\u001b[0;34m\u001b[0m\u001b[0;34m\u001b[0m\u001b[0m\n\u001b[1;32m      5\u001b[0m     \u001b[0mdf_sas\u001b[0m\u001b[0;34m=\u001b[0m \u001b[0mfile\u001b[0m\u001b[0;34m.\u001b[0m\u001b[0mto_data_frame\u001b[0m\u001b[0;34m(\u001b[0m\u001b[0;34m)\u001b[0m\u001b[0;34m\u001b[0m\u001b[0;34m\u001b[0m\u001b[0m\n",
            "\u001b[0;31mModuleNotFoundError\u001b[0m: No module named 'sas7bdat'",
            "",
            "\u001b[0;31m---------------------------------------------------------------------------\u001b[0;32m\nNOTE: If your import is failing due to a missing package, you can\nmanually install dependencies using either !pip or !apt.\n\nTo view examples of installing some common dependencies, click the\n\"Open Examples\" button below.\n\u001b[0;31m---------------------------------------------------------------------------\u001b[0m\n"
          ]
        }
      ]
    },
    {
      "cell_type": "markdown",
      "metadata": {
        "id": "aeUEonpfxkai",
        "colab_type": "raw"
      },
      "source": [
        "<script.py> output:\n",
        "         YEAR     P           S\n",
        "    0  1950.0  12.9  181.899994\n",
        "    1  1951.0  11.9  245.000000\n",
        "    2  1952.0  10.7  250.199997\n",
        "    3  1953.0  11.3  265.899994\n",
        "    4  1954.0  11.2  248.500000"
      ]
    },
    {
      "cell_type": "markdown",
      "metadata": {
        "id": "5BBaaKgyxkak",
        "colab_type": "text"
      },
      "source": [
        "# Using read_stata to import Stata files\n",
        "The pandas package has been imported in the environment as pd and the file disarea.dta is in your working directory. The data consist of disease extents for several diseases in various countries (more information can be found here).\n",
        "What is the correct way of using the read_stata() function to import disarea.dta into the object df?"
      ]
    },
    {
      "cell_type": "code",
      "metadata": {
        "id": "MhHspka-xkal",
        "colab_type": "code",
        "colab": {}
      },
      "source": [
        "df = pd.read_stata('Python-Study-Repo/_datasets/disarea.dta')"
      ],
      "execution_count": 0,
      "outputs": []
    },
    {
      "cell_type": "markdown",
      "metadata": {
        "id": "tJ0-BHJSxkas",
        "colab_type": "text"
      },
      "source": [
        "# Importing Stata files\n",
        "Here, you'll gain expertise in importing Stata files as DataFrames using the pd.read_stata() function from pandas. The last exercise's file, 'disarea.dta', is still in your working directory.\n",
        "\n",
        "**Instructions**\n",
        "\n",
        "Use pd.read_stata() to load the file 'disarea.dta' into the DataFrame df.\n",
        "Print the head of the DataFrame df.\n",
        "Visualize your results by plotting a histogram of the column disa10. We’ve already provided this code for you, so just run it!"
      ]
    },
    {
      "cell_type": "code",
      "metadata": {
        "id": "svvEDP51xkaw",
        "colab_type": "code",
        "colab": {
          "base_uri": "https://localhost:8080/",
          "height": 436
        },
        "outputId": "7937b6e8-75c4-48f7-ad13-56181feac404"
      },
      "source": [
        "# Import pandas\n",
        "import pandas as pd\n",
        "\n",
        "# Load Stata file into a pandas DataFrame: df\n",
        "\n",
        "df = pd.read_stata('Python-Study-Repo/_datasets/disarea.dta')\n",
        "# Print the head of the DataFrame df\n",
        "print(df.head())\n",
        "\n",
        "\n",
        "# Plot histogram of one column of the DataFrame\n",
        "pd.DataFrame.hist(df[['disa10']])\n",
        "plt.xlabel('Extent of disease')\n",
        "plt.ylabel('Number of countries')\n",
        "plt.show()\n"
      ],
      "execution_count": 19,
      "outputs": [
        {
          "output_type": "stream",
          "text": [
            "  wbcode               country  disa1  disa2  ...  disa22  disa23  disa24  disa25\n",
            "0    AFG           Afghanistan   0.00   0.00  ...    0.00    0.02    0.00    0.00\n",
            "1    AGO                Angola   0.32   0.02  ...    0.99    0.98    0.61    0.00\n",
            "2    ALB               Albania   0.00   0.00  ...    0.00    0.00    0.00    0.16\n",
            "3    ARE  United Arab Emirates   0.00   0.00  ...    0.00    0.00    0.00    0.00\n",
            "4    ARG             Argentina   0.00   0.24  ...    0.00    0.01    0.00    0.11\n",
            "\n",
            "[5 rows x 27 columns]\n"
          ],
          "name": "stdout"
        },
        {
          "output_type": "display_data",
          "data": {
            "image/png": "[encoded data removed]",
            "text/plain": [
              "<Figure size 432x288 with 1 Axes>"
            ]
          },
          "metadata": {
            "tags": []
          }
        }
      ]
    },
    {
      "cell_type": "markdown",
      "metadata": {
        "id": "kiPGfGrWxka1",
        "colab_type": "text"
      },
      "source": [
        "# Using File to import HDF5 files\n",
        "\n",
        "The h5py package has been imported in the environment and the file LIGO_data.hdf5 is loaded in the object h5py_file.\n",
        "What is the correct way of using the h5py function, File(), to import the file in h5py_file into an object, h5py_data, for reading only?"
      ]
    },
    {
      "cell_type": "code",
      "metadata": {
        "id": "HL8ImLWYxka2",
        "colab_type": "code",
        "colab": {}
      },
      "source": [
        "h5py_data = h5py.File(h5py_file, 'r')"
      ],
      "execution_count": 0,
      "outputs": []
    },
    {
      "cell_type": "markdown",
      "metadata": {
        "id": "XCrRCkIZxka_",
        "colab_type": "text"
      },
      "source": [
        "# Using h5py to import HDF5 files\n",
        "\n",
        "The file 'LIGO_data.hdf5' is already in your working directory. In this exercise, you'll import it using the h5py library. You'll also print out its datatype to confirm you have imported it correctly. You'll then study the structure of the file in order to see precisely what HDF groups it contains.\n",
        "You can find the LIGO data plus loads of documentation and tutorials here. There is also a great tutorial on Signal Processing with the data here.\n",
        "\n",
        "**Instructions**\n",
        "\n",
        "Import the package h5py.\n",
        "Assign the name of the file to the variable file.\n",
        "Load the file as read only into the variable data.\n",
        "Print the datatype of data.\n",
        "Print the names of the groups in the HDF5 file 'LIGO_data.hdf5'"
      ]
    },
    {
      "cell_type": "code",
      "metadata": {
        "id": "ieHISTYSxkbA",
        "colab_type": "code",
        "colab": {
          "base_uri": "https://localhost:8080/",
          "height": 88
        },
        "outputId": "d9212a58-66e5-4cfe-cf23-fe56e457107b"
      },
      "source": [
        "# Import packages\n",
        "import numpy as np\n",
        "import h5py\n",
        "\n",
        "# Assign filename: file\n",
        "file = 'Python-Study-Repo/_datasets/LIGO_data.hdf5'\n",
        "\n",
        "# Load file: data\n",
        "data = h5py.File(file, 'r')\n",
        "\n",
        "# Print the datatype of the loaded file\n",
        "print(type(data))\n",
        "\n",
        "# Print the keys of the file\n",
        "for key in data.keys():\n",
        "    print(key)\n"
      ],
      "execution_count": 20,
      "outputs": [
        {
          "output_type": "stream",
          "text": [
            "<class 'h5py._hl.files.File'>\n",
            "meta\n",
            "quality\n",
            "strain\n"
          ],
          "name": "stdout"
        }
      ]
    },
    {
      "cell_type": "markdown",
      "metadata": {
        "id": "FkG-7HgWxkbH",
        "colab_type": "text"
      },
      "source": [
        "# Extracting data from your HDF5 file\n",
        "In this exercise, you'll extract some of the LIGO experiment's actual data from the HDF5 file and you'll visualize it.\n",
        "To do so, you'll need to first explore the HDF5 group 'strain'.\n",
        "\n",
        "**Instructions**\n",
        "\n",
        "Assign the HDF5 group data['strain'] to group.\n",
        "In the for loop, print out the keys of the HDF5 group in group.\n",
        "Assign to the variable strain the values of the time series data data['strain']['Strain'] using the attribute .value.\n",
        "Set num_samples equal to 10000, the number of time points we wish to sample.\n",
        "Execute the rest of the code to produce a plot of the time series data in LIGO_data.hdf5"
      ]
    },
    {
      "cell_type": "code",
      "metadata": {
        "id": "AXaDgPttxkbI",
        "colab_type": "code",
        "colab": {
          "base_uri": "https://localhost:8080/",
          "height": 308
        },
        "outputId": "5b54d60d-16d0-4c74-f944-dd6a46a47ef9"
      },
      "source": [
        "# Get the HDF5 group: group\n",
        "group = data['strain']\n",
        "\n",
        "# Check out keys of group\n",
        "for key in group.keys():\n",
        "    print(key)\n",
        "\n",
        "# Set variable equal to time series data: strain\n",
        "strain = data['strain']['Strain'].value\n",
        "\n",
        "# Set number of time points to sample: num_samples\n",
        "num_samples = 10000\n",
        "\n",
        "# Set time vector\n",
        "time = np.arange(0, 1, 1/num_samples)\n",
        "\n",
        "# Plot data\n",
        "plt.plot(time, strain[:num_samples])\n",
        "plt.xlabel('GPS Time (s)')\n",
        "plt.ylabel('strain')\n",
        "plt.show()\n"
      ],
      "execution_count": 21,
      "outputs": [
        {
          "output_type": "stream",
          "text": [
            "Strain\n"
          ],
          "name": "stdout"
        },
        {
          "output_type": "display_data",
          "data": {
            "image/png": "[encoded data removed]",
            "text/plain": [
              "<Figure size 432x288 with 1 Axes>"
            ]
          },
          "metadata": {
            "tags": []
          }
        }
      ]
    },
    {
      "cell_type": "markdown",
      "metadata": {
        "id": "0n6bJK3OxkbR",
        "colab_type": "text"
      },
      "source": [
        "# Loading .mat files\n",
        "In this exercise, you'll figure out how to load a MATLAB file using scipy.io.loadmat() and you'll discover what Python datatype it yields.\n",
        "The file 'albeck_gene_expression.mat' is in your working directory. This file contains gene expression data from the Albeck Lab at UC Davis. You can find the data and some great documentation here.\n",
        "\n",
        "**Instructions**\n",
        "\n",
        "Import the package scipy.io.\n",
        "Load the file 'albeck_gene_expression.mat' into the variable mat; do so using the function scipy.io.loadmat().\n",
        "Use the function type() to print the datatype of mat to the IPython shell."
      ]
    },
    {
      "cell_type": "code",
      "metadata": {
        "id": "x4Ge_5mIxkbT",
        "colab_type": "code",
        "colab": {
          "base_uri": "https://localhost:8080/",
          "height": 35
        },
        "outputId": "e7bf893b-5eab-4813-8316-b6efca9479b7"
      },
      "source": [
        "# Import package\n",
        "import scipy.io\n",
        "\n",
        "# Load MATLAB file: mat\n",
        "mat = scipy.io.loadmat('Python-Study-Repo/_datasets/albeck_gene_expression.mat')\n",
        "\n",
        "# Print the datatype type of mat\n",
        "print(type(mat))"
      ],
      "execution_count": 22,
      "outputs": [
        {
          "output_type": "stream",
          "text": [
            "<class 'dict'>\n"
          ],
          "name": "stdout"
        }
      ]
    },
    {
      "cell_type": "markdown",
      "metadata": {
        "id": "7t2Bj-z7xkbY",
        "colab_type": "text"
      },
      "source": [
        "# The structure of .mat in Python\n",
        "Here, you'll discover what is in the MATLAB dictionary that you loaded in the previous exercise.\n",
        "The file 'albeck_gene_expression.mat' is already loaded into the variable mat. The following libraries have already been imported as follows:\n",
        "import scipy.io\n",
        "import matplotlib.pyplot as plt\n",
        "import numpy as np\n",
        "Once again, this file contains gene expression data from the Albeck Lab at UCDavis. You can find the data and some great documentation here.\n",
        "\n",
        "\n",
        "\n",
        "**Instructions**\n",
        "\n",
        "Use the method .keys() on the dictionary mat to print the keys. Most of these keys (in fact the ones that do NOT begin and end with '__') are variables from the corresponding MATLAB environment.\n",
        "Print the type of the value corresponding to the key 'CYratioCyt' in mat. Recall that mat['CYratioCyt'] accesses the value.\n",
        "Print the shape of the value corresponding to the key 'CYratioCyt' using the numpy function shape().\n",
        "Execute the entire script to see some oscillatory gene expression data!"
      ]
    },
    {
      "cell_type": "code",
      "metadata": {
        "id": "VjafgF_Mxkba",
        "colab_type": "code",
        "colab": {},
        "outputId": "6ccfe795-bd36-4e19-c554-fafad0dd054f"
      },
      "source": [
        "# Print the keys of the MATLAB dictionary\n",
        "print(mat.keys())\n",
        "\n",
        "# Print the type of the value corresponding to the key 'CYratioCyt'\n",
        "print(type(mat['CYratioCyt']))\n",
        "\n",
        "# Print the shape of the value corresponding to the key 'CYratioCyt'\n",
        "print(np.shape(mat['CYratioCyt']))\n",
        "\n",
        "# Subset the array and plot it\n",
        "data = mat['CYratioCyt'][25, 5:]\n",
        "fig = plt.figure()\n",
        "plt.plot(data)\n",
        "plt.xlabel('time (min.)')\n",
        "plt.ylabel('normalized fluorescence (measure of expression)')\n",
        "plt.show()\n"
      ],
      "execution_count": 0,
      "outputs": [
        {
          "output_type": "stream",
          "text": [
            "dict_keys(['__header__', '__version__', '__globals__', 'rfpCyt', 'rfpNuc', 'cfpNuc', 'cfpCyt', 'yfpNuc', 'yfpCyt', 'CYratioCyt'])\n",
            "<class 'numpy.ndarray'>\n",
            "(200, 137)\n"
          ],
          "name": "stdout"
        },
        {
          "output_type": "display_data",
          "data": {
            "image/png": "[encoded data removed]",
            "text/plain": [
              "<Figure size 432x288 with 1 Axes>"
            ]
          },
          "metadata": {
            "tags": [],
            "needs_background": "light"
          }
        }
      ]
    },
    {
      "cell_type": "markdown",
      "metadata": {
        "id": "7lym4YvExkbe",
        "colab_type": "text"
      },
      "source": [
        "# Creating a database engine\n",
        "Here, you're going to fire up your very first SQL engine. You'll create an engine to connect to the SQLite database 'Chinook.sqlite', which is in your working directory. Remember that to create an engine to connect to 'Northwind.sqlite', Hugo executed the command\n",
        "engine = create_engine('sqlite:///Northwind.sqlite')\n",
        "Here, 'sqlite:///Northwind.sqlite' is called the connection string to the SQLite database Northwind.sqlite. A little bit of background on the Chinook database: the Chinook database contains information about a semi-fictional digital media store in which media data is real and customer, employee and sales data has been manually created.\n",
        "Why the name Chinook, you ask? According to their website,\n",
        "The name of this sample database was based on the Northwind database. Chinooks are winds in the interior West of North America, where the Canadian Prairies and Great Plains meet various mountain ranges. Chinooks are most prevalent over southern Alberta in Canada. Chinook is a good name choice for a database that intends to be an alternative to Northwind.\n",
        "\n",
        "**Instructions**\n",
        "\n",
        "Import the function create_engine from the module sqlalchemy.\n",
        "Create an engine to connect to the SQLite database 'Chinook.sqlite' and assign it to engine"
      ]
    },
    {
      "cell_type": "code",
      "metadata": {
        "id": "GAubxdsIxkbg",
        "colab_type": "code",
        "colab": {}
      },
      "source": [
        "# Import necessary module\n",
        "from sqlalchemy import create_engine\n",
        "\n",
        "# Create engine: engine\n",
        "engine = create_engine('sqlite:///Chinook.sqlite')"
      ],
      "execution_count": 0,
      "outputs": []
    },
    {
      "cell_type": "markdown",
      "metadata": {
        "id": "Uf0EJi1gxkbm",
        "colab_type": "text"
      },
      "source": [
        "# What are the tables in the database?\n",
        "In this exercise, you'll once again create an engine to connect to 'Chinook.sqlite'. Before you can get any data out of the database, however, you'll need to know what tables it contains!\n",
        "To this end, you'll save the table names to a list using the method table_names() on the engine and then you will print the list.\n",
        "\n",
        "**Instructions**\n",
        "\n",
        "Import the function create_engine from the module sqlalchemy.\n",
        "Create an engine to connect to the SQLite database 'Chinook.sqlite' and assign it to engine.\n",
        "Using the method table_names() on the engine engine, assign the table names of 'Chinook.sqlite' to the variable table_names.\n",
        "Print the object table_names to the shell."
      ]
    },
    {
      "cell_type": "code",
      "metadata": {
        "id": "a9coBVIXxkbn",
        "colab_type": "code",
        "colab": {
          "base_uri": "https://localhost:8080/",
          "height": 35
        },
        "outputId": "31346481-fe4a-4502-921d-c6c30ad6fcf8"
      },
      "source": [
        "# Import necessary module\n",
        "from sqlalchemy import create_engine\n",
        "# Create engine: engine\n",
        "engine = create_engine('sqlite:///Chinook.sqlite')\n",
        "\n",
        "# Save the table names to a list: table_names\n",
        "table_names = engine.table_names()\n",
        "\n",
        "# Print the table names to the shell\n",
        "print(table_names)"
      ],
      "execution_count": 24,
      "outputs": [
        {
          "output_type": "stream",
          "text": [
            "[]\n"
          ],
          "name": "stdout"
        }
      ]
    },
    {
      "cell_type": "markdown",
      "metadata": {
        "id": "camOEL78xkbs",
        "colab_type": "text"
      },
      "source": [
        "['Album', 'Artist', 'Customer', 'Employee', 'Genre', 'Invoice', 'InvoiceLine', 'MediaType', 'Playlist', 'PlaylistTrack', 'Track']"
      ]
    },
    {
      "cell_type": "markdown",
      "metadata": {
        "id": "wGv_2RiAxkbu",
        "colab_type": "text"
      },
      "source": [
        "# The Hello World of SQL Queries!\n",
        "Now, it's time for liftoff! In this exercise, you'll perform the Hello World of SQL queries, SELECT, in order to retrieve all columns of the table Album in the Chinook database. Recall that the query SELECT * selects all columns.\n",
        "\n",
        "**Instructions**\n",
        "\n",
        "Open the engine connection as con using the method connect() on the engine.\n",
        "Execute the query that selects ALL columns from the Album table. Store the results in rs.\n",
        "Store all of your query results in the DataFrame df by applying the fetchall() method to the results rs.\n",
        "Close the connection!"
      ]
    },
    {
      "cell_type": "code",
      "metadata": {
        "id": "ouOBJal9xkbx",
        "colab_type": "code",
        "colab": {
          "base_uri": "https://localhost:8080/",
          "height": 472
        },
        "outputId": "777bba03-5735-4634-b046-136b3671c5a5"
      },
      "source": [
        "# Import packages\n",
        "from sqlalchemy import create_engine\n",
        "import pandas as pd\n",
        "\n",
        "# Create engine: engine\n",
        "engine = create_engine('sqlite:///Chinook.sqlite')\n",
        "\n",
        "# Open engine connection\n",
        "con = engine.connect()\n",
        "\n",
        "# Perform query: rs\n",
        "rs = con.execute(\"SELECT * FROM Album\")\n",
        "\n",
        "# Save results of the query to DataFrame: df\n",
        "df = pd.DataFrame(rs.fetchall())\n",
        "\n",
        "# Close connection\n",
        "con.close()\n",
        "\n",
        "# Print head of DataFrame df\n",
        "print(df.head())\n"
      ],
      "execution_count": 26,
      "outputs": [
        {
          "output_type": "error",
          "ename": "OperationalError",
          "evalue": "ignored",
          "traceback": [
            "\u001b[0;31m---------------------------------------------------------------------------\u001b[0m",
            "\u001b[0;31mOperationalError\u001b[0m                          Traceback (most recent call last)",
            "\u001b[0;32m/usr/local/lib/python3.6/dist-packages/sqlalchemy/engine/base.py\u001b[0m in \u001b[0;36m_execute_context\u001b[0;34m(self, dialect, constructor, statement, parameters, *args)\u001b[0m\n\u001b[1;32m   1245\u001b[0m                     self.dialect.do_execute(\n\u001b[0;32m-> 1246\u001b[0;31m                         \u001b[0mcursor\u001b[0m\u001b[0;34m,\u001b[0m \u001b[0mstatement\u001b[0m\u001b[0;34m,\u001b[0m \u001b[0mparameters\u001b[0m\u001b[0;34m,\u001b[0m \u001b[0mcontext\u001b[0m\u001b[0;34m\u001b[0m\u001b[0;34m\u001b[0m\u001b[0m\n\u001b[0m\u001b[1;32m   1247\u001b[0m                     )\n",
            "\u001b[0;32m/usr/local/lib/python3.6/dist-packages/sqlalchemy/engine/default.py\u001b[0m in \u001b[0;36mdo_execute\u001b[0;34m(self, cursor, statement, parameters, context)\u001b[0m\n\u001b[1;32m    587\u001b[0m     \u001b[0;32mdef\u001b[0m \u001b[0mdo_execute\u001b[0m\u001b[0;34m(\u001b[0m\u001b[0mself\u001b[0m\u001b[0;34m,\u001b[0m \u001b[0mcursor\u001b[0m\u001b[0;34m,\u001b[0m \u001b[0mstatement\u001b[0m\u001b[0;34m,\u001b[0m \u001b[0mparameters\u001b[0m\u001b[0;34m,\u001b[0m \u001b[0mcontext\u001b[0m\u001b[0;34m=\u001b[0m\u001b[0;32mNone\u001b[0m\u001b[0;34m)\u001b[0m\u001b[0;34m:\u001b[0m\u001b[0;34m\u001b[0m\u001b[0;34m\u001b[0m\u001b[0m\n\u001b[0;32m--> 588\u001b[0;31m         \u001b[0mcursor\u001b[0m\u001b[0;34m.\u001b[0m\u001b[0mexecute\u001b[0m\u001b[0;34m(\u001b[0m\u001b[0mstatement\u001b[0m\u001b[0;34m,\u001b[0m \u001b[0mparameters\u001b[0m\u001b[0;34m)\u001b[0m\u001b[0;34m\u001b[0m\u001b[0;34m\u001b[0m\u001b[0m\n\u001b[0m\u001b[1;32m    589\u001b[0m \u001b[0;34m\u001b[0m\u001b[0m\n",
            "\u001b[0;31mOperationalError\u001b[0m: no such table: Album",
            "\nThe above exception was the direct cause of the following exception:\n",
            "\u001b[0;31mOperationalError\u001b[0m                          Traceback (most recent call last)",
            "\u001b[0;32m<ipython-input-26-52207e6f53e5>\u001b[0m in \u001b[0;36m<module>\u001b[0;34m()\u001b[0m\n\u001b[1;32m      9\u001b[0m \u001b[0;34m\u001b[0m\u001b[0m\n\u001b[1;32m     10\u001b[0m \u001b[0;31m# Perform query: rs\u001b[0m\u001b[0;34m\u001b[0m\u001b[0;34m\u001b[0m\u001b[0;34m\u001b[0m\u001b[0m\n\u001b[0;32m---> 11\u001b[0;31m \u001b[0mrs\u001b[0m \u001b[0;34m=\u001b[0m \u001b[0mcon\u001b[0m\u001b[0;34m.\u001b[0m\u001b[0mexecute\u001b[0m\u001b[0;34m(\u001b[0m\u001b[0;34m\"SELECT * FROM Album\"\u001b[0m\u001b[0;34m)\u001b[0m\u001b[0;34m\u001b[0m\u001b[0;34m\u001b[0m\u001b[0m\n\u001b[0m\u001b[1;32m     12\u001b[0m \u001b[0;34m\u001b[0m\u001b[0m\n\u001b[1;32m     13\u001b[0m \u001b[0;31m# Save results of the query to DataFrame: df\u001b[0m\u001b[0;34m\u001b[0m\u001b[0;34m\u001b[0m\u001b[0;34m\u001b[0m\u001b[0m\n",
            "\u001b[0;32m/usr/local/lib/python3.6/dist-packages/sqlalchemy/engine/base.py\u001b[0m in \u001b[0;36mexecute\u001b[0;34m(self, object_, *multiparams, **params)\u001b[0m\n\u001b[1;32m    974\u001b[0m         \"\"\"\n\u001b[1;32m    975\u001b[0m         \u001b[0;32mif\u001b[0m \u001b[0misinstance\u001b[0m\u001b[0;34m(\u001b[0m\u001b[0mobject_\u001b[0m\u001b[0;34m,\u001b[0m \u001b[0mutil\u001b[0m\u001b[0;34m.\u001b[0m\u001b[0mstring_types\u001b[0m\u001b[0;34m[\u001b[0m\u001b[0;36m0\u001b[0m\u001b[0;34m]\u001b[0m\u001b[0;34m)\u001b[0m\u001b[0;34m:\u001b[0m\u001b[0;34m\u001b[0m\u001b[0;34m\u001b[0m\u001b[0m\n\u001b[0;32m--> 976\u001b[0;31m             \u001b[0;32mreturn\u001b[0m \u001b[0mself\u001b[0m\u001b[0;34m.\u001b[0m\u001b[0m_execute_text\u001b[0m\u001b[0;34m(\u001b[0m\u001b[0mobject_\u001b[0m\u001b[0;34m,\u001b[0m \u001b[0mmultiparams\u001b[0m\u001b[0;34m,\u001b[0m \u001b[0mparams\u001b[0m\u001b[0;34m)\u001b[0m\u001b[0;34m\u001b[0m\u001b[0;34m\u001b[0m\u001b[0m\n\u001b[0m\u001b[1;32m    977\u001b[0m         \u001b[0;32mtry\u001b[0m\u001b[0;34m:\u001b[0m\u001b[0;34m\u001b[0m\u001b[0;34m\u001b[0m\u001b[0m\n\u001b[1;32m    978\u001b[0m             \u001b[0mmeth\u001b[0m \u001b[0;34m=\u001b[0m \u001b[0mobject_\u001b[0m\u001b[0;34m.\u001b[0m\u001b[0m_execute_on_connection\u001b[0m\u001b[0;34m\u001b[0m\u001b[0;34m\u001b[0m\u001b[0m\n",
            "\u001b[0;32m/usr/local/lib/python3.6/dist-packages/sqlalchemy/engine/base.py\u001b[0m in \u001b[0;36m_execute_text\u001b[0;34m(self, statement, multiparams, params)\u001b[0m\n\u001b[1;32m   1147\u001b[0m             \u001b[0mparameters\u001b[0m\u001b[0;34m,\u001b[0m\u001b[0;34m\u001b[0m\u001b[0;34m\u001b[0m\u001b[0m\n\u001b[1;32m   1148\u001b[0m             \u001b[0mstatement\u001b[0m\u001b[0;34m,\u001b[0m\u001b[0;34m\u001b[0m\u001b[0;34m\u001b[0m\u001b[0m\n\u001b[0;32m-> 1149\u001b[0;31m             \u001b[0mparameters\u001b[0m\u001b[0;34m,\u001b[0m\u001b[0;34m\u001b[0m\u001b[0;34m\u001b[0m\u001b[0m\n\u001b[0m\u001b[1;32m   1150\u001b[0m         )\n\u001b[1;32m   1151\u001b[0m         \u001b[0;32mif\u001b[0m \u001b[0mself\u001b[0m\u001b[0;34m.\u001b[0m\u001b[0m_has_events\u001b[0m \u001b[0;32mor\u001b[0m \u001b[0mself\u001b[0m\u001b[0;34m.\u001b[0m\u001b[0mengine\u001b[0m\u001b[0;34m.\u001b[0m\u001b[0m_has_events\u001b[0m\u001b[0;34m:\u001b[0m\u001b[0;34m\u001b[0m\u001b[0;34m\u001b[0m\u001b[0m\n",
            "\u001b[0;32m/usr/local/lib/python3.6/dist-packages/sqlalchemy/engine/base.py\u001b[0m in \u001b[0;36m_execute_context\u001b[0;34m(self, dialect, constructor, statement, parameters, *args)\u001b[0m\n\u001b[1;32m   1248\u001b[0m         \u001b[0;32mexcept\u001b[0m \u001b[0mBaseException\u001b[0m \u001b[0;32mas\u001b[0m \u001b[0me\u001b[0m\u001b[0;34m:\u001b[0m\u001b[0;34m\u001b[0m\u001b[0;34m\u001b[0m\u001b[0m\n\u001b[1;32m   1249\u001b[0m             self._handle_dbapi_exception(\n\u001b[0;32m-> 1250\u001b[0;31m                 \u001b[0me\u001b[0m\u001b[0;34m,\u001b[0m \u001b[0mstatement\u001b[0m\u001b[0;34m,\u001b[0m \u001b[0mparameters\u001b[0m\u001b[0;34m,\u001b[0m \u001b[0mcursor\u001b[0m\u001b[0;34m,\u001b[0m \u001b[0mcontext\u001b[0m\u001b[0;34m\u001b[0m\u001b[0;34m\u001b[0m\u001b[0m\n\u001b[0m\u001b[1;32m   1251\u001b[0m             )\n\u001b[1;32m   1252\u001b[0m \u001b[0;34m\u001b[0m\u001b[0m\n",
            "\u001b[0;32m/usr/local/lib/python3.6/dist-packages/sqlalchemy/engine/base.py\u001b[0m in \u001b[0;36m_handle_dbapi_exception\u001b[0;34m(self, e, statement, parameters, cursor, context)\u001b[0m\n\u001b[1;32m   1474\u001b[0m                 \u001b[0mutil\u001b[0m\u001b[0;34m.\u001b[0m\u001b[0mraise_from_cause\u001b[0m\u001b[0;34m(\u001b[0m\u001b[0mnewraise\u001b[0m\u001b[0;34m,\u001b[0m \u001b[0mexc_info\u001b[0m\u001b[0;34m)\u001b[0m\u001b[0;34m\u001b[0m\u001b[0;34m\u001b[0m\u001b[0m\n\u001b[1;32m   1475\u001b[0m             \u001b[0;32melif\u001b[0m \u001b[0mshould_wrap\u001b[0m\u001b[0;34m:\u001b[0m\u001b[0;34m\u001b[0m\u001b[0;34m\u001b[0m\u001b[0m\n\u001b[0;32m-> 1476\u001b[0;31m                 \u001b[0mutil\u001b[0m\u001b[0;34m.\u001b[0m\u001b[0mraise_from_cause\u001b[0m\u001b[0;34m(\u001b[0m\u001b[0msqlalchemy_exception\u001b[0m\u001b[0;34m,\u001b[0m \u001b[0mexc_info\u001b[0m\u001b[0;34m)\u001b[0m\u001b[0;34m\u001b[0m\u001b[0;34m\u001b[0m\u001b[0m\n\u001b[0m\u001b[1;32m   1477\u001b[0m             \u001b[0;32melse\u001b[0m\u001b[0;34m:\u001b[0m\u001b[0;34m\u001b[0m\u001b[0;34m\u001b[0m\u001b[0m\n\u001b[1;32m   1478\u001b[0m                 \u001b[0mutil\u001b[0m\u001b[0;34m.\u001b[0m\u001b[0mreraise\u001b[0m\u001b[0;34m(\u001b[0m\u001b[0;34m*\u001b[0m\u001b[0mexc_info\u001b[0m\u001b[0;34m)\u001b[0m\u001b[0;34m\u001b[0m\u001b[0;34m\u001b[0m\u001b[0m\n",
            "\u001b[0;32m/usr/local/lib/python3.6/dist-packages/sqlalchemy/util/compat.py\u001b[0m in \u001b[0;36mraise_from_cause\u001b[0;34m(exception, exc_info)\u001b[0m\n\u001b[1;32m    396\u001b[0m     \u001b[0mexc_type\u001b[0m\u001b[0;34m,\u001b[0m \u001b[0mexc_value\u001b[0m\u001b[0;34m,\u001b[0m \u001b[0mexc_tb\u001b[0m \u001b[0;34m=\u001b[0m \u001b[0mexc_info\u001b[0m\u001b[0;34m\u001b[0m\u001b[0;34m\u001b[0m\u001b[0m\n\u001b[1;32m    397\u001b[0m     \u001b[0mcause\u001b[0m \u001b[0;34m=\u001b[0m \u001b[0mexc_value\u001b[0m \u001b[0;32mif\u001b[0m \u001b[0mexc_value\u001b[0m \u001b[0;32mis\u001b[0m \u001b[0;32mnot\u001b[0m \u001b[0mexception\u001b[0m \u001b[0;32melse\u001b[0m \u001b[0;32mNone\u001b[0m\u001b[0;34m\u001b[0m\u001b[0;34m\u001b[0m\u001b[0m\n\u001b[0;32m--> 398\u001b[0;31m     \u001b[0mreraise\u001b[0m\u001b[0;34m(\u001b[0m\u001b[0mtype\u001b[0m\u001b[0;34m(\u001b[0m\u001b[0mexception\u001b[0m\u001b[0;34m)\u001b[0m\u001b[0;34m,\u001b[0m \u001b[0mexception\u001b[0m\u001b[0;34m,\u001b[0m \u001b[0mtb\u001b[0m\u001b[0;34m=\u001b[0m\u001b[0mexc_tb\u001b[0m\u001b[0;34m,\u001b[0m \u001b[0mcause\u001b[0m\u001b[0;34m=\u001b[0m\u001b[0mcause\u001b[0m\u001b[0;34m)\u001b[0m\u001b[0;34m\u001b[0m\u001b[0;34m\u001b[0m\u001b[0m\n\u001b[0m\u001b[1;32m    399\u001b[0m \u001b[0;34m\u001b[0m\u001b[0m\n\u001b[1;32m    400\u001b[0m \u001b[0;34m\u001b[0m\u001b[0m\n",
            "\u001b[0;32m/usr/local/lib/python3.6/dist-packages/sqlalchemy/util/compat.py\u001b[0m in \u001b[0;36mreraise\u001b[0;34m(tp, value, tb, cause)\u001b[0m\n\u001b[1;32m    150\u001b[0m             \u001b[0mvalue\u001b[0m\u001b[0;34m.\u001b[0m\u001b[0m__cause__\u001b[0m \u001b[0;34m=\u001b[0m \u001b[0mcause\u001b[0m\u001b[0;34m\u001b[0m\u001b[0;34m\u001b[0m\u001b[0m\n\u001b[1;32m    151\u001b[0m         \u001b[0;32mif\u001b[0m \u001b[0mvalue\u001b[0m\u001b[0;34m.\u001b[0m\u001b[0m__traceback__\u001b[0m \u001b[0;32mis\u001b[0m \u001b[0;32mnot\u001b[0m \u001b[0mtb\u001b[0m\u001b[0;34m:\u001b[0m\u001b[0;34m\u001b[0m\u001b[0;34m\u001b[0m\u001b[0m\n\u001b[0;32m--> 152\u001b[0;31m             \u001b[0;32mraise\u001b[0m \u001b[0mvalue\u001b[0m\u001b[0;34m.\u001b[0m\u001b[0mwith_traceback\u001b[0m\u001b[0;34m(\u001b[0m\u001b[0mtb\u001b[0m\u001b[0;34m)\u001b[0m\u001b[0;34m\u001b[0m\u001b[0;34m\u001b[0m\u001b[0m\n\u001b[0m\u001b[1;32m    153\u001b[0m         \u001b[0;32mraise\u001b[0m \u001b[0mvalue\u001b[0m\u001b[0;34m\u001b[0m\u001b[0;34m\u001b[0m\u001b[0m\n\u001b[1;32m    154\u001b[0m \u001b[0;34m\u001b[0m\u001b[0m\n",
            "\u001b[0;32m/usr/local/lib/python3.6/dist-packages/sqlalchemy/engine/base.py\u001b[0m in \u001b[0;36m_execute_context\u001b[0;34m(self, dialect, constructor, statement, parameters, *args)\u001b[0m\n\u001b[1;32m   1244\u001b[0m                 \u001b[0;32mif\u001b[0m \u001b[0;32mnot\u001b[0m \u001b[0mevt_handled\u001b[0m\u001b[0;34m:\u001b[0m\u001b[0;34m\u001b[0m\u001b[0;34m\u001b[0m\u001b[0m\n\u001b[1;32m   1245\u001b[0m                     self.dialect.do_execute(\n\u001b[0;32m-> 1246\u001b[0;31m                         \u001b[0mcursor\u001b[0m\u001b[0;34m,\u001b[0m \u001b[0mstatement\u001b[0m\u001b[0;34m,\u001b[0m \u001b[0mparameters\u001b[0m\u001b[0;34m,\u001b[0m \u001b[0mcontext\u001b[0m\u001b[0;34m\u001b[0m\u001b[0;34m\u001b[0m\u001b[0m\n\u001b[0m\u001b[1;32m   1247\u001b[0m                     )\n\u001b[1;32m   1248\u001b[0m         \u001b[0;32mexcept\u001b[0m \u001b[0mBaseException\u001b[0m \u001b[0;32mas\u001b[0m \u001b[0me\u001b[0m\u001b[0;34m:\u001b[0m\u001b[0;34m\u001b[0m\u001b[0;34m\u001b[0m\u001b[0m\n",
            "\u001b[0;32m/usr/local/lib/python3.6/dist-packages/sqlalchemy/engine/default.py\u001b[0m in \u001b[0;36mdo_execute\u001b[0;34m(self, cursor, statement, parameters, context)\u001b[0m\n\u001b[1;32m    586\u001b[0m \u001b[0;34m\u001b[0m\u001b[0m\n\u001b[1;32m    587\u001b[0m     \u001b[0;32mdef\u001b[0m \u001b[0mdo_execute\u001b[0m\u001b[0;34m(\u001b[0m\u001b[0mself\u001b[0m\u001b[0;34m,\u001b[0m \u001b[0mcursor\u001b[0m\u001b[0;34m,\u001b[0m \u001b[0mstatement\u001b[0m\u001b[0;34m,\u001b[0m \u001b[0mparameters\u001b[0m\u001b[0;34m,\u001b[0m \u001b[0mcontext\u001b[0m\u001b[0;34m=\u001b[0m\u001b[0;32mNone\u001b[0m\u001b[0;34m)\u001b[0m\u001b[0;34m:\u001b[0m\u001b[0;34m\u001b[0m\u001b[0;34m\u001b[0m\u001b[0m\n\u001b[0;32m--> 588\u001b[0;31m         \u001b[0mcursor\u001b[0m\u001b[0;34m.\u001b[0m\u001b[0mexecute\u001b[0m\u001b[0;34m(\u001b[0m\u001b[0mstatement\u001b[0m\u001b[0;34m,\u001b[0m \u001b[0mparameters\u001b[0m\u001b[0;34m)\u001b[0m\u001b[0;34m\u001b[0m\u001b[0;34m\u001b[0m\u001b[0m\n\u001b[0m\u001b[1;32m    589\u001b[0m \u001b[0;34m\u001b[0m\u001b[0m\n\u001b[1;32m    590\u001b[0m     \u001b[0;32mdef\u001b[0m \u001b[0mdo_execute_no_params\u001b[0m\u001b[0;34m(\u001b[0m\u001b[0mself\u001b[0m\u001b[0;34m,\u001b[0m \u001b[0mcursor\u001b[0m\u001b[0;34m,\u001b[0m \u001b[0mstatement\u001b[0m\u001b[0;34m,\u001b[0m \u001b[0mcontext\u001b[0m\u001b[0;34m=\u001b[0m\u001b[0;32mNone\u001b[0m\u001b[0;34m)\u001b[0m\u001b[0;34m:\u001b[0m\u001b[0;34m\u001b[0m\u001b[0;34m\u001b[0m\u001b[0m\n",
            "\u001b[0;31mOperationalError\u001b[0m: (sqlite3.OperationalError) no such table: Album\n[SQL: SELECT * FROM Album]\n(Background on this error at: http://sqlalche.me/e/e3q8)"
          ]
        }
      ]
    },
    {
      "cell_type": "markdown",
      "metadata": {
        "id": "cq7H3Um8xkb2",
        "colab_type": "text"
      },
      "source": [
        "<script.py> output:\n",
        "       0                                      1  2\n",
        "    0  1  For Those About To Rock We Salute You  1\n",
        "    1  2                      Balls to the Wall  2\n",
        "    2  3                      Restless and Wild  2\n",
        "    3  4                      Let There Be Rock  1\n",
        "    4  5                               Big Ones  3\n"
      ]
    },
    {
      "cell_type": "markdown",
      "metadata": {
        "id": "zMGAgZ48xkb4",
        "colab_type": "text"
      },
      "source": [
        "# Customizing the Hello World of SQL Queries\n",
        "Congratulations on executing your first SQL query! Now you're going to figure out how to customize your query in order to:\n",
        "Select specified columns from a table;\n",
        "Select a specified number of rows;\n",
        "Import column names from the database table.\n",
        "Recall that Hugo performed a very similar query customization in the video:\n",
        "engine = create_engine('sqlite:///Northwind.sqlite')\n",
        "\n",
        "with engine.connect() as con:\n",
        "    rs = con.execute(\"SELECT OrderID, OrderDate, ShipName FROM Orders\")\n",
        "    df = pd.DataFrame(rs.fetchmany(size=5))\n",
        "    df.columns = rs.keys()\n",
        "Packages have already been imported as follows:\n",
        "from sqlalchemy import create_engine\n",
        "import pandas as pd\n",
        "The engine has also already been created:\n",
        "engine = create_engine('sqlite:///Chinook.sqlite')\n",
        "The engine connection is already open with the statement\n",
        "with engine.connect() as con:\n",
        "All the code you need to complete is within this context.\n",
        "\n",
        "**Instructions**\n",
        "\n",
        "Execute the SQL query that selects the columns LastName and Title from the Employee table. Store the results in the variable rs.\n",
        "Apply the method fetchmany() to rs in order to retrieve 3 of the records. Store them in the DataFrame df.\n",
        "Using the rs object, set the DataFrame's column names to the corresponding names of the table columns."
      ]
    },
    {
      "cell_type": "code",
      "metadata": {
        "id": "SCCxMwl4xkb6",
        "colab_type": "code",
        "colab": {
          "base_uri": "https://localhost:8080/",
          "height": 472
        },
        "outputId": "bafff2a5-bddb-40f3-d0c0-f81aed3867e3"
      },
      "source": [
        "# Open engine in context manager\n",
        "# Perform query and save results to DataFrame: df\n",
        "with engine.connect() as con:\n",
        "    rs = con.execute(\"SELECT LastName, Title FROM Employee\")\n",
        "    df = pd.DataFrame(rs.fetchmany(size=3))\n",
        "    df.columns = rs.keys()\n",
        "\n",
        "# Print the length of the DataFrame df\n",
        "print(len(df))\n",
        "\n",
        "# Print the head of the DataFrame df\n",
        "print(df.head())"
      ],
      "execution_count": 25,
      "outputs": [
        {
          "output_type": "error",
          "ename": "OperationalError",
          "evalue": "ignored",
          "traceback": [
            "\u001b[0;31m---------------------------------------------------------------------------\u001b[0m",
            "\u001b[0;31mOperationalError\u001b[0m                          Traceback (most recent call last)",
            "\u001b[0;32m/usr/local/lib/python3.6/dist-packages/sqlalchemy/engine/base.py\u001b[0m in \u001b[0;36m_execute_context\u001b[0;34m(self, dialect, constructor, statement, parameters, *args)\u001b[0m\n\u001b[1;32m   1245\u001b[0m                     self.dialect.do_execute(\n\u001b[0;32m-> 1246\u001b[0;31m                         \u001b[0mcursor\u001b[0m\u001b[0;34m,\u001b[0m \u001b[0mstatement\u001b[0m\u001b[0;34m,\u001b[0m \u001b[0mparameters\u001b[0m\u001b[0;34m,\u001b[0m \u001b[0mcontext\u001b[0m\u001b[0;34m\u001b[0m\u001b[0;34m\u001b[0m\u001b[0m\n\u001b[0m\u001b[1;32m   1247\u001b[0m                     )\n",
            "\u001b[0;32m/usr/local/lib/python3.6/dist-packages/sqlalchemy/engine/default.py\u001b[0m in \u001b[0;36mdo_execute\u001b[0;34m(self, cursor, statement, parameters, context)\u001b[0m\n\u001b[1;32m    587\u001b[0m     \u001b[0;32mdef\u001b[0m \u001b[0mdo_execute\u001b[0m\u001b[0;34m(\u001b[0m\u001b[0mself\u001b[0m\u001b[0;34m,\u001b[0m \u001b[0mcursor\u001b[0m\u001b[0;34m,\u001b[0m \u001b[0mstatement\u001b[0m\u001b[0;34m,\u001b[0m \u001b[0mparameters\u001b[0m\u001b[0;34m,\u001b[0m \u001b[0mcontext\u001b[0m\u001b[0;34m=\u001b[0m\u001b[0;32mNone\u001b[0m\u001b[0;34m)\u001b[0m\u001b[0;34m:\u001b[0m\u001b[0;34m\u001b[0m\u001b[0;34m\u001b[0m\u001b[0m\n\u001b[0;32m--> 588\u001b[0;31m         \u001b[0mcursor\u001b[0m\u001b[0;34m.\u001b[0m\u001b[0mexecute\u001b[0m\u001b[0;34m(\u001b[0m\u001b[0mstatement\u001b[0m\u001b[0;34m,\u001b[0m \u001b[0mparameters\u001b[0m\u001b[0;34m)\u001b[0m\u001b[0;34m\u001b[0m\u001b[0;34m\u001b[0m\u001b[0m\n\u001b[0m\u001b[1;32m    589\u001b[0m \u001b[0;34m\u001b[0m\u001b[0m\n",
            "\u001b[0;31mOperationalError\u001b[0m: no such table: Employee",
            "\nThe above exception was the direct cause of the following exception:\n",
            "\u001b[0;31mOperationalError\u001b[0m                          Traceback (most recent call last)",
            "\u001b[0;32m<ipython-input-25-af8b1f06c0b5>\u001b[0m in \u001b[0;36m<module>\u001b[0;34m()\u001b[0m\n\u001b[1;32m      1\u001b[0m \u001b[0;32mwith\u001b[0m \u001b[0mengine\u001b[0m\u001b[0;34m.\u001b[0m\u001b[0mconnect\u001b[0m\u001b[0;34m(\u001b[0m\u001b[0;34m)\u001b[0m \u001b[0;32mas\u001b[0m \u001b[0mcon\u001b[0m\u001b[0;34m:\u001b[0m\u001b[0;34m\u001b[0m\u001b[0;34m\u001b[0m\u001b[0m\n\u001b[0;32m----> 2\u001b[0;31m     \u001b[0mrs\u001b[0m \u001b[0;34m=\u001b[0m \u001b[0mcon\u001b[0m\u001b[0;34m.\u001b[0m\u001b[0mexecute\u001b[0m\u001b[0;34m(\u001b[0m\u001b[0;34m\"SELECT LastName, Title FROM Employee\"\u001b[0m\u001b[0;34m)\u001b[0m\u001b[0;34m\u001b[0m\u001b[0;34m\u001b[0m\u001b[0m\n\u001b[0m\u001b[1;32m      3\u001b[0m     \u001b[0mdf\u001b[0m \u001b[0;34m=\u001b[0m \u001b[0mpd\u001b[0m\u001b[0;34m.\u001b[0m\u001b[0mDataFrame\u001b[0m\u001b[0;34m(\u001b[0m\u001b[0mrs\u001b[0m\u001b[0;34m.\u001b[0m\u001b[0mfetchmany\u001b[0m\u001b[0;34m(\u001b[0m\u001b[0msize\u001b[0m\u001b[0;34m=\u001b[0m\u001b[0;36m3\u001b[0m\u001b[0;34m)\u001b[0m\u001b[0;34m)\u001b[0m\u001b[0;34m\u001b[0m\u001b[0;34m\u001b[0m\u001b[0m\n\u001b[1;32m      4\u001b[0m     \u001b[0mdf\u001b[0m\u001b[0;34m.\u001b[0m\u001b[0mcolumns\u001b[0m \u001b[0;34m=\u001b[0m \u001b[0mrs\u001b[0m\u001b[0;34m.\u001b[0m\u001b[0mkeys\u001b[0m\u001b[0;34m(\u001b[0m\u001b[0;34m)\u001b[0m\u001b[0;34m\u001b[0m\u001b[0;34m\u001b[0m\u001b[0m\n\u001b[1;32m      5\u001b[0m \u001b[0;34m\u001b[0m\u001b[0m\n",
            "\u001b[0;32m/usr/local/lib/python3.6/dist-packages/sqlalchemy/engine/base.py\u001b[0m in \u001b[0;36mexecute\u001b[0;34m(self, object_, *multiparams, **params)\u001b[0m\n\u001b[1;32m    974\u001b[0m         \"\"\"\n\u001b[1;32m    975\u001b[0m         \u001b[0;32mif\u001b[0m \u001b[0misinstance\u001b[0m\u001b[0;34m(\u001b[0m\u001b[0mobject_\u001b[0m\u001b[0;34m,\u001b[0m \u001b[0mutil\u001b[0m\u001b[0;34m.\u001b[0m\u001b[0mstring_types\u001b[0m\u001b[0;34m[\u001b[0m\u001b[0;36m0\u001b[0m\u001b[0;34m]\u001b[0m\u001b[0;34m)\u001b[0m\u001b[0;34m:\u001b[0m\u001b[0;34m\u001b[0m\u001b[0;34m\u001b[0m\u001b[0m\n\u001b[0;32m--> 976\u001b[0;31m             \u001b[0;32mreturn\u001b[0m \u001b[0mself\u001b[0m\u001b[0;34m.\u001b[0m\u001b[0m_execute_text\u001b[0m\u001b[0;34m(\u001b[0m\u001b[0mobject_\u001b[0m\u001b[0;34m,\u001b[0m \u001b[0mmultiparams\u001b[0m\u001b[0;34m,\u001b[0m \u001b[0mparams\u001b[0m\u001b[0;34m)\u001b[0m\u001b[0;34m\u001b[0m\u001b[0;34m\u001b[0m\u001b[0m\n\u001b[0m\u001b[1;32m    977\u001b[0m         \u001b[0;32mtry\u001b[0m\u001b[0;34m:\u001b[0m\u001b[0;34m\u001b[0m\u001b[0;34m\u001b[0m\u001b[0m\n\u001b[1;32m    978\u001b[0m             \u001b[0mmeth\u001b[0m \u001b[0;34m=\u001b[0m \u001b[0mobject_\u001b[0m\u001b[0;34m.\u001b[0m\u001b[0m_execute_on_connection\u001b[0m\u001b[0;34m\u001b[0m\u001b[0;34m\u001b[0m\u001b[0m\n",
            "\u001b[0;32m/usr/local/lib/python3.6/dist-packages/sqlalchemy/engine/base.py\u001b[0m in \u001b[0;36m_execute_text\u001b[0;34m(self, statement, multiparams, params)\u001b[0m\n\u001b[1;32m   1147\u001b[0m             \u001b[0mparameters\u001b[0m\u001b[0;34m,\u001b[0m\u001b[0;34m\u001b[0m\u001b[0;34m\u001b[0m\u001b[0m\n\u001b[1;32m   1148\u001b[0m             \u001b[0mstatement\u001b[0m\u001b[0;34m,\u001b[0m\u001b[0;34m\u001b[0m\u001b[0;34m\u001b[0m\u001b[0m\n\u001b[0;32m-> 1149\u001b[0;31m             \u001b[0mparameters\u001b[0m\u001b[0;34m,\u001b[0m\u001b[0;34m\u001b[0m\u001b[0;34m\u001b[0m\u001b[0m\n\u001b[0m\u001b[1;32m   1150\u001b[0m         )\n\u001b[1;32m   1151\u001b[0m         \u001b[0;32mif\u001b[0m \u001b[0mself\u001b[0m\u001b[0;34m.\u001b[0m\u001b[0m_has_events\u001b[0m \u001b[0;32mor\u001b[0m \u001b[0mself\u001b[0m\u001b[0;34m.\u001b[0m\u001b[0mengine\u001b[0m\u001b[0;34m.\u001b[0m\u001b[0m_has_events\u001b[0m\u001b[0;34m:\u001b[0m\u001b[0;34m\u001b[0m\u001b[0;34m\u001b[0m\u001b[0m\n",
            "\u001b[0;32m/usr/local/lib/python3.6/dist-packages/sqlalchemy/engine/base.py\u001b[0m in \u001b[0;36m_execute_context\u001b[0;34m(self, dialect, constructor, statement, parameters, *args)\u001b[0m\n\u001b[1;32m   1248\u001b[0m         \u001b[0;32mexcept\u001b[0m \u001b[0mBaseException\u001b[0m \u001b[0;32mas\u001b[0m \u001b[0me\u001b[0m\u001b[0;34m:\u001b[0m\u001b[0;34m\u001b[0m\u001b[0;34m\u001b[0m\u001b[0m\n\u001b[1;32m   1249\u001b[0m             self._handle_dbapi_exception(\n\u001b[0;32m-> 1250\u001b[0;31m                 \u001b[0me\u001b[0m\u001b[0;34m,\u001b[0m \u001b[0mstatement\u001b[0m\u001b[0;34m,\u001b[0m \u001b[0mparameters\u001b[0m\u001b[0;34m,\u001b[0m \u001b[0mcursor\u001b[0m\u001b[0;34m,\u001b[0m \u001b[0mcontext\u001b[0m\u001b[0;34m\u001b[0m\u001b[0;34m\u001b[0m\u001b[0m\n\u001b[0m\u001b[1;32m   1251\u001b[0m             )\n\u001b[1;32m   1252\u001b[0m \u001b[0;34m\u001b[0m\u001b[0m\n",
            "\u001b[0;32m/usr/local/lib/python3.6/dist-packages/sqlalchemy/engine/base.py\u001b[0m in \u001b[0;36m_handle_dbapi_exception\u001b[0;34m(self, e, statement, parameters, cursor, context)\u001b[0m\n\u001b[1;32m   1474\u001b[0m                 \u001b[0mutil\u001b[0m\u001b[0;34m.\u001b[0m\u001b[0mraise_from_cause\u001b[0m\u001b[0;34m(\u001b[0m\u001b[0mnewraise\u001b[0m\u001b[0;34m,\u001b[0m \u001b[0mexc_info\u001b[0m\u001b[0;34m)\u001b[0m\u001b[0;34m\u001b[0m\u001b[0;34m\u001b[0m\u001b[0m\n\u001b[1;32m   1475\u001b[0m             \u001b[0;32melif\u001b[0m \u001b[0mshould_wrap\u001b[0m\u001b[0;34m:\u001b[0m\u001b[0;34m\u001b[0m\u001b[0;34m\u001b[0m\u001b[0m\n\u001b[0;32m-> 1476\u001b[0;31m                 \u001b[0mutil\u001b[0m\u001b[0;34m.\u001b[0m\u001b[0mraise_from_cause\u001b[0m\u001b[0;34m(\u001b[0m\u001b[0msqlalchemy_exception\u001b[0m\u001b[0;34m,\u001b[0m \u001b[0mexc_info\u001b[0m\u001b[0;34m)\u001b[0m\u001b[0;34m\u001b[0m\u001b[0;34m\u001b[0m\u001b[0m\n\u001b[0m\u001b[1;32m   1477\u001b[0m             \u001b[0;32melse\u001b[0m\u001b[0;34m:\u001b[0m\u001b[0;34m\u001b[0m\u001b[0;34m\u001b[0m\u001b[0m\n\u001b[1;32m   1478\u001b[0m                 \u001b[0mutil\u001b[0m\u001b[0;34m.\u001b[0m\u001b[0mreraise\u001b[0m\u001b[0;34m(\u001b[0m\u001b[0;34m*\u001b[0m\u001b[0mexc_info\u001b[0m\u001b[0;34m)\u001b[0m\u001b[0;34m\u001b[0m\u001b[0;34m\u001b[0m\u001b[0m\n",
            "\u001b[0;32m/usr/local/lib/python3.6/dist-packages/sqlalchemy/util/compat.py\u001b[0m in \u001b[0;36mraise_from_cause\u001b[0;34m(exception, exc_info)\u001b[0m\n\u001b[1;32m    396\u001b[0m     \u001b[0mexc_type\u001b[0m\u001b[0;34m,\u001b[0m \u001b[0mexc_value\u001b[0m\u001b[0;34m,\u001b[0m \u001b[0mexc_tb\u001b[0m \u001b[0;34m=\u001b[0m \u001b[0mexc_info\u001b[0m\u001b[0;34m\u001b[0m\u001b[0;34m\u001b[0m\u001b[0m\n\u001b[1;32m    397\u001b[0m     \u001b[0mcause\u001b[0m \u001b[0;34m=\u001b[0m \u001b[0mexc_value\u001b[0m \u001b[0;32mif\u001b[0m \u001b[0mexc_value\u001b[0m \u001b[0;32mis\u001b[0m \u001b[0;32mnot\u001b[0m \u001b[0mexception\u001b[0m \u001b[0;32melse\u001b[0m \u001b[0;32mNone\u001b[0m\u001b[0;34m\u001b[0m\u001b[0;34m\u001b[0m\u001b[0m\n\u001b[0;32m--> 398\u001b[0;31m     \u001b[0mreraise\u001b[0m\u001b[0;34m(\u001b[0m\u001b[0mtype\u001b[0m\u001b[0;34m(\u001b[0m\u001b[0mexception\u001b[0m\u001b[0;34m)\u001b[0m\u001b[0;34m,\u001b[0m \u001b[0mexception\u001b[0m\u001b[0;34m,\u001b[0m \u001b[0mtb\u001b[0m\u001b[0;34m=\u001b[0m\u001b[0mexc_tb\u001b[0m\u001b[0;34m,\u001b[0m \u001b[0mcause\u001b[0m\u001b[0;34m=\u001b[0m\u001b[0mcause\u001b[0m\u001b[0;34m)\u001b[0m\u001b[0;34m\u001b[0m\u001b[0;34m\u001b[0m\u001b[0m\n\u001b[0m\u001b[1;32m    399\u001b[0m \u001b[0;34m\u001b[0m\u001b[0m\n\u001b[1;32m    400\u001b[0m \u001b[0;34m\u001b[0m\u001b[0m\n",
            "\u001b[0;32m/usr/local/lib/python3.6/dist-packages/sqlalchemy/util/compat.py\u001b[0m in \u001b[0;36mreraise\u001b[0;34m(tp, value, tb, cause)\u001b[0m\n\u001b[1;32m    150\u001b[0m             \u001b[0mvalue\u001b[0m\u001b[0;34m.\u001b[0m\u001b[0m__cause__\u001b[0m \u001b[0;34m=\u001b[0m \u001b[0mcause\u001b[0m\u001b[0;34m\u001b[0m\u001b[0;34m\u001b[0m\u001b[0m\n\u001b[1;32m    151\u001b[0m         \u001b[0;32mif\u001b[0m \u001b[0mvalue\u001b[0m\u001b[0;34m.\u001b[0m\u001b[0m__traceback__\u001b[0m \u001b[0;32mis\u001b[0m \u001b[0;32mnot\u001b[0m \u001b[0mtb\u001b[0m\u001b[0;34m:\u001b[0m\u001b[0;34m\u001b[0m\u001b[0;34m\u001b[0m\u001b[0m\n\u001b[0;32m--> 152\u001b[0;31m             \u001b[0;32mraise\u001b[0m \u001b[0mvalue\u001b[0m\u001b[0;34m.\u001b[0m\u001b[0mwith_traceback\u001b[0m\u001b[0;34m(\u001b[0m\u001b[0mtb\u001b[0m\u001b[0;34m)\u001b[0m\u001b[0;34m\u001b[0m\u001b[0;34m\u001b[0m\u001b[0m\n\u001b[0m\u001b[1;32m    153\u001b[0m         \u001b[0;32mraise\u001b[0m \u001b[0mvalue\u001b[0m\u001b[0;34m\u001b[0m\u001b[0;34m\u001b[0m\u001b[0m\n\u001b[1;32m    154\u001b[0m \u001b[0;34m\u001b[0m\u001b[0m\n",
            "\u001b[0;32m/usr/local/lib/python3.6/dist-packages/sqlalchemy/engine/base.py\u001b[0m in \u001b[0;36m_execute_context\u001b[0;34m(self, dialect, constructor, statement, parameters, *args)\u001b[0m\n\u001b[1;32m   1244\u001b[0m                 \u001b[0;32mif\u001b[0m \u001b[0;32mnot\u001b[0m \u001b[0mevt_handled\u001b[0m\u001b[0;34m:\u001b[0m\u001b[0;34m\u001b[0m\u001b[0;34m\u001b[0m\u001b[0m\n\u001b[1;32m   1245\u001b[0m                     self.dialect.do_execute(\n\u001b[0;32m-> 1246\u001b[0;31m                         \u001b[0mcursor\u001b[0m\u001b[0;34m,\u001b[0m \u001b[0mstatement\u001b[0m\u001b[0;34m,\u001b[0m \u001b[0mparameters\u001b[0m\u001b[0;34m,\u001b[0m \u001b[0mcontext\u001b[0m\u001b[0;34m\u001b[0m\u001b[0;34m\u001b[0m\u001b[0m\n\u001b[0m\u001b[1;32m   1247\u001b[0m                     )\n\u001b[1;32m   1248\u001b[0m         \u001b[0;32mexcept\u001b[0m \u001b[0mBaseException\u001b[0m \u001b[0;32mas\u001b[0m \u001b[0me\u001b[0m\u001b[0;34m:\u001b[0m\u001b[0;34m\u001b[0m\u001b[0;34m\u001b[0m\u001b[0m\n",
            "\u001b[0;32m/usr/local/lib/python3.6/dist-packages/sqlalchemy/engine/default.py\u001b[0m in \u001b[0;36mdo_execute\u001b[0;34m(self, cursor, statement, parameters, context)\u001b[0m\n\u001b[1;32m    586\u001b[0m \u001b[0;34m\u001b[0m\u001b[0m\n\u001b[1;32m    587\u001b[0m     \u001b[0;32mdef\u001b[0m \u001b[0mdo_execute\u001b[0m\u001b[0;34m(\u001b[0m\u001b[0mself\u001b[0m\u001b[0;34m,\u001b[0m \u001b[0mcursor\u001b[0m\u001b[0;34m,\u001b[0m \u001b[0mstatement\u001b[0m\u001b[0;34m,\u001b[0m \u001b[0mparameters\u001b[0m\u001b[0;34m,\u001b[0m \u001b[0mcontext\u001b[0m\u001b[0;34m=\u001b[0m\u001b[0;32mNone\u001b[0m\u001b[0;34m)\u001b[0m\u001b[0;34m:\u001b[0m\u001b[0;34m\u001b[0m\u001b[0;34m\u001b[0m\u001b[0m\n\u001b[0;32m--> 588\u001b[0;31m         \u001b[0mcursor\u001b[0m\u001b[0;34m.\u001b[0m\u001b[0mexecute\u001b[0m\u001b[0;34m(\u001b[0m\u001b[0mstatement\u001b[0m\u001b[0;34m,\u001b[0m \u001b[0mparameters\u001b[0m\u001b[0;34m)\u001b[0m\u001b[0;34m\u001b[0m\u001b[0;34m\u001b[0m\u001b[0m\n\u001b[0m\u001b[1;32m    589\u001b[0m \u001b[0;34m\u001b[0m\u001b[0m\n\u001b[1;32m    590\u001b[0m     \u001b[0;32mdef\u001b[0m \u001b[0mdo_execute_no_params\u001b[0m\u001b[0;34m(\u001b[0m\u001b[0mself\u001b[0m\u001b[0;34m,\u001b[0m \u001b[0mcursor\u001b[0m\u001b[0;34m,\u001b[0m \u001b[0mstatement\u001b[0m\u001b[0;34m,\u001b[0m \u001b[0mcontext\u001b[0m\u001b[0;34m=\u001b[0m\u001b[0;32mNone\u001b[0m\u001b[0;34m)\u001b[0m\u001b[0;34m:\u001b[0m\u001b[0;34m\u001b[0m\u001b[0;34m\u001b[0m\u001b[0m\n",
            "\u001b[0;31mOperationalError\u001b[0m: (sqlite3.OperationalError) no such table: Employee\n[SQL: SELECT LastName, Title FROM Employee]\n(Background on this error at: http://sqlalche.me/e/e3q8)"
          ]
        }
      ]
    },
    {
      "cell_type": "code",
      "metadata": {
        "id": "R3QVVDiuxkb-",
        "colab_type": "code",
        "colab": {}
      },
      "source": [
        "  LastName                Title\n",
        "0    Adams      General Manager\n",
        "1  Edwards        Sales Manager\n",
        "2  Peacock  Sales Support Agent"
      ],
      "execution_count": 0,
      "outputs": []
    },
    {
      "cell_type": "markdown",
      "metadata": {
        "id": "3YQpjVy_xkcD",
        "colab_type": "text"
      },
      "source": [
        "# Filtering your database records using SQL's WHERE\n",
        "You can now execute a basic SQL query to select records from any table in your database and you can also perform simple query customizations to select particular columns and numbers of rows.\n",
        "There are a couple more standard SQL query chops that will aid you in your journey to becoming an SQL ninja.\n",
        "Let's say, for example that you wanted to get all records from the Customer table of the Chinook database for which the Country is 'Canada'. You can do this very easily in SQL using a SELECT statement followed by a WHERE clause as follows:\n",
        "SELECT * FROM Customer WHERE Country = 'Canada'\n",
        "In fact, you can filter any SELECT statement by any condition using a WHERE clause. This is called filtering your records.\n",
        "In this interactive exercise, you'll select all records of the Employee table for which 'EmployeeId' is greater than or equal to 6.\n",
        "Packages are already imported as follows:\n",
        "import pandas as pd\n",
        "from sqlalchemy import create_engine\n",
        "Query away!\n",
        "\n",
        "**Instructions**\n",
        "\n",
        "Complete the argument of create_engine() so that the engine for the SQLite database 'Chinook.sqlite' is created.\n",
        "Execute the query that selects all records from the Employee table where 'EmployeeId' is greater than or equal to 6. Use the >= operator and assign the results to rs.\n",
        "Apply the method fetchall() to rs in order to fetch all records in rs. Store them in the DataFrame df.\n",
        "Using the rs object, set the DataFrame's column names to the corresponding names of the table columns."
      ]
    },
    {
      "cell_type": "code",
      "metadata": {
        "id": "_HQClR4qxkcF",
        "colab_type": "code",
        "colab": {}
      },
      "source": [
        "# Create engine: engine\n",
        "engine = create_engine('sqlite:///Chinook.sqlite')\n",
        "\n",
        "# Open engine in context manager\n",
        "# Perform query and save results to DataFrame: df\n",
        "with engine.connect() as con:\n",
        "    rs = con.execute(\"SELECT * FROM Employee WHERE EmployeeId >= 6\")\n",
        "    df = pd.DataFrame(rs.fetchall())\n",
        "    df.columns = rs.keys()\n",
        "\n",
        "# Print the head of the DataFrame df\n",
        "print(df.head())"
      ],
      "execution_count": 0,
      "outputs": []
    },
    {
      "cell_type": "code",
      "metadata": {
        "id": "-5vIGlDnxkcJ",
        "colab_type": "code",
        "colab": {}
      },
      "source": [
        "  EmployeeId  LastName FirstName       Title  ReportsTo  ... Country PostalCode              Phone                Fax                    Email\n",
        "0           6  Mitchell   Michael  IT Manager          1  ...  Canada    T3B 0C5  +1 (403) 246-9887  +1 (403) 246-9899  michael@chinookcorp.com\n",
        "1           7      King    Robert    IT Staff          6  ...  Canada    T1K 5N8  +1 (403) 456-9986  +1 (403) 456-8485   robert@chinookcorp.com\n",
        "2           8  Callahan     Laura    IT Staff          6  ...  Canada    T1H 1Y8  +1 (403) 467-3351  +1 (403) 467-8772    laura@chinookcorp.com\n",
        "\n",
        "[3 rows x 15 columns]"
      ],
      "execution_count": 0,
      "outputs": []
    },
    {
      "cell_type": "markdown",
      "metadata": {
        "id": "jZlbCUGmxkcN",
        "colab_type": "text"
      },
      "source": [
        "# Ordering your SQL records with ORDER BY\n",
        "You can also order your SQL query results. For example, if you wanted to get all records from the Customer table of the Chinook database and order them in increasing order by the column SupportRepId, you could do so with the following query:\n",
        "\"SELECT * FROM Customer ORDER BY SupportRepId\"\n",
        "In fact, you can order any SELECT statement by any column.\n",
        "In this interactive exercise, you'll select all records of the Employee table and order them in increasing order by the column BirthDate.\n",
        "Packages are already imported as follows:\n",
        "import pandas as pd\n",
        "from sqlalchemy import create_engine\n",
        "Get querying!\n",
        "\n",
        "**Instructions**\n",
        "\n",
        "Using the function create_engine(), create an engine for the SQLite database Chinook.sqlite and assign it to the variable engine.\n",
        "In the context manager, execute the query that selects all records from the Employee table and orders them in increasing order by the column BirthDate. Assign the result to rs.\n",
        "In a call to pd.DataFrame(), apply the method fetchall() to rs in order to fetch all records in rs. Store them in the DataFrame df.\n",
        "Set the DataFrame's column names to the corresponding names of the table columns."
      ]
    },
    {
      "cell_type": "code",
      "metadata": {
        "id": "zPWtgWByxkcP",
        "colab_type": "code",
        "colab": {}
      },
      "source": [
        "# Create engine: engine\n",
        "engine = create_engine('sqlite:///Chinook.sqlite')\n",
        "\n",
        "# Open engine in context manager\n",
        "with engine.connect() as con:\n",
        "    rs = con.execute(\"SELECT * FROM Employee ORDER BY BirthDate\")\n",
        "    df = pd.DataFrame(rs.fetchall())\n",
        "\n",
        "    # Set the DataFrame's column names\n",
        "    df.columns = rs.keys()\n",
        "\n",
        "# Print head of DataFrame\n",
        "print(df.head())\n"
      ],
      "execution_count": 0,
      "outputs": []
    },
    {
      "cell_type": "code",
      "metadata": {
        "id": "n1j0FkLDxkcU",
        "colab_type": "code",
        "colab": {}
      },
      "source": [
        "  EmployeeId  LastName FirstName                Title  ReportsTo  ... Country PostalCode              Phone                Fax                     Email\n",
        "0           4      Park  Margaret  Sales Support Agent        2.0  ...  Canada    T2P 5G3  +1 (403) 263-4423  +1 (403) 263-4289  margaret@chinookcorp.com\n",
        "1           2   Edwards     Nancy        Sales Manager        1.0  ...  Canada    T2P 2T3  +1 (403) 262-3443  +1 (403) 262-3322     nancy@chinookcorp.com\n",
        "2           1     Adams    Andrew      General Manager        NaN  ...  Canada    T5K 2N1  +1 (780) 428-9482  +1 (780) 428-3457    andrew@chinookcorp.com\n",
        "3           5   Johnson     Steve  Sales Support Agent        2.0  ...  Canada    T3B 1Y7   1 (780) 836-9987   1 (780) 836-9543     steve@chinookcorp.com\n",
        "4           8  Callahan     Laura             IT Staff        6.0  ...  Canada    T1H 1Y8  +1 (403) 467-3351  +1 (403) 467-8772     laura@chinookcorp.com\n",
        "\n",
        "[5 rows x 15 columns]"
      ],
      "execution_count": 0,
      "outputs": []
    },
    {
      "cell_type": "markdown",
      "metadata": {
        "id": "7C-UllHexkcX",
        "colab_type": "text"
      },
      "source": [
        "# Pandas and The Hello World of SQL Queries!\n",
        "Here, you'll take advantage of the power of pandas to write the results of your SQL query to a DataFrame in one swift line of Python code!\n",
        "You'll first import pandas and create the SQLite 'Chinook.sqlite' engine. Then you'll query the database to select all records from the Album table.\n",
        "Recall that to select all records from the Orders table in the Northwind database, Hugo executed the following command:\n",
        "df = pd.read_sql_query(\"SELECT * FROM Orders\", engine)\n",
        "\n",
        "**Instructions**\n",
        "\n",
        "Import the pandas package using the alias pd.\n",
        "Using the function create_engine(), create an engine for the SQLite database Chinook.sqlite and assign it to the variable engine.\n",
        "Use the pandas function read_sql_query() to assign to the variable df the DataFrame of results from the following query: select all records from the table Album.\n",
        "The remainder of the code is included to confirm that the DataFrame created by this method is equal to that created by the previous method that you learned."
      ]
    },
    {
      "cell_type": "code",
      "metadata": {
        "id": "5HlnH8H3xkcY",
        "colab_type": "code",
        "colab": {}
      },
      "source": [
        "# Import packages\n",
        "from sqlalchemy import create_engine\n",
        "import pandas as pd\n",
        "\n",
        "# Create engine: engine\n",
        "engine = create_engine('sqlite:///Chinook.sqlite')\n",
        "\n",
        "# Execute query and store records in DataFrame: df\n",
        "df = pd.read_sql_query(\"SELECT * FROM Album\", engine)\n",
        "\n",
        "# Print head of DataFrame\n",
        "print(df.head())\n",
        "\n",
        "# Open engine in context manager and store query result in df1\n",
        "with engine.connect() as con:\n",
        "    rs = con.execute(\"SELECT * FROM Album\")\n",
        "    df1 = pd.DataFrame(rs.fetchall())\n",
        "    df1.columns = rs.keys()\n",
        "\n",
        "# Confirm that both methods yield the same result\n",
        "print(df.equals(df1))"
      ],
      "execution_count": 0,
      "outputs": []
    },
    {
      "cell_type": "code",
      "metadata": {
        "id": "KG8v_GZhxkcb",
        "colab_type": "code",
        "colab": {}
      },
      "source": [
        "   AlbumId                                  Title  ArtistId\n",
        "0        1  For Those About To Rock We Salute You         1\n",
        "1        2                      Balls to the Wall         2\n",
        "2        3                      Restless and Wild         2\n",
        "3        4                      Let There Be Rock         1\n",
        "4        5                               Big Ones         3\n",
        "True"
      ],
      "execution_count": 0,
      "outputs": []
    },
    {
      "cell_type": "markdown",
      "metadata": {
        "id": "7W-zsl3Sxkcg",
        "colab_type": "text"
      },
      "source": [
        "# Pandas for more complex querying\n",
        "Here, you'll become more familiar with the pandas function read_sql_query() by using it to execute a more complex query: a SELECT statement followed by both a WHERE clause AND an ORDER BY clause.\n",
        "You'll build a DataFrame that contains the rows of the Employee table for which the EmployeeId is greater than or equal to 6 and you'll order these entries by BirthDate.\n",
        "\n",
        "**Instructions**\n",
        "\n",
        "Using the function create_engine(), create an engine for the SQLite database Chinook.sqlite and assign it to the variable engine.\n",
        "Use the pandas function read_sql_query() to assign to the variable df the DataFrame of results from the following query: select all records from the Employee table where the EmployeeId is greater than or equal to 6 and ordered by BirthDate (make sure to use WHERE and ORDER BY in this precise order)."
      ]
    },
    {
      "cell_type": "code",
      "metadata": {
        "id": "TMPnMhJfxkch",
        "colab_type": "code",
        "colab": {}
      },
      "source": [
        "# Import packages\n",
        "from sqlalchemy import create_engine\n",
        "import pandas as pd\n",
        "\n",
        "# Create engine: engine\n",
        "engine = create_engine('sqlite:///Chinook.sqlite')\n",
        "\n",
        "# Execute query and store records in DataFrame: df\n",
        "df = pd.read_sql_query(\n",
        "    \"SELECT * FROM Employee WHERE EmployeeId >= 6 ORDER BY BirthDate\",\n",
        "    engine\n",
        ")\n",
        "\n",
        "# Print head of DataFrame\n",
        "print(df.head())\n"
      ],
      "execution_count": 0,
      "outputs": []
    },
    {
      "cell_type": "code",
      "metadata": {
        "id": "bp4COsDFxkcl",
        "colab_type": "code",
        "colab": {}
      },
      "source": [
        " EmployeeId  LastName FirstName       Title  ReportsTo  ... Country PostalCode              Phone                Fax                    Email\n",
        "0           8  Callahan     Laura    IT Staff          6  ...  Canada    T1H 1Y8  +1 (403) 467-3351  +1 (403) 467-8772    laura@chinookcorp.com\n",
        "1           7      King    Robert    IT Staff          6  ...  Canada    T1K 5N8  +1 (403) 456-9986  +1 (403) 456-8485   robert@chinookcorp.com\n",
        "2           6  Mitchell   Michael  IT Manager          1  ...  Canada    T3B 0C5  +1 (403) 246-9887  +1 (403) 246-9899  michael@chinookcorp.com\n",
        "\n",
        "[3 rows x 15 columns]"
      ],
      "execution_count": 0,
      "outputs": []
    },
    {
      "cell_type": "markdown",
      "metadata": {
        "id": "x9Ec6SYvxkcp",
        "colab_type": "text"
      },
      "source": [
        "# The power of SQL lies in relationships between tables: INNER JOIN\n",
        "Here, you'll perform your first INNER JOIN! You'll be working with your favourite SQLite database, Chinook.sqlite. For each record in the Album table, you'll extract the Title along with the Name of the Artist. The latter will come from the Artist table and so you will need to INNER JOIN these two tables on the ArtistID column of both.\n",
        "Recall that to INNER JOIN the Orders and Customers tables from the Northwind database, Hugo executed the following SQL query:\n",
        "\"SELECT OrderID, CompanyName FROM Orders INNER JOIN Customers on Orders.CustomerID = Customers.CustomerID\"\n",
        "The following code has already been executed to import the necessary packages and to create the engine:\n",
        "import pandas as pd\n",
        "from sqlalchemy import create_engine\n",
        "engine = create_engine('sqlite:///Chinook.sqlite')\n",
        "\n",
        "**Instructions**\n",
        "\n",
        "Assign to rs the results from the following query: select all the records, extracting the Title of the record and Name of the artist of each record from the Album table and the Artist table, respectively. To do so, INNER JOIN these two tables on the ArtistID column of both.\n",
        "In a call to pd.DataFrame(), apply the method fetchall() to rs in order to fetch all records in rs. Store them in the DataFrame df.\n",
        "Set the DataFrame's column names to the corresponding names of the table columns."
      ]
    },
    {
      "cell_type": "code",
      "metadata": {
        "id": "-B7tFF7Fxkcp",
        "colab_type": "code",
        "colab": {}
      },
      "source": [
        "# Open engine in context manager\n",
        "# Perform query and save results to DataFrame: df\n",
        "with engine.connect() as con:\n",
        "    rs = con.execute(\"SELECT Title, Name FROM Album INNER JOIN Artist on Album.ArtistID = Artist.ArtistID\")\n",
        "    df = pd.DataFrame(rs.fetchall())\n",
        "    df.columns = rs.keys()\n",
        "\n",
        "# Print head of DataFrame df\n",
        "print(df.head())\n"
      ],
      "execution_count": 0,
      "outputs": []
    },
    {
      "cell_type": "code",
      "metadata": {
        "id": "lEEdA78sxkcv",
        "colab_type": "code",
        "colab": {}
      },
      "source": [
        "<script.py> output:\n",
        "                                       Title       Name\n",
        "    0  For Those About To Rock We Salute You      AC/DC\n",
        "    1                      Balls to the Wall     Accept\n",
        "    2                      Restless and Wild     Accept\n",
        "    3                      Let There Be Rock      AC/DC\n",
        "    4                               Big Ones  Aerosmith"
      ],
      "execution_count": 0,
      "outputs": []
    },
    {
      "cell_type": "markdown",
      "metadata": {
        "id": "UswNYcnQxkc1",
        "colab_type": "text"
      },
      "source": [
        "# Filtering your INNER JOIN\n",
        "Congrats on performing your first INNER JOIN! You're now going to finish this chapter with one final exercise in which you perform an INNER JOIN and filter the result using a WHERE clause.\n",
        "Recall that to INNER JOIN the Orders and Customers tables from the Northwind database, Hugo executed the following SQL query:\n",
        "\"SELECT OrderID, CompanyName FROM Orders INNER JOIN Customers on Orders.CustomerID = Customers.CustomerID\"\n",
        "The following code has already been executed to import the necessary packages and to create the engine:\n",
        "import pandas as pd\n",
        "from sqlalchemy import create_engine\n",
        "engine = create_engine('sqlite:///Chinook.sqlite')\n",
        "\n",
        "**Instructions**\n",
        "\n",
        "Use the pandas function read_sql_query() to assign to the variable df the DataFrame of results from the following query: select all records from PlaylistTrack INNER JOIN Track on PlaylistTrack.TrackId = Track.TrackId that satisfy the condition Milliseconds < 250000"
      ]
    },
    {
      "cell_type": "code",
      "metadata": {
        "id": "HUJ2ufP4xkc3",
        "colab_type": "code",
        "colab": {}
      },
      "source": [
        "# Execute query and store records in DataFrame: df\n",
        "df = pd.read_sql_query(\n",
        "    \"SELECT * FROM PlaylistTrack INNER JOIN Track ON PlaylistTrack.TrackId = Track.TrackId WHERE Milliseconds < 250000\",\n",
        "    engine\n",
        ")\n",
        "\n",
        "# Print head of DataFrame\n",
        "print(df.head())"
      ],
      "execution_count": 0,
      "outputs": []
    },
    {
      "cell_type": "code",
      "metadata": {
        "id": "CW6BuiHtxkc8",
        "colab_type": "code",
        "colab": {}
      },
      "source": [
        "<script.py> output:\n",
        "       PlaylistId  TrackId  TrackId              Name  AlbumId  ...  GenreId  Composer Milliseconds    Bytes  UnitPrice\n",
        "    0           1     3390     3390  One and the Same      271  ...       23      None       217732  3559040       0.99\n",
        "    1           1     3392     3392     Until We Fall      271  ...       23      None       230758  3766605       0.99\n",
        "    2           1     3393     3393     Original Fire      271  ...       23      None       218916  3577821       0.99\n",
        "    3           1     3394     3394       Broken City      271  ...       23      None       228366  3728955       0.99\n",
        "    4           1     3395     3395          Somedays      271  ...       23      None       213831  3497176       0.99\n",
        "    \n",
        "    [5 rows x 11 columns]"
      ],
      "execution_count": 0,
      "outputs": []
    },
    {
      "cell_type": "code",
      "metadata": {
        "id": "mDYNZXcJxkdA",
        "colab_type": "code",
        "colab": {}
      },
      "source": [
        ""
      ],
      "execution_count": 0,
      "outputs": []
    }
  ]
}