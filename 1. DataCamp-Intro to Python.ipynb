{
  "nbformat": 4,
  "nbformat_minor": 0,
  "metadata": {
    "kernelspec": {
      "display_name": "Python 3",
      "language": "python",
      "name": "python3"
    },
    "language_info": {
      "codemirror_mode": {
        "name": "ipython",
        "version": 3
      },
      "file_extension": ".py",
      "mimetype": "text/x-python",
      "name": "python",
      "nbconvert_exporter": "python",
      "pygments_lexer": "ipython3",
      "version": "3.6.4"
    },
    "colab": {
      "name": "1. DataCamp-Intro to Python.ipynb",
      "provenance": [],
      "include_colab_link": true
    }
  },
  "cells": [
    {
      "cell_type": "markdown",
      "metadata": {
        "id": "view-in-github",
        "colab_type": "text"
      },
      "source": [
        "<a href=\"https://colab.research.google.com/github/nityanandkore/Python-Study-Repo/blob/master/1.%20DataCamp-Intro%20to%20Python.ipynb\" target=\"_parent\"><img src=\"https://colab.research.google.com/assets/colab-badge.svg\" alt=\"Open In Colab\"/></a>"
      ]
    },
    {
      "cell_type": "code",
      "metadata": {
        "id": "VF3Z5jQGToYX",
        "colab_type": "code",
        "colab": {}
      },
      "source": [
        ""
      ],
      "execution_count": 0,
      "outputs": []
    },
    {
      "cell_type": "code",
      "metadata": {
        "id": "yIwMU13eToYm",
        "colab_type": "code",
        "colab": {
          "base_uri": "https://localhost:8080/",
          "height": 34
        },
        "outputId": "79a21fd5-55a7-4564-abdd-b9c824b8f03b"
      },
      "source": [
        "print(\"Hello World\")"
      ],
      "execution_count": 104,
      "outputs": [
        {
          "output_type": "stream",
          "text": [
            "Hello World\n"
          ],
          "name": "stdout"
        }
      ]
    },
    {
      "cell_type": "markdown",
      "metadata": {
        "id": "kBF1epTRToYv",
        "colab_type": "text"
      },
      "source": [
        "Example, do not modify!"
      ]
    },
    {
      "cell_type": "code",
      "metadata": {
        "id": "L69cEDOUToYy",
        "colab_type": "code",
        "colab": {
          "base_uri": "https://localhost:8080/",
          "height": 34
        },
        "outputId": "d068d005-e32a-41ea-9fc8-2a98f09b3ba0"
      },
      "source": [
        "print(5 / 8)"
      ],
      "execution_count": 105,
      "outputs": [
        {
          "output_type": "stream",
          "text": [
            "0.625\n"
          ],
          "name": "stdout"
        }
      ]
    },
    {
      "cell_type": "markdown",
      "metadata": {
        "id": "NnzoRiE8ToY6",
        "colab_type": "text"
      },
      "source": [
        "Print the sum of 7 and 10"
      ]
    },
    {
      "cell_type": "code",
      "metadata": {
        "id": "9FXuMHc8ToY8",
        "colab_type": "code",
        "colab": {
          "base_uri": "https://localhost:8080/",
          "height": 34
        },
        "outputId": "b7b6e771-8219-4298-e187-9e7decf72038"
      },
      "source": [
        "print(7+ 10)"
      ],
      "execution_count": 106,
      "outputs": [
        {
          "output_type": "stream",
          "text": [
            "17\n"
          ],
          "name": "stdout"
        }
      ]
    },
    {
      "cell_type": "markdown",
      "metadata": {
        "id": "iS34OKj1ToZB",
        "colab_type": "text"
      },
      "source": [
        "Addition, subtraction"
      ]
    },
    {
      "cell_type": "code",
      "metadata": {
        "id": "6bd_G1aNToZC",
        "colab_type": "code",
        "colab": {
          "base_uri": "https://localhost:8080/",
          "height": 51
        },
        "outputId": "8b760c7e-0295-4aa5-e7bc-6dc0e209a35d"
      },
      "source": [
        "print(5 + 5)\n",
        "print(5 - 5)"
      ],
      "execution_count": 107,
      "outputs": [
        {
          "output_type": "stream",
          "text": [
            "10\n",
            "0\n"
          ],
          "name": "stdout"
        }
      ]
    },
    {
      "cell_type": "markdown",
      "metadata": {
        "id": "HY-9ZCcgToZL",
        "colab_type": "text"
      },
      "source": [
        "Multiplication, division, modulo, and exponentiation"
      ]
    },
    {
      "cell_type": "code",
      "metadata": {
        "id": "HeoigQfIToZN",
        "colab_type": "code",
        "colab": {
          "base_uri": "https://localhost:8080/",
          "height": 85
        },
        "outputId": "a9887a4e-c679-4682-b058-772d55ffa723"
      },
      "source": [
        "print(3 * 5)\n",
        "print(10 / 2)\n",
        "print(18 % 7)\n",
        "print(4 ** 2)"
      ],
      "execution_count": 108,
      "outputs": [
        {
          "output_type": "stream",
          "text": [
            "15\n",
            "5.0\n",
            "4\n",
            "16\n"
          ],
          "name": "stdout"
        }
      ]
    },
    {
      "cell_type": "markdown",
      "metadata": {
        "id": "nFI9lkGmToZY",
        "colab_type": "text"
      },
      "source": [
        "How much is your $100 worth after 7 years?"
      ]
    },
    {
      "cell_type": "code",
      "metadata": {
        "id": "TsNDDudwToZc",
        "colab_type": "code",
        "colab": {
          "base_uri": "https://localhost:8080/",
          "height": 34
        },
        "outputId": "c485aa7f-a57d-45e3-8d28-65d67b644da2"
      },
      "source": [
        "print(100 * (1.1 ** 7))"
      ],
      "execution_count": 109,
      "outputs": [
        {
          "output_type": "stream",
          "text": [
            "194.87171000000012\n"
          ],
          "name": "stdout"
        }
      ]
    },
    {
      "cell_type": "markdown",
      "metadata": {
        "id": "RPsRcH_LToZj",
        "colab_type": "text"
      },
      "source": [
        "Create a variable savings"
      ]
    },
    {
      "cell_type": "code",
      "metadata": {
        "id": "HHYVT7hCToZl",
        "colab_type": "code",
        "colab": {}
      },
      "source": [
        "savings=100"
      ],
      "execution_count": 0,
      "outputs": []
    },
    {
      "cell_type": "markdown",
      "metadata": {
        "id": "2jk70Em4ToZt",
        "colab_type": "text"
      },
      "source": [
        "rint out savings"
      ]
    },
    {
      "cell_type": "code",
      "metadata": {
        "id": "vTt5Iz1IToZw",
        "colab_type": "code",
        "colab": {
          "base_uri": "https://localhost:8080/",
          "height": 34
        },
        "outputId": "dfffe002-8563-4bcb-dd48-34abf5c7eab9"
      },
      "source": [
        "print(savings)"
      ],
      "execution_count": 111,
      "outputs": [
        {
          "output_type": "stream",
          "text": [
            "100\n"
          ],
          "name": "stdout"
        }
      ]
    },
    {
      "cell_type": "markdown",
      "metadata": {
        "id": "xyr9vxaWToZ4",
        "colab_type": "text"
      },
      "source": [
        "Create a variable savings"
      ]
    },
    {
      "cell_type": "code",
      "metadata": {
        "id": "R87DCIHkToZ6",
        "colab_type": "code",
        "colab": {}
      },
      "source": [
        "savings = 100"
      ],
      "execution_count": 0,
      "outputs": []
    },
    {
      "cell_type": "markdown",
      "metadata": {
        "id": "KDc0phupToaA",
        "colab_type": "text"
      },
      "source": [
        "Create a variable growth_multiplier"
      ]
    },
    {
      "cell_type": "code",
      "metadata": {
        "id": "HNyIBThHToaC",
        "colab_type": "code",
        "colab": {}
      },
      "source": [
        "growth_multiplier=1.1"
      ],
      "execution_count": 0,
      "outputs": []
    },
    {
      "cell_type": "markdown",
      "metadata": {
        "id": "1iYTFB0cToaH",
        "colab_type": "text"
      },
      "source": [
        "Calculate result"
      ]
    },
    {
      "cell_type": "code",
      "metadata": {
        "id": "4MJroTV3ToaJ",
        "colab_type": "code",
        "colab": {}
      },
      "source": [
        "result = savings * growth_multiplier **7"
      ],
      "execution_count": 0,
      "outputs": []
    },
    {
      "cell_type": "markdown",
      "metadata": {
        "id": "1eXTQgjqToaQ",
        "colab_type": "text"
      },
      "source": [
        "Print out result"
      ]
    },
    {
      "cell_type": "code",
      "metadata": {
        "id": "bF8WaJPAToaS",
        "colab_type": "code",
        "colab": {
          "base_uri": "https://localhost:8080/",
          "height": 34
        },
        "outputId": "1a154233-620f-4a55-966c-f335b78b6ea3"
      },
      "source": [
        "print(result)"
      ],
      "execution_count": 115,
      "outputs": [
        {
          "output_type": "stream",
          "text": [
            "194.87171000000012\n"
          ],
          "name": "stdout"
        }
      ]
    },
    {
      "cell_type": "markdown",
      "metadata": {
        "id": "gQmHu2crToaY",
        "colab_type": "text"
      },
      "source": [
        "Create a variable desc"
      ]
    },
    {
      "cell_type": "code",
      "metadata": {
        "id": "Ha_2UpVGToaa",
        "colab_type": "code",
        "colab": {}
      },
      "source": [
        "desc=\"compound interest\""
      ],
      "execution_count": 0,
      "outputs": []
    },
    {
      "cell_type": "markdown",
      "metadata": {
        "id": "tMMgtmqVToae",
        "colab_type": "text"
      },
      "source": [
        "Create a variable profitable"
      ]
    },
    {
      "cell_type": "code",
      "metadata": {
        "id": "f_D-sXmHToag",
        "colab_type": "code",
        "colab": {}
      },
      "source": [
        "profitable =True\n",
        "savings = 100\n",
        "growth_multiplier = 1.1\n",
        "desc = \"compound interest\""
      ],
      "execution_count": 0,
      "outputs": []
    },
    {
      "cell_type": "markdown",
      "metadata": {
        "id": "DPbTGL5OToak",
        "colab_type": "text"
      },
      "source": [
        "Assign product of growth_multiplier and savings to year1"
      ]
    },
    {
      "cell_type": "code",
      "metadata": {
        "id": "BU7zsDaZToal",
        "colab_type": "code",
        "colab": {}
      },
      "source": [
        "year1=savings*growth_multiplier"
      ],
      "execution_count": 0,
      "outputs": []
    },
    {
      "cell_type": "markdown",
      "metadata": {
        "id": "p0ot68KVToar",
        "colab_type": "text"
      },
      "source": [
        "Print the type of year1"
      ]
    },
    {
      "cell_type": "code",
      "metadata": {
        "id": "d-D6MC9_Toat",
        "colab_type": "code",
        "colab": {
          "base_uri": "https://localhost:8080/",
          "height": 34
        },
        "outputId": "04d5bd10-3cdf-4cf4-b7b8-ca643a2c742d"
      },
      "source": [
        "print(type(year1))"
      ],
      "execution_count": 119,
      "outputs": [
        {
          "output_type": "stream",
          "text": [
            "<class 'float'>\n"
          ],
          "name": "stdout"
        }
      ]
    },
    {
      "cell_type": "markdown",
      "metadata": {
        "id": "_13y2B8nToaz",
        "colab_type": "text"
      },
      "source": [
        "Assign sum of desc and desc to doubledesc"
      ]
    },
    {
      "cell_type": "code",
      "metadata": {
        "id": "9wR0MITzToa1",
        "colab_type": "code",
        "colab": {
          "base_uri": "https://localhost:8080/",
          "height": 34
        },
        "outputId": "95554527-d6a7-4de3-e505-da6d120ae407"
      },
      "source": [
        "doubledesc = desc + desc\n",
        "print(doubledesc)"
      ],
      "execution_count": 120,
      "outputs": [
        {
          "output_type": "stream",
          "text": [
            "compound interestcompound interest\n"
          ],
          "name": "stdout"
        }
      ]
    },
    {
      "cell_type": "markdown",
      "metadata": {
        "id": "cz57-XevToa5",
        "colab_type": "text"
      },
      "source": [
        "Definition of savings and result"
      ]
    },
    {
      "cell_type": "code",
      "metadata": {
        "id": "8ZX53qemToa8",
        "colab_type": "code",
        "colab": {}
      },
      "source": [
        "savings = 100\n",
        "result = 100 * 1.10 ** 7"
      ],
      "execution_count": 0,
      "outputs": []
    },
    {
      "cell_type": "markdown",
      "metadata": {
        "id": "ZsaaRv8VTobB",
        "colab_type": "text"
      },
      "source": [
        "Fix the printout"
      ]
    },
    {
      "cell_type": "code",
      "metadata": {
        "id": "1_vIBV2KTobC",
        "colab_type": "code",
        "colab": {
          "base_uri": "https://localhost:8080/",
          "height": 34
        },
        "outputId": "10d53945-ef52-4648-8327-c74145e40dca"
      },
      "source": [
        "print(\"I started with $\" + str(savings) + \" and now have $\" + str(result) + \". Awesome!\")"
      ],
      "execution_count": 122,
      "outputs": [
        {
          "output_type": "stream",
          "text": [
            "I started with $100 and now have $194.87171000000012. Awesome!\n"
          ],
          "name": "stdout"
        }
      ]
    },
    {
      "cell_type": "markdown",
      "metadata": {
        "id": "J8HBP3IbTobH",
        "colab_type": "text"
      },
      "source": [
        "Definition of pi_string"
      ]
    },
    {
      "cell_type": "code",
      "metadata": {
        "id": "04coM0rSTobJ",
        "colab_type": "code",
        "colab": {}
      },
      "source": [
        "pi_string = \"3.1415926\""
      ],
      "execution_count": 0,
      "outputs": []
    },
    {
      "cell_type": "markdown",
      "metadata": {
        "id": "oqf00YZKTobO",
        "colab_type": "text"
      },
      "source": [
        "Convert pi_string into float: pi_float"
      ]
    },
    {
      "cell_type": "code",
      "metadata": {
        "id": "75ETs7OgTobP",
        "colab_type": "code",
        "colab": {}
      },
      "source": [
        "pi_float=float(pi_string)"
      ],
      "execution_count": 0,
      "outputs": []
    },
    {
      "cell_type": "markdown",
      "metadata": {
        "id": "LlrxbQYXTobT",
        "colab_type": "text"
      },
      "source": [
        "area variables (in square meters)"
      ]
    },
    {
      "cell_type": "code",
      "metadata": {
        "id": "uCHdtbnZTobV",
        "colab_type": "code",
        "colab": {}
      },
      "source": [
        "hall = 11.25\n",
        "kit =  18.0\n",
        "liv =  20.0\n",
        "bed =  10.75\n",
        "bath = 9.50"
      ],
      "execution_count": 0,
      "outputs": []
    },
    {
      "cell_type": "markdown",
      "metadata": {
        "id": "8SHi9CzwToba",
        "colab_type": "text"
      },
      "source": [
        "Create list areas"
      ]
    },
    {
      "cell_type": "code",
      "metadata": {
        "id": "_KQkUdW4Tobc",
        "colab_type": "code",
        "colab": {}
      },
      "source": [
        "areas=[11.25,\n",
        "18.0,\n",
        "20.0,\n",
        "10.75,\n",
        "9.50\n",
        "]"
      ],
      "execution_count": 0,
      "outputs": []
    },
    {
      "cell_type": "markdown",
      "metadata": {
        "id": "z7RjnXIsTobm",
        "colab_type": "text"
      },
      "source": [
        "Print areas"
      ]
    },
    {
      "cell_type": "code",
      "metadata": {
        "id": "49x5tMVATobo",
        "colab_type": "code",
        "colab": {
          "base_uri": "https://localhost:8080/",
          "height": 34
        },
        "outputId": "84f22998-ef73-4863-ccac-53fd04cf86eb"
      },
      "source": [
        "print(areas)"
      ],
      "execution_count": 127,
      "outputs": [
        {
          "output_type": "stream",
          "text": [
            "[11.25, 18.0, 20.0, 10.75, 9.5]\n"
          ],
          "name": "stdout"
        }
      ]
    },
    {
      "cell_type": "markdown",
      "metadata": {
        "id": "p5kJPSmRTobw",
        "colab_type": "text"
      },
      "source": [
        "area variables (in square meters)"
      ]
    },
    {
      "cell_type": "code",
      "metadata": {
        "id": "djy22lVzTobx",
        "colab_type": "code",
        "colab": {}
      },
      "source": [
        "hall = 11.25\n",
        "kit = 18.0\n",
        "liv = 20.0\n",
        "bed = 10.75\n",
        "bath = 9.50"
      ],
      "execution_count": 0,
      "outputs": []
    },
    {
      "cell_type": "markdown",
      "metadata": {
        "id": "ZYI2VRFkTob0",
        "colab_type": "text"
      },
      "source": [
        "Adapt list areas"
      ]
    },
    {
      "cell_type": "code",
      "metadata": {
        "id": "9ZTZ8l38Tob1",
        "colab_type": "code",
        "colab": {}
      },
      "source": [
        "areas = [\"hallway\", hall, \"kitchen\", kit, \"living room\", liv, \"bedroom\", bed, \"bathroom\", bath]"
      ],
      "execution_count": 0,
      "outputs": []
    },
    {
      "cell_type": "markdown",
      "metadata": {
        "id": "kRDdy0rlTob-",
        "colab_type": "text"
      },
      "source": [
        "Print areas"
      ]
    },
    {
      "cell_type": "code",
      "metadata": {
        "id": "EWOEfY_lTob_",
        "colab_type": "code",
        "colab": {
          "base_uri": "https://localhost:8080/",
          "height": 34
        },
        "outputId": "07b1972e-3885-439e-d766-86181e1bd6eb"
      },
      "source": [
        "print(areas)"
      ],
      "execution_count": 130,
      "outputs": [
        {
          "output_type": "stream",
          "text": [
            "['hallway', 11.25, 'kitchen', 18.0, 'living room', 20.0, 'bedroom', 10.75, 'bathroom', 9.5]\n"
          ],
          "name": "stdout"
        }
      ]
    },
    {
      "cell_type": "code",
      "metadata": {
        "id": "H9tlzgSvTocD",
        "colab_type": "code",
        "colab": {
          "base_uri": "https://localhost:8080/",
          "height": 34
        },
        "outputId": "5c7b586f-dea0-48e2-e633-4d4e3efecb68"
      },
      "source": [
        "print('a'*5)"
      ],
      "execution_count": 131,
      "outputs": [
        {
          "output_type": "stream",
          "text": [
            "aaaaa\n"
          ],
          "name": "stdout"
        }
      ]
    },
    {
      "cell_type": "markdown",
      "metadata": {
        "id": "6OyUgDkkTocH",
        "colab_type": "text"
      },
      "source": [
        "area variables (in square meters)"
      ]
    },
    {
      "cell_type": "code",
      "metadata": {
        "id": "fXBVanNhTocJ",
        "colab_type": "code",
        "colab": {}
      },
      "source": [
        "hall = 11.25\n",
        "kit = 18.0\n",
        "liv = 20.0\n",
        "bed = 10.75\n",
        "bath = 9.50"
      ],
      "execution_count": 0,
      "outputs": []
    },
    {
      "cell_type": "markdown",
      "metadata": {
        "id": "92ILJDZ_TocO",
        "colab_type": "text"
      },
      "source": [
        "house information as list of lists"
      ]
    },
    {
      "cell_type": "code",
      "metadata": {
        "id": "j5di9PSUTocQ",
        "colab_type": "code",
        "colab": {}
      },
      "source": [
        "house = [[\"hallway\", hall],\n",
        "         [\"kitchen\", kit],\n",
        "         [\"living room\", liv],\n",
        "         [\"bedroom\", bed],\n",
        "         [\"bathroom\",bath]]"
      ],
      "execution_count": 0,
      "outputs": []
    },
    {
      "cell_type": "markdown",
      "metadata": {
        "id": "SaDPSBNNTocU",
        "colab_type": "text"
      },
      "source": [
        "Print out house"
      ]
    },
    {
      "cell_type": "code",
      "metadata": {
        "id": "Ieh8UYWXTocV",
        "colab_type": "code",
        "colab": {
          "base_uri": "https://localhost:8080/",
          "height": 34
        },
        "outputId": "86943a5b-926f-4cf5-b6e3-ba0b9ab7213c"
      },
      "source": [
        "print(house)"
      ],
      "execution_count": 134,
      "outputs": [
        {
          "output_type": "stream",
          "text": [
            "[['hallway', 11.25], ['kitchen', 18.0], ['living room', 20.0], ['bedroom', 10.75], ['bathroom', 9.5]]\n"
          ],
          "name": "stdout"
        }
      ]
    },
    {
      "cell_type": "markdown",
      "metadata": {
        "id": "OhM3fQ4UTocc",
        "colab_type": "text"
      },
      "source": [
        "Print out the type of house"
      ]
    },
    {
      "cell_type": "code",
      "metadata": {
        "id": "iIN9tifVToch",
        "colab_type": "code",
        "colab": {
          "base_uri": "https://localhost:8080/",
          "height": 34
        },
        "outputId": "b369236c-8a77-46cb-9ee6-3357fccff5b9"
      },
      "source": [
        "print(type(house))"
      ],
      "execution_count": 135,
      "outputs": [
        {
          "output_type": "stream",
          "text": [
            "<class 'list'>\n"
          ],
          "name": "stdout"
        }
      ]
    },
    {
      "cell_type": "markdown",
      "metadata": {
        "id": "yuKA1sMbTocr",
        "colab_type": "text"
      },
      "source": [
        "Create the areas list"
      ]
    },
    {
      "cell_type": "code",
      "metadata": {
        "id": "xaOHJGfKTocu",
        "colab_type": "code",
        "colab": {}
      },
      "source": [
        "areas = [\"hallway\", 11.25, \"kitchen\", 18.0, \"living room\", 20.0, \"bedroom\", 10.75, \"bathroom\", 9.50]"
      ],
      "execution_count": 0,
      "outputs": []
    },
    {
      "cell_type": "markdown",
      "metadata": {
        "id": "ogPQuDirToc0",
        "colab_type": "text"
      },
      "source": [
        "Print out second element from areas"
      ]
    },
    {
      "cell_type": "code",
      "metadata": {
        "id": "2cAY1aDAToc0",
        "colab_type": "code",
        "colab": {
          "base_uri": "https://localhost:8080/",
          "height": 34
        },
        "outputId": "933fd439-3bab-4c3e-a6cd-dec8fa1ba1e6"
      },
      "source": [
        "print(areas[1])"
      ],
      "execution_count": 137,
      "outputs": [
        {
          "output_type": "stream",
          "text": [
            "11.25\n"
          ],
          "name": "stdout"
        }
      ]
    },
    {
      "cell_type": "markdown",
      "metadata": {
        "id": "6Y6jvRvUToc-",
        "colab_type": "text"
      },
      "source": [
        "Print out last element from areas"
      ]
    },
    {
      "cell_type": "code",
      "metadata": {
        "id": "E9DP0vDATodA",
        "colab_type": "code",
        "colab": {
          "base_uri": "https://localhost:8080/",
          "height": 34
        },
        "outputId": "3089f8c0-5657-4f9f-ac37-3a02f60b3b91"
      },
      "source": [
        "print(areas[-1])"
      ],
      "execution_count": 138,
      "outputs": [
        {
          "output_type": "stream",
          "text": [
            "9.5\n"
          ],
          "name": "stdout"
        }
      ]
    },
    {
      "cell_type": "markdown",
      "metadata": {
        "id": "AlD4KTcoTodE",
        "colab_type": "text"
      },
      "source": [
        "Print out the area of the living room"
      ]
    },
    {
      "cell_type": "code",
      "metadata": {
        "id": "u-qSsukvTodH",
        "colab_type": "code",
        "colab": {
          "base_uri": "https://localhost:8080/",
          "height": 34
        },
        "outputId": "a96117c2-f313-4244-c499-b7bfe6e3a7dc"
      },
      "source": [
        "print(areas[5])\n",
        "# Create the areas list\n",
        "areas = [\"hallway\", 11.25, \"kitchen\", 18.0, \"living room\", 20.0, \"bedroom\", 10.75, \"bathroom\", 9.50]"
      ],
      "execution_count": 139,
      "outputs": [
        {
          "output_type": "stream",
          "text": [
            "20.0\n"
          ],
          "name": "stdout"
        }
      ]
    },
    {
      "cell_type": "markdown",
      "metadata": {
        "id": "b38Z8i7qTodN",
        "colab_type": "text"
      },
      "source": [
        "Sum of kitchen and bedroom area: eat_sleep_area"
      ]
    },
    {
      "cell_type": "code",
      "metadata": {
        "id": "c8ZwAiShTodQ",
        "colab_type": "code",
        "colab": {}
      },
      "source": [
        "eat_sleep_area = areas[3] + areas[7]"
      ],
      "execution_count": 0,
      "outputs": []
    },
    {
      "cell_type": "markdown",
      "metadata": {
        "id": "agFh4QflTodV",
        "colab_type": "text"
      },
      "source": [
        "Print the variable eat_sleep_area"
      ]
    },
    {
      "cell_type": "code",
      "metadata": {
        "id": "iDCXcMTZTodX",
        "colab_type": "code",
        "colab": {
          "base_uri": "https://localhost:8080/",
          "height": 34
        },
        "outputId": "c82c66d5-b69c-4e44-8360-085748886355"
      },
      "source": [
        "print(eat_sleep_area)"
      ],
      "execution_count": 141,
      "outputs": [
        {
          "output_type": "stream",
          "text": [
            "28.75\n"
          ],
          "name": "stdout"
        }
      ]
    },
    {
      "cell_type": "markdown",
      "metadata": {
        "id": "Pn1G-htEToda",
        "colab_type": "text"
      },
      "source": [
        "Create the areas list"
      ]
    },
    {
      "cell_type": "code",
      "metadata": {
        "id": "SfRCJtxwTodb",
        "colab_type": "code",
        "colab": {}
      },
      "source": [
        "areas = [\"hallway\", 11.25, \"kitchen\", 18.0, \"living room\", 20.0, \"bedroom\", 10.75, \"bathroom\", 9.50]"
      ],
      "execution_count": 0,
      "outputs": []
    },
    {
      "cell_type": "markdown",
      "metadata": {
        "id": "qAAca9utTode",
        "colab_type": "text"
      },
      "source": [
        "Use slicing to create downstairs"
      ]
    },
    {
      "cell_type": "code",
      "metadata": {
        "id": "IfZMqF06Todg",
        "colab_type": "code",
        "colab": {}
      },
      "source": [
        "downstairs=areas[0:6]"
      ],
      "execution_count": 0,
      "outputs": []
    },
    {
      "cell_type": "markdown",
      "metadata": {
        "id": "nBLxaqu6Todm",
        "colab_type": "text"
      },
      "source": [
        "Use slicing to create upstairs"
      ]
    },
    {
      "cell_type": "code",
      "metadata": {
        "id": "q_U7dgJkTodn",
        "colab_type": "code",
        "colab": {}
      },
      "source": [
        "upstairs=areas[6:10]"
      ],
      "execution_count": 0,
      "outputs": []
    },
    {
      "cell_type": "markdown",
      "metadata": {
        "id": "rc5f5EdRTodq",
        "colab_type": "text"
      },
      "source": [
        "Print out downstairs and upstairs"
      ]
    },
    {
      "cell_type": "code",
      "metadata": {
        "id": "Dd3E5Ki0Todr",
        "colab_type": "code",
        "colab": {
          "base_uri": "https://localhost:8080/",
          "height": 51
        },
        "outputId": "49300c13-7109-4711-8e50-da8e94448f3c"
      },
      "source": [
        "print(downstairs)\n",
        "print(upstairs)"
      ],
      "execution_count": 145,
      "outputs": [
        {
          "output_type": "stream",
          "text": [
            "['hallway', 11.25, 'kitchen', 18.0, 'living room', 20.0]\n",
            "['bedroom', 10.75, 'bathroom', 9.5]\n"
          ],
          "name": "stdout"
        }
      ]
    },
    {
      "cell_type": "markdown",
      "metadata": {
        "id": "Uc1R_chkTodu",
        "colab_type": "text"
      },
      "source": [
        "Create the areas list"
      ]
    },
    {
      "cell_type": "code",
      "metadata": {
        "id": "Mxvef2XATodv",
        "colab_type": "code",
        "colab": {}
      },
      "source": [
        "areas = [\"hallway\", 11.25, \"kitchen\", 18.0, \"living room\", 20.0, \"bedroom\", 10.75, \"bathroom\", 9.50]"
      ],
      "execution_count": 0,
      "outputs": []
    },
    {
      "cell_type": "markdown",
      "metadata": {
        "id": "w2K7cVuuTodz",
        "colab_type": "text"
      },
      "source": [
        "Alternative slicing to create downstairs"
      ]
    },
    {
      "cell_type": "code",
      "metadata": {
        "id": "b9LTfX-UTod1",
        "colab_type": "code",
        "colab": {}
      },
      "source": [
        "downstairs=areas[:6]"
      ],
      "execution_count": 0,
      "outputs": []
    },
    {
      "cell_type": "markdown",
      "metadata": {
        "id": "DCrfohivTod5",
        "colab_type": "text"
      },
      "source": [
        "Alternative slicing to create upstairs"
      ]
    },
    {
      "cell_type": "code",
      "metadata": {
        "id": "BXegpVXvTod6",
        "colab_type": "code",
        "colab": {}
      },
      "source": [
        "upstairs=areas[6:]"
      ],
      "execution_count": 0,
      "outputs": []
    },
    {
      "cell_type": "markdown",
      "metadata": {
        "id": "CXi0cttmTod_",
        "colab_type": "text"
      },
      "source": [
        "Create the areas list"
      ]
    },
    {
      "cell_type": "code",
      "metadata": {
        "id": "5mHDeU3TToeA",
        "colab_type": "code",
        "colab": {}
      },
      "source": [
        "areas = [\"hallway\", 11.25, \"kitchen\", 18.0, \"living room\", 20.0, \"bedroom\", 10.75, \"bathroom\", 9.50]"
      ],
      "execution_count": 0,
      "outputs": []
    },
    {
      "cell_type": "markdown",
      "metadata": {
        "id": "4CI7y42DToeH",
        "colab_type": "text"
      },
      "source": [
        "Correct the bathroom area"
      ]
    },
    {
      "cell_type": "code",
      "metadata": {
        "id": "wD19NIoGToeI",
        "colab_type": "code",
        "colab": {}
      },
      "source": [
        "areas[-1]=10.50"
      ],
      "execution_count": 0,
      "outputs": []
    },
    {
      "cell_type": "markdown",
      "metadata": {
        "id": "1HwzrzIKToeM",
        "colab_type": "text"
      },
      "source": [
        "Change \"living room\" to \"chill zone\""
      ]
    },
    {
      "cell_type": "code",
      "metadata": {
        "id": "5iHrwmEmToeN",
        "colab_type": "code",
        "colab": {}
      },
      "source": [
        "areas[4]=\"chill zone\""
      ],
      "execution_count": 0,
      "outputs": []
    },
    {
      "cell_type": "markdown",
      "metadata": {
        "id": "bh4g7J3mToeQ",
        "colab_type": "text"
      },
      "source": [
        "Create the areas list and make some changes"
      ]
    },
    {
      "cell_type": "code",
      "metadata": {
        "id": "O6oADkFBToeS",
        "colab_type": "code",
        "colab": {}
      },
      "source": [
        "areas = [\"hallway\", 11.25, \"kitchen\", 18.0, \"chill zone\", 20.0,\n",
        "         \"bedroom\", 10.75, \"bathroom\", 10.50]"
      ],
      "execution_count": 0,
      "outputs": []
    },
    {
      "cell_type": "markdown",
      "metadata": {
        "id": "MxpsDbMhToeY",
        "colab_type": "text"
      },
      "source": [
        "Add poolhouse data to areas, new list is areas_1"
      ]
    },
    {
      "cell_type": "code",
      "metadata": {
        "id": "BaGNcz8QToea",
        "colab_type": "code",
        "colab": {}
      },
      "source": [
        "areas_1= areas + [\"poolhouse\",24.5]"
      ],
      "execution_count": 0,
      "outputs": []
    },
    {
      "cell_type": "markdown",
      "metadata": {
        "id": "WeWNi4kfToei",
        "colab_type": "text"
      },
      "source": [
        "Add garage data to areas_1, new list is areas_2"
      ]
    },
    {
      "cell_type": "code",
      "metadata": {
        "id": "YRoKB3I_Toek",
        "colab_type": "code",
        "colab": {}
      },
      "source": [
        "areas_2=areas_1+[\"garage\",15.45]"
      ],
      "execution_count": 0,
      "outputs": []
    },
    {
      "cell_type": "markdown",
      "metadata": {
        "id": "S4ZNgYGxToeq",
        "colab_type": "text"
      },
      "source": [
        "Create list areas"
      ]
    },
    {
      "cell_type": "code",
      "metadata": {
        "id": "5E3pyUDvToet",
        "colab_type": "code",
        "colab": {}
      },
      "source": [
        "areas = [11.25, 18.0, 20.0, 10.75, 9.50]"
      ],
      "execution_count": 0,
      "outputs": []
    },
    {
      "cell_type": "markdown",
      "metadata": {
        "id": "-nqJgVrIToez",
        "colab_type": "text"
      },
      "source": [
        "Create areas_copy"
      ]
    },
    {
      "cell_type": "code",
      "metadata": {
        "id": "iqQXvGt1Toe0",
        "colab_type": "code",
        "colab": {}
      },
      "source": [
        "areas_copy = list(areas)"
      ],
      "execution_count": 0,
      "outputs": []
    },
    {
      "cell_type": "markdown",
      "metadata": {
        "id": "SMmWfMgoToe6",
        "colab_type": "text"
      },
      "source": [
        "Change areas_copy"
      ]
    },
    {
      "cell_type": "code",
      "metadata": {
        "id": "fi-jpOauToe8",
        "colab_type": "code",
        "colab": {}
      },
      "source": [
        "areas_copy[0] = 5.0"
      ],
      "execution_count": 0,
      "outputs": []
    },
    {
      "cell_type": "markdown",
      "metadata": {
        "id": "M8us4sw9TofH",
        "colab_type": "text"
      },
      "source": [
        "Print areas"
      ]
    },
    {
      "cell_type": "code",
      "metadata": {
        "id": "-Dstk6y0TofI",
        "colab_type": "code",
        "colab": {
          "base_uri": "https://localhost:8080/",
          "height": 34
        },
        "outputId": "df3eeb6b-84e1-419f-e856-bc12ac5211d3"
      },
      "source": [
        "print(areas)"
      ],
      "execution_count": 158,
      "outputs": [
        {
          "output_type": "stream",
          "text": [
            "[11.25, 18.0, 20.0, 10.75, 9.5]\n"
          ],
          "name": "stdout"
        }
      ]
    },
    {
      "cell_type": "code",
      "metadata": {
        "id": "HegXxtvHTofP",
        "colab_type": "code",
        "colab": {
          "base_uri": "https://localhost:8080/",
          "height": 170
        },
        "outputId": "cef789a1-8656-419c-b01d-dbfd3c8fdb74"
      },
      "source": [
        "help(round)"
      ],
      "execution_count": 159,
      "outputs": [
        {
          "output_type": "stream",
          "text": [
            "Help on built-in function round in module builtins:\n",
            "\n",
            "round(...)\n",
            "    round(number[, ndigits]) -> number\n",
            "    \n",
            "    Round a number to a given precision in decimal digits (default 0 digits).\n",
            "    This returns an int when called with one argument, otherwise the\n",
            "    same type as the number. ndigits may be negative.\n",
            "\n"
          ],
          "name": "stdout"
        }
      ]
    },
    {
      "cell_type": "markdown",
      "metadata": {
        "id": "3J3N_5UYTofT",
        "colab_type": "text"
      },
      "source": [
        "Create variables var1 and var2"
      ]
    },
    {
      "cell_type": "code",
      "metadata": {
        "id": "KaXl6qBcTofU",
        "colab_type": "code",
        "colab": {}
      },
      "source": [
        "var1 = [1, 2, 3, 4]\n",
        "var2 = True"
      ],
      "execution_count": 0,
      "outputs": []
    },
    {
      "cell_type": "markdown",
      "metadata": {
        "id": "e1Xa1XvZTofY",
        "colab_type": "text"
      },
      "source": [
        "Print out type of var1"
      ]
    },
    {
      "cell_type": "code",
      "metadata": {
        "id": "A-Tfha6vTofZ",
        "colab_type": "code",
        "colab": {
          "base_uri": "https://localhost:8080/",
          "height": 34
        },
        "outputId": "03ce4528-5a86-4668-9767-8ccd4b1c251f"
      },
      "source": [
        "print(type(var1))"
      ],
      "execution_count": 161,
      "outputs": [
        {
          "output_type": "stream",
          "text": [
            "<class 'list'>\n"
          ],
          "name": "stdout"
        }
      ]
    },
    {
      "cell_type": "markdown",
      "metadata": {
        "id": "5otQgfh2Tofc",
        "colab_type": "text"
      },
      "source": [
        "Print out length of var1"
      ]
    },
    {
      "cell_type": "code",
      "metadata": {
        "id": "xIkG9gJxTofd",
        "colab_type": "code",
        "colab": {
          "base_uri": "https://localhost:8080/",
          "height": 34
        },
        "outputId": "c91ba4d0-ac10-4d96-c38f-e830db10b678"
      },
      "source": [
        "print(len(var1))"
      ],
      "execution_count": 162,
      "outputs": [
        {
          "output_type": "stream",
          "text": [
            "4\n"
          ],
          "name": "stdout"
        }
      ]
    },
    {
      "cell_type": "markdown",
      "metadata": {
        "id": "xkZMbXR_Tofi",
        "colab_type": "text"
      },
      "source": [
        "Convert var2 to an integer: out2"
      ]
    },
    {
      "cell_type": "code",
      "metadata": {
        "id": "9ZQKQdpXTofq",
        "colab_type": "code",
        "colab": {}
      },
      "source": [
        "out2=int(var2)"
      ],
      "execution_count": 0,
      "outputs": []
    },
    {
      "cell_type": "markdown",
      "metadata": {
        "id": "0Sv5zG8STofu",
        "colab_type": "text"
      },
      "source": [
        "Create lists first and second"
      ]
    },
    {
      "cell_type": "code",
      "metadata": {
        "id": "06l2JI8wTofv",
        "colab_type": "code",
        "colab": {}
      },
      "source": [
        "first = [11.25, 18.0, 20.0]\n",
        "second = [10.75, 9.50]"
      ],
      "execution_count": 0,
      "outputs": []
    },
    {
      "cell_type": "markdown",
      "metadata": {
        "id": "5ndfndB5Tof0",
        "colab_type": "text"
      },
      "source": [
        "Paste together first and second: full"
      ]
    },
    {
      "cell_type": "code",
      "metadata": {
        "id": "8TlQrVS_Tof2",
        "colab_type": "code",
        "colab": {}
      },
      "source": [
        "full= list(first)+ list(second)"
      ],
      "execution_count": 0,
      "outputs": []
    },
    {
      "cell_type": "markdown",
      "metadata": {
        "id": "zVcy3cSnTof6",
        "colab_type": "text"
      },
      "source": [
        "Sort full in descending order: full_sorted"
      ]
    },
    {
      "cell_type": "code",
      "metadata": {
        "id": "c570DF4bTof7",
        "colab_type": "code",
        "colab": {}
      },
      "source": [
        "full_sorted=sorted(full,reverse = True)"
      ],
      "execution_count": 0,
      "outputs": []
    },
    {
      "cell_type": "markdown",
      "metadata": {
        "id": "Xzvsq8sLTof-",
        "colab_type": "text"
      },
      "source": [
        "Print out full_sorted"
      ]
    },
    {
      "cell_type": "code",
      "metadata": {
        "id": "VyVuqtwlTof_",
        "colab_type": "code",
        "colab": {
          "base_uri": "https://localhost:8080/",
          "height": 34
        },
        "outputId": "05b9e4cf-8d3c-4ef8-da75-9225bc57b5be"
      },
      "source": [
        "print(full_sorted)"
      ],
      "execution_count": 167,
      "outputs": [
        {
          "output_type": "stream",
          "text": [
            "[20.0, 18.0, 11.25, 10.75, 9.5]\n"
          ],
          "name": "stdout"
        }
      ]
    },
    {
      "cell_type": "markdown",
      "metadata": {
        "id": "ncrna-SzTogB",
        "colab_type": "text"
      },
      "source": [
        "string to experiment with: place"
      ]
    },
    {
      "cell_type": "code",
      "metadata": {
        "id": "ukMcLtYqTogC",
        "colab_type": "code",
        "colab": {}
      },
      "source": [
        "place = \"poolhouse\""
      ],
      "execution_count": 0,
      "outputs": []
    },
    {
      "cell_type": "markdown",
      "metadata": {
        "id": "YxPucWxBTogF",
        "colab_type": "text"
      },
      "source": [
        "Use upper() on place: place_up"
      ]
    },
    {
      "cell_type": "code",
      "metadata": {
        "id": "jx-lJm7ETogG",
        "colab_type": "code",
        "colab": {
          "base_uri": "https://localhost:8080/",
          "height": 51
        },
        "outputId": "fd05d9dc-659d-482a-9bef-5c1fafe09f08"
      },
      "source": [
        "place_up=place.upper()\n",
        "# Print out place and place_up\n",
        "print(place)\n",
        "print(place_up)"
      ],
      "execution_count": 169,
      "outputs": [
        {
          "output_type": "stream",
          "text": [
            "poolhouse\n",
            "POOLHOUSE\n"
          ],
          "name": "stdout"
        }
      ]
    },
    {
      "cell_type": "markdown",
      "metadata": {
        "id": "3FtpPKh2TogK",
        "colab_type": "text"
      },
      "source": [
        "Print out the number of o's in place"
      ]
    },
    {
      "cell_type": "code",
      "metadata": {
        "id": "NQ_LUVoJTogK",
        "colab_type": "code",
        "colab": {
          "base_uri": "https://localhost:8080/",
          "height": 34
        },
        "outputId": "7a7d0862-6b4c-4129-9edb-b969d76910fc"
      },
      "source": [
        "print(place.count('o'))\n",
        "# Create list areas\n",
        "areas = [11.25, 18.0, 20.0, 10.75, 9.50]"
      ],
      "execution_count": 170,
      "outputs": [
        {
          "output_type": "stream",
          "text": [
            "3\n"
          ],
          "name": "stdout"
        }
      ]
    },
    {
      "cell_type": "markdown",
      "metadata": {
        "id": "I1JaY01pTogN",
        "colab_type": "text"
      },
      "source": [
        "Print out the index of the element 20.0"
      ]
    },
    {
      "cell_type": "code",
      "metadata": {
        "id": "86bD62v3TogN",
        "colab_type": "code",
        "colab": {
          "base_uri": "https://localhost:8080/",
          "height": 34
        },
        "outputId": "ee651a95-5183-4df4-ad0c-7e8671aff39b"
      },
      "source": [
        "print(areas.index(20.0))"
      ],
      "execution_count": 171,
      "outputs": [
        {
          "output_type": "stream",
          "text": [
            "2\n"
          ],
          "name": "stdout"
        }
      ]
    },
    {
      "cell_type": "markdown",
      "metadata": {
        "id": "eL2f0zUmTogR",
        "colab_type": "text"
      },
      "source": [
        "Print out how often 9.50 appears in areas"
      ]
    },
    {
      "cell_type": "code",
      "metadata": {
        "id": "AEY-Lvi0TogS",
        "colab_type": "code",
        "colab": {
          "base_uri": "https://localhost:8080/",
          "height": 34
        },
        "outputId": "042744c9-76c5-4c60-e377-dc2cc6b325fe"
      },
      "source": [
        "print(areas.count(9.50))"
      ],
      "execution_count": 172,
      "outputs": [
        {
          "output_type": "stream",
          "text": [
            "1\n"
          ],
          "name": "stdout"
        }
      ]
    },
    {
      "cell_type": "markdown",
      "metadata": {
        "id": "YhLzgUakTogW",
        "colab_type": "text"
      },
      "source": [
        "Create list areas"
      ]
    },
    {
      "cell_type": "code",
      "metadata": {
        "id": "Vjt2iVcUTogX",
        "colab_type": "code",
        "colab": {}
      },
      "source": [
        "areas = [11.25, 18.0, 20.0, 10.75, 9.50]"
      ],
      "execution_count": 0,
      "outputs": []
    },
    {
      "cell_type": "markdown",
      "metadata": {
        "id": "DdaaDkPQTogb",
        "colab_type": "text"
      },
      "source": [
        "Use append twice to add poolhouse and garage size"
      ]
    },
    {
      "cell_type": "code",
      "metadata": {
        "id": "8u0WKHsnTogb",
        "colab_type": "code",
        "colab": {}
      },
      "source": [
        "areas.append(24.5)\n",
        "areas.append(15.45)"
      ],
      "execution_count": 0,
      "outputs": []
    },
    {
      "cell_type": "markdown",
      "metadata": {
        "id": "aQnHOgmKTogh",
        "colab_type": "text"
      },
      "source": [
        "Print out areas"
      ]
    },
    {
      "cell_type": "code",
      "metadata": {
        "id": "YXqRTKUJTogi",
        "colab_type": "code",
        "colab": {
          "base_uri": "https://localhost:8080/",
          "height": 34
        },
        "outputId": "eb93f4f2-956e-4a02-fcd3-9d5be8a7bf47"
      },
      "source": [
        "print(areas)"
      ],
      "execution_count": 175,
      "outputs": [
        {
          "output_type": "stream",
          "text": [
            "[11.25, 18.0, 20.0, 10.75, 9.5, 24.5, 15.45]\n"
          ],
          "name": "stdout"
        }
      ]
    },
    {
      "cell_type": "markdown",
      "metadata": {
        "id": "crHwKX6qTogk",
        "colab_type": "text"
      },
      "source": [
        "Reverse the orders of the elements in areas"
      ]
    },
    {
      "cell_type": "code",
      "metadata": {
        "id": "pN0fwajNTogl",
        "colab_type": "code",
        "colab": {}
      },
      "source": [
        "areas.reverse()"
      ],
      "execution_count": 0,
      "outputs": []
    },
    {
      "cell_type": "markdown",
      "metadata": {
        "id": "7_3DLY89Togn",
        "colab_type": "text"
      },
      "source": [
        "Print out areas"
      ]
    },
    {
      "cell_type": "code",
      "metadata": {
        "id": "y64kZU9STogo",
        "colab_type": "code",
        "colab": {
          "base_uri": "https://localhost:8080/",
          "height": 34
        },
        "outputId": "193c91fb-8480-4a33-8189-ec29ab87e379"
      },
      "source": [
        "print(areas)"
      ],
      "execution_count": 177,
      "outputs": [
        {
          "output_type": "stream",
          "text": [
            "[15.45, 24.5, 9.5, 10.75, 20.0, 18.0, 11.25]\n"
          ],
          "name": "stdout"
        }
      ]
    },
    {
      "cell_type": "code",
      "metadata": {
        "id": "VIvUikFdTogt",
        "colab_type": "code",
        "colab": {
          "base_uri": "https://localhost:8080/",
          "height": 34
        },
        "outputId": "10062f51-ac8e-4203-aa4f-325b448c68e7"
      },
      "source": [
        "!python3 get-pip.py"
      ],
      "execution_count": 178,
      "outputs": [
        {
          "output_type": "stream",
          "text": [
            "python3: can't open file 'get-pip.py': [Errno 2] No such file or directory\n"
          ],
          "name": "stdout"
        }
      ]
    },
    {
      "cell_type": "markdown",
      "metadata": {
        "id": "XRnPfEJxTogy",
        "colab_type": "text"
      },
      "source": [
        "Definition of radius"
      ]
    },
    {
      "cell_type": "code",
      "metadata": {
        "id": "JnxpuUYHTogy",
        "colab_type": "code",
        "colab": {}
      },
      "source": [
        "r = 0.43"
      ],
      "execution_count": 0,
      "outputs": []
    },
    {
      "cell_type": "markdown",
      "metadata": {
        "id": "i87Z8lipTog1",
        "colab_type": "text"
      },
      "source": [
        "Import the math package"
      ]
    },
    {
      "cell_type": "code",
      "metadata": {
        "id": "CNOuiu0lTog1",
        "colab_type": "code",
        "colab": {}
      },
      "source": [
        "import math"
      ],
      "execution_count": 0,
      "outputs": []
    },
    {
      "cell_type": "markdown",
      "metadata": {
        "id": "Tu1zzL-6Tog4",
        "colab_type": "text"
      },
      "source": [
        "Calculate C"
      ]
    },
    {
      "cell_type": "code",
      "metadata": {
        "id": "QjiyN1M5Tog4",
        "colab_type": "code",
        "colab": {}
      },
      "source": [
        "C = 2 * r * math.pi"
      ],
      "execution_count": 0,
      "outputs": []
    },
    {
      "cell_type": "markdown",
      "metadata": {
        "id": "_ZT61uAzTog7",
        "colab_type": "text"
      },
      "source": [
        "Calculate A"
      ]
    },
    {
      "cell_type": "code",
      "metadata": {
        "id": "fBH8tRg3Tog7",
        "colab_type": "code",
        "colab": {}
      },
      "source": [
        "A = math.pi * r ** 2"
      ],
      "execution_count": 0,
      "outputs": []
    },
    {
      "cell_type": "markdown",
      "metadata": {
        "id": "qenpjnn6Tog_",
        "colab_type": "text"
      },
      "source": [
        "Build printout"
      ]
    },
    {
      "cell_type": "code",
      "metadata": {
        "id": "HDuVizzyTohB",
        "colab_type": "code",
        "colab": {
          "base_uri": "https://localhost:8080/",
          "height": 51
        },
        "outputId": "fbe16505-6997-4fe7-c7ef-5dd09e2e7b3d"
      },
      "source": [
        "print(\"Circumference: \" + str(C))\n",
        "print(\"Area: \" + str(A))"
      ],
      "execution_count": 183,
      "outputs": [
        {
          "output_type": "stream",
          "text": [
            "Circumference: 2.701769682087222\n",
            "Area: 0.5808804816487527\n"
          ],
          "name": "stdout"
        }
      ]
    },
    {
      "cell_type": "markdown",
      "metadata": {
        "id": "qGz805cYTohD",
        "colab_type": "text"
      },
      "source": [
        "Definition of radius"
      ]
    },
    {
      "cell_type": "code",
      "metadata": {
        "id": "2x0w0S3oTohE",
        "colab_type": "code",
        "colab": {}
      },
      "source": [
        "r = 192500"
      ],
      "execution_count": 0,
      "outputs": []
    },
    {
      "cell_type": "markdown",
      "metadata": {
        "id": "p2Lpe6uDTohI",
        "colab_type": "text"
      },
      "source": [
        "Import radians function of math package"
      ]
    },
    {
      "cell_type": "code",
      "metadata": {
        "id": "UOFcxId5TohI",
        "colab_type": "code",
        "colab": {}
      },
      "source": [
        "from math import radians"
      ],
      "execution_count": 0,
      "outputs": []
    },
    {
      "cell_type": "markdown",
      "metadata": {
        "id": "uHsgTCEOTohL",
        "colab_type": "text"
      },
      "source": [
        "Travel distance of Moon over 12 degrees. Store in dist."
      ]
    },
    {
      "cell_type": "code",
      "metadata": {
        "id": "g30T1JygTohM",
        "colab_type": "code",
        "colab": {}
      },
      "source": [
        "dist =r*radians(12)"
      ],
      "execution_count": 0,
      "outputs": []
    },
    {
      "cell_type": "markdown",
      "metadata": {
        "id": "68CvN71gTohP",
        "colab_type": "text"
      },
      "source": [
        "Print out dist"
      ]
    },
    {
      "cell_type": "code",
      "metadata": {
        "id": "CZWrY7MnTohP",
        "colab_type": "code",
        "colab": {
          "base_uri": "https://localhost:8080/",
          "height": 34
        },
        "outputId": "6bce6046-dd10-42e5-8b66-4eb2db952cf4"
      },
      "source": [
        "print(dist)"
      ],
      "execution_count": 187,
      "outputs": [
        {
          "output_type": "stream",
          "text": [
            "40317.10572106901\n"
          ],
          "name": "stdout"
        }
      ]
    },
    {
      "cell_type": "markdown",
      "metadata": {
        "id": "HVKhvZwGTohS",
        "colab_type": "text"
      },
      "source": [
        "Create list baseball"
      ]
    },
    {
      "cell_type": "code",
      "metadata": {
        "id": "Aga8j8c6TohS",
        "colab_type": "code",
        "colab": {}
      },
      "source": [
        "baseball = [180, 215, 210, 210, 188, 176, 209, 200]"
      ],
      "execution_count": 0,
      "outputs": []
    },
    {
      "cell_type": "markdown",
      "metadata": {
        "id": "zQCE0vIQTohU",
        "colab_type": "text"
      },
      "source": [
        "Import the numpy package as np"
      ]
    },
    {
      "cell_type": "code",
      "metadata": {
        "id": "PuIGNwflTohV",
        "colab_type": "code",
        "colab": {}
      },
      "source": [
        "import numpy as np"
      ],
      "execution_count": 0,
      "outputs": []
    },
    {
      "cell_type": "markdown",
      "metadata": {
        "id": "MHxbgw7qTohY",
        "colab_type": "text"
      },
      "source": [
        "Create a numpy array from baseball: np_baseball"
      ]
    },
    {
      "cell_type": "code",
      "metadata": {
        "id": "YpC8aWcPToha",
        "colab_type": "code",
        "colab": {}
      },
      "source": [
        "np_baseball =np.array(baseball)"
      ],
      "execution_count": 0,
      "outputs": []
    },
    {
      "cell_type": "markdown",
      "metadata": {
        "id": "5rcxL7bTTohh",
        "colab_type": "text"
      },
      "source": [
        "Print out type of np_baseball"
      ]
    },
    {
      "cell_type": "code",
      "metadata": {
        "id": "x_ThzjtLTohi",
        "colab_type": "code",
        "colab": {
          "base_uri": "https://localhost:8080/",
          "height": 34
        },
        "outputId": "e42a1fc6-1cc1-47a4-f744-36078774099d"
      },
      "source": [
        "print(type(np_baseball))"
      ],
      "execution_count": 191,
      "outputs": [
        {
          "output_type": "stream",
          "text": [
            "<class 'numpy.ndarray'>\n"
          ],
          "name": "stdout"
        }
      ]
    },
    {
      "cell_type": "markdown",
      "metadata": {
        "id": "fYFsAVA9Tohm",
        "colab_type": "text"
      },
      "source": [
        "height is available as a regular list"
      ]
    },
    {
      "cell_type": "markdown",
      "metadata": {
        "id": "jkIPt2GYTohn",
        "colab_type": "text"
      },
      "source": [
        "Import numpy"
      ]
    },
    {
      "cell_type": "code",
      "metadata": {
        "id": "1mZkKqdOToho",
        "colab_type": "code",
        "colab": {}
      },
      "source": [
        "import numpy as np"
      ],
      "execution_count": 0,
      "outputs": []
    },
    {
      "cell_type": "markdown",
      "metadata": {
        "id": "UU10eNwHTohq",
        "colab_type": "text"
      },
      "source": [
        "Create a numpy array from height_in: np_height_in"
      ]
    },
    {
      "cell_type": "code",
      "metadata": {
        "id": "atxd5sXUTohq",
        "colab_type": "code",
        "colab": {
          "base_uri": "https://localhost:8080/",
          "height": 163
        },
        "outputId": "61638012-dc57-4e15-927d-32d0551c8511"
      },
      "source": [
        "np_height_in =np.array(height_in)"
      ],
      "execution_count": 193,
      "outputs": [
        {
          "output_type": "error",
          "ename": "NameError",
          "evalue": "ignored",
          "traceback": [
            "\u001b[0;31m---------------------------------------------------------------------------\u001b[0m",
            "\u001b[0;31mNameError\u001b[0m                                 Traceback (most recent call last)",
            "\u001b[0;32m<ipython-input-193-57d20ccec0ec>\u001b[0m in \u001b[0;36m<module>\u001b[0;34m()\u001b[0m\n\u001b[0;32m----> 1\u001b[0;31m \u001b[0mnp_height_in\u001b[0m \u001b[0;34m=\u001b[0m\u001b[0mnp\u001b[0m\u001b[0;34m.\u001b[0m\u001b[0marray\u001b[0m\u001b[0;34m(\u001b[0m\u001b[0mheight_in\u001b[0m\u001b[0;34m)\u001b[0m\u001b[0;34m\u001b[0m\u001b[0;34m\u001b[0m\u001b[0m\n\u001b[0m",
            "\u001b[0;31mNameError\u001b[0m: name 'height_in' is not defined"
          ]
        }
      ]
    },
    {
      "cell_type": "markdown",
      "metadata": {
        "id": "0yIJjkylTohv",
        "colab_type": "text"
      },
      "source": [
        "Print out np_height_in"
      ]
    },
    {
      "cell_type": "code",
      "metadata": {
        "id": "lDwHhYLvTohw",
        "colab_type": "code",
        "colab": {}
      },
      "source": [
        "print(np_height_in)"
      ],
      "execution_count": 0,
      "outputs": []
    },
    {
      "cell_type": "markdown",
      "metadata": {
        "id": "N-l1hJu1Toh1",
        "colab_type": "text"
      },
      "source": [
        "Convert np_height_in to m: np_height_m"
      ]
    },
    {
      "cell_type": "code",
      "metadata": {
        "id": "j2_VYdfFToh2",
        "colab_type": "code",
        "colab": {}
      },
      "source": [
        "np_height_m =np_height_in*0.0254"
      ],
      "execution_count": 0,
      "outputs": []
    },
    {
      "cell_type": "markdown",
      "metadata": {
        "id": "9ZUoZJHuToh5",
        "colab_type": "text"
      },
      "source": [
        "Print np_height_m"
      ]
    },
    {
      "cell_type": "code",
      "metadata": {
        "id": "i87CNd6zToh5",
        "colab_type": "code",
        "colab": {}
      },
      "source": [
        "print(np_height_m)"
      ],
      "execution_count": 0,
      "outputs": []
    },
    {
      "cell_type": "markdown",
      "metadata": {
        "id": "MfONKsd6Toh8",
        "colab_type": "text"
      },
      "source": [
        "height and weight are available as regular lists"
      ]
    },
    {
      "cell_type": "markdown",
      "metadata": {
        "id": "Q-REBdOQToh_",
        "colab_type": "text"
      },
      "source": [
        "Import numpy"
      ]
    },
    {
      "cell_type": "code",
      "metadata": {
        "id": "-qw2H9tSToiA",
        "colab_type": "code",
        "colab": {}
      },
      "source": [
        "import numpy as np"
      ],
      "execution_count": 0,
      "outputs": []
    },
    {
      "cell_type": "markdown",
      "metadata": {
        "id": "_ksCt1uWToiH",
        "colab_type": "text"
      },
      "source": [
        "Create array from height_in with metric units: np_height_m"
      ]
    },
    {
      "cell_type": "code",
      "metadata": {
        "id": "daOCg5RHToiI",
        "colab_type": "code",
        "colab": {}
      },
      "source": [
        "np_height_m = np.array(height_in) * 0.0254"
      ],
      "execution_count": 0,
      "outputs": []
    },
    {
      "cell_type": "markdown",
      "metadata": {
        "id": "0kZwpYtHToiN",
        "colab_type": "text"
      },
      "source": [
        "Create array from weight_lb with metric units: np_weight_kg"
      ]
    },
    {
      "cell_type": "code",
      "metadata": {
        "id": "FtlOrWiJToiN",
        "colab_type": "code",
        "colab": {}
      },
      "source": [
        "np_weight_kg=np.array(weight_lb)*0.453592"
      ],
      "execution_count": 0,
      "outputs": []
    },
    {
      "cell_type": "markdown",
      "metadata": {
        "id": "j_zP4CXBToiV",
        "colab_type": "text"
      },
      "source": [
        "Calculate the BMI: bmi"
      ]
    },
    {
      "cell_type": "code",
      "metadata": {
        "id": "Rd7T7F6fToiW",
        "colab_type": "code",
        "colab": {}
      },
      "source": [
        "bmi= np_weight_kg/np_height_m**2"
      ],
      "execution_count": 0,
      "outputs": []
    },
    {
      "cell_type": "markdown",
      "metadata": {
        "id": "jF7O2g1NToiZ",
        "colab_type": "text"
      },
      "source": [
        "Print out bmi"
      ]
    },
    {
      "cell_type": "code",
      "metadata": {
        "id": "7lFrLFK1Toia",
        "colab_type": "code",
        "colab": {}
      },
      "source": [
        "print(bmi)"
      ],
      "execution_count": 0,
      "outputs": []
    },
    {
      "cell_type": "markdown",
      "metadata": {
        "id": "6RdZu4_GToie",
        "colab_type": "text"
      },
      "source": [
        "height and weight are available as a regular lists"
      ]
    },
    {
      "cell_type": "markdown",
      "metadata": {
        "id": "VzysTEsuToie",
        "colab_type": "text"
      },
      "source": [
        "Import numpy"
      ]
    },
    {
      "cell_type": "code",
      "metadata": {
        "id": "cys9PWXFToig",
        "colab_type": "code",
        "colab": {}
      },
      "source": [
        "import numpy as np"
      ],
      "execution_count": 0,
      "outputs": []
    },
    {
      "cell_type": "markdown",
      "metadata": {
        "id": "an4bH92rToij",
        "colab_type": "text"
      },
      "source": [
        "Calculate the BMI: bmi"
      ]
    },
    {
      "cell_type": "code",
      "metadata": {
        "id": "wyrf8_poToik",
        "colab_type": "code",
        "colab": {}
      },
      "source": [
        "np_height_m = np.array(height_in) * 0.0254\n",
        "np_weight_kg = np.array(weight_lb) * 0.453592\n",
        "bmi = np_weight_kg / np_height_m ** 2"
      ],
      "execution_count": 0,
      "outputs": []
    },
    {
      "cell_type": "markdown",
      "metadata": {
        "id": "gaxKd-yPToio",
        "colab_type": "text"
      },
      "source": [
        "Create the light array"
      ]
    },
    {
      "cell_type": "code",
      "metadata": {
        "id": "iAtJrLaTToip",
        "colab_type": "code",
        "colab": {}
      },
      "source": [
        "light = bmi<21"
      ],
      "execution_count": 0,
      "outputs": []
    },
    {
      "cell_type": "markdown",
      "metadata": {
        "id": "xQMnZdnWToix",
        "colab_type": "text"
      },
      "source": [
        "Print out light"
      ]
    },
    {
      "cell_type": "code",
      "metadata": {
        "id": "RomY1GgUToix",
        "colab_type": "code",
        "colab": {}
      },
      "source": [
        "print(light)"
      ],
      "execution_count": 0,
      "outputs": []
    },
    {
      "cell_type": "markdown",
      "metadata": {
        "id": "VMXb6z_NToi3",
        "colab_type": "text"
      },
      "source": [
        "Print out BMIs of all baseball players whose BMI is below 21"
      ]
    },
    {
      "cell_type": "code",
      "metadata": {
        "id": "TCasiJiFToi4",
        "colab_type": "code",
        "colab": {}
      },
      "source": [
        "print(bmi[light])"
      ],
      "execution_count": 0,
      "outputs": []
    },
    {
      "cell_type": "markdown",
      "metadata": {
        "id": "EuMLyqzwToi7",
        "colab_type": "text"
      },
      "source": [
        "height and weight are available as a regular lists"
      ]
    },
    {
      "cell_type": "markdown",
      "metadata": {
        "id": "VzsjZovTToi8",
        "colab_type": "text"
      },
      "source": [
        "Import numpy"
      ]
    },
    {
      "cell_type": "code",
      "metadata": {
        "id": "r2Kh7ngnToi8",
        "colab_type": "code",
        "colab": {}
      },
      "source": [
        "import numpy as np"
      ],
      "execution_count": 0,
      "outputs": []
    },
    {
      "cell_type": "markdown",
      "metadata": {
        "id": "VWQkNlNZToi_",
        "colab_type": "text"
      },
      "source": [
        "Store weight and height lists as numpy arrays"
      ]
    },
    {
      "cell_type": "code",
      "metadata": {
        "id": "1TjXkkPLToi_",
        "colab_type": "code",
        "colab": {}
      },
      "source": [
        "np_weight_lb = np.array(weight_lb)\n",
        "np_height_in = np.array(height_in)"
      ],
      "execution_count": 0,
      "outputs": []
    },
    {
      "cell_type": "markdown",
      "metadata": {
        "id": "E2LSp6OdTojE",
        "colab_type": "text"
      },
      "source": [
        "Print out the weight at index 50"
      ]
    },
    {
      "cell_type": "code",
      "metadata": {
        "id": "jEfaA2z0TojE",
        "colab_type": "code",
        "colab": {}
      },
      "source": [
        "print(np_weight_lb[50])"
      ],
      "execution_count": 0,
      "outputs": []
    },
    {
      "cell_type": "markdown",
      "metadata": {
        "id": "BAr4Q53oTojH",
        "colab_type": "text"
      },
      "source": [
        "Print out sub-array of np_height_in: index 100 up to and including index 110"
      ]
    },
    {
      "cell_type": "code",
      "metadata": {
        "id": "Hbsi5uvpTojI",
        "colab_type": "code",
        "colab": {}
      },
      "source": [
        "print(np_height_in[100:111])"
      ],
      "execution_count": 0,
      "outputs": []
    },
    {
      "cell_type": "markdown",
      "metadata": {
        "id": "Lne-PhwmTojK",
        "colab_type": "text"
      },
      "source": [
        "Create baseball, a list of lists"
      ]
    },
    {
      "cell_type": "code",
      "metadata": {
        "id": "MdK9Eh4nTojK",
        "colab_type": "code",
        "colab": {}
      },
      "source": [
        "baseball = [[180, 78.4],\n",
        "            [215, 102.7],\n",
        "            [210, 98.5],\n",
        "            [188, 75.2]]"
      ],
      "execution_count": 0,
      "outputs": []
    },
    {
      "cell_type": "markdown",
      "metadata": {
        "id": "MEnjsyWOTojN",
        "colab_type": "text"
      },
      "source": [
        "Import numpy"
      ]
    },
    {
      "cell_type": "code",
      "metadata": {
        "id": "EI7GfASQTojT",
        "colab_type": "code",
        "colab": {}
      },
      "source": [
        "import numpy as np"
      ],
      "execution_count": 0,
      "outputs": []
    },
    {
      "cell_type": "markdown",
      "metadata": {
        "id": "4nnIYWsqTojV",
        "colab_type": "text"
      },
      "source": [
        "Create a 2D numpy array from baseball: np_baseball"
      ]
    },
    {
      "cell_type": "code",
      "metadata": {
        "id": "D6e2-kJhTojV",
        "colab_type": "code",
        "colab": {}
      },
      "source": [
        "np_baseball =np.array(baseball)"
      ],
      "execution_count": 0,
      "outputs": []
    },
    {
      "cell_type": "markdown",
      "metadata": {
        "id": "zkwT_UtHTojX",
        "colab_type": "text"
      },
      "source": [
        "Print out the type of np_baseball"
      ]
    },
    {
      "cell_type": "code",
      "metadata": {
        "id": "uVBS_WybTojZ",
        "colab_type": "code",
        "colab": {}
      },
      "source": [
        "print(type(np_baseball))\n",
        "# Print out the shape of np_baseball\n",
        "print(np_baseball.shape)"
      ],
      "execution_count": 0,
      "outputs": []
    },
    {
      "cell_type": "markdown",
      "metadata": {
        "id": "w77D4Qa4Toja",
        "colab_type": "text"
      },
      "source": [
        "baseball is available as a regular list of lists"
      ]
    },
    {
      "cell_type": "markdown",
      "metadata": {
        "id": "-zXpH8uxTojb",
        "colab_type": "text"
      },
      "source": [
        "Import numpy package"
      ]
    },
    {
      "cell_type": "code",
      "metadata": {
        "id": "dGP2AbfwTojf",
        "colab_type": "code",
        "colab": {}
      },
      "source": [
        "import numpy as np"
      ],
      "execution_count": 0,
      "outputs": []
    },
    {
      "cell_type": "markdown",
      "metadata": {
        "id": "bEyR05mQTojj",
        "colab_type": "text"
      },
      "source": [
        "Create a 2D numpy array from baseball: np_baseball"
      ]
    },
    {
      "cell_type": "code",
      "metadata": {
        "id": "8r5MfWFTTojj",
        "colab_type": "code",
        "colab": {}
      },
      "source": [
        "np_baseball = np.array(baseball)"
      ],
      "execution_count": 0,
      "outputs": []
    },
    {
      "cell_type": "markdown",
      "metadata": {
        "id": "3e0eSs03Toju",
        "colab_type": "text"
      },
      "source": [
        "Print out the shape of np_baseball"
      ]
    },
    {
      "cell_type": "code",
      "metadata": {
        "id": "e8Zaa0cTTojv",
        "colab_type": "code",
        "colab": {}
      },
      "source": [
        "print(np_baseball.shape)"
      ],
      "execution_count": 0,
      "outputs": []
    },
    {
      "cell_type": "markdown",
      "metadata": {
        "id": "bRzymgYYToj1",
        "colab_type": "text"
      },
      "source": [
        "baseball is available as a regular list of lists"
      ]
    },
    {
      "cell_type": "markdown",
      "metadata": {
        "id": "ue_yi3wBToj2",
        "colab_type": "text"
      },
      "source": [
        "Import numpy package"
      ]
    },
    {
      "cell_type": "code",
      "metadata": {
        "id": "t5j-MpH8Toj3",
        "colab_type": "code",
        "colab": {}
      },
      "source": [
        "import numpy as np"
      ],
      "execution_count": 0,
      "outputs": []
    },
    {
      "cell_type": "markdown",
      "metadata": {
        "id": "LNQ-VngIToj8",
        "colab_type": "text"
      },
      "source": [
        "Create np_baseball (2 cols)"
      ]
    },
    {
      "cell_type": "code",
      "metadata": {
        "id": "29Qh9EdfToj9",
        "colab_type": "code",
        "colab": {}
      },
      "source": [
        "np_baseball = np.array(baseball)"
      ],
      "execution_count": 0,
      "outputs": []
    },
    {
      "cell_type": "markdown",
      "metadata": {
        "id": "nRKAqwxkTokD",
        "colab_type": "text"
      },
      "source": [
        "Print out the 50th row of np_baseball"
      ]
    },
    {
      "cell_type": "code",
      "metadata": {
        "id": "IjdqTfRDTokD",
        "colab_type": "code",
        "colab": {}
      },
      "source": [
        "print(np_baseball[49,:])"
      ],
      "execution_count": 0,
      "outputs": []
    },
    {
      "cell_type": "markdown",
      "metadata": {
        "id": "OII6G-bmTokF",
        "colab_type": "text"
      },
      "source": [
        "Select the entire second column of np_baseball: np_weight_lb"
      ]
    },
    {
      "cell_type": "code",
      "metadata": {
        "id": "_tHNfBtzTokF",
        "colab_type": "code",
        "colab": {}
      },
      "source": [
        "np_weight_lb = np.array(np_baseball[:,1])"
      ],
      "execution_count": 0,
      "outputs": []
    },
    {
      "cell_type": "markdown",
      "metadata": {
        "id": "V-zkhA5jTokH",
        "colab_type": "text"
      },
      "source": [
        "Print out height of 124th player"
      ]
    },
    {
      "cell_type": "code",
      "metadata": {
        "id": "5nGq3CcPTokI",
        "colab_type": "code",
        "colab": {}
      },
      "source": [
        "print(np_baseball[123,0])"
      ],
      "execution_count": 0,
      "outputs": []
    },
    {
      "cell_type": "markdown",
      "metadata": {
        "id": "nbnvxYNQTokK",
        "colab_type": "text"
      },
      "source": [
        "baseball is available as a regular list of lists<br>\n",
        "updated is available as 2D numpy array"
      ]
    },
    {
      "cell_type": "markdown",
      "metadata": {
        "id": "CBcq6N6fTokN",
        "colab_type": "text"
      },
      "source": [
        "Import numpy package"
      ]
    },
    {
      "cell_type": "code",
      "metadata": {
        "id": "iIE9VNCYTokN",
        "colab_type": "code",
        "colab": {}
      },
      "source": [
        "import numpy as np"
      ],
      "execution_count": 0,
      "outputs": []
    },
    {
      "cell_type": "markdown",
      "metadata": {
        "id": "g__L_amUTokP",
        "colab_type": "text"
      },
      "source": [
        "Create np_baseball (3 cols)"
      ]
    },
    {
      "cell_type": "code",
      "metadata": {
        "id": "4S6bjeQjTokP",
        "colab_type": "code",
        "colab": {}
      },
      "source": [
        "np_baseball = np.array(baseball)"
      ],
      "execution_count": 0,
      "outputs": []
    },
    {
      "cell_type": "markdown",
      "metadata": {
        "id": "6AbUb2x3TokQ",
        "colab_type": "text"
      },
      "source": [
        "Print out addition of np_baseball and updated"
      ]
    },
    {
      "cell_type": "code",
      "metadata": {
        "id": "ryndV0l5TokR",
        "colab_type": "code",
        "colab": {}
      },
      "source": [
        "print(np_baseball + updated)"
      ],
      "execution_count": 0,
      "outputs": []
    },
    {
      "cell_type": "markdown",
      "metadata": {
        "id": "eWUgg7HCTokU",
        "colab_type": "text"
      },
      "source": [
        "Create numpy array: conversion"
      ]
    },
    {
      "cell_type": "code",
      "metadata": {
        "id": "PadZ5uPvTokW",
        "colab_type": "code",
        "colab": {}
      },
      "source": [
        "conversion = np.array([0.0254, 0.453592, 1])"
      ],
      "execution_count": 0,
      "outputs": []
    },
    {
      "cell_type": "markdown",
      "metadata": {
        "id": "5sn-5NM3TokZ",
        "colab_type": "text"
      },
      "source": [
        "Print out product of np_baseball and conversion"
      ]
    },
    {
      "cell_type": "code",
      "metadata": {
        "id": "Rjc1IAXTToka",
        "colab_type": "code",
        "colab": {}
      },
      "source": [
        "print(np_baseball * conversion)"
      ],
      "execution_count": 0,
      "outputs": []
    },
    {
      "cell_type": "markdown",
      "metadata": {
        "id": "j0f6hr2lTokc",
        "colab_type": "text"
      },
      "source": [
        "np_baseball is available"
      ]
    },
    {
      "cell_type": "markdown",
      "metadata": {
        "id": "qOOF914STokd",
        "colab_type": "text"
      },
      "source": [
        "Import numpy"
      ]
    },
    {
      "cell_type": "code",
      "metadata": {
        "id": "Jhl0R25IToke",
        "colab_type": "code",
        "colab": {}
      },
      "source": [
        "import numpy as np"
      ],
      "execution_count": 0,
      "outputs": []
    },
    {
      "cell_type": "markdown",
      "metadata": {
        "id": "V8c2VetdTokg",
        "colab_type": "text"
      },
      "source": [
        "Create np_height_in from np_baseball"
      ]
    },
    {
      "cell_type": "code",
      "metadata": {
        "id": "Bo8AlYYCTokg",
        "colab_type": "code",
        "colab": {}
      },
      "source": [
        "np_height_in = np_baseball[:,0]"
      ],
      "execution_count": 0,
      "outputs": []
    },
    {
      "cell_type": "markdown",
      "metadata": {
        "id": "N07wYW6JToki",
        "colab_type": "text"
      },
      "source": [
        "Print out the mean of np_height_in"
      ]
    },
    {
      "cell_type": "code",
      "metadata": {
        "id": "S6Q_xEcmTokj",
        "colab_type": "code",
        "colab": {}
      },
      "source": [
        "print(np.mean(np_height_in))"
      ],
      "execution_count": 0,
      "outputs": []
    },
    {
      "cell_type": "markdown",
      "metadata": {
        "id": "nvselx-ZToko",
        "colab_type": "text"
      },
      "source": [
        "Print out the median of np_height_in"
      ]
    },
    {
      "cell_type": "code",
      "metadata": {
        "id": "mruewTggToko",
        "colab_type": "code",
        "colab": {}
      },
      "source": [
        "print(np.median(np_height_in))"
      ],
      "execution_count": 0,
      "outputs": []
    },
    {
      "cell_type": "markdown",
      "metadata": {
        "id": "u_FeuphzTokq",
        "colab_type": "text"
      },
      "source": [
        "np_baseball is available"
      ]
    },
    {
      "cell_type": "markdown",
      "metadata": {
        "id": "DRmGxyjvTokr",
        "colab_type": "text"
      },
      "source": [
        "Import numpy"
      ]
    },
    {
      "cell_type": "code",
      "metadata": {
        "id": "GuD5eGDSTokt",
        "colab_type": "code",
        "colab": {}
      },
      "source": [
        "import numpy as np"
      ],
      "execution_count": 0,
      "outputs": []
    },
    {
      "cell_type": "markdown",
      "metadata": {
        "id": "Fkdh_Wp9Tokv",
        "colab_type": "text"
      },
      "source": [
        "Print mean height (first column)"
      ]
    },
    {
      "cell_type": "code",
      "metadata": {
        "id": "xV4yyt8YTokw",
        "colab_type": "code",
        "colab": {}
      },
      "source": [
        "avg = np.mean(np_baseball[:,0])\n",
        "print(\"Average: \" + str(avg))"
      ],
      "execution_count": 0,
      "outputs": []
    },
    {
      "cell_type": "markdown",
      "metadata": {
        "id": "h5RKOoXbToky",
        "colab_type": "text"
      },
      "source": [
        "Print median height. Replace 'None'"
      ]
    },
    {
      "cell_type": "code",
      "metadata": {
        "id": "TSS3xKR7Tokz",
        "colab_type": "code",
        "colab": {}
      },
      "source": [
        "med = np.median(np_baseball[:,0])\n",
        "print(\"Median: \" + str(med))"
      ],
      "execution_count": 0,
      "outputs": []
    },
    {
      "cell_type": "markdown",
      "metadata": {
        "id": "dVZCcDFfTok5",
        "colab_type": "text"
      },
      "source": [
        "Print out the standard deviation on height. Replace 'None'"
      ]
    },
    {
      "cell_type": "code",
      "metadata": {
        "id": "dM60T-aWTok9",
        "colab_type": "code",
        "colab": {}
      },
      "source": [
        "stddev = np.std(np_baseball[:,0])\n",
        "print(\"Standard Deviation: \" + str(stddev))"
      ],
      "execution_count": 0,
      "outputs": []
    },
    {
      "cell_type": "markdown",
      "metadata": {
        "id": "_HegBDglTok_",
        "colab_type": "text"
      },
      "source": [
        "Print out correlation between first and second column. Replace 'None'"
      ]
    },
    {
      "cell_type": "code",
      "metadata": {
        "id": "XVpITpfRTolA",
        "colab_type": "code",
        "colab": {}
      },
      "source": [
        "corr = np.corrcoef(np_baseball[:,0], np_baseball[:,1])\n",
        "print(\"Correlation: \" + str(corr))"
      ],
      "execution_count": 0,
      "outputs": []
    },
    {
      "cell_type": "markdown",
      "metadata": {
        "id": "rXC2L8hNTolD",
        "colab_type": "text"
      },
      "source": [
        "heights and positions are available as lists"
      ]
    },
    {
      "cell_type": "markdown",
      "metadata": {
        "id": "QAwsvPAhTolE",
        "colab_type": "text"
      },
      "source": [
        "Import numpy"
      ]
    },
    {
      "cell_type": "code",
      "metadata": {
        "id": "hReH6IKWTolF",
        "colab_type": "code",
        "colab": {}
      },
      "source": [
        "import numpy as np"
      ],
      "execution_count": 0,
      "outputs": []
    },
    {
      "cell_type": "markdown",
      "metadata": {
        "id": "SZ2RU0d7TolH",
        "colab_type": "text"
      },
      "source": [
        "Convert positions and heights to numpy arrays: np_positions, np_heights"
      ]
    },
    {
      "cell_type": "code",
      "metadata": {
        "id": "6NUSrUpKTolI",
        "colab_type": "code",
        "colab": {}
      },
      "source": [
        "np_positions = np.array(positions)\n",
        "np_heights = np.array(heights)"
      ],
      "execution_count": 0,
      "outputs": []
    },
    {
      "cell_type": "markdown",
      "metadata": {
        "id": "UDPresuDTolM",
        "colab_type": "text"
      },
      "source": [
        "Heights of the goalkeepers: gk_heights"
      ]
    },
    {
      "cell_type": "code",
      "metadata": {
        "id": "7zQkD37BTolM",
        "colab_type": "code",
        "colab": {}
      },
      "source": [
        "gk_heights = np_heights[np_positions == 'GK']"
      ],
      "execution_count": 0,
      "outputs": []
    },
    {
      "cell_type": "markdown",
      "metadata": {
        "id": "Hr6TIcnWTolV",
        "colab_type": "text"
      },
      "source": [
        "Heights of the other players: other_heights"
      ]
    },
    {
      "cell_type": "code",
      "metadata": {
        "id": "pCiL4CmdTolW",
        "colab_type": "code",
        "colab": {}
      },
      "source": [
        "other_heights = np_heights[np_positions != 'GK']"
      ],
      "execution_count": 0,
      "outputs": []
    },
    {
      "cell_type": "markdown",
      "metadata": {
        "id": "mZZ8dsIzTolY",
        "colab_type": "text"
      },
      "source": [
        "Print out the median height of goalkeepers. Replace 'None'"
      ]
    },
    {
      "cell_type": "code",
      "metadata": {
        "id": "Au8V_2wdTolY",
        "colab_type": "code",
        "colab": {}
      },
      "source": [
        "print(\"Median height of goalkeepers: \" + str(np.median(gk_heights)))"
      ],
      "execution_count": 0,
      "outputs": []
    },
    {
      "cell_type": "markdown",
      "metadata": {
        "id": "FLux-6mMTola",
        "colab_type": "text"
      },
      "source": [
        "Print out the median height of other players. Replace 'None'"
      ]
    },
    {
      "cell_type": "code",
      "metadata": {
        "id": "NwJ2tmF8Tolb",
        "colab_type": "code",
        "colab": {}
      },
      "source": [
        "print(\"Median height of other players: \" + str(np.median(other_heights)))"
      ],
      "execution_count": 0,
      "outputs": []
    }
  ]
}