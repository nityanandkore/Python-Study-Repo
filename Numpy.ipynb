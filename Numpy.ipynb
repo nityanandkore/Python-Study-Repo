{
  "nbformat": 4,
  "nbformat_minor": 0,
  "metadata": {
    "kernelspec": {
      "display_name": "Python 3",
      "language": "python",
      "name": "python3"
    },
    "language_info": {
      "codemirror_mode": {
        "name": "ipython",
        "version": 3
      },
      "file_extension": ".py",
      "mimetype": "text/x-python",
      "name": "python",
      "nbconvert_exporter": "python",
      "pygments_lexer": "ipython3",
      "version": "3.7.4"
    },
    "colab": {
      "name": "Numpy.ipynb",
      "provenance": [],
      "include_colab_link": true
    }
  },
  "cells": [
    {
      "cell_type": "markdown",
      "metadata": {
        "id": "view-in-github",
        "colab_type": "text"
      },
      "source": [
        "<a href=\"https://colab.research.google.com/github/nityanandkore/Python-Study-Repo/blob/master/Numpy.ipynb\" target=\"_parent\"><img src=\"https://colab.research.google.com/assets/colab-badge.svg\" alt=\"Open In Colab\"/></a>"
      ]
    },
    {
      "cell_type": "code",
      "metadata": {
        "id": "LYMUwjm-5scX"
      },
      "source": [
        "#NUMPY\n",
        "\n",
        "import numpy as np"
      ],
      "execution_count": null,
      "outputs": []
    },
    {
      "cell_type": "code",
      "metadata": {
        "id": "hPLc4qTS5sch",
        "outputId": "01944f67-21c0-4d4f-8d06-99d41d4ffd81"
      },
      "source": [
        "a=[3,4,5,6]\n",
        "type(a)"
      ],
      "execution_count": null,
      "outputs": [
        {
          "output_type": "execute_result",
          "data": {
            "text/plain": [
              "list"
            ]
          },
          "metadata": {
            "tags": []
          },
          "execution_count": 3
        }
      ]
    },
    {
      "cell_type": "code",
      "metadata": {
        "id": "BH1NQfNO5scj",
        "outputId": "5f93f4ee-56cf-4332-a861-b16f5f75db09"
      },
      "source": [
        "np.array(a)"
      ],
      "execution_count": null,
      "outputs": [
        {
          "output_type": "execute_result",
          "data": {
            "text/plain": [
              "array([3, 4, 5, 6])"
            ]
          },
          "metadata": {
            "tags": []
          },
          "execution_count": 4
        }
      ]
    },
    {
      "cell_type": "code",
      "metadata": {
        "id": "Vc41oyrt5sck",
        "outputId": "4800846d-a399-4c72-f4d7-ae9689db2798"
      },
      "source": [
        "type(np.array(a))"
      ],
      "execution_count": null,
      "outputs": [
        {
          "output_type": "execute_result",
          "data": {
            "text/plain": [
              "numpy.ndarray"
            ]
          },
          "metadata": {
            "tags": []
          },
          "execution_count": 5
        }
      ]
    },
    {
      "cell_type": "code",
      "metadata": {
        "id": "Uq__xrzR5scl",
        "outputId": "e7040523-3bd8-4abc-fedc-81d1350f2af6"
      },
      "source": [
        "a=[3,4,5,6.0]  #upcasting\n",
        "type(a)"
      ],
      "execution_count": null,
      "outputs": [
        {
          "output_type": "execute_result",
          "data": {
            "text/plain": [
              "list"
            ]
          },
          "metadata": {
            "tags": []
          },
          "execution_count": 6
        }
      ]
    },
    {
      "cell_type": "code",
      "metadata": {
        "id": "m1irDSRD5scl",
        "outputId": "324ec016-10e6-4771-fbb0-4e767c3d3e10"
      },
      "source": [
        "np.array(a) #ALl element converted to decimal"
      ],
      "execution_count": null,
      "outputs": [
        {
          "output_type": "execute_result",
          "data": {
            "text/plain": [
              "array([3., 4., 5., 6.])"
            ]
          },
          "metadata": {
            "tags": []
          },
          "execution_count": 7
        }
      ]
    },
    {
      "cell_type": "code",
      "metadata": {
        "id": "NYckkutL5scm",
        "outputId": "ddcf444f-4f5e-4cec-dfa4-09e10b3d4f9f"
      },
      "source": [
        "v=np.array([[1,2,3],[3,4,5]])\n",
        "v"
      ],
      "execution_count": null,
      "outputs": [
        {
          "output_type": "execute_result",
          "data": {
            "text/plain": [
              "array([[1, 2, 3],\n",
              "       [3, 4, 5]])"
            ]
          },
          "metadata": {
            "tags": []
          },
          "execution_count": 21
        }
      ]
    },
    {
      "cell_type": "code",
      "metadata": {
        "id": "Vwai7xVV5scn",
        "outputId": "9c7a5f73-3ac9-43f8-8e21-46dbab2e7075"
      },
      "source": [
        "v[0]"
      ],
      "execution_count": null,
      "outputs": [
        {
          "output_type": "execute_result",
          "data": {
            "text/plain": [
              "array([1, 2, 3])"
            ]
          },
          "metadata": {
            "tags": []
          },
          "execution_count": 10
        }
      ]
    },
    {
      "cell_type": "code",
      "metadata": {
        "id": "BYIrjsgO5scn",
        "outputId": "37e5fcfc-ad77-4cd1-959c-4a150cbcf443"
      },
      "source": [
        "v[0][0]"
      ],
      "execution_count": null,
      "outputs": [
        {
          "output_type": "execute_result",
          "data": {
            "text/plain": [
              "1"
            ]
          },
          "metadata": {
            "tags": []
          },
          "execution_count": 11
        }
      ]
    },
    {
      "cell_type": "code",
      "metadata": {
        "id": "NcnNMHpt5sco",
        "outputId": "c3205a7d-0105-4677-826e-5efd031920ab"
      },
      "source": [
        "v.shape"
      ],
      "execution_count": null,
      "outputs": [
        {
          "output_type": "execute_result",
          "data": {
            "text/plain": [
              "(2, 3)"
            ]
          },
          "metadata": {
            "tags": []
          },
          "execution_count": 12
        }
      ]
    },
    {
      "cell_type": "code",
      "metadata": {
        "id": "3idw7QUg5sco",
        "outputId": "12759b7a-f54a-4aaa-8705-4de1fba311bc"
      },
      "source": [
        "np.array([4,5,6,7])"
      ],
      "execution_count": null,
      "outputs": [
        {
          "output_type": "execute_result",
          "data": {
            "text/plain": [
              "array([4, 5, 6, 7])"
            ]
          },
          "metadata": {
            "tags": []
          },
          "execution_count": 17
        }
      ]
    },
    {
      "cell_type": "code",
      "metadata": {
        "id": "il3EjK1y5scp",
        "outputId": "0356245d-757a-4e43-b2bc-71d580de162b"
      },
      "source": [
        "np.array([4,5,6,7],ndmin=2)  # Dimention changed to 1 to 2"
      ],
      "execution_count": null,
      "outputs": [
        {
          "output_type": "execute_result",
          "data": {
            "text/plain": [
              "array([[4, 5, 6, 7]])"
            ]
          },
          "metadata": {
            "tags": []
          },
          "execution_count": 18
        }
      ]
    },
    {
      "cell_type": "code",
      "metadata": {
        "id": "5CknjSR45scp",
        "outputId": "81248e5b-3fc0-49fa-eb95-bd06922fac0d"
      },
      "source": [
        "np.array([4,5,6,7],ndmin=20)"
      ],
      "execution_count": null,
      "outputs": [
        {
          "output_type": "execute_result",
          "data": {
            "text/plain": [
              "array([[[[[[[[[[[[[[[[[[[[4, 5, 6, 7]]]]]]]]]]]]]]]]]]]])"
            ]
          },
          "metadata": {
            "tags": []
          },
          "execution_count": 19
        }
      ]
    },
    {
      "cell_type": "code",
      "metadata": {
        "id": "bESGLLl55scq",
        "outputId": "fddccf42-4a87-41ce-baa5-54fd7a5b4028"
      },
      "source": [
        "np.array([4,5,6,7], dtype=complex)"
      ],
      "execution_count": null,
      "outputs": [
        {
          "output_type": "execute_result",
          "data": {
            "text/plain": [
              "array([4.+0.j, 5.+0.j, 6.+0.j, 7.+0.j])"
            ]
          },
          "metadata": {
            "tags": []
          },
          "execution_count": 20
        }
      ]
    },
    {
      "cell_type": "code",
      "metadata": {
        "id": "xX1swkj55scq",
        "outputId": "b872a8d5-64b6-4e42-9221-68965abafca2"
      },
      "source": [
        "v=np.array([[1,2,3],[3,4]])   # number of element are not same \n",
        "v"
      ],
      "execution_count": null,
      "outputs": [
        {
          "output_type": "execute_result",
          "data": {
            "text/plain": [
              "array([list([1, 2, 3]), list([3, 4])], dtype=object)"
            ]
          },
          "metadata": {
            "tags": []
          },
          "execution_count": 22
        }
      ]
    },
    {
      "cell_type": "code",
      "metadata": {
        "id": "zqdGJ5-s5scr",
        "outputId": "af878b14-a934-48dc-cada-df35a52b2846"
      },
      "source": [
        "np.array([(3,4),(5,6)]) #List of tuples"
      ],
      "execution_count": null,
      "outputs": [
        {
          "output_type": "execute_result",
          "data": {
            "text/plain": [
              "array([[3, 4],\n",
              "       [5, 6]])"
            ]
          },
          "metadata": {
            "tags": []
          },
          "execution_count": 23
        }
      ]
    },
    {
      "cell_type": "code",
      "metadata": {
        "id": "rXCltVKN5scr"
      },
      "source": [
        "n=np.array([(3,4),(5,6)],dtype=[('a','<i4'),('b','<i2')]) #List of tuples"
      ],
      "execution_count": null,
      "outputs": []
    },
    {
      "cell_type": "code",
      "metadata": {
        "id": "u2quwMZR5scs",
        "outputId": "024abdd0-6f0a-4239-8cf3-faf708d01d17"
      },
      "source": [
        "n[0]"
      ],
      "execution_count": null,
      "outputs": [
        {
          "output_type": "execute_result",
          "data": {
            "text/plain": [
              "(3, 4)"
            ]
          },
          "metadata": {
            "tags": []
          },
          "execution_count": 26
        }
      ]
    },
    {
      "cell_type": "code",
      "metadata": {
        "id": "Emt5droS5scs",
        "outputId": "5eb30892-c659-447c-95c2-7b53ef76bc45"
      },
      "source": [
        "n[0][0]"
      ],
      "execution_count": null,
      "outputs": [
        {
          "output_type": "execute_result",
          "data": {
            "text/plain": [
              "3"
            ]
          },
          "metadata": {
            "tags": []
          },
          "execution_count": 27
        }
      ]
    },
    {
      "cell_type": "code",
      "metadata": {
        "id": "yBggot_I5scs",
        "outputId": "3bd83122-b72e-4d28-a3bb-2641e7ba50a1"
      },
      "source": [
        "type(n[0][0])"
      ],
      "execution_count": null,
      "outputs": [
        {
          "output_type": "execute_result",
          "data": {
            "text/plain": [
              "numpy.int32"
            ]
          },
          "metadata": {
            "tags": []
          },
          "execution_count": 28
        }
      ]
    },
    {
      "cell_type": "code",
      "metadata": {
        "id": "4112kw9P5sct",
        "outputId": "4d073992-f47c-4e09-9d58-3dc8e8a5f046"
      },
      "source": [
        "type(n[0][1])"
      ],
      "execution_count": null,
      "outputs": [
        {
          "output_type": "execute_result",
          "data": {
            "text/plain": [
              "numpy.int16"
            ]
          },
          "metadata": {
            "tags": []
          },
          "execution_count": 29
        }
      ]
    },
    {
      "cell_type": "code",
      "metadata": {
        "id": "72787TPX5sct"
      },
      "source": [
        "n=np.array([(3,4),(5,6)],dtype=[('a','<i2'),('b','<i8')]) #List of tuples"
      ],
      "execution_count": null,
      "outputs": []
    },
    {
      "cell_type": "code",
      "metadata": {
        "id": "toYQwSjZ5scu",
        "outputId": "0a02b50f-0dbe-4748-f8b4-121dd64878d3"
      },
      "source": [
        "type(n[0][0])"
      ],
      "execution_count": null,
      "outputs": [
        {
          "output_type": "execute_result",
          "data": {
            "text/plain": [
              "numpy.int16"
            ]
          },
          "metadata": {
            "tags": []
          },
          "execution_count": 31
        }
      ]
    },
    {
      "cell_type": "code",
      "metadata": {
        "id": "GARbfIeK5scu",
        "outputId": "51f0f85a-eb29-422b-ce40-f1cab8630af7"
      },
      "source": [
        "type(n[0][1])"
      ],
      "execution_count": null,
      "outputs": [
        {
          "output_type": "execute_result",
          "data": {
            "text/plain": [
              "numpy.int64"
            ]
          },
          "metadata": {
            "tags": []
          },
          "execution_count": 32
        }
      ]
    },
    {
      "cell_type": "code",
      "metadata": {
        "id": "GCkaZQJ05scu"
      },
      "source": [
        "m=np.mat([1,2,3,4])"
      ],
      "execution_count": null,
      "outputs": []
    },
    {
      "cell_type": "code",
      "metadata": {
        "id": "Zd0qhtvV5scv",
        "outputId": "8ac1394a-0700-4a25-e8db-6f7dcb988f40"
      },
      "source": [
        "type(np.mat([1,2,3,4]))"
      ],
      "execution_count": null,
      "outputs": [
        {
          "output_type": "execute_result",
          "data": {
            "text/plain": [
              "numpy.matrix"
            ]
          },
          "metadata": {
            "tags": []
          },
          "execution_count": 35
        }
      ]
    },
    {
      "cell_type": "code",
      "metadata": {
        "id": "lIWsPJid5scv",
        "outputId": "2a2e819f-f1e4-4d78-b77a-18f4446ebdcc"
      },
      "source": [
        "np.array(m)"
      ],
      "execution_count": null,
      "outputs": [
        {
          "output_type": "execute_result",
          "data": {
            "text/plain": [
              "array([[1, 2, 3, 4]])"
            ]
          },
          "metadata": {
            "tags": []
          },
          "execution_count": 37
        }
      ]
    },
    {
      "cell_type": "code",
      "metadata": {
        "id": "9bABuInR5scw",
        "outputId": "d35a6d96-dde6-41de-fada-b500e08805bf"
      },
      "source": [
        "np.asanyarray([5,6,7,8]) #List is not array to this function converts to array"
      ],
      "execution_count": null,
      "outputs": [
        {
          "output_type": "execute_result",
          "data": {
            "text/plain": [
              "array([5, 6, 7, 8])"
            ]
          },
          "metadata": {
            "tags": []
          },
          "execution_count": 38
        }
      ]
    },
    {
      "cell_type": "code",
      "metadata": {
        "id": "5g-jvpoa5scw",
        "outputId": "0313066d-2280-4bfd-ce90-cd5ae7906ed5"
      },
      "source": [
        "np.asanyarray(m) #Not converting to array as matrix is subpart of array"
      ],
      "execution_count": null,
      "outputs": [
        {
          "output_type": "execute_result",
          "data": {
            "text/plain": [
              "matrix([[1, 2, 3, 4]])"
            ]
          },
          "metadata": {
            "tags": []
          },
          "execution_count": 39
        }
      ]
    },
    {
      "cell_type": "code",
      "metadata": {
        "id": "JvnuwuBE5scw",
        "outputId": "307aebe4-ce5e-410a-84ee-8f93a24ac079"
      },
      "source": [
        "a=np.array([4,5,6,7,8])\n",
        "a"
      ],
      "execution_count": null,
      "outputs": [
        {
          "output_type": "execute_result",
          "data": {
            "text/plain": [
              "array([4, 5, 6, 7, 8])"
            ]
          },
          "metadata": {
            "tags": []
          },
          "execution_count": 48
        }
      ]
    },
    {
      "cell_type": "code",
      "metadata": {
        "id": "VN2FGVQ35scx"
      },
      "source": [
        "b=a   #Swallow copy"
      ],
      "execution_count": null,
      "outputs": []
    },
    {
      "cell_type": "code",
      "metadata": {
        "id": "0wdvskb55scx",
        "outputId": "2ba1d5f6-3921-4589-a126-3242aff80413"
      },
      "source": [
        "b"
      ],
      "execution_count": null,
      "outputs": [
        {
          "output_type": "execute_result",
          "data": {
            "text/plain": [
              "array([4, 5, 6, 7, 8])"
            ]
          },
          "metadata": {
            "tags": []
          },
          "execution_count": 50
        }
      ]
    },
    {
      "cell_type": "code",
      "metadata": {
        "id": "63Cg-o4E5scx",
        "outputId": "a496b3bb-4976-49d9-945a-86d167c5bc3c"
      },
      "source": [
        "b[0]"
      ],
      "execution_count": null,
      "outputs": [
        {
          "output_type": "execute_result",
          "data": {
            "text/plain": [
              "4"
            ]
          },
          "metadata": {
            "tags": []
          },
          "execution_count": 51
        }
      ]
    },
    {
      "cell_type": "code",
      "metadata": {
        "id": "aIzMt7v25scy"
      },
      "source": [
        "b[0]=35"
      ],
      "execution_count": null,
      "outputs": []
    },
    {
      "cell_type": "code",
      "metadata": {
        "id": "8KDN4Ons5scy",
        "outputId": "bc545256-566c-4d94-dc8e-9b3f6c44d0fe"
      },
      "source": [
        "b"
      ],
      "execution_count": null,
      "outputs": [
        {
          "output_type": "execute_result",
          "data": {
            "text/plain": [
              "array([35,  5,  6,  7,  8])"
            ]
          },
          "metadata": {
            "tags": []
          },
          "execution_count": 53
        }
      ]
    },
    {
      "cell_type": "code",
      "metadata": {
        "id": "ng01Q-gd5scy",
        "outputId": "25355554-c1af-47ef-8cde-ed0caaf88797"
      },
      "source": [
        "a"
      ],
      "execution_count": null,
      "outputs": [
        {
          "output_type": "execute_result",
          "data": {
            "text/plain": [
              "array([35,  5,  6,  7,  8])"
            ]
          },
          "metadata": {
            "tags": []
          },
          "execution_count": 54
        }
      ]
    },
    {
      "cell_type": "code",
      "metadata": {
        "id": "eEPhwKcv5scy"
      },
      "source": [
        "c=np.copy(a)  # Deep Copy"
      ],
      "execution_count": null,
      "outputs": []
    },
    {
      "cell_type": "code",
      "metadata": {
        "id": "-LK-Xk_L5scz",
        "outputId": "8700e3c5-d674-4aad-f91f-78c064db1f91"
      },
      "source": [
        "c"
      ],
      "execution_count": null,
      "outputs": [
        {
          "output_type": "execute_result",
          "data": {
            "text/plain": [
              "array([35,  5,  6,  7,  8])"
            ]
          },
          "metadata": {
            "tags": []
          },
          "execution_count": 56
        }
      ]
    },
    {
      "cell_type": "code",
      "metadata": {
        "id": "v2WqwBE75scz"
      },
      "source": [
        "c[0]=55"
      ],
      "execution_count": null,
      "outputs": []
    },
    {
      "cell_type": "code",
      "metadata": {
        "id": "Yh8d_GqM5scz",
        "outputId": "6782c034-8f3d-44bd-8efc-1e698c567267"
      },
      "source": [
        "c"
      ],
      "execution_count": null,
      "outputs": [
        {
          "output_type": "execute_result",
          "data": {
            "text/plain": [
              "array([55,  5,  6,  7,  8])"
            ]
          },
          "metadata": {
            "tags": []
          },
          "execution_count": 58
        }
      ]
    },
    {
      "cell_type": "code",
      "metadata": {
        "id": "T6kYEe315scz",
        "outputId": "3386c9a6-e541-4322-cf31-ce19e1d92dbc"
      },
      "source": [
        "a"
      ],
      "execution_count": null,
      "outputs": [
        {
          "output_type": "execute_result",
          "data": {
            "text/plain": [
              "array([35,  5,  6,  7,  8])"
            ]
          },
          "metadata": {
            "tags": []
          },
          "execution_count": 59
        }
      ]
    },
    {
      "cell_type": "code",
      "metadata": {
        "id": "Aq53q-8Q5scz",
        "outputId": "4152b4d1-81e1-4c18-cf5a-549dbaa64ad4"
      },
      "source": [
        "np.fromfunction(lambda x,y :x==y,(3,4))"
      ],
      "execution_count": null,
      "outputs": [
        {
          "output_type": "execute_result",
          "data": {
            "text/plain": [
              "array([[ True, False, False, False],\n",
              "       [False,  True, False, False],\n",
              "       [False, False,  True, False]])"
            ]
          },
          "metadata": {
            "tags": []
          },
          "execution_count": 60
        }
      ]
    },
    {
      "cell_type": "code",
      "metadata": {
        "id": "mTcJIHM-5sc0",
        "outputId": "54fb4753-4370-4b1b-a60d-22f269b62166"
      },
      "source": [
        "np.fromfunction(lambda x,y :x+y,(3,4))"
      ],
      "execution_count": null,
      "outputs": [
        {
          "output_type": "execute_result",
          "data": {
            "text/plain": [
              "array([[0., 1., 2., 3.],\n",
              "       [1., 2., 3., 4.],\n",
              "       [2., 3., 4., 5.]])"
            ]
          },
          "metadata": {
            "tags": []
          },
          "execution_count": 61
        }
      ]
    },
    {
      "cell_type": "code",
      "metadata": {
        "id": "b-uQwWss5sc0",
        "outputId": "88680617-0d52-47f1-eb48-02a6ee8d5003"
      },
      "source": [
        "np.fromstring('1 3 5',sep=' ')"
      ],
      "execution_count": null,
      "outputs": [
        {
          "output_type": "execute_result",
          "data": {
            "text/plain": [
              "array([1., 3., 5.])"
            ]
          },
          "metadata": {
            "tags": []
          },
          "execution_count": 63
        }
      ]
    },
    {
      "cell_type": "code",
      "metadata": {
        "id": "qR2dPQcR5sc0",
        "outputId": "a1713688-eef2-49ce-f33a-a16d3b89dcca"
      },
      "source": [
        "np.fromstring('nk',sep=' ')"
      ],
      "execution_count": null,
      "outputs": [
        {
          "output_type": "execute_result",
          "data": {
            "text/plain": [
              "array([], dtype=float64)"
            ]
          },
          "metadata": {
            "tags": []
          },
          "execution_count": 64
        }
      ]
    },
    {
      "cell_type": "code",
      "metadata": {
        "id": "QmEStdcm5sc0",
        "outputId": "9d56f6eb-9df8-4434-9fbe-6f813899c0e6"
      },
      "source": [
        "np.fromstring('nk',dtype=str,sep=' ')"
      ],
      "execution_count": null,
      "outputs": [
        {
          "output_type": "error",
          "ename": "ValueError",
          "evalue": "zero-valued itemsize",
          "traceback": [
            "\u001b[1;31m---------------------------------------------------------------------------\u001b[0m",
            "\u001b[1;31mValueError\u001b[0m                                Traceback (most recent call last)",
            "\u001b[1;32m<ipython-input-65-773c06de344e>\u001b[0m in \u001b[0;36m<module>\u001b[1;34m\u001b[0m\n\u001b[1;32m----> 1\u001b[1;33m \u001b[0mnp\u001b[0m\u001b[1;33m.\u001b[0m\u001b[0mfromstring\u001b[0m\u001b[1;33m(\u001b[0m\u001b[1;34m'nk'\u001b[0m\u001b[1;33m,\u001b[0m\u001b[0mdtype\u001b[0m\u001b[1;33m=\u001b[0m\u001b[0mstr\u001b[0m\u001b[1;33m,\u001b[0m\u001b[0msep\u001b[0m\u001b[1;33m=\u001b[0m\u001b[1;34m' '\u001b[0m\u001b[1;33m)\u001b[0m\u001b[1;33m\u001b[0m\u001b[1;33m\u001b[0m\u001b[0m\n\u001b[0m",
            "\u001b[1;31mValueError\u001b[0m: zero-valued itemsize"
          ]
        }
      ]
    },
    {
      "cell_type": "code",
      "metadata": {
        "id": "t6BfhAl75sc1",
        "outputId": "352ae9e6-3c72-4bbf-d3d3-36b0b8b3ad3c"
      },
      "source": [
        "np.fromstring('6,7',dtype=str,sep=' ')"
      ],
      "execution_count": null,
      "outputs": [
        {
          "output_type": "error",
          "ename": "ValueError",
          "evalue": "zero-valued itemsize",
          "traceback": [
            "\u001b[1;31m---------------------------------------------------------------------------\u001b[0m",
            "\u001b[1;31mValueError\u001b[0m                                Traceback (most recent call last)",
            "\u001b[1;32m<ipython-input-66-0737d310d66a>\u001b[0m in \u001b[0;36m<module>\u001b[1;34m\u001b[0m\n\u001b[1;32m----> 1\u001b[1;33m \u001b[0mnp\u001b[0m\u001b[1;33m.\u001b[0m\u001b[0mfromstring\u001b[0m\u001b[1;33m(\u001b[0m\u001b[1;34m'6,7'\u001b[0m\u001b[1;33m,\u001b[0m\u001b[0mdtype\u001b[0m\u001b[1;33m=\u001b[0m\u001b[0mstr\u001b[0m\u001b[1;33m,\u001b[0m\u001b[0msep\u001b[0m\u001b[1;33m=\u001b[0m\u001b[1;34m' '\u001b[0m\u001b[1;33m)\u001b[0m\u001b[1;33m\u001b[0m\u001b[1;33m\u001b[0m\u001b[0m\n\u001b[0m",
            "\u001b[1;31mValueError\u001b[0m: zero-valued itemsize"
          ]
        }
      ]
    },
    {
      "cell_type": "code",
      "metadata": {
        "id": "eal6qTJ35sc1",
        "outputId": "034bd562-2f35-418f-ea40-64ebb7d2bdc6"
      },
      "source": [
        "np.fromstring('6,7',dtype=int,sep=',')"
      ],
      "execution_count": null,
      "outputs": [
        {
          "output_type": "execute_result",
          "data": {
            "text/plain": [
              "array([6, 7])"
            ]
          },
          "metadata": {
            "tags": []
          },
          "execution_count": 68
        }
      ]
    },
    {
      "cell_type": "code",
      "metadata": {
        "id": "KIBhIkFe5sc1"
      },
      "source": [
        "a=[[3,4,5],[6,7,8],[6,7,9]]"
      ],
      "execution_count": null,
      "outputs": []
    },
    {
      "cell_type": "code",
      "metadata": {
        "id": "MsQuIarZ5sc1",
        "outputId": "3361e4b8-cfdb-4cba-8ebb-fb5d0809851a"
      },
      "source": [
        "n=np.array(a)\n",
        "n"
      ],
      "execution_count": null,
      "outputs": [
        {
          "output_type": "execute_result",
          "data": {
            "text/plain": [
              "array([[3, 4, 5],\n",
              "       [6, 7, 8],\n",
              "       [6, 7, 9]])"
            ]
          },
          "metadata": {
            "tags": []
          },
          "execution_count": 83
        }
      ]
    },
    {
      "cell_type": "code",
      "metadata": {
        "id": "OBunBK405sc2",
        "outputId": "e611c645-3958-46c2-e7d9-e0956469a36b"
      },
      "source": [
        "n.ndim # Dimension"
      ],
      "execution_count": null,
      "outputs": [
        {
          "output_type": "execute_result",
          "data": {
            "text/plain": [
              "2"
            ]
          },
          "metadata": {
            "tags": []
          },
          "execution_count": 84
        }
      ]
    },
    {
      "cell_type": "code",
      "metadata": {
        "id": "C21rezyr5sc2",
        "outputId": "d74e1f8b-b3d0-48b6-d8e9-5f73e00409d9"
      },
      "source": [
        "n.size # total element"
      ],
      "execution_count": null,
      "outputs": [
        {
          "output_type": "execute_result",
          "data": {
            "text/plain": [
              "9"
            ]
          },
          "metadata": {
            "tags": []
          },
          "execution_count": 85
        }
      ]
    },
    {
      "cell_type": "code",
      "metadata": {
        "id": "Xks-Ouyt5sc2",
        "outputId": "7eebcada-9d6c-4675-eba9-21cf828deba5"
      },
      "source": [
        "n.shape # row by column"
      ],
      "execution_count": null,
      "outputs": [
        {
          "output_type": "execute_result",
          "data": {
            "text/plain": [
              "(3, 3)"
            ]
          },
          "metadata": {
            "tags": []
          },
          "execution_count": 86
        }
      ]
    },
    {
      "cell_type": "code",
      "metadata": {
        "id": "sHdX_y4N5sc2"
      },
      "source": [
        "m=np.array([5,6,7])"
      ],
      "execution_count": null,
      "outputs": []
    },
    {
      "cell_type": "code",
      "metadata": {
        "id": "SyD543h75sc3",
        "outputId": "337dd30f-9c57-4208-cafa-81d42326be99"
      },
      "source": [
        "m.ndim"
      ],
      "execution_count": null,
      "outputs": [
        {
          "output_type": "execute_result",
          "data": {
            "text/plain": [
              "1"
            ]
          },
          "metadata": {
            "tags": []
          },
          "execution_count": 88
        }
      ]
    },
    {
      "cell_type": "code",
      "metadata": {
        "id": "zavnbeFW5sc3"
      },
      "source": [
        "m=np.array([[5,6,7]])"
      ],
      "execution_count": null,
      "outputs": []
    },
    {
      "cell_type": "code",
      "metadata": {
        "id": "MZDjMbri5sc3",
        "outputId": "b1dfcd08-ce42-44a4-c803-cb23b4495d5b"
      },
      "source": [
        "m.ndim"
      ],
      "execution_count": null,
      "outputs": [
        {
          "output_type": "execute_result",
          "data": {
            "text/plain": [
              "2"
            ]
          },
          "metadata": {
            "tags": []
          },
          "execution_count": 90
        }
      ]
    },
    {
      "cell_type": "code",
      "metadata": {
        "id": "uaCnjk1S5sc3",
        "outputId": "bd4c58dd-38a9-4ef6-8fb1-66e08465a130"
      },
      "source": [
        "n.dtype"
      ],
      "execution_count": null,
      "outputs": [
        {
          "output_type": "execute_result",
          "data": {
            "text/plain": [
              "dtype('int32')"
            ]
          },
          "metadata": {
            "tags": []
          },
          "execution_count": 91
        }
      ]
    },
    {
      "cell_type": "code",
      "metadata": {
        "id": "6F50tnzp5sc4",
        "outputId": "567d8f02-c93d-4bd9-fbb9-cfc535532060"
      },
      "source": [
        "range(5)"
      ],
      "execution_count": null,
      "outputs": [
        {
          "output_type": "execute_result",
          "data": {
            "text/plain": [
              "range(0, 5)"
            ]
          },
          "metadata": {
            "tags": []
          },
          "execution_count": 92
        }
      ]
    },
    {
      "cell_type": "code",
      "metadata": {
        "id": "gqOr01n95sc4",
        "outputId": "903bc702-a702-407a-f959-5fe0bc0940e7"
      },
      "source": [
        "range(5.0)"
      ],
      "execution_count": null,
      "outputs": [
        {
          "output_type": "error",
          "ename": "TypeError",
          "evalue": "'float' object cannot be interpreted as an integer",
          "traceback": [
            "\u001b[1;31m---------------------------------------------------------------------------\u001b[0m",
            "\u001b[1;31mTypeError\u001b[0m                                 Traceback (most recent call last)",
            "\u001b[1;32m<ipython-input-93-5dc0b1c11a31>\u001b[0m in \u001b[0;36m<module>\u001b[1;34m\u001b[0m\n\u001b[1;32m----> 1\u001b[1;33m \u001b[0mrange\u001b[0m\u001b[1;33m(\u001b[0m\u001b[1;36m5.0\u001b[0m\u001b[1;33m)\u001b[0m\u001b[1;33m\u001b[0m\u001b[1;33m\u001b[0m\u001b[0m\n\u001b[0m",
            "\u001b[1;31mTypeError\u001b[0m: 'float' object cannot be interpreted as an integer"
          ]
        }
      ]
    },
    {
      "cell_type": "code",
      "metadata": {
        "id": "izjLVsyL5sc4",
        "outputId": "ecbe187f-f556-4c2e-87fb-3a861b57519a"
      },
      "source": [
        "np.arange(5.0)"
      ],
      "execution_count": null,
      "outputs": [
        {
          "output_type": "execute_result",
          "data": {
            "text/plain": [
              "array([0., 1., 2., 3., 4.])"
            ]
          },
          "metadata": {
            "tags": []
          },
          "execution_count": 94
        }
      ]
    },
    {
      "cell_type": "code",
      "metadata": {
        "id": "fWtH8Bh75sc4",
        "outputId": "f85e1419-fae8-415c-8136-e001c842bd30"
      },
      "source": [
        "n=np.arange(2.6,9.87,.5) #Start End and Step\n",
        "n"
      ],
      "execution_count": null,
      "outputs": [
        {
          "output_type": "execute_result",
          "data": {
            "text/plain": [
              "array([2.6, 3.1, 3.6, 4.1, 4.6, 5.1, 5.6, 6.1, 6.6, 7.1, 7.6, 8.1, 8.6,\n",
              "       9.1, 9.6])"
            ]
          },
          "metadata": {
            "tags": []
          },
          "execution_count": 98
        }
      ]
    },
    {
      "cell_type": "code",
      "metadata": {
        "id": "QXo-eNsR5sc4",
        "outputId": "11fa871c-e40a-409f-b416-92240e397cbb"
      },
      "source": [
        "list(n)"
      ],
      "execution_count": null,
      "outputs": [
        {
          "output_type": "execute_result",
          "data": {
            "text/plain": [
              "[2.6, 3.1, 3.6, 4.1, 4.6, 5.1, 5.6, 6.1, 6.6, 7.1, 7.6, 8.1, 8.6, 9.1, 9.6]"
            ]
          },
          "metadata": {
            "tags": []
          },
          "execution_count": 99
        }
      ]
    },
    {
      "cell_type": "code",
      "metadata": {
        "id": "xQUTtFxO5sc5",
        "outputId": "560ee06e-69a8-4351-8350-d1d0502a9870"
      },
      "source": [
        "np.linspace(3,6,20) # Start, END and Number of element"
      ],
      "execution_count": null,
      "outputs": [
        {
          "output_type": "execute_result",
          "data": {
            "text/plain": [
              "array([3.        , 3.15789474, 3.31578947, 3.47368421, 3.63157895,\n",
              "       3.78947368, 3.94736842, 4.10526316, 4.26315789, 4.42105263,\n",
              "       4.57894737, 4.73684211, 4.89473684, 5.05263158, 5.21052632,\n",
              "       5.36842105, 5.52631579, 5.68421053, 5.84210526, 6.        ])"
            ]
          },
          "metadata": {
            "tags": []
          },
          "execution_count": 102
        }
      ]
    },
    {
      "cell_type": "code",
      "metadata": {
        "id": "BY9JdEZ15sc5",
        "outputId": "cee5f764-db7e-4ba6-e910-1cd8efc45ff3"
      },
      "source": [
        "np.linspace(3,6,20,endpoint=False) # Excludes END "
      ],
      "execution_count": null,
      "outputs": [
        {
          "output_type": "execute_result",
          "data": {
            "text/plain": [
              "array([3.  , 3.15, 3.3 , 3.45, 3.6 , 3.75, 3.9 , 4.05, 4.2 , 4.35, 4.5 ,\n",
              "       4.65, 4.8 , 4.95, 5.1 , 5.25, 5.4 , 5.55, 5.7 , 5.85])"
            ]
          },
          "metadata": {
            "tags": []
          },
          "execution_count": 104
        }
      ]
    },
    {
      "cell_type": "code",
      "metadata": {
        "id": "7fp9bWvV5sc5",
        "outputId": "379f1fd4-e5bf-4e9a-9349-71b4ae6e1c6a"
      },
      "source": [
        "np.linspace(3,6,20,endpoint=False,retstep=True)"
      ],
      "execution_count": null,
      "outputs": [
        {
          "output_type": "execute_result",
          "data": {
            "text/plain": [
              "(array([3.  , 3.15, 3.3 , 3.45, 3.6 , 3.75, 3.9 , 4.05, 4.2 , 4.35, 4.5 ,\n",
              "        4.65, 4.8 , 4.95, 5.1 , 5.25, 5.4 , 5.55, 5.7 , 5.85]),\n",
              " 0.15)"
            ]
          },
          "metadata": {
            "tags": []
          },
          "execution_count": 105
        }
      ]
    },
    {
      "cell_type": "code",
      "metadata": {
        "id": "ZW1lWeLs5sc6",
        "outputId": "8502a57b-3b9f-430c-b1f9-32f274d7b903"
      },
      "source": [
        "np.linspace(3,6,20,axis=0)"
      ],
      "execution_count": null,
      "outputs": [
        {
          "output_type": "execute_result",
          "data": {
            "text/plain": [
              "array([3.        , 3.15789474, 3.31578947, 3.47368421, 3.63157895,\n",
              "       3.78947368, 3.94736842, 4.10526316, 4.26315789, 4.42105263,\n",
              "       4.57894737, 4.73684211, 4.89473684, 5.05263158, 5.21052632,\n",
              "       5.36842105, 5.52631579, 5.68421053, 5.84210526, 6.        ])"
            ]
          },
          "metadata": {
            "tags": []
          },
          "execution_count": 107
        }
      ]
    },
    {
      "cell_type": "code",
      "metadata": {
        "id": "BEKJfVOW5sc6",
        "outputId": "bdcfd1e4-0be5-46c7-e7d4-e7e7c06c4705"
      },
      "source": [
        "np.zeros((2,5,6)) #Array *ROW * COLUMN = 3D Array"
      ],
      "execution_count": null,
      "outputs": [
        {
          "output_type": "execute_result",
          "data": {
            "text/plain": [
              "array([[[0., 0., 0., 0., 0., 0.],\n",
              "        [0., 0., 0., 0., 0., 0.],\n",
              "        [0., 0., 0., 0., 0., 0.],\n",
              "        [0., 0., 0., 0., 0., 0.],\n",
              "        [0., 0., 0., 0., 0., 0.]],\n",
              "\n",
              "       [[0., 0., 0., 0., 0., 0.],\n",
              "        [0., 0., 0., 0., 0., 0.],\n",
              "        [0., 0., 0., 0., 0., 0.],\n",
              "        [0., 0., 0., 0., 0., 0.],\n",
              "        [0., 0., 0., 0., 0., 0.]]])"
            ]
          },
          "metadata": {
            "tags": []
          },
          "execution_count": 110
        }
      ]
    },
    {
      "cell_type": "code",
      "metadata": {
        "id": "Yy-GRHIs5sc7",
        "outputId": "7182bd34-3d2c-48a6-e9d8-84afaf5834bb"
      },
      "source": [
        "np.zeros((2,5,6,2)) #4 Dim"
      ],
      "execution_count": null,
      "outputs": [
        {
          "output_type": "execute_result",
          "data": {
            "text/plain": [
              "array([[[[0., 0.],\n",
              "         [0., 0.],\n",
              "         [0., 0.],\n",
              "         [0., 0.],\n",
              "         [0., 0.],\n",
              "         [0., 0.]],\n",
              "\n",
              "        [[0., 0.],\n",
              "         [0., 0.],\n",
              "         [0., 0.],\n",
              "         [0., 0.],\n",
              "         [0., 0.],\n",
              "         [0., 0.]],\n",
              "\n",
              "        [[0., 0.],\n",
              "         [0., 0.],\n",
              "         [0., 0.],\n",
              "         [0., 0.],\n",
              "         [0., 0.],\n",
              "         [0., 0.]],\n",
              "\n",
              "        [[0., 0.],\n",
              "         [0., 0.],\n",
              "         [0., 0.],\n",
              "         [0., 0.],\n",
              "         [0., 0.],\n",
              "         [0., 0.]],\n",
              "\n",
              "        [[0., 0.],\n",
              "         [0., 0.],\n",
              "         [0., 0.],\n",
              "         [0., 0.],\n",
              "         [0., 0.],\n",
              "         [0., 0.]]],\n",
              "\n",
              "\n",
              "       [[[0., 0.],\n",
              "         [0., 0.],\n",
              "         [0., 0.],\n",
              "         [0., 0.],\n",
              "         [0., 0.],\n",
              "         [0., 0.]],\n",
              "\n",
              "        [[0., 0.],\n",
              "         [0., 0.],\n",
              "         [0., 0.],\n",
              "         [0., 0.],\n",
              "         [0., 0.],\n",
              "         [0., 0.]],\n",
              "\n",
              "        [[0., 0.],\n",
              "         [0., 0.],\n",
              "         [0., 0.],\n",
              "         [0., 0.],\n",
              "         [0., 0.],\n",
              "         [0., 0.]],\n",
              "\n",
              "        [[0., 0.],\n",
              "         [0., 0.],\n",
              "         [0., 0.],\n",
              "         [0., 0.],\n",
              "         [0., 0.],\n",
              "         [0., 0.]],\n",
              "\n",
              "        [[0., 0.],\n",
              "         [0., 0.],\n",
              "         [0., 0.],\n",
              "         [0., 0.],\n",
              "         [0., 0.],\n",
              "         [0., 0.]]]])"
            ]
          },
          "metadata": {
            "tags": []
          },
          "execution_count": 111
        }
      ]
    },
    {
      "cell_type": "code",
      "metadata": {
        "id": "Kq2MdLD55sc7",
        "outputId": "0c391c8d-cc6c-4074-cb16-5844d7513857"
      },
      "source": [
        "np.ones((3,4))"
      ],
      "execution_count": null,
      "outputs": [
        {
          "output_type": "execute_result",
          "data": {
            "text/plain": [
              "array([[1., 1., 1., 1.],\n",
              "       [1., 1., 1., 1.],\n",
              "       [1., 1., 1., 1.]])"
            ]
          },
          "metadata": {
            "tags": []
          },
          "execution_count": 113
        }
      ]
    },
    {
      "cell_type": "code",
      "metadata": {
        "id": "VZRu3rG85sc7",
        "outputId": "ae675071-b918-4319-8357-36cfe51abf66"
      },
      "source": [
        "np.ones((2,3,4))"
      ],
      "execution_count": null,
      "outputs": [
        {
          "output_type": "execute_result",
          "data": {
            "text/plain": [
              "array([[[1., 1., 1., 1.],\n",
              "        [1., 1., 1., 1.],\n",
              "        [1., 1., 1., 1.]],\n",
              "\n",
              "       [[1., 1., 1., 1.],\n",
              "        [1., 1., 1., 1.],\n",
              "        [1., 1., 1., 1.]]])"
            ]
          },
          "metadata": {
            "tags": []
          },
          "execution_count": 114
        }
      ]
    },
    {
      "cell_type": "code",
      "metadata": {
        "id": "QX2jngEg5sc8",
        "outputId": "7d6aa06f-df68-438e-81d3-6d9e64715854"
      },
      "source": [
        "np.ones((2,3,4)) +1"
      ],
      "execution_count": null,
      "outputs": [
        {
          "output_type": "execute_result",
          "data": {
            "text/plain": [
              "array([[[2., 2., 2., 2.],\n",
              "        [2., 2., 2., 2.],\n",
              "        [2., 2., 2., 2.]],\n",
              "\n",
              "       [[2., 2., 2., 2.],\n",
              "        [2., 2., 2., 2.],\n",
              "        [2., 2., 2., 2.]]])"
            ]
          },
          "metadata": {
            "tags": []
          },
          "execution_count": 115
        }
      ]
    },
    {
      "cell_type": "code",
      "metadata": {
        "id": "-cv_p0_v5sc8",
        "outputId": "b11ff34e-32f4-44a5-e7e6-bf1df445e908"
      },
      "source": [
        "np.empty((4,5))"
      ],
      "execution_count": null,
      "outputs": [
        {
          "output_type": "execute_result",
          "data": {
            "text/plain": [
              "array([[3.        , 3.15789474, 3.31578947, 3.47368421, 3.63157895],\n",
              "       [3.78947368, 3.94736842, 4.10526316, 4.26315789, 4.42105263],\n",
              "       [4.57894737, 4.73684211, 4.89473684, 5.05263158, 5.21052632],\n",
              "       [5.36842105, 5.52631579, 5.68421053, 5.84210526, 6.        ]])"
            ]
          },
          "metadata": {
            "tags": []
          },
          "execution_count": 116
        }
      ]
    },
    {
      "cell_type": "code",
      "metadata": {
        "id": "uXmrSRGd5sc8",
        "outputId": "54f6cec4-53fd-4565-cd6c-e1c9e8964178"
      },
      "source": [
        "np.empty((4,5))[0][0]"
      ],
      "execution_count": null,
      "outputs": [
        {
          "output_type": "execute_result",
          "data": {
            "text/plain": [
              "3.0"
            ]
          },
          "metadata": {
            "tags": []
          },
          "execution_count": 117
        }
      ]
    },
    {
      "cell_type": "code",
      "metadata": {
        "id": "FDjHP2dF5sc8",
        "outputId": "6f06b465-d838-4592-fc2b-ff9124816430"
      },
      "source": [
        "np.empty((2,4))"
      ],
      "execution_count": null,
      "outputs": [
        {
          "output_type": "execute_result",
          "data": {
            "text/plain": [
              "array([[  7.2,   7.2, 583.2,   7.2],\n",
              "       [  7.2, 583.2, 583.2, 583.2]])"
            ]
          },
          "metadata": {
            "tags": []
          },
          "execution_count": 120
        }
      ]
    },
    {
      "cell_type": "code",
      "metadata": {
        "id": "db8gHSI15sc9",
        "outputId": "c4f8f99b-16c2-42db-c125-a7ad42256711"
      },
      "source": [
        "np.eye(4)"
      ],
      "execution_count": null,
      "outputs": [
        {
          "output_type": "execute_result",
          "data": {
            "text/plain": [
              "array([[1., 0., 0., 0.],\n",
              "       [0., 1., 0., 0.],\n",
              "       [0., 0., 1., 0.],\n",
              "       [0., 0., 0., 1.]])"
            ]
          },
          "metadata": {
            "tags": []
          },
          "execution_count": 121
        }
      ]
    },
    {
      "cell_type": "code",
      "metadata": {
        "id": "dWHrNWNM5sc9",
        "outputId": "0d3ea69a-6c63-489f-ee86-4880b72240cc"
      },
      "source": [
        "np.logspace(5.6,7.8,6) # Log of number"
      ],
      "execution_count": null,
      "outputs": [
        {
          "output_type": "execute_result",
          "data": {
            "text/plain": [
              "array([  398107.1705535 ,  1096478.19614319,  3019951.72040201,\n",
              "        8317637.71102671, 22908676.5276777 , 63095734.4480193 ])"
            ]
          },
          "metadata": {
            "tags": []
          },
          "execution_count": 122
        }
      ]
    },
    {
      "cell_type": "code",
      "metadata": {
        "id": "v2J5Wza55sc9",
        "outputId": "82795ada-ff3d-48b4-fb09-a7eaeecce3a8"
      },
      "source": [
        "np.logspace(5.6,7.8,6,base=2)"
      ],
      "execution_count": null,
      "outputs": [
        {
          "output_type": "execute_result",
          "data": {
            "text/plain": [
              "array([ 48.50293013,  65.79928491,  89.26359465, 121.09537878,\n",
              "       164.27851489, 222.8609442 ])"
            ]
          },
          "metadata": {
            "tags": []
          },
          "execution_count": 123
        }
      ]
    },
    {
      "cell_type": "code",
      "metadata": {
        "id": "Aju4HEUI5sc9",
        "outputId": "2afd4bde-05df-4d7b-a1d7-a3a43ac55a7d"
      },
      "source": [
        "m=np.random.rand(4,5)\n",
        "m"
      ],
      "execution_count": null,
      "outputs": [
        {
          "output_type": "execute_result",
          "data": {
            "text/plain": [
              "array([[0.55070537, 0.19307071, 0.10681786, 0.88433098, 0.46794179],\n",
              "       [0.80739824, 0.22333333, 0.49771014, 0.60980797, 0.16383102],\n",
              "       [0.87723925, 0.42988845, 0.70848433, 0.07115323, 0.15003866],\n",
              "       [0.70750438, 0.74923117, 0.89971949, 0.99884611, 0.59514322]])"
            ]
          },
          "metadata": {
            "tags": []
          },
          "execution_count": 125
        }
      ]
    },
    {
      "cell_type": "code",
      "metadata": {
        "id": "FEooaHpE5sc9",
        "outputId": "775e32bd-34ad-400f-ca8a-d293d4ce3d15"
      },
      "source": [
        "m.reshape(10,2) "
      ],
      "execution_count": null,
      "outputs": [
        {
          "output_type": "execute_result",
          "data": {
            "text/plain": [
              "array([[0.55070537, 0.19307071],\n",
              "       [0.10681786, 0.88433098],\n",
              "       [0.46794179, 0.80739824],\n",
              "       [0.22333333, 0.49771014],\n",
              "       [0.60980797, 0.16383102],\n",
              "       [0.87723925, 0.42988845],\n",
              "       [0.70848433, 0.07115323],\n",
              "       [0.15003866, 0.70750438],\n",
              "       [0.74923117, 0.89971949],\n",
              "       [0.99884611, 0.59514322]])"
            ]
          },
          "metadata": {
            "tags": []
          },
          "execution_count": 126
        }
      ]
    },
    {
      "cell_type": "code",
      "metadata": {
        "id": "cdoZp44j5sc-",
        "outputId": "d7350250-0721-4e89-b6a6-69c7817fe182"
      },
      "source": [
        "m.reshape(20,1) "
      ],
      "execution_count": null,
      "outputs": [
        {
          "output_type": "execute_result",
          "data": {
            "text/plain": [
              "array([[0.55070537],\n",
              "       [0.19307071],\n",
              "       [0.10681786],\n",
              "       [0.88433098],\n",
              "       [0.46794179],\n",
              "       [0.80739824],\n",
              "       [0.22333333],\n",
              "       [0.49771014],\n",
              "       [0.60980797],\n",
              "       [0.16383102],\n",
              "       [0.87723925],\n",
              "       [0.42988845],\n",
              "       [0.70848433],\n",
              "       [0.07115323],\n",
              "       [0.15003866],\n",
              "       [0.70750438],\n",
              "       [0.74923117],\n",
              "       [0.89971949],\n",
              "       [0.99884611],\n",
              "       [0.59514322]])"
            ]
          },
          "metadata": {
            "tags": []
          },
          "execution_count": 129
        }
      ]
    },
    {
      "cell_type": "code",
      "metadata": {
        "id": "29fwu9rb5sc-",
        "outputId": "68a51090-8674-493b-e3e5-cb8050b97090"
      },
      "source": [
        "m.reshape(5,4) "
      ],
      "execution_count": null,
      "outputs": [
        {
          "output_type": "execute_result",
          "data": {
            "text/plain": [
              "array([[0.55070537, 0.19307071, 0.10681786, 0.88433098],\n",
              "       [0.46794179, 0.80739824, 0.22333333, 0.49771014],\n",
              "       [0.60980797, 0.16383102, 0.87723925, 0.42988845],\n",
              "       [0.70848433, 0.07115323, 0.15003866, 0.70750438],\n",
              "       [0.74923117, 0.89971949, 0.99884611, 0.59514322]])"
            ]
          },
          "metadata": {
            "tags": []
          },
          "execution_count": 130
        }
      ]
    },
    {
      "cell_type": "code",
      "metadata": {
        "id": "vOHAmfNy5sc-",
        "outputId": "1b2dda29-a72c-4638-c928-7fadd56090b8"
      },
      "source": [
        "m.reshape(10,-1) # -1 does nothing. Based on First element it automatically converts"
      ],
      "execution_count": null,
      "outputs": [
        {
          "output_type": "execute_result",
          "data": {
            "text/plain": [
              "array([[0.55070537, 0.19307071],\n",
              "       [0.10681786, 0.88433098],\n",
              "       [0.46794179, 0.80739824],\n",
              "       [0.22333333, 0.49771014],\n",
              "       [0.60980797, 0.16383102],\n",
              "       [0.87723925, 0.42988845],\n",
              "       [0.70848433, 0.07115323],\n",
              "       [0.15003866, 0.70750438],\n",
              "       [0.74923117, 0.89971949],\n",
              "       [0.99884611, 0.59514322]])"
            ]
          },
          "metadata": {
            "tags": []
          },
          "execution_count": 131
        }
      ]
    },
    {
      "cell_type": "code",
      "metadata": {
        "id": "vceHWkJ25sc-",
        "outputId": "8c0a7d5f-a712-40a6-f222-82061019e471"
      },
      "source": [
        "m.reshape(-455,10) "
      ],
      "execution_count": null,
      "outputs": [
        {
          "output_type": "execute_result",
          "data": {
            "text/plain": [
              "array([[0.55070537, 0.19307071, 0.10681786, 0.88433098, 0.46794179,\n",
              "        0.80739824, 0.22333333, 0.49771014, 0.60980797, 0.16383102],\n",
              "       [0.87723925, 0.42988845, 0.70848433, 0.07115323, 0.15003866,\n",
              "        0.70750438, 0.74923117, 0.89971949, 0.99884611, 0.59514322]])"
            ]
          },
          "metadata": {
            "tags": []
          },
          "execution_count": 132
        }
      ]
    },
    {
      "cell_type": "code",
      "metadata": {
        "id": "uEqoE1gW5sc-",
        "outputId": "5018c914-bf5d-44ac-ebac-904a9dcd518e"
      },
      "source": [
        "np.random.rand(4,5)"
      ],
      "execution_count": null,
      "outputs": [
        {
          "output_type": "execute_result",
          "data": {
            "text/plain": [
              "array([[0.2143796 , 0.75449783, 0.76673149, 0.49740202, 0.85493599],\n",
              "       [0.46797417, 0.80740505, 0.57841513, 0.83869576, 0.66181782],\n",
              "       [0.3891603 , 0.72281677, 0.09470636, 0.98820469, 0.78831132],\n",
              "       [0.39491948, 0.51893577, 0.03501351, 0.84916969, 0.4906104 ]])"
            ]
          },
          "metadata": {
            "tags": []
          },
          "execution_count": 133
        }
      ]
    },
    {
      "cell_type": "code",
      "metadata": {
        "id": "LWrLKpb55sc_",
        "outputId": "c8823c1a-b71e-4449-dc43-46ee4953ec5a"
      },
      "source": [
        "a=np.random.randint(3,8,(5,6))\n",
        "a"
      ],
      "execution_count": null,
      "outputs": [
        {
          "output_type": "execute_result",
          "data": {
            "text/plain": [
              "array([[3, 5, 5, 4, 5, 7],\n",
              "       [3, 5, 3, 5, 5, 4],\n",
              "       [7, 5, 6, 6, 6, 6],\n",
              "       [7, 3, 6, 3, 5, 4],\n",
              "       [4, 7, 7, 6, 4, 7]])"
            ]
          },
          "metadata": {
            "tags": []
          },
          "execution_count": 135
        }
      ]
    },
    {
      "cell_type": "code",
      "metadata": {
        "id": "Z00B-_MZ5sc_",
        "outputId": "e4262467-b1d0-4c21-816e-98bf55991e4f"
      },
      "source": [
        "a[0]"
      ],
      "execution_count": null,
      "outputs": [
        {
          "output_type": "execute_result",
          "data": {
            "text/plain": [
              "array([3, 5, 5, 4, 5, 7])"
            ]
          },
          "metadata": {
            "tags": []
          },
          "execution_count": 136
        }
      ]
    },
    {
      "cell_type": "code",
      "metadata": {
        "id": "z_ZJBBfA5sc_",
        "outputId": "de26d57a-f5dc-40cd-dfa1-3b8bda2034b0"
      },
      "source": [
        "a[0:2]"
      ],
      "execution_count": null,
      "outputs": [
        {
          "output_type": "execute_result",
          "data": {
            "text/plain": [
              "array([[3, 5, 5, 4, 5, 7],\n",
              "       [3, 5, 3, 5, 5, 4]])"
            ]
          },
          "metadata": {
            "tags": []
          },
          "execution_count": 137
        }
      ]
    },
    {
      "cell_type": "code",
      "metadata": {
        "id": "cZZBhlVZ5sc_",
        "outputId": "5265388c-c335-4cb7-c258-93c8104b47f4"
      },
      "source": [
        "a[0:2,0:2]"
      ],
      "execution_count": null,
      "outputs": [
        {
          "output_type": "execute_result",
          "data": {
            "text/plain": [
              "array([[3, 5],\n",
              "       [3, 5]])"
            ]
          },
          "metadata": {
            "tags": []
          },
          "execution_count": 138
        }
      ]
    },
    {
      "cell_type": "code",
      "metadata": {
        "id": "mDyy3M755sdA",
        "outputId": "c922756e-58b8-4233-c778-5233ae2672dd"
      },
      "source": [
        "a>5"
      ],
      "execution_count": null,
      "outputs": [
        {
          "output_type": "execute_result",
          "data": {
            "text/plain": [
              "array([[False, False, False, False, False,  True],\n",
              "       [False, False, False, False, False, False],\n",
              "       [ True, False,  True,  True,  True,  True],\n",
              "       [ True, False,  True, False, False, False],\n",
              "       [False,  True,  True,  True, False,  True]])"
            ]
          },
          "metadata": {
            "tags": []
          },
          "execution_count": 139
        }
      ]
    },
    {
      "cell_type": "code",
      "metadata": {
        "id": "lQjQ6_mN5sdA",
        "outputId": "6ec6a938-9769-4bad-9ce7-ec401e44d723"
      },
      "source": [
        "a[a>5]"
      ],
      "execution_count": null,
      "outputs": [
        {
          "output_type": "execute_result",
          "data": {
            "text/plain": [
              "array([7, 7, 6, 6, 6, 6, 7, 6, 7, 7, 6, 7])"
            ]
          },
          "metadata": {
            "tags": []
          },
          "execution_count": 140
        }
      ]
    },
    {
      "cell_type": "code",
      "metadata": {
        "id": "9VFbJVz05sdA"
      },
      "source": [
        "a[0][0]=90"
      ],
      "execution_count": null,
      "outputs": []
    },
    {
      "cell_type": "code",
      "metadata": {
        "id": "-eyTgrPL5sdA",
        "outputId": "fee73100-4dcd-4353-d1d8-c3a2b4216f4a"
      },
      "source": [
        "a"
      ],
      "execution_count": null,
      "outputs": [
        {
          "output_type": "execute_result",
          "data": {
            "text/plain": [
              "array([[90,  5,  5,  4,  5,  7],\n",
              "       [ 3,  5,  3,  5,  5,  4],\n",
              "       [ 7,  5,  6,  6,  6,  6],\n",
              "       [ 7,  3,  6,  3,  5,  4],\n",
              "       [ 4,  7,  7,  6,  4,  7]])"
            ]
          },
          "metadata": {
            "tags": []
          },
          "execution_count": 142
        }
      ]
    },
    {
      "cell_type": "code",
      "metadata": {
        "id": "QKSI8QZw5sdA"
      },
      "source": [
        "m = np.array([[3,4,5],[5,6,7]])"
      ],
      "execution_count": null,
      "outputs": []
    },
    {
      "cell_type": "code",
      "metadata": {
        "id": "pMdvGmeD5sdB",
        "outputId": "daf0b435-b3bc-4962-9361-8598bf7c36b2"
      },
      "source": [
        "m"
      ],
      "execution_count": null,
      "outputs": [
        {
          "output_type": "execute_result",
          "data": {
            "text/plain": [
              "array([[3, 4, 5],\n",
              "       [5, 6, 7]])"
            ]
          },
          "metadata": {
            "tags": []
          },
          "execution_count": 145
        }
      ]
    },
    {
      "cell_type": "code",
      "metadata": {
        "id": "bAnYFc1v5sdB",
        "outputId": "3ade836d-7eff-4b26-b285-fcb7f7844207"
      },
      "source": [
        "n = np.array([[6,4,5],[5,6,7]])\n",
        "n"
      ],
      "execution_count": null,
      "outputs": [
        {
          "output_type": "execute_result",
          "data": {
            "text/plain": [
              "array([[6, 4, 5],\n",
              "       [5, 6, 7]])"
            ]
          },
          "metadata": {
            "tags": []
          },
          "execution_count": 146
        }
      ]
    },
    {
      "cell_type": "code",
      "metadata": {
        "id": "IV7W7uYY5sdB",
        "outputId": "1b450fc5-00a3-45df-c696-9a0d4a769847"
      },
      "source": [
        "m+n"
      ],
      "execution_count": null,
      "outputs": [
        {
          "output_type": "execute_result",
          "data": {
            "text/plain": [
              "array([[ 9,  8, 10],\n",
              "       [10, 12, 14]])"
            ]
          },
          "metadata": {
            "tags": []
          },
          "execution_count": 147
        }
      ]
    },
    {
      "cell_type": "code",
      "metadata": {
        "id": "dC4UVVzW5sdB",
        "outputId": "4866b4c4-a5ed-4607-d971-318f3f45ddb8"
      },
      "source": [
        "m-n"
      ],
      "execution_count": null,
      "outputs": [
        {
          "output_type": "execute_result",
          "data": {
            "text/plain": [
              "array([[-3,  0,  0],\n",
              "       [ 0,  0,  0]])"
            ]
          },
          "metadata": {
            "tags": []
          },
          "execution_count": 148
        }
      ]
    },
    {
      "cell_type": "code",
      "metadata": {
        "id": "MdLYxbU-5sdB",
        "outputId": "20a24fa9-620f-4b9d-8a9a-28963e509444"
      },
      "source": [
        "m*n # its index wise multiplication and not matrix mupliplication"
      ],
      "execution_count": null,
      "outputs": [
        {
          "output_type": "execute_result",
          "data": {
            "text/plain": [
              "array([[18, 16, 25],\n",
              "       [25, 36, 49]])"
            ]
          },
          "metadata": {
            "tags": []
          },
          "execution_count": 149
        }
      ]
    },
    {
      "cell_type": "code",
      "metadata": {
        "id": "kcGsM6oj5sdC",
        "outputId": "a3c4af81-8d7c-49bb-fd3b-f2d2e5efd2e4"
      },
      "source": [
        "m1=np.array([[0,1],[2,3]])\n",
        "m1"
      ],
      "execution_count": null,
      "outputs": [
        {
          "output_type": "execute_result",
          "data": {
            "text/plain": [
              "array([[0, 1],\n",
              "       [2, 3]])"
            ]
          },
          "metadata": {
            "tags": []
          },
          "execution_count": 150
        }
      ]
    },
    {
      "cell_type": "code",
      "metadata": {
        "id": "yRQQsqVw5sdC",
        "outputId": "a01a1486-cb6a-4a3e-c635-e0de75ece081"
      },
      "source": [
        "m2=np.array([[2,3],[1,8]])\n",
        "m2"
      ],
      "execution_count": null,
      "outputs": [
        {
          "output_type": "execute_result",
          "data": {
            "text/plain": [
              "array([[2, 3],\n",
              "       [1, 8]])"
            ]
          },
          "metadata": {
            "tags": []
          },
          "execution_count": 151
        }
      ]
    },
    {
      "cell_type": "code",
      "metadata": {
        "id": "4i5kH8Wr5sdC",
        "outputId": "8aeff2eb-298b-4cc7-a996-5b3420311e7f"
      },
      "source": [
        "m1*m2"
      ],
      "execution_count": null,
      "outputs": [
        {
          "output_type": "execute_result",
          "data": {
            "text/plain": [
              "array([[ 0,  3],\n",
              "       [ 2, 24]])"
            ]
          },
          "metadata": {
            "tags": []
          },
          "execution_count": 152
        }
      ]
    },
    {
      "cell_type": "code",
      "metadata": {
        "id": "EBrWVoVL5sdC",
        "outputId": "7188e257-17ae-4c45-9488-d356dbe71915"
      },
      "source": [
        "m1@m2"
      ],
      "execution_count": null,
      "outputs": [
        {
          "output_type": "execute_result",
          "data": {
            "text/plain": [
              "array([[ 1,  8],\n",
              "       [ 7, 30]])"
            ]
          },
          "metadata": {
            "tags": []
          },
          "execution_count": 153
        }
      ]
    },
    {
      "cell_type": "code",
      "metadata": {
        "id": "2sTKQctO5sdD",
        "outputId": "68c16575-0e0b-452c-f937-624fbfbbcc72"
      },
      "source": [
        "m1**2"
      ],
      "execution_count": null,
      "outputs": [
        {
          "output_type": "execute_result",
          "data": {
            "text/plain": [
              "array([[0, 1],\n",
              "       [4, 9]], dtype=int32)"
            ]
          },
          "metadata": {
            "tags": []
          },
          "execution_count": 154
        }
      ]
    },
    {
      "cell_type": "code",
      "metadata": {
        "id": "h6ss_WKf5sdD",
        "outputId": "fd51ce06-9538-402f-a693-1157c3db3b50"
      },
      "source": [
        "pow(m1,2)"
      ],
      "execution_count": null,
      "outputs": [
        {
          "output_type": "execute_result",
          "data": {
            "text/plain": [
              "array([[0, 1],\n",
              "       [4, 9]], dtype=int32)"
            ]
          },
          "metadata": {
            "tags": []
          },
          "execution_count": 155
        }
      ]
    },
    {
      "cell_type": "code",
      "metadata": {
        "id": "bWwEkJJt5sdD"
      },
      "source": [
        "m=np.zeros((3,4))"
      ],
      "execution_count": null,
      "outputs": []
    },
    {
      "cell_type": "code",
      "metadata": {
        "id": "iaEtxWot5sdD",
        "outputId": "07e137ee-bfd7-4389-ef5f-181e3ca92ae6"
      },
      "source": [
        "m"
      ],
      "execution_count": null,
      "outputs": [
        {
          "output_type": "execute_result",
          "data": {
            "text/plain": [
              "array([[0., 0., 0., 0.],\n",
              "       [0., 0., 0., 0.],\n",
              "       [0., 0., 0., 0.]])"
            ]
          },
          "metadata": {
            "tags": []
          },
          "execution_count": 157
        }
      ]
    },
    {
      "cell_type": "code",
      "metadata": {
        "id": "UTqfLYH45sdE",
        "outputId": "5418519c-0daa-486a-856d-431665a700de"
      },
      "source": [
        "m+2  #Elementwise broadcasting"
      ],
      "execution_count": null,
      "outputs": [
        {
          "output_type": "execute_result",
          "data": {
            "text/plain": [
              "array([[2., 2., 2., 2.],\n",
              "       [2., 2., 2., 2.],\n",
              "       [2., 2., 2., 2.]])"
            ]
          },
          "metadata": {
            "tags": []
          },
          "execution_count": 158
        }
      ]
    },
    {
      "cell_type": "code",
      "metadata": {
        "id": "ougtreWC5sdE"
      },
      "source": [
        "n1=np.array([1,2,3,4])"
      ],
      "execution_count": null,
      "outputs": []
    },
    {
      "cell_type": "code",
      "metadata": {
        "id": "PAmhhxcg5sdE",
        "outputId": "45974df4-f991-4bc6-d1d4-a7d41adce9ec"
      },
      "source": [
        "n1"
      ],
      "execution_count": null,
      "outputs": [
        {
          "output_type": "execute_result",
          "data": {
            "text/plain": [
              "array([1, 2, 3, 4])"
            ]
          },
          "metadata": {
            "tags": []
          },
          "execution_count": 160
        }
      ]
    },
    {
      "cell_type": "code",
      "metadata": {
        "id": "pBRjGvXa5sdE",
        "outputId": "1b7f7172-3c58-4d5e-9ff9-46dfe2820751"
      },
      "source": [
        "m"
      ],
      "execution_count": null,
      "outputs": [
        {
          "output_type": "execute_result",
          "data": {
            "text/plain": [
              "array([[0., 0., 0., 0.],\n",
              "       [0., 0., 0., 0.],\n",
              "       [0., 0., 0., 0.]])"
            ]
          },
          "metadata": {
            "tags": []
          },
          "execution_count": 161
        }
      ]
    },
    {
      "cell_type": "code",
      "metadata": {
        "id": "1eHi4SF15sdE",
        "outputId": "a71c7558-5135-42a7-9fdb-11b914fa859d"
      },
      "source": [
        "m+n1 # Rowwise broadcasting - Shape should be same"
      ],
      "execution_count": null,
      "outputs": [
        {
          "output_type": "execute_result",
          "data": {
            "text/plain": [
              "array([[1., 2., 3., 4.],\n",
              "       [1., 2., 3., 4.],\n",
              "       [1., 2., 3., 4.]])"
            ]
          },
          "metadata": {
            "tags": []
          },
          "execution_count": 162
        }
      ]
    },
    {
      "cell_type": "code",
      "metadata": {
        "id": "em6WgbDl5sdF",
        "outputId": "7a7f0411-bc41-4b26-b4be-e9570273afea"
      },
      "source": [
        "n2=np.array([[3,4,5]]).T #Columnwise broadcasting - Transpose the array\n",
        "n2"
      ],
      "execution_count": null,
      "outputs": [
        {
          "output_type": "execute_result",
          "data": {
            "text/plain": [
              "array([[3],\n",
              "       [4],\n",
              "       [5]])"
            ]
          },
          "metadata": {
            "tags": []
          },
          "execution_count": 168
        }
      ]
    },
    {
      "cell_type": "code",
      "metadata": {
        "id": "cCZWks165sdF",
        "outputId": "4c736b5f-065a-47c8-8818-90bb6637a998"
      },
      "source": [
        "m+n2"
      ],
      "execution_count": null,
      "outputs": [
        {
          "output_type": "execute_result",
          "data": {
            "text/plain": [
              "array([[3., 3., 3., 3.],\n",
              "       [4., 4., 4., 4.],\n",
              "       [5., 5., 5., 5.]])"
            ]
          },
          "metadata": {
            "tags": []
          },
          "execution_count": 169
        }
      ]
    },
    {
      "cell_type": "code",
      "metadata": {
        "id": "S_4gmHQH5sdF",
        "outputId": "9ccb5082-fa2b-44ed-95d9-112164b5069f"
      },
      "source": [
        "m=np.random.rand(4,5)\n",
        "m"
      ],
      "execution_count": null,
      "outputs": [
        {
          "output_type": "execute_result",
          "data": {
            "text/plain": [
              "array([[0.17578604, 0.32490372, 0.677607  , 0.78544247, 0.19943256],\n",
              "       [0.54240966, 0.00401879, 0.0936559 , 0.23198759, 0.79809223],\n",
              "       [0.48392379, 0.50359669, 0.74325415, 0.01776098, 0.9162548 ],\n",
              "       [0.2616896 , 0.20263911, 0.66016092, 0.05219775, 0.92777874]])"
            ]
          },
          "metadata": {
            "tags": []
          },
          "execution_count": 172
        }
      ]
    },
    {
      "cell_type": "code",
      "metadata": {
        "id": "b33STM3E5sdF",
        "outputId": "8e476f1b-f7f2-477d-86f7-99e98d21bb0c"
      },
      "source": [
        "m1=np.random.rand(4,5).reshape(10,2)\n",
        "m1"
      ],
      "execution_count": null,
      "outputs": [
        {
          "output_type": "execute_result",
          "data": {
            "text/plain": [
              "array([[0.29673125, 0.82459576],\n",
              "       [0.38484304, 0.62684116],\n",
              "       [0.92810761, 0.33763087],\n",
              "       [0.38960656, 0.91885363],\n",
              "       [0.68303738, 0.79832065],\n",
              "       [0.05322909, 0.66382455],\n",
              "       [0.0220321 , 0.79540854],\n",
              "       [0.92257095, 0.03039294],\n",
              "       [0.66642451, 0.72840503],\n",
              "       [0.22792071, 0.44147166]])"
            ]
          },
          "metadata": {
            "tags": []
          },
          "execution_count": 177
        }
      ]
    },
    {
      "cell_type": "code",
      "metadata": {
        "id": "17GW1lkn5sdG",
        "outputId": "baccde52-8426-46f6-afcb-893af5949fdd"
      },
      "source": [
        "np.sqrt(m1)"
      ],
      "execution_count": null,
      "outputs": [
        {
          "output_type": "execute_result",
          "data": {
            "text/plain": [
              "array([[0.54473043, 0.90807255],\n",
              "       [0.62035719, 0.79173301],\n",
              "       [0.96338342, 0.58106013],\n",
              "       [0.62418472, 0.95856853],\n",
              "       [0.82646075, 0.89348791],\n",
              "       [0.23071431, 0.81475429],\n",
              "       [0.14843213, 0.89185679],\n",
              "       [0.96050557, 0.17433571],\n",
              "       [0.81634828, 0.85346648],\n",
              "       [0.47741042, 0.66443334]])"
            ]
          },
          "metadata": {
            "tags": []
          },
          "execution_count": 178
        }
      ]
    },
    {
      "cell_type": "code",
      "metadata": {
        "id": "N24HjRIW5sdG",
        "outputId": "48d6bb94-cd74-45b8-bbe0-d1e2fc2cd679"
      },
      "source": [
        "np.exp(m1)"
      ],
      "execution_count": null,
      "outputs": [
        {
          "output_type": "execute_result",
          "data": {
            "text/plain": [
              "array([[1.34545366, 2.28095853],\n",
              "       [1.46938367, 1.87168886],\n",
              "       [2.52971744, 1.40162303],\n",
              "       [1.47639981, 2.50641547],\n",
              "       [1.97988226, 2.2218066 ],\n",
              "       [1.05467124, 1.94220621],\n",
              "       [1.0222766 , 2.21534587],\n",
              "       [2.51574995, 1.03085952],\n",
              "       [1.94726244, 2.07177356],\n",
              "       [1.25598573, 1.55499397]])"
            ]
          },
          "metadata": {
            "tags": []
          },
          "execution_count": 179
        }
      ]
    },
    {
      "cell_type": "code",
      "metadata": {
        "id": "ch4ZDTvA5sdG",
        "outputId": "a0d31341-5b30-434e-a918-5a709a749393"
      },
      "source": [
        "np.log10(m1)"
      ],
      "execution_count": null,
      "outputs": [
        {
          "output_type": "execute_result",
          "data": {
            "text/plain": [
              "array([[-0.52763672, -0.0837589 ],\n",
              "       [-0.41471636, -0.2028425 ],\n",
              "       [-0.03240167, -0.47155785],\n",
              "       [-0.40937374, -0.03675366],\n",
              "       [-0.16555553, -0.09782264],\n",
              "       [-1.27385093, -0.17794669],\n",
              "       [-1.65694418, -0.09940975],\n",
              "       [-0.03500022, -1.51722727],\n",
              "       [-0.17624904, -0.13762706],\n",
              "       [-0.64221622, -0.35509717]])"
            ]
          },
          "metadata": {
            "tags": []
          },
          "execution_count": 180
        }
      ]
    },
    {
      "cell_type": "code",
      "metadata": {
        "id": "G4Z1NYkX5sdG",
        "outputId": "593d7d3e-24e3-404e-9890-21996d187379"
      },
      "source": [
        "np.fmod(m,m1) # Returns Reminder"
      ],
      "execution_count": null,
      "outputs": [
        {
          "output_type": "execute_result",
          "data": {
            "text/plain": [
              "array([[0.23888496, 0.30941182],\n",
              "       [0.05089145, 0.26430253],\n",
              "       [0.18512708, 0.26968165],\n",
              "       [0.22874155, 0.50502849],\n",
              "       [0.4546292 , 0.3862327 ],\n",
              "       [0.01573095, 0.27274142],\n",
              "       [0.01480916, 0.34423355],\n",
              "       [0.63729105, 0.01757979],\n",
              "       [0.04802742, 0.28184011],\n",
              "       [0.14900886, 0.41295481]])"
            ]
          },
          "metadata": {
            "tags": []
          },
          "execution_count": 181
        }
      ]
    },
    {
      "cell_type": "code",
      "metadata": {
        "id": "KmYIffOA5sdH"
      },
      "source": [
        ""
      ],
      "execution_count": null,
      "outputs": []
    }
  ]
}