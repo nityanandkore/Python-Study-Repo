{
  "nbformat": 4,
  "nbformat_minor": 0,
  "metadata": {
    "kernelspec": {
      "display_name": "Python 3",
      "language": "python",
      "name": "python3"
    },
    "language_info": {
      "codemirror_mode": {
        "name": "ipython",
        "version": 3
      },
      "file_extension": ".py",
      "mimetype": "text/x-python",
      "name": "python",
      "nbconvert_exporter": "python",
      "pygments_lexer": "ipython3",
      "version": "3.7.4"
    },
    "colab": {
      "name": "Numpy.ipynb",
      "provenance": [],
      "include_colab_link": true
    }
  },
  "cells": [
    {
      "cell_type": "markdown",
      "metadata": {
        "id": "view-in-github",
        "colab_type": "text"
      },
      "source": [
        "<a href=\"https://colab.research.google.com/github/nityanandkore/Python-Study-Repo/blob/master/Numpy.ipynb\" target=\"_parent\"><img src=\"https://colab.research.google.com/assets/colab-badge.svg\" alt=\"Open In Colab\"/></a>"
      ]
    },
    {
      "cell_type": "code",
      "metadata": {
        "id": "QrGgNv156ycD"
      },
      "source": [
        "#NUMPY\n",
        "\n",
        "import numpy as np"
      ],
      "execution_count": null,
      "outputs": []
    },
    {
      "cell_type": "code",
      "metadata": {
        "id": "oK1EsDD06ycK",
        "outputId": "b9fb8ab3-0538-4d7f-9917-7c846167a179"
      },
      "source": [
        "a=[3,4,5,6]\n",
        "type(a)"
      ],
      "execution_count": null,
      "outputs": [
        {
          "output_type": "execute_result",
          "data": {
            "text/plain": [
              "list"
            ]
          },
          "metadata": {
            "tags": []
          },
          "execution_count": 3
        }
      ]
    },
    {
      "cell_type": "code",
      "metadata": {
        "id": "7Xj65PrZ6ycL",
        "outputId": "87ade0c6-6db7-4f25-e01f-ae55820cdf60"
      },
      "source": [
        "np.array(a)"
      ],
      "execution_count": null,
      "outputs": [
        {
          "output_type": "execute_result",
          "data": {
            "text/plain": [
              "array([3, 4, 5, 6])"
            ]
          },
          "metadata": {
            "tags": []
          },
          "execution_count": 4
        }
      ]
    },
    {
      "cell_type": "code",
      "metadata": {
        "id": "1RQSFRLY6ycM",
        "outputId": "bedb56ff-ac40-4820-e224-8a49ab8434ea"
      },
      "source": [
        "type(np.array(a))"
      ],
      "execution_count": null,
      "outputs": [
        {
          "output_type": "execute_result",
          "data": {
            "text/plain": [
              "numpy.ndarray"
            ]
          },
          "metadata": {
            "tags": []
          },
          "execution_count": 5
        }
      ]
    },
    {
      "cell_type": "code",
      "metadata": {
        "id": "AQj2UBiW6ycM",
        "outputId": "82968a22-51aa-48f8-932f-9786638e902e"
      },
      "source": [
        "a=[3,4,5,6.0]  #upcasting\n",
        "type(a)"
      ],
      "execution_count": null,
      "outputs": [
        {
          "output_type": "execute_result",
          "data": {
            "text/plain": [
              "list"
            ]
          },
          "metadata": {
            "tags": []
          },
          "execution_count": 6
        }
      ]
    },
    {
      "cell_type": "code",
      "metadata": {
        "id": "mVgvi8Ox6ycN",
        "outputId": "fe109501-ca44-486d-f7cb-660099a81aab"
      },
      "source": [
        "np.array(a) #ALl element converted to decimal"
      ],
      "execution_count": null,
      "outputs": [
        {
          "output_type": "execute_result",
          "data": {
            "text/plain": [
              "array([3., 4., 5., 6.])"
            ]
          },
          "metadata": {
            "tags": []
          },
          "execution_count": 7
        }
      ]
    },
    {
      "cell_type": "code",
      "metadata": {
        "id": "1VpWP-6s6ycN",
        "outputId": "12b7d0b0-6bfa-4c15-94ba-fac6b84e58aa"
      },
      "source": [
        "v=np.array([[1,2,3],[3,4,5]])\n",
        "v"
      ],
      "execution_count": null,
      "outputs": [
        {
          "output_type": "execute_result",
          "data": {
            "text/plain": [
              "array([[1, 2, 3],\n",
              "       [3, 4, 5]])"
            ]
          },
          "metadata": {
            "tags": []
          },
          "execution_count": 21
        }
      ]
    },
    {
      "cell_type": "code",
      "metadata": {
        "id": "GtEBTZX16ycN",
        "outputId": "550def72-99e3-40c2-8cf0-8f42b396a0da"
      },
      "source": [
        "v[0]"
      ],
      "execution_count": null,
      "outputs": [
        {
          "output_type": "execute_result",
          "data": {
            "text/plain": [
              "array([1, 2, 3])"
            ]
          },
          "metadata": {
            "tags": []
          },
          "execution_count": 10
        }
      ]
    },
    {
      "cell_type": "code",
      "metadata": {
        "id": "dYhcE-786ycO",
        "outputId": "0b7ffa7c-f8d4-438c-975c-4a125dcb2195"
      },
      "source": [
        "v[0][0]"
      ],
      "execution_count": null,
      "outputs": [
        {
          "output_type": "execute_result",
          "data": {
            "text/plain": [
              "1"
            ]
          },
          "metadata": {
            "tags": []
          },
          "execution_count": 11
        }
      ]
    },
    {
      "cell_type": "code",
      "metadata": {
        "id": "4DdCHcqV6ycO",
        "outputId": "b51d3315-6abd-46de-fd84-67635507c639"
      },
      "source": [
        "v.shape"
      ],
      "execution_count": null,
      "outputs": [
        {
          "output_type": "execute_result",
          "data": {
            "text/plain": [
              "(2, 3)"
            ]
          },
          "metadata": {
            "tags": []
          },
          "execution_count": 12
        }
      ]
    },
    {
      "cell_type": "code",
      "metadata": {
        "id": "aHdcrfPP6ycO",
        "outputId": "f44f7900-567b-454a-9644-d7e177317076"
      },
      "source": [
        "np.array([4,5,6,7])"
      ],
      "execution_count": null,
      "outputs": [
        {
          "output_type": "execute_result",
          "data": {
            "text/plain": [
              "array([4, 5, 6, 7])"
            ]
          },
          "metadata": {
            "tags": []
          },
          "execution_count": 17
        }
      ]
    },
    {
      "cell_type": "code",
      "metadata": {
        "id": "1alQAns06ycP",
        "outputId": "bc84b520-0c13-495b-8c5e-860b68c5c12d"
      },
      "source": [
        "np.array([4,5,6,7],ndmin=2)  # Dimention changed to 1 to 2"
      ],
      "execution_count": null,
      "outputs": [
        {
          "output_type": "execute_result",
          "data": {
            "text/plain": [
              "array([[4, 5, 6, 7]])"
            ]
          },
          "metadata": {
            "tags": []
          },
          "execution_count": 18
        }
      ]
    },
    {
      "cell_type": "code",
      "metadata": {
        "id": "r9cuohX36ycP",
        "outputId": "ec1f6e29-1b5c-43f9-e0b3-3567ac936478"
      },
      "source": [
        "np.array([4,5,6,7],ndmin=20)"
      ],
      "execution_count": null,
      "outputs": [
        {
          "output_type": "execute_result",
          "data": {
            "text/plain": [
              "array([[[[[[[[[[[[[[[[[[[[4, 5, 6, 7]]]]]]]]]]]]]]]]]]]])"
            ]
          },
          "metadata": {
            "tags": []
          },
          "execution_count": 19
        }
      ]
    },
    {
      "cell_type": "code",
      "metadata": {
        "id": "46VLRPIP6ycP",
        "outputId": "bb73fe63-0edb-4e0e-ab19-c7c09d376e19"
      },
      "source": [
        "np.array([4,5,6,7], dtype=complex)"
      ],
      "execution_count": null,
      "outputs": [
        {
          "output_type": "execute_result",
          "data": {
            "text/plain": [
              "array([4.+0.j, 5.+0.j, 6.+0.j, 7.+0.j])"
            ]
          },
          "metadata": {
            "tags": []
          },
          "execution_count": 20
        }
      ]
    },
    {
      "cell_type": "code",
      "metadata": {
        "id": "hNiQga0d6ycQ",
        "outputId": "0f1b34e1-7cea-422e-e9a0-f62b7f567965"
      },
      "source": [
        "v=np.array([[1,2,3],[3,4]])   # number of element are not same \n",
        "v"
      ],
      "execution_count": null,
      "outputs": [
        {
          "output_type": "execute_result",
          "data": {
            "text/plain": [
              "array([list([1, 2, 3]), list([3, 4])], dtype=object)"
            ]
          },
          "metadata": {
            "tags": []
          },
          "execution_count": 22
        }
      ]
    },
    {
      "cell_type": "code",
      "metadata": {
        "id": "Caj38Xil6ycQ",
        "outputId": "94f8f9ad-634d-42eb-f435-4fbb153e1b8a"
      },
      "source": [
        "np.array([(3,4),(5,6)]) #List of tuples"
      ],
      "execution_count": null,
      "outputs": [
        {
          "output_type": "execute_result",
          "data": {
            "text/plain": [
              "array([[3, 4],\n",
              "       [5, 6]])"
            ]
          },
          "metadata": {
            "tags": []
          },
          "execution_count": 23
        }
      ]
    },
    {
      "cell_type": "code",
      "metadata": {
        "id": "PAWm8k4g6ycQ"
      },
      "source": [
        "n=np.array([(3,4),(5,6)],dtype=[('a','<i4'),('b','<i2')]) #List of tuples"
      ],
      "execution_count": null,
      "outputs": []
    },
    {
      "cell_type": "code",
      "metadata": {
        "id": "HpmKdG4l6ycQ",
        "outputId": "9e351505-95e3-44ce-fc82-e049d6e1da81"
      },
      "source": [
        "n[0]"
      ],
      "execution_count": null,
      "outputs": [
        {
          "output_type": "execute_result",
          "data": {
            "text/plain": [
              "(3, 4)"
            ]
          },
          "metadata": {
            "tags": []
          },
          "execution_count": 26
        }
      ]
    },
    {
      "cell_type": "code",
      "metadata": {
        "id": "rrSzU0uS6ycR",
        "outputId": "203e6a1a-dac4-48b8-d99d-b3e64c93849d"
      },
      "source": [
        "n[0][0]"
      ],
      "execution_count": null,
      "outputs": [
        {
          "output_type": "execute_result",
          "data": {
            "text/plain": [
              "3"
            ]
          },
          "metadata": {
            "tags": []
          },
          "execution_count": 27
        }
      ]
    },
    {
      "cell_type": "code",
      "metadata": {
        "id": "uje4cHcT6ycR",
        "outputId": "b14080b0-14ee-4bf4-8a44-044a9b79d4f9"
      },
      "source": [
        "type(n[0][0])"
      ],
      "execution_count": null,
      "outputs": [
        {
          "output_type": "execute_result",
          "data": {
            "text/plain": [
              "numpy.int32"
            ]
          },
          "metadata": {
            "tags": []
          },
          "execution_count": 28
        }
      ]
    },
    {
      "cell_type": "code",
      "metadata": {
        "id": "_Nx5z5Ww6ycR",
        "outputId": "c788075a-ceeb-42ac-dc0b-b1d18aa9de09"
      },
      "source": [
        "type(n[0][1])"
      ],
      "execution_count": null,
      "outputs": [
        {
          "output_type": "execute_result",
          "data": {
            "text/plain": [
              "numpy.int16"
            ]
          },
          "metadata": {
            "tags": []
          },
          "execution_count": 29
        }
      ]
    },
    {
      "cell_type": "code",
      "metadata": {
        "id": "8Aryme3i6ycS"
      },
      "source": [
        "n=np.array([(3,4),(5,6)],dtype=[('a','<i2'),('b','<i8')]) #List of tuples"
      ],
      "execution_count": null,
      "outputs": []
    },
    {
      "cell_type": "code",
      "metadata": {
        "id": "HQJhlWZU6ycS",
        "outputId": "49cea7f1-4cfc-4711-c397-f401be229455"
      },
      "source": [
        "type(n[0][0])"
      ],
      "execution_count": null,
      "outputs": [
        {
          "output_type": "execute_result",
          "data": {
            "text/plain": [
              "numpy.int16"
            ]
          },
          "metadata": {
            "tags": []
          },
          "execution_count": 31
        }
      ]
    },
    {
      "cell_type": "code",
      "metadata": {
        "id": "ZFgDNsUi6ycS",
        "outputId": "5fd8e75e-fb86-498e-d4f0-4e0ca5997b8b"
      },
      "source": [
        "type(n[0][1])"
      ],
      "execution_count": null,
      "outputs": [
        {
          "output_type": "execute_result",
          "data": {
            "text/plain": [
              "numpy.int64"
            ]
          },
          "metadata": {
            "tags": []
          },
          "execution_count": 32
        }
      ]
    },
    {
      "cell_type": "code",
      "metadata": {
        "id": "CJkt5SsF6ycS"
      },
      "source": [
        "m=np.mat([1,2,3,4])"
      ],
      "execution_count": null,
      "outputs": []
    },
    {
      "cell_type": "code",
      "metadata": {
        "id": "emYzDW8P6ycT",
        "outputId": "a18d13d8-e11d-4cf5-d200-e0d4d33b33b2"
      },
      "source": [
        "type(np.mat([1,2,3,4]))"
      ],
      "execution_count": null,
      "outputs": [
        {
          "output_type": "execute_result",
          "data": {
            "text/plain": [
              "numpy.matrix"
            ]
          },
          "metadata": {
            "tags": []
          },
          "execution_count": 35
        }
      ]
    },
    {
      "cell_type": "code",
      "metadata": {
        "id": "_ewyQTzW6ycT",
        "outputId": "770eecad-c926-4cd5-c90d-4a18c76b3c96"
      },
      "source": [
        "np.array(m)"
      ],
      "execution_count": null,
      "outputs": [
        {
          "output_type": "execute_result",
          "data": {
            "text/plain": [
              "array([[1, 2, 3, 4]])"
            ]
          },
          "metadata": {
            "tags": []
          },
          "execution_count": 37
        }
      ]
    },
    {
      "cell_type": "code",
      "metadata": {
        "id": "d0C5t_3U6ycT",
        "outputId": "4c714397-9c39-47ff-b2e1-ab4dd4b631ed"
      },
      "source": [
        "np.asanyarray([5,6,7,8]) #List is not array to this function converts to array"
      ],
      "execution_count": null,
      "outputs": [
        {
          "output_type": "execute_result",
          "data": {
            "text/plain": [
              "array([5, 6, 7, 8])"
            ]
          },
          "metadata": {
            "tags": []
          },
          "execution_count": 38
        }
      ]
    },
    {
      "cell_type": "code",
      "metadata": {
        "id": "i3cQJRY36ycT",
        "outputId": "d90df4ab-5fc1-4ddd-b232-0eb606fb51dd"
      },
      "source": [
        "np.asanyarray(m) #Not converting to array as matrix is subpart of array"
      ],
      "execution_count": null,
      "outputs": [
        {
          "output_type": "execute_result",
          "data": {
            "text/plain": [
              "matrix([[1, 2, 3, 4]])"
            ]
          },
          "metadata": {
            "tags": []
          },
          "execution_count": 39
        }
      ]
    },
    {
      "cell_type": "code",
      "metadata": {
        "id": "RMyRu6Hf6ycU",
        "outputId": "f15a2f64-2b98-4ffc-c5f8-b94b79090c58"
      },
      "source": [
        "a=np.array([4,5,6,7,8])\n",
        "a"
      ],
      "execution_count": null,
      "outputs": [
        {
          "output_type": "execute_result",
          "data": {
            "text/plain": [
              "array([4, 5, 6, 7, 8])"
            ]
          },
          "metadata": {
            "tags": []
          },
          "execution_count": 48
        }
      ]
    },
    {
      "cell_type": "code",
      "metadata": {
        "id": "ldLscbwQ6ycU"
      },
      "source": [
        "b=a   #Swallow copy"
      ],
      "execution_count": null,
      "outputs": []
    },
    {
      "cell_type": "code",
      "metadata": {
        "id": "rBM6m1Fd6ycU",
        "outputId": "096a58f8-4a03-4ef4-c966-ef20fe7e170f"
      },
      "source": [
        "b"
      ],
      "execution_count": null,
      "outputs": [
        {
          "output_type": "execute_result",
          "data": {
            "text/plain": [
              "array([4, 5, 6, 7, 8])"
            ]
          },
          "metadata": {
            "tags": []
          },
          "execution_count": 50
        }
      ]
    },
    {
      "cell_type": "code",
      "metadata": {
        "id": "430R2_xE6ycU",
        "outputId": "2b602335-2351-4427-c78c-ba880d52c0fe"
      },
      "source": [
        "b[0]"
      ],
      "execution_count": null,
      "outputs": [
        {
          "output_type": "execute_result",
          "data": {
            "text/plain": [
              "4"
            ]
          },
          "metadata": {
            "tags": []
          },
          "execution_count": 51
        }
      ]
    },
    {
      "cell_type": "code",
      "metadata": {
        "id": "auelpgFV6ycV"
      },
      "source": [
        "b[0]=35"
      ],
      "execution_count": null,
      "outputs": []
    },
    {
      "cell_type": "code",
      "metadata": {
        "id": "Gbe7y1sW6ycV",
        "outputId": "edcae12f-71e1-4a39-dc09-c60481a2fcd5"
      },
      "source": [
        "b"
      ],
      "execution_count": null,
      "outputs": [
        {
          "output_type": "execute_result",
          "data": {
            "text/plain": [
              "array([35,  5,  6,  7,  8])"
            ]
          },
          "metadata": {
            "tags": []
          },
          "execution_count": 53
        }
      ]
    },
    {
      "cell_type": "code",
      "metadata": {
        "id": "hAJ15MMb6ycV",
        "outputId": "56b36d71-4449-424f-eb3e-3c2c37736ae9"
      },
      "source": [
        "a"
      ],
      "execution_count": null,
      "outputs": [
        {
          "output_type": "execute_result",
          "data": {
            "text/plain": [
              "array([35,  5,  6,  7,  8])"
            ]
          },
          "metadata": {
            "tags": []
          },
          "execution_count": 54
        }
      ]
    },
    {
      "cell_type": "code",
      "metadata": {
        "id": "qaqSfuE16ycV"
      },
      "source": [
        "c=np.copy(a)  # Deep Copy"
      ],
      "execution_count": null,
      "outputs": []
    },
    {
      "cell_type": "code",
      "metadata": {
        "id": "SOCrqVPn6ycV",
        "outputId": "95f8da21-58f8-404e-c9c9-eac99ba0951d"
      },
      "source": [
        "c"
      ],
      "execution_count": null,
      "outputs": [
        {
          "output_type": "execute_result",
          "data": {
            "text/plain": [
              "array([35,  5,  6,  7,  8])"
            ]
          },
          "metadata": {
            "tags": []
          },
          "execution_count": 56
        }
      ]
    },
    {
      "cell_type": "code",
      "metadata": {
        "id": "xt834EKJ6ycW"
      },
      "source": [
        "c[0]=55"
      ],
      "execution_count": null,
      "outputs": []
    },
    {
      "cell_type": "code",
      "metadata": {
        "id": "hFw_KwAb6ycW",
        "outputId": "fa2e3b63-f1f6-4498-9e63-dafb83592aba"
      },
      "source": [
        "c"
      ],
      "execution_count": null,
      "outputs": [
        {
          "output_type": "execute_result",
          "data": {
            "text/plain": [
              "array([55,  5,  6,  7,  8])"
            ]
          },
          "metadata": {
            "tags": []
          },
          "execution_count": 58
        }
      ]
    },
    {
      "cell_type": "code",
      "metadata": {
        "id": "9WM2c5Ie6ycW",
        "outputId": "e15d6256-ce62-4112-fafb-053d38076ce8"
      },
      "source": [
        "a"
      ],
      "execution_count": null,
      "outputs": [
        {
          "output_type": "execute_result",
          "data": {
            "text/plain": [
              "array([35,  5,  6,  7,  8])"
            ]
          },
          "metadata": {
            "tags": []
          },
          "execution_count": 59
        }
      ]
    },
    {
      "cell_type": "code",
      "metadata": {
        "id": "GUJNMDMU6ycW",
        "outputId": "2615969d-4cf3-4591-88d2-de5153c0bdbd"
      },
      "source": [
        "np.fromfunction(lambda x,y :x==y,(3,4))"
      ],
      "execution_count": null,
      "outputs": [
        {
          "output_type": "execute_result",
          "data": {
            "text/plain": [
              "array([[ True, False, False, False],\n",
              "       [False,  True, False, False],\n",
              "       [False, False,  True, False]])"
            ]
          },
          "metadata": {
            "tags": []
          },
          "execution_count": 60
        }
      ]
    },
    {
      "cell_type": "code",
      "metadata": {
        "id": "DYp3yQnv6ycW",
        "outputId": "0934b2f4-91cc-49cf-f58f-76268f544ee0"
      },
      "source": [
        "np.fromfunction(lambda x,y :x+y,(3,4))"
      ],
      "execution_count": null,
      "outputs": [
        {
          "output_type": "execute_result",
          "data": {
            "text/plain": [
              "array([[0., 1., 2., 3.],\n",
              "       [1., 2., 3., 4.],\n",
              "       [2., 3., 4., 5.]])"
            ]
          },
          "metadata": {
            "tags": []
          },
          "execution_count": 61
        }
      ]
    },
    {
      "cell_type": "code",
      "metadata": {
        "id": "eICQ2rVm6ycX",
        "outputId": "83fbbaf5-4cf8-4989-d0a7-f8ead82c603b"
      },
      "source": [
        "np.fromstring('1 3 5',sep=' ')"
      ],
      "execution_count": null,
      "outputs": [
        {
          "output_type": "execute_result",
          "data": {
            "text/plain": [
              "array([1., 3., 5.])"
            ]
          },
          "metadata": {
            "tags": []
          },
          "execution_count": 63
        }
      ]
    },
    {
      "cell_type": "code",
      "metadata": {
        "id": "fICHITKc6ycX",
        "outputId": "6db36780-fd66-48ab-a041-41ae121eec18"
      },
      "source": [
        "np.fromstring('nk',sep=' ')"
      ],
      "execution_count": null,
      "outputs": [
        {
          "output_type": "execute_result",
          "data": {
            "text/plain": [
              "array([], dtype=float64)"
            ]
          },
          "metadata": {
            "tags": []
          },
          "execution_count": 64
        }
      ]
    },
    {
      "cell_type": "code",
      "metadata": {
        "id": "YN7hLa1U6ycX",
        "outputId": "d0478e64-b63b-4a97-9dae-e4df1a067e1a"
      },
      "source": [
        "np.fromstring('nk',dtype=str,sep=' ')"
      ],
      "execution_count": null,
      "outputs": [
        {
          "output_type": "error",
          "ename": "ValueError",
          "evalue": "zero-valued itemsize",
          "traceback": [
            "\u001b[1;31m---------------------------------------------------------------------------\u001b[0m",
            "\u001b[1;31mValueError\u001b[0m                                Traceback (most recent call last)",
            "\u001b[1;32m<ipython-input-65-773c06de344e>\u001b[0m in \u001b[0;36m<module>\u001b[1;34m\u001b[0m\n\u001b[1;32m----> 1\u001b[1;33m \u001b[0mnp\u001b[0m\u001b[1;33m.\u001b[0m\u001b[0mfromstring\u001b[0m\u001b[1;33m(\u001b[0m\u001b[1;34m'nk'\u001b[0m\u001b[1;33m,\u001b[0m\u001b[0mdtype\u001b[0m\u001b[1;33m=\u001b[0m\u001b[0mstr\u001b[0m\u001b[1;33m,\u001b[0m\u001b[0msep\u001b[0m\u001b[1;33m=\u001b[0m\u001b[1;34m' '\u001b[0m\u001b[1;33m)\u001b[0m\u001b[1;33m\u001b[0m\u001b[1;33m\u001b[0m\u001b[0m\n\u001b[0m",
            "\u001b[1;31mValueError\u001b[0m: zero-valued itemsize"
          ]
        }
      ]
    },
    {
      "cell_type": "code",
      "metadata": {
        "id": "7fAmvysE6ycX",
        "outputId": "b486e9e1-62ca-4436-cf21-5ee76cbd9fbc"
      },
      "source": [
        "np.fromstring('6,7',dtype=str,sep=' ')"
      ],
      "execution_count": null,
      "outputs": [
        {
          "output_type": "error",
          "ename": "ValueError",
          "evalue": "zero-valued itemsize",
          "traceback": [
            "\u001b[1;31m---------------------------------------------------------------------------\u001b[0m",
            "\u001b[1;31mValueError\u001b[0m                                Traceback (most recent call last)",
            "\u001b[1;32m<ipython-input-66-0737d310d66a>\u001b[0m in \u001b[0;36m<module>\u001b[1;34m\u001b[0m\n\u001b[1;32m----> 1\u001b[1;33m \u001b[0mnp\u001b[0m\u001b[1;33m.\u001b[0m\u001b[0mfromstring\u001b[0m\u001b[1;33m(\u001b[0m\u001b[1;34m'6,7'\u001b[0m\u001b[1;33m,\u001b[0m\u001b[0mdtype\u001b[0m\u001b[1;33m=\u001b[0m\u001b[0mstr\u001b[0m\u001b[1;33m,\u001b[0m\u001b[0msep\u001b[0m\u001b[1;33m=\u001b[0m\u001b[1;34m' '\u001b[0m\u001b[1;33m)\u001b[0m\u001b[1;33m\u001b[0m\u001b[1;33m\u001b[0m\u001b[0m\n\u001b[0m",
            "\u001b[1;31mValueError\u001b[0m: zero-valued itemsize"
          ]
        }
      ]
    },
    {
      "cell_type": "code",
      "metadata": {
        "id": "KpdzHBgG6ycX",
        "outputId": "bac3a743-dabb-4c0f-970f-0b06c6319c14"
      },
      "source": [
        "np.fromstring('6,7',dtype=int,sep=',')"
      ],
      "execution_count": null,
      "outputs": [
        {
          "output_type": "execute_result",
          "data": {
            "text/plain": [
              "array([6, 7])"
            ]
          },
          "metadata": {
            "tags": []
          },
          "execution_count": 68
        }
      ]
    },
    {
      "cell_type": "code",
      "metadata": {
        "id": "d1Cj31Cr6ycY"
      },
      "source": [
        "a=[[3,4,5],[6,7,8],[6,7,9]]"
      ],
      "execution_count": null,
      "outputs": []
    },
    {
      "cell_type": "code",
      "metadata": {
        "id": "H27x7ddM6ycY",
        "outputId": "c54a8358-28ee-4d9f-bce3-42b1c6d4a792"
      },
      "source": [
        "n=np.array(a)\n",
        "n"
      ],
      "execution_count": null,
      "outputs": [
        {
          "output_type": "execute_result",
          "data": {
            "text/plain": [
              "array([[3, 4, 5],\n",
              "       [6, 7, 8],\n",
              "       [6, 7, 9]])"
            ]
          },
          "metadata": {
            "tags": []
          },
          "execution_count": 83
        }
      ]
    },
    {
      "cell_type": "code",
      "metadata": {
        "id": "eVmxff8F6ycY",
        "outputId": "e168d348-46c5-44f0-fd6d-bbcbc3654f60"
      },
      "source": [
        "n.ndim # Dimension"
      ],
      "execution_count": null,
      "outputs": [
        {
          "output_type": "execute_result",
          "data": {
            "text/plain": [
              "2"
            ]
          },
          "metadata": {
            "tags": []
          },
          "execution_count": 84
        }
      ]
    },
    {
      "cell_type": "code",
      "metadata": {
        "id": "_3wlr3u16ycY",
        "outputId": "b0e46ce5-26ef-4e4d-dbfb-0c14a4611f34"
      },
      "source": [
        "n.size # total element"
      ],
      "execution_count": null,
      "outputs": [
        {
          "output_type": "execute_result",
          "data": {
            "text/plain": [
              "9"
            ]
          },
          "metadata": {
            "tags": []
          },
          "execution_count": 85
        }
      ]
    },
    {
      "cell_type": "code",
      "metadata": {
        "id": "TAHz_cwF6ycZ",
        "outputId": "393ad9e2-19d9-41a6-e7ac-966cd6ca5b09"
      },
      "source": [
        "n.shape # row by column"
      ],
      "execution_count": null,
      "outputs": [
        {
          "output_type": "execute_result",
          "data": {
            "text/plain": [
              "(3, 3)"
            ]
          },
          "metadata": {
            "tags": []
          },
          "execution_count": 86
        }
      ]
    },
    {
      "cell_type": "code",
      "metadata": {
        "id": "hB2n5ptP6ycZ"
      },
      "source": [
        "m=np.array([5,6,7])"
      ],
      "execution_count": null,
      "outputs": []
    },
    {
      "cell_type": "code",
      "metadata": {
        "id": "SIWzneMR6ycZ",
        "outputId": "9d6ea3ae-8ddf-40fe-c36a-ff47cf6d826a"
      },
      "source": [
        "m.ndim"
      ],
      "execution_count": null,
      "outputs": [
        {
          "output_type": "execute_result",
          "data": {
            "text/plain": [
              "1"
            ]
          },
          "metadata": {
            "tags": []
          },
          "execution_count": 88
        }
      ]
    },
    {
      "cell_type": "code",
      "metadata": {
        "id": "7NVdNtF_6ycZ"
      },
      "source": [
        "m=np.array([[5,6,7]])"
      ],
      "execution_count": null,
      "outputs": []
    },
    {
      "cell_type": "code",
      "metadata": {
        "id": "HElffT9B6ycZ",
        "outputId": "6d57f668-b68e-491a-b832-0c45f37508e4"
      },
      "source": [
        "m.ndim"
      ],
      "execution_count": null,
      "outputs": [
        {
          "output_type": "execute_result",
          "data": {
            "text/plain": [
              "2"
            ]
          },
          "metadata": {
            "tags": []
          },
          "execution_count": 90
        }
      ]
    },
    {
      "cell_type": "code",
      "metadata": {
        "id": "90mGgiYn6yca",
        "outputId": "d25047e1-cc9c-4f08-c138-03a069585681"
      },
      "source": [
        "n.dtype"
      ],
      "execution_count": null,
      "outputs": [
        {
          "output_type": "execute_result",
          "data": {
            "text/plain": [
              "dtype('int32')"
            ]
          },
          "metadata": {
            "tags": []
          },
          "execution_count": 91
        }
      ]
    },
    {
      "cell_type": "code",
      "metadata": {
        "id": "N4QHsfgg6yca",
        "outputId": "47c2f603-ae19-432f-bcab-a4314112bb81"
      },
      "source": [
        "range(5)"
      ],
      "execution_count": null,
      "outputs": [
        {
          "output_type": "execute_result",
          "data": {
            "text/plain": [
              "range(0, 5)"
            ]
          },
          "metadata": {
            "tags": []
          },
          "execution_count": 92
        }
      ]
    },
    {
      "cell_type": "code",
      "metadata": {
        "id": "FQS5WNDa6yca",
        "outputId": "2ab65e0a-9d3c-4710-eae0-68c125ad04f0"
      },
      "source": [
        "range(5.0)"
      ],
      "execution_count": null,
      "outputs": [
        {
          "output_type": "error",
          "ename": "TypeError",
          "evalue": "'float' object cannot be interpreted as an integer",
          "traceback": [
            "\u001b[1;31m---------------------------------------------------------------------------\u001b[0m",
            "\u001b[1;31mTypeError\u001b[0m                                 Traceback (most recent call last)",
            "\u001b[1;32m<ipython-input-93-5dc0b1c11a31>\u001b[0m in \u001b[0;36m<module>\u001b[1;34m\u001b[0m\n\u001b[1;32m----> 1\u001b[1;33m \u001b[0mrange\u001b[0m\u001b[1;33m(\u001b[0m\u001b[1;36m5.0\u001b[0m\u001b[1;33m)\u001b[0m\u001b[1;33m\u001b[0m\u001b[1;33m\u001b[0m\u001b[0m\n\u001b[0m",
            "\u001b[1;31mTypeError\u001b[0m: 'float' object cannot be interpreted as an integer"
          ]
        }
      ]
    },
    {
      "cell_type": "code",
      "metadata": {
        "id": "eU5-epvb6yca",
        "outputId": "bcd20a38-438d-479f-8f25-6e9de535dc07"
      },
      "source": [
        "np.arange(5.0)"
      ],
      "execution_count": null,
      "outputs": [
        {
          "output_type": "execute_result",
          "data": {
            "text/plain": [
              "array([0., 1., 2., 3., 4.])"
            ]
          },
          "metadata": {
            "tags": []
          },
          "execution_count": 94
        }
      ]
    },
    {
      "cell_type": "code",
      "metadata": {
        "id": "wnGcOkY36yca",
        "outputId": "ebff448f-2baa-4193-9416-9c8a10e94f20"
      },
      "source": [
        "n=np.arange(2.6,9.87,.5) #Start End and Step\n",
        "n"
      ],
      "execution_count": null,
      "outputs": [
        {
          "output_type": "execute_result",
          "data": {
            "text/plain": [
              "array([2.6, 3.1, 3.6, 4.1, 4.6, 5.1, 5.6, 6.1, 6.6, 7.1, 7.6, 8.1, 8.6,\n",
              "       9.1, 9.6])"
            ]
          },
          "metadata": {
            "tags": []
          },
          "execution_count": 98
        }
      ]
    },
    {
      "cell_type": "code",
      "metadata": {
        "id": "Se0o-PTq6ycb",
        "outputId": "43231253-6a58-485d-b3cb-2b17b4e94df0"
      },
      "source": [
        "list(n)"
      ],
      "execution_count": null,
      "outputs": [
        {
          "output_type": "execute_result",
          "data": {
            "text/plain": [
              "[2.6, 3.1, 3.6, 4.1, 4.6, 5.1, 5.6, 6.1, 6.6, 7.1, 7.6, 8.1, 8.6, 9.1, 9.6]"
            ]
          },
          "metadata": {
            "tags": []
          },
          "execution_count": 99
        }
      ]
    },
    {
      "cell_type": "code",
      "metadata": {
        "id": "KXVPWMuF6ycb",
        "outputId": "d8d75bb6-af45-4151-e0aa-ead171618628"
      },
      "source": [
        "np.linspace(3,6,20) # Start, END and Number of element"
      ],
      "execution_count": null,
      "outputs": [
        {
          "output_type": "execute_result",
          "data": {
            "text/plain": [
              "array([3.        , 3.15789474, 3.31578947, 3.47368421, 3.63157895,\n",
              "       3.78947368, 3.94736842, 4.10526316, 4.26315789, 4.42105263,\n",
              "       4.57894737, 4.73684211, 4.89473684, 5.05263158, 5.21052632,\n",
              "       5.36842105, 5.52631579, 5.68421053, 5.84210526, 6.        ])"
            ]
          },
          "metadata": {
            "tags": []
          },
          "execution_count": 102
        }
      ]
    },
    {
      "cell_type": "code",
      "metadata": {
        "id": "JYlInmBF6ycb",
        "outputId": "a382accf-d953-41ad-aff7-c83504fa1aaa"
      },
      "source": [
        "np.linspace(3,6,20,endpoint=False) # Excludes END "
      ],
      "execution_count": null,
      "outputs": [
        {
          "output_type": "execute_result",
          "data": {
            "text/plain": [
              "array([3.  , 3.15, 3.3 , 3.45, 3.6 , 3.75, 3.9 , 4.05, 4.2 , 4.35, 4.5 ,\n",
              "       4.65, 4.8 , 4.95, 5.1 , 5.25, 5.4 , 5.55, 5.7 , 5.85])"
            ]
          },
          "metadata": {
            "tags": []
          },
          "execution_count": 104
        }
      ]
    },
    {
      "cell_type": "code",
      "metadata": {
        "id": "fDezAi2s6ycb",
        "outputId": "38f30dca-44dc-4c6e-979e-00783e6dbf8c"
      },
      "source": [
        "np.linspace(3,6,20,endpoint=False,retstep=True)"
      ],
      "execution_count": null,
      "outputs": [
        {
          "output_type": "execute_result",
          "data": {
            "text/plain": [
              "(array([3.  , 3.15, 3.3 , 3.45, 3.6 , 3.75, 3.9 , 4.05, 4.2 , 4.35, 4.5 ,\n",
              "        4.65, 4.8 , 4.95, 5.1 , 5.25, 5.4 , 5.55, 5.7 , 5.85]),\n",
              " 0.15)"
            ]
          },
          "metadata": {
            "tags": []
          },
          "execution_count": 105
        }
      ]
    },
    {
      "cell_type": "code",
      "metadata": {
        "id": "5fItZ7eR6ycc",
        "outputId": "b394da74-f715-4223-bf02-ca0f218a59e8"
      },
      "source": [
        "np.linspace(3,6,20,axis=0)"
      ],
      "execution_count": null,
      "outputs": [
        {
          "output_type": "execute_result",
          "data": {
            "text/plain": [
              "array([3.        , 3.15789474, 3.31578947, 3.47368421, 3.63157895,\n",
              "       3.78947368, 3.94736842, 4.10526316, 4.26315789, 4.42105263,\n",
              "       4.57894737, 4.73684211, 4.89473684, 5.05263158, 5.21052632,\n",
              "       5.36842105, 5.52631579, 5.68421053, 5.84210526, 6.        ])"
            ]
          },
          "metadata": {
            "tags": []
          },
          "execution_count": 107
        }
      ]
    },
    {
      "cell_type": "code",
      "metadata": {
        "id": "XtNGwjwH6ycc",
        "outputId": "2dcb7fd8-514c-4c31-943d-7bdb3fea2aef"
      },
      "source": [
        "np.zeros((2,5,6)) #Array *ROW * COLUMN = 3D Array"
      ],
      "execution_count": null,
      "outputs": [
        {
          "output_type": "execute_result",
          "data": {
            "text/plain": [
              "array([[[0., 0., 0., 0., 0., 0.],\n",
              "        [0., 0., 0., 0., 0., 0.],\n",
              "        [0., 0., 0., 0., 0., 0.],\n",
              "        [0., 0., 0., 0., 0., 0.],\n",
              "        [0., 0., 0., 0., 0., 0.]],\n",
              "\n",
              "       [[0., 0., 0., 0., 0., 0.],\n",
              "        [0., 0., 0., 0., 0., 0.],\n",
              "        [0., 0., 0., 0., 0., 0.],\n",
              "        [0., 0., 0., 0., 0., 0.],\n",
              "        [0., 0., 0., 0., 0., 0.]]])"
            ]
          },
          "metadata": {
            "tags": []
          },
          "execution_count": 110
        }
      ]
    },
    {
      "cell_type": "code",
      "metadata": {
        "id": "CbYrVSli6ycc",
        "outputId": "75861da1-88f1-4128-9b7e-f1df31a33df5"
      },
      "source": [
        "np.zeros((2,5,6,2)) #4 Dim"
      ],
      "execution_count": null,
      "outputs": [
        {
          "output_type": "execute_result",
          "data": {
            "text/plain": [
              "array([[[[0., 0.],\n",
              "         [0., 0.],\n",
              "         [0., 0.],\n",
              "         [0., 0.],\n",
              "         [0., 0.],\n",
              "         [0., 0.]],\n",
              "\n",
              "        [[0., 0.],\n",
              "         [0., 0.],\n",
              "         [0., 0.],\n",
              "         [0., 0.],\n",
              "         [0., 0.],\n",
              "         [0., 0.]],\n",
              "\n",
              "        [[0., 0.],\n",
              "         [0., 0.],\n",
              "         [0., 0.],\n",
              "         [0., 0.],\n",
              "         [0., 0.],\n",
              "         [0., 0.]],\n",
              "\n",
              "        [[0., 0.],\n",
              "         [0., 0.],\n",
              "         [0., 0.],\n",
              "         [0., 0.],\n",
              "         [0., 0.],\n",
              "         [0., 0.]],\n",
              "\n",
              "        [[0., 0.],\n",
              "         [0., 0.],\n",
              "         [0., 0.],\n",
              "         [0., 0.],\n",
              "         [0., 0.],\n",
              "         [0., 0.]]],\n",
              "\n",
              "\n",
              "       [[[0., 0.],\n",
              "         [0., 0.],\n",
              "         [0., 0.],\n",
              "         [0., 0.],\n",
              "         [0., 0.],\n",
              "         [0., 0.]],\n",
              "\n",
              "        [[0., 0.],\n",
              "         [0., 0.],\n",
              "         [0., 0.],\n",
              "         [0., 0.],\n",
              "         [0., 0.],\n",
              "         [0., 0.]],\n",
              "\n",
              "        [[0., 0.],\n",
              "         [0., 0.],\n",
              "         [0., 0.],\n",
              "         [0., 0.],\n",
              "         [0., 0.],\n",
              "         [0., 0.]],\n",
              "\n",
              "        [[0., 0.],\n",
              "         [0., 0.],\n",
              "         [0., 0.],\n",
              "         [0., 0.],\n",
              "         [0., 0.],\n",
              "         [0., 0.]],\n",
              "\n",
              "        [[0., 0.],\n",
              "         [0., 0.],\n",
              "         [0., 0.],\n",
              "         [0., 0.],\n",
              "         [0., 0.],\n",
              "         [0., 0.]]]])"
            ]
          },
          "metadata": {
            "tags": []
          },
          "execution_count": 111
        }
      ]
    },
    {
      "cell_type": "code",
      "metadata": {
        "id": "bAZtyK3D6ycc",
        "outputId": "e8b74964-6da0-4562-dc72-f8e4e6a290b0"
      },
      "source": [
        "np.ones((3,4))"
      ],
      "execution_count": null,
      "outputs": [
        {
          "output_type": "execute_result",
          "data": {
            "text/plain": [
              "array([[1., 1., 1., 1.],\n",
              "       [1., 1., 1., 1.],\n",
              "       [1., 1., 1., 1.]])"
            ]
          },
          "metadata": {
            "tags": []
          },
          "execution_count": 113
        }
      ]
    },
    {
      "cell_type": "code",
      "metadata": {
        "id": "vGnwBe_Z6ycc",
        "outputId": "2c08387b-7dbc-49d1-848e-ec09283bf59d"
      },
      "source": [
        "np.ones((2,3,4))"
      ],
      "execution_count": null,
      "outputs": [
        {
          "output_type": "execute_result",
          "data": {
            "text/plain": [
              "array([[[1., 1., 1., 1.],\n",
              "        [1., 1., 1., 1.],\n",
              "        [1., 1., 1., 1.]],\n",
              "\n",
              "       [[1., 1., 1., 1.],\n",
              "        [1., 1., 1., 1.],\n",
              "        [1., 1., 1., 1.]]])"
            ]
          },
          "metadata": {
            "tags": []
          },
          "execution_count": 114
        }
      ]
    },
    {
      "cell_type": "code",
      "metadata": {
        "id": "Qk3Bq15Y6ycd",
        "outputId": "03282b0b-de9e-4b9d-d7f3-80ec057e93a4"
      },
      "source": [
        "np.ones((2,3,4)) +1"
      ],
      "execution_count": null,
      "outputs": [
        {
          "output_type": "execute_result",
          "data": {
            "text/plain": [
              "array([[[2., 2., 2., 2.],\n",
              "        [2., 2., 2., 2.],\n",
              "        [2., 2., 2., 2.]],\n",
              "\n",
              "       [[2., 2., 2., 2.],\n",
              "        [2., 2., 2., 2.],\n",
              "        [2., 2., 2., 2.]]])"
            ]
          },
          "metadata": {
            "tags": []
          },
          "execution_count": 115
        }
      ]
    },
    {
      "cell_type": "code",
      "metadata": {
        "id": "VvcklJaf6ycd",
        "outputId": "775c2566-8bbe-4ff7-ba63-9d28a05f56ad"
      },
      "source": [
        "np.empty((4,5))"
      ],
      "execution_count": null,
      "outputs": [
        {
          "output_type": "execute_result",
          "data": {
            "text/plain": [
              "array([[3.        , 3.15789474, 3.31578947, 3.47368421, 3.63157895],\n",
              "       [3.78947368, 3.94736842, 4.10526316, 4.26315789, 4.42105263],\n",
              "       [4.57894737, 4.73684211, 4.89473684, 5.05263158, 5.21052632],\n",
              "       [5.36842105, 5.52631579, 5.68421053, 5.84210526, 6.        ]])"
            ]
          },
          "metadata": {
            "tags": []
          },
          "execution_count": 116
        }
      ]
    },
    {
      "cell_type": "code",
      "metadata": {
        "id": "Oa-6xDPI6ycd",
        "outputId": "8e18c99f-7487-454d-c2ba-940c85a86b2a"
      },
      "source": [
        "np.empty((4,5))[0][0]"
      ],
      "execution_count": null,
      "outputs": [
        {
          "output_type": "execute_result",
          "data": {
            "text/plain": [
              "3.0"
            ]
          },
          "metadata": {
            "tags": []
          },
          "execution_count": 117
        }
      ]
    },
    {
      "cell_type": "code",
      "metadata": {
        "id": "RzsK6nGL6ycd",
        "outputId": "35a9066a-a661-4f30-802c-bbfc4ea8de88"
      },
      "source": [
        "np.empty((2,4))"
      ],
      "execution_count": null,
      "outputs": [
        {
          "output_type": "execute_result",
          "data": {
            "text/plain": [
              "array([[  7.2,   7.2, 583.2,   7.2],\n",
              "       [  7.2, 583.2, 583.2, 583.2]])"
            ]
          },
          "metadata": {
            "tags": []
          },
          "execution_count": 120
        }
      ]
    },
    {
      "cell_type": "code",
      "metadata": {
        "id": "ToIs7JcL6yce",
        "outputId": "6e5bd4ed-51c4-4140-80dc-469f8fcdc69b"
      },
      "source": [
        "np.eye(4)"
      ],
      "execution_count": null,
      "outputs": [
        {
          "output_type": "execute_result",
          "data": {
            "text/plain": [
              "array([[1., 0., 0., 0.],\n",
              "       [0., 1., 0., 0.],\n",
              "       [0., 0., 1., 0.],\n",
              "       [0., 0., 0., 1.]])"
            ]
          },
          "metadata": {
            "tags": []
          },
          "execution_count": 121
        }
      ]
    },
    {
      "cell_type": "code",
      "metadata": {
        "id": "X-hVIaGt6yce",
        "outputId": "6b2ec4e1-1db8-4636-9be8-7aa640e6fcc6"
      },
      "source": [
        "np.logspace(5.6,7.8,6) # Log of number"
      ],
      "execution_count": null,
      "outputs": [
        {
          "output_type": "execute_result",
          "data": {
            "text/plain": [
              "array([  398107.1705535 ,  1096478.19614319,  3019951.72040201,\n",
              "        8317637.71102671, 22908676.5276777 , 63095734.4480193 ])"
            ]
          },
          "metadata": {
            "tags": []
          },
          "execution_count": 122
        }
      ]
    },
    {
      "cell_type": "code",
      "metadata": {
        "id": "BL8CisyB6yce",
        "outputId": "10278733-723c-42b2-9da4-363e9de07ba4"
      },
      "source": [
        "np.logspace(5.6,7.8,6,base=2)"
      ],
      "execution_count": null,
      "outputs": [
        {
          "output_type": "execute_result",
          "data": {
            "text/plain": [
              "array([ 48.50293013,  65.79928491,  89.26359465, 121.09537878,\n",
              "       164.27851489, 222.8609442 ])"
            ]
          },
          "metadata": {
            "tags": []
          },
          "execution_count": 123
        }
      ]
    },
    {
      "cell_type": "code",
      "metadata": {
        "id": "ieTrWB-46yce",
        "outputId": "58244e7e-1353-48f8-cd56-8d42f121505a"
      },
      "source": [
        "m=np.random.rand(4,5)\n",
        "m"
      ],
      "execution_count": null,
      "outputs": [
        {
          "output_type": "execute_result",
          "data": {
            "text/plain": [
              "array([[0.55070537, 0.19307071, 0.10681786, 0.88433098, 0.46794179],\n",
              "       [0.80739824, 0.22333333, 0.49771014, 0.60980797, 0.16383102],\n",
              "       [0.87723925, 0.42988845, 0.70848433, 0.07115323, 0.15003866],\n",
              "       [0.70750438, 0.74923117, 0.89971949, 0.99884611, 0.59514322]])"
            ]
          },
          "metadata": {
            "tags": []
          },
          "execution_count": 125
        }
      ]
    },
    {
      "cell_type": "code",
      "metadata": {
        "id": "YCJOCiDx6ycf",
        "outputId": "75b11ef5-c0c5-48be-b808-f35568cbf786"
      },
      "source": [
        "m.reshape(10,2) "
      ],
      "execution_count": null,
      "outputs": [
        {
          "output_type": "execute_result",
          "data": {
            "text/plain": [
              "array([[0.55070537, 0.19307071],\n",
              "       [0.10681786, 0.88433098],\n",
              "       [0.46794179, 0.80739824],\n",
              "       [0.22333333, 0.49771014],\n",
              "       [0.60980797, 0.16383102],\n",
              "       [0.87723925, 0.42988845],\n",
              "       [0.70848433, 0.07115323],\n",
              "       [0.15003866, 0.70750438],\n",
              "       [0.74923117, 0.89971949],\n",
              "       [0.99884611, 0.59514322]])"
            ]
          },
          "metadata": {
            "tags": []
          },
          "execution_count": 126
        }
      ]
    },
    {
      "cell_type": "code",
      "metadata": {
        "id": "xPTKEzBT6ycf",
        "outputId": "024c9c6c-5792-4dfb-c4a5-3b539085381f"
      },
      "source": [
        "m.reshape(20,1) "
      ],
      "execution_count": null,
      "outputs": [
        {
          "output_type": "execute_result",
          "data": {
            "text/plain": [
              "array([[0.55070537],\n",
              "       [0.19307071],\n",
              "       [0.10681786],\n",
              "       [0.88433098],\n",
              "       [0.46794179],\n",
              "       [0.80739824],\n",
              "       [0.22333333],\n",
              "       [0.49771014],\n",
              "       [0.60980797],\n",
              "       [0.16383102],\n",
              "       [0.87723925],\n",
              "       [0.42988845],\n",
              "       [0.70848433],\n",
              "       [0.07115323],\n",
              "       [0.15003866],\n",
              "       [0.70750438],\n",
              "       [0.74923117],\n",
              "       [0.89971949],\n",
              "       [0.99884611],\n",
              "       [0.59514322]])"
            ]
          },
          "metadata": {
            "tags": []
          },
          "execution_count": 129
        }
      ]
    },
    {
      "cell_type": "code",
      "metadata": {
        "id": "jO5OgMM86ycf",
        "outputId": "18699e7c-fcf1-48e9-8d1e-9fa9b7fb8c0d"
      },
      "source": [
        "m.reshape(5,4) "
      ],
      "execution_count": null,
      "outputs": [
        {
          "output_type": "execute_result",
          "data": {
            "text/plain": [
              "array([[0.55070537, 0.19307071, 0.10681786, 0.88433098],\n",
              "       [0.46794179, 0.80739824, 0.22333333, 0.49771014],\n",
              "       [0.60980797, 0.16383102, 0.87723925, 0.42988845],\n",
              "       [0.70848433, 0.07115323, 0.15003866, 0.70750438],\n",
              "       [0.74923117, 0.89971949, 0.99884611, 0.59514322]])"
            ]
          },
          "metadata": {
            "tags": []
          },
          "execution_count": 130
        }
      ]
    },
    {
      "cell_type": "code",
      "metadata": {
        "id": "mnMOVjXK6ycf",
        "outputId": "47ff11cd-1385-4d6a-855e-de24e33fd2cc"
      },
      "source": [
        "m.reshape(10,-1) # -1 does nothing. Based on First element it automatically converts"
      ],
      "execution_count": null,
      "outputs": [
        {
          "output_type": "execute_result",
          "data": {
            "text/plain": [
              "array([[0.55070537, 0.19307071],\n",
              "       [0.10681786, 0.88433098],\n",
              "       [0.46794179, 0.80739824],\n",
              "       [0.22333333, 0.49771014],\n",
              "       [0.60980797, 0.16383102],\n",
              "       [0.87723925, 0.42988845],\n",
              "       [0.70848433, 0.07115323],\n",
              "       [0.15003866, 0.70750438],\n",
              "       [0.74923117, 0.89971949],\n",
              "       [0.99884611, 0.59514322]])"
            ]
          },
          "metadata": {
            "tags": []
          },
          "execution_count": 131
        }
      ]
    },
    {
      "cell_type": "code",
      "metadata": {
        "id": "VUCQb66w6ycf",
        "outputId": "110f4802-129b-4534-f3bc-d0e6abbdeadf"
      },
      "source": [
        "m.reshape(-455,10) "
      ],
      "execution_count": null,
      "outputs": [
        {
          "output_type": "execute_result",
          "data": {
            "text/plain": [
              "array([[0.55070537, 0.19307071, 0.10681786, 0.88433098, 0.46794179,\n",
              "        0.80739824, 0.22333333, 0.49771014, 0.60980797, 0.16383102],\n",
              "       [0.87723925, 0.42988845, 0.70848433, 0.07115323, 0.15003866,\n",
              "        0.70750438, 0.74923117, 0.89971949, 0.99884611, 0.59514322]])"
            ]
          },
          "metadata": {
            "tags": []
          },
          "execution_count": 132
        }
      ]
    },
    {
      "cell_type": "code",
      "metadata": {
        "id": "AWjxl-ZY6ycg",
        "outputId": "4ad1d9fb-2271-40c8-bb0b-470d4b7a3422"
      },
      "source": [
        "np.random.rand(4,5)"
      ],
      "execution_count": null,
      "outputs": [
        {
          "output_type": "execute_result",
          "data": {
            "text/plain": [
              "array([[0.2143796 , 0.75449783, 0.76673149, 0.49740202, 0.85493599],\n",
              "       [0.46797417, 0.80740505, 0.57841513, 0.83869576, 0.66181782],\n",
              "       [0.3891603 , 0.72281677, 0.09470636, 0.98820469, 0.78831132],\n",
              "       [0.39491948, 0.51893577, 0.03501351, 0.84916969, 0.4906104 ]])"
            ]
          },
          "metadata": {
            "tags": []
          },
          "execution_count": 133
        }
      ]
    },
    {
      "cell_type": "code",
      "metadata": {
        "id": "pmRzJdG26ycg",
        "outputId": "d7272926-8991-47d6-a2c4-da69fa7b1314"
      },
      "source": [
        "a=np.random.randint(3,8,(5,6))\n",
        "a"
      ],
      "execution_count": null,
      "outputs": [
        {
          "output_type": "execute_result",
          "data": {
            "text/plain": [
              "array([[3, 5, 5, 4, 5, 7],\n",
              "       [3, 5, 3, 5, 5, 4],\n",
              "       [7, 5, 6, 6, 6, 6],\n",
              "       [7, 3, 6, 3, 5, 4],\n",
              "       [4, 7, 7, 6, 4, 7]])"
            ]
          },
          "metadata": {
            "tags": []
          },
          "execution_count": 135
        }
      ]
    },
    {
      "cell_type": "code",
      "metadata": {
        "id": "o3O3fNtT6ycg",
        "outputId": "173f09ed-d36d-4548-ebaa-ddaf7280cc3f"
      },
      "source": [
        "a[0]"
      ],
      "execution_count": null,
      "outputs": [
        {
          "output_type": "execute_result",
          "data": {
            "text/plain": [
              "array([3, 5, 5, 4, 5, 7])"
            ]
          },
          "metadata": {
            "tags": []
          },
          "execution_count": 136
        }
      ]
    },
    {
      "cell_type": "code",
      "metadata": {
        "id": "VZj3uTNZ6ycg",
        "outputId": "34d53af7-a193-4aea-cf0b-caf8220df618"
      },
      "source": [
        "a[0:2]"
      ],
      "execution_count": null,
      "outputs": [
        {
          "output_type": "execute_result",
          "data": {
            "text/plain": [
              "array([[3, 5, 5, 4, 5, 7],\n",
              "       [3, 5, 3, 5, 5, 4]])"
            ]
          },
          "metadata": {
            "tags": []
          },
          "execution_count": 137
        }
      ]
    },
    {
      "cell_type": "code",
      "metadata": {
        "id": "Hl0w4UoP6ych",
        "outputId": "363741a5-37ca-4ca7-b12a-c8dd24da6431"
      },
      "source": [
        "a[0:2,0:2]"
      ],
      "execution_count": null,
      "outputs": [
        {
          "output_type": "execute_result",
          "data": {
            "text/plain": [
              "array([[3, 5],\n",
              "       [3, 5]])"
            ]
          },
          "metadata": {
            "tags": []
          },
          "execution_count": 138
        }
      ]
    },
    {
      "cell_type": "code",
      "metadata": {
        "id": "5-nvtgtI6ych",
        "outputId": "52c4f5b5-5386-4ca5-a031-68d3fa821ab5"
      },
      "source": [
        "a>5"
      ],
      "execution_count": null,
      "outputs": [
        {
          "output_type": "execute_result",
          "data": {
            "text/plain": [
              "array([[False, False, False, False, False,  True],\n",
              "       [False, False, False, False, False, False],\n",
              "       [ True, False,  True,  True,  True,  True],\n",
              "       [ True, False,  True, False, False, False],\n",
              "       [False,  True,  True,  True, False,  True]])"
            ]
          },
          "metadata": {
            "tags": []
          },
          "execution_count": 139
        }
      ]
    },
    {
      "cell_type": "code",
      "metadata": {
        "id": "30tFtree6ych",
        "outputId": "2bc35f01-5331-4375-db8e-5dc4fb36f14d"
      },
      "source": [
        "a[a>5]"
      ],
      "execution_count": null,
      "outputs": [
        {
          "output_type": "execute_result",
          "data": {
            "text/plain": [
              "array([7, 7, 6, 6, 6, 6, 7, 6, 7, 7, 6, 7])"
            ]
          },
          "metadata": {
            "tags": []
          },
          "execution_count": 140
        }
      ]
    },
    {
      "cell_type": "code",
      "metadata": {
        "id": "bYYzYWCA6ych"
      },
      "source": [
        "a[0][0]=90"
      ],
      "execution_count": null,
      "outputs": []
    },
    {
      "cell_type": "code",
      "metadata": {
        "id": "rZmA00B56ych",
        "outputId": "8c83ae8a-7640-4a42-94a0-bd195b93e619"
      },
      "source": [
        "a"
      ],
      "execution_count": null,
      "outputs": [
        {
          "output_type": "execute_result",
          "data": {
            "text/plain": [
              "array([[90,  5,  5,  4,  5,  7],\n",
              "       [ 3,  5,  3,  5,  5,  4],\n",
              "       [ 7,  5,  6,  6,  6,  6],\n",
              "       [ 7,  3,  6,  3,  5,  4],\n",
              "       [ 4,  7,  7,  6,  4,  7]])"
            ]
          },
          "metadata": {
            "tags": []
          },
          "execution_count": 142
        }
      ]
    },
    {
      "cell_type": "code",
      "metadata": {
        "id": "Jt-Wk3pI6yci"
      },
      "source": [
        "m = np.array([[3,4,5],[5,6,7]])"
      ],
      "execution_count": null,
      "outputs": []
    },
    {
      "cell_type": "code",
      "metadata": {
        "id": "yPw_x41p6yci",
        "outputId": "d712320c-e26d-41cf-8349-56e475415ab2"
      },
      "source": [
        "m"
      ],
      "execution_count": null,
      "outputs": [
        {
          "output_type": "execute_result",
          "data": {
            "text/plain": [
              "array([[3, 4, 5],\n",
              "       [5, 6, 7]])"
            ]
          },
          "metadata": {
            "tags": []
          },
          "execution_count": 145
        }
      ]
    },
    {
      "cell_type": "code",
      "metadata": {
        "id": "rXDxD1hn6yci",
        "outputId": "53c7dd28-c94f-44cb-85e6-03ed52f19f49"
      },
      "source": [
        "n = np.array([[6,4,5],[5,6,7]])\n",
        "n"
      ],
      "execution_count": null,
      "outputs": [
        {
          "output_type": "execute_result",
          "data": {
            "text/plain": [
              "array([[6, 4, 5],\n",
              "       [5, 6, 7]])"
            ]
          },
          "metadata": {
            "tags": []
          },
          "execution_count": 146
        }
      ]
    },
    {
      "cell_type": "code",
      "metadata": {
        "id": "WpQAya6n6yci",
        "outputId": "a24ae3a6-0816-4cd8-d309-400cbcf80a9e"
      },
      "source": [
        "m+n"
      ],
      "execution_count": null,
      "outputs": [
        {
          "output_type": "execute_result",
          "data": {
            "text/plain": [
              "array([[ 9,  8, 10],\n",
              "       [10, 12, 14]])"
            ]
          },
          "metadata": {
            "tags": []
          },
          "execution_count": 147
        }
      ]
    },
    {
      "cell_type": "code",
      "metadata": {
        "id": "39sHwss66ycj",
        "outputId": "b93592b1-d744-40ef-81ac-44e199c399f1"
      },
      "source": [
        "m-n"
      ],
      "execution_count": null,
      "outputs": [
        {
          "output_type": "execute_result",
          "data": {
            "text/plain": [
              "array([[-3,  0,  0],\n",
              "       [ 0,  0,  0]])"
            ]
          },
          "metadata": {
            "tags": []
          },
          "execution_count": 148
        }
      ]
    },
    {
      "cell_type": "code",
      "metadata": {
        "id": "p2Nj1MpM6ycj",
        "outputId": "5687ff88-59f7-4399-d9c6-5e2fd1d33b45"
      },
      "source": [
        "m*n # its index wise multiplication and not matrix mupliplication"
      ],
      "execution_count": null,
      "outputs": [
        {
          "output_type": "execute_result",
          "data": {
            "text/plain": [
              "array([[18, 16, 25],\n",
              "       [25, 36, 49]])"
            ]
          },
          "metadata": {
            "tags": []
          },
          "execution_count": 149
        }
      ]
    },
    {
      "cell_type": "code",
      "metadata": {
        "id": "ru6izE9M6ycj",
        "outputId": "0475d6cc-76c3-4744-c35f-b6f5ab09bcb6"
      },
      "source": [
        "m1=np.array([[0,1],[2,3]])\n",
        "m1"
      ],
      "execution_count": null,
      "outputs": [
        {
          "output_type": "execute_result",
          "data": {
            "text/plain": [
              "array([[0, 1],\n",
              "       [2, 3]])"
            ]
          },
          "metadata": {
            "tags": []
          },
          "execution_count": 150
        }
      ]
    },
    {
      "cell_type": "code",
      "metadata": {
        "id": "gcppO0qv6ycj",
        "outputId": "f308a729-149a-4264-82b3-10df30e945d3"
      },
      "source": [
        "m2=np.array([[2,3],[1,8]])\n",
        "m2"
      ],
      "execution_count": null,
      "outputs": [
        {
          "output_type": "execute_result",
          "data": {
            "text/plain": [
              "array([[2, 3],\n",
              "       [1, 8]])"
            ]
          },
          "metadata": {
            "tags": []
          },
          "execution_count": 151
        }
      ]
    },
    {
      "cell_type": "code",
      "metadata": {
        "id": "vnzH23Rn6ycj",
        "outputId": "5a1b1840-a9b0-4795-f5d5-1145d85b657d"
      },
      "source": [
        "m1*m2"
      ],
      "execution_count": null,
      "outputs": [
        {
          "output_type": "execute_result",
          "data": {
            "text/plain": [
              "array([[ 0,  3],\n",
              "       [ 2, 24]])"
            ]
          },
          "metadata": {
            "tags": []
          },
          "execution_count": 152
        }
      ]
    },
    {
      "cell_type": "code",
      "metadata": {
        "id": "HN2i-J3M6yck",
        "outputId": "a9be60ae-b12f-44fd-d2ee-f7ed003bb8df"
      },
      "source": [
        "m1@m2"
      ],
      "execution_count": null,
      "outputs": [
        {
          "output_type": "execute_result",
          "data": {
            "text/plain": [
              "array([[ 1,  8],\n",
              "       [ 7, 30]])"
            ]
          },
          "metadata": {
            "tags": []
          },
          "execution_count": 153
        }
      ]
    },
    {
      "cell_type": "code",
      "metadata": {
        "id": "J75dlV5h6yck",
        "outputId": "db4733e1-3f6e-431b-899e-9eda1f2a1708"
      },
      "source": [
        "m1**2"
      ],
      "execution_count": null,
      "outputs": [
        {
          "output_type": "execute_result",
          "data": {
            "text/plain": [
              "array([[0, 1],\n",
              "       [4, 9]], dtype=int32)"
            ]
          },
          "metadata": {
            "tags": []
          },
          "execution_count": 154
        }
      ]
    },
    {
      "cell_type": "code",
      "metadata": {
        "id": "kp-DoqM36yck",
        "outputId": "b2168f7f-6987-45ed-8f52-a9f3a3a62ff9"
      },
      "source": [
        "pow(m1,2)"
      ],
      "execution_count": null,
      "outputs": [
        {
          "output_type": "execute_result",
          "data": {
            "text/plain": [
              "array([[0, 1],\n",
              "       [4, 9]], dtype=int32)"
            ]
          },
          "metadata": {
            "tags": []
          },
          "execution_count": 155
        }
      ]
    },
    {
      "cell_type": "code",
      "metadata": {
        "id": "bm_dHpkL6yck"
      },
      "source": [
        "m=np.zeros((3,4))"
      ],
      "execution_count": null,
      "outputs": []
    },
    {
      "cell_type": "code",
      "metadata": {
        "id": "dHxtCqwn6ycl",
        "outputId": "409903a1-d028-47c0-87f8-f4d5e1c17970"
      },
      "source": [
        "m"
      ],
      "execution_count": null,
      "outputs": [
        {
          "output_type": "execute_result",
          "data": {
            "text/plain": [
              "array([[0., 0., 0., 0.],\n",
              "       [0., 0., 0., 0.],\n",
              "       [0., 0., 0., 0.]])"
            ]
          },
          "metadata": {
            "tags": []
          },
          "execution_count": 157
        }
      ]
    },
    {
      "cell_type": "code",
      "metadata": {
        "id": "GggwFYyn6ycl",
        "outputId": "0f69cde4-d5c3-43b0-d312-e7b262d4a559"
      },
      "source": [
        "m+2  #Elementwise broadcasting"
      ],
      "execution_count": null,
      "outputs": [
        {
          "output_type": "execute_result",
          "data": {
            "text/plain": [
              "array([[2., 2., 2., 2.],\n",
              "       [2., 2., 2., 2.],\n",
              "       [2., 2., 2., 2.]])"
            ]
          },
          "metadata": {
            "tags": []
          },
          "execution_count": 158
        }
      ]
    },
    {
      "cell_type": "code",
      "metadata": {
        "id": "Z0lGYLvM6ycl"
      },
      "source": [
        "n1=np.array([1,2,3,4])"
      ],
      "execution_count": null,
      "outputs": []
    },
    {
      "cell_type": "code",
      "metadata": {
        "id": "wpdwvmdz6ycl",
        "outputId": "575f03a8-b5b3-45c8-b544-04616fb713bf"
      },
      "source": [
        "n1"
      ],
      "execution_count": null,
      "outputs": [
        {
          "output_type": "execute_result",
          "data": {
            "text/plain": [
              "array([1, 2, 3, 4])"
            ]
          },
          "metadata": {
            "tags": []
          },
          "execution_count": 160
        }
      ]
    },
    {
      "cell_type": "code",
      "metadata": {
        "id": "5KYoVZtU6ycl",
        "outputId": "11ff744c-67c1-468a-bfe8-0ac219da93b7"
      },
      "source": [
        "m"
      ],
      "execution_count": null,
      "outputs": [
        {
          "output_type": "execute_result",
          "data": {
            "text/plain": [
              "array([[0., 0., 0., 0.],\n",
              "       [0., 0., 0., 0.],\n",
              "       [0., 0., 0., 0.]])"
            ]
          },
          "metadata": {
            "tags": []
          },
          "execution_count": 161
        }
      ]
    },
    {
      "cell_type": "code",
      "metadata": {
        "id": "ym6MtE5U6ycm",
        "outputId": "ea5971e5-5241-4ed8-b6a1-224b164ee1ac"
      },
      "source": [
        "m+n1 # Rowwise broadcasting - Shape should be same"
      ],
      "execution_count": null,
      "outputs": [
        {
          "output_type": "execute_result",
          "data": {
            "text/plain": [
              "array([[1., 2., 3., 4.],\n",
              "       [1., 2., 3., 4.],\n",
              "       [1., 2., 3., 4.]])"
            ]
          },
          "metadata": {
            "tags": []
          },
          "execution_count": 162
        }
      ]
    },
    {
      "cell_type": "code",
      "metadata": {
        "id": "rCRFhu9n6ycm",
        "outputId": "431b99dc-e73e-418d-b985-06b3a170cc87"
      },
      "source": [
        "n2=np.array([[3,4,5]]).T #Columnwise broadcasting - Transpose the array\n",
        "n2"
      ],
      "execution_count": null,
      "outputs": [
        {
          "output_type": "execute_result",
          "data": {
            "text/plain": [
              "array([[3],\n",
              "       [4],\n",
              "       [5]])"
            ]
          },
          "metadata": {
            "tags": []
          },
          "execution_count": 168
        }
      ]
    },
    {
      "cell_type": "code",
      "metadata": {
        "id": "cijv9WWn6ycm",
        "outputId": "d604b5a0-23c2-4d87-99ef-8e6ca43cc761"
      },
      "source": [
        "m+n2"
      ],
      "execution_count": null,
      "outputs": [
        {
          "output_type": "execute_result",
          "data": {
            "text/plain": [
              "array([[3., 3., 3., 3.],\n",
              "       [4., 4., 4., 4.],\n",
              "       [5., 5., 5., 5.]])"
            ]
          },
          "metadata": {
            "tags": []
          },
          "execution_count": 169
        }
      ]
    },
    {
      "cell_type": "code",
      "metadata": {
        "id": "xXbeFEUZ6ycm",
        "outputId": "f6aecb05-9e27-4c37-e8a3-279b22d85b02"
      },
      "source": [
        "m=np.random.rand(4,5)\n",
        "m"
      ],
      "execution_count": null,
      "outputs": [
        {
          "output_type": "execute_result",
          "data": {
            "text/plain": [
              "array([[0.17578604, 0.32490372, 0.677607  , 0.78544247, 0.19943256],\n",
              "       [0.54240966, 0.00401879, 0.0936559 , 0.23198759, 0.79809223],\n",
              "       [0.48392379, 0.50359669, 0.74325415, 0.01776098, 0.9162548 ],\n",
              "       [0.2616896 , 0.20263911, 0.66016092, 0.05219775, 0.92777874]])"
            ]
          },
          "metadata": {
            "tags": []
          },
          "execution_count": 172
        }
      ]
    },
    {
      "cell_type": "code",
      "metadata": {
        "id": "b7cJAEso6ycn",
        "outputId": "d551e6fa-4e98-4463-e81c-0ae41f98b7a1"
      },
      "source": [
        "m1=np.random.rand(4,5).reshape(10,2)\n",
        "m1"
      ],
      "execution_count": null,
      "outputs": [
        {
          "output_type": "execute_result",
          "data": {
            "text/plain": [
              "array([[0.29673125, 0.82459576],\n",
              "       [0.38484304, 0.62684116],\n",
              "       [0.92810761, 0.33763087],\n",
              "       [0.38960656, 0.91885363],\n",
              "       [0.68303738, 0.79832065],\n",
              "       [0.05322909, 0.66382455],\n",
              "       [0.0220321 , 0.79540854],\n",
              "       [0.92257095, 0.03039294],\n",
              "       [0.66642451, 0.72840503],\n",
              "       [0.22792071, 0.44147166]])"
            ]
          },
          "metadata": {
            "tags": []
          },
          "execution_count": 177
        }
      ]
    },
    {
      "cell_type": "code",
      "metadata": {
        "id": "UbukENTM6ycn",
        "outputId": "8d7f7291-bf2c-4279-f4c6-0fe18c4149b9"
      },
      "source": [
        "np.sqrt(m1)"
      ],
      "execution_count": null,
      "outputs": [
        {
          "output_type": "execute_result",
          "data": {
            "text/plain": [
              "array([[0.54473043, 0.90807255],\n",
              "       [0.62035719, 0.79173301],\n",
              "       [0.96338342, 0.58106013],\n",
              "       [0.62418472, 0.95856853],\n",
              "       [0.82646075, 0.89348791],\n",
              "       [0.23071431, 0.81475429],\n",
              "       [0.14843213, 0.89185679],\n",
              "       [0.96050557, 0.17433571],\n",
              "       [0.81634828, 0.85346648],\n",
              "       [0.47741042, 0.66443334]])"
            ]
          },
          "metadata": {
            "tags": []
          },
          "execution_count": 178
        }
      ]
    },
    {
      "cell_type": "code",
      "metadata": {
        "id": "xynyguoo6ycn",
        "outputId": "19c21dcd-e044-4135-b36b-c9b8d2ec13f0"
      },
      "source": [
        "np.exp(m1)"
      ],
      "execution_count": null,
      "outputs": [
        {
          "output_type": "execute_result",
          "data": {
            "text/plain": [
              "array([[1.34545366, 2.28095853],\n",
              "       [1.46938367, 1.87168886],\n",
              "       [2.52971744, 1.40162303],\n",
              "       [1.47639981, 2.50641547],\n",
              "       [1.97988226, 2.2218066 ],\n",
              "       [1.05467124, 1.94220621],\n",
              "       [1.0222766 , 2.21534587],\n",
              "       [2.51574995, 1.03085952],\n",
              "       [1.94726244, 2.07177356],\n",
              "       [1.25598573, 1.55499397]])"
            ]
          },
          "metadata": {
            "tags": []
          },
          "execution_count": 179
        }
      ]
    },
    {
      "cell_type": "code",
      "metadata": {
        "id": "Y2OpFZK16ycn",
        "outputId": "4d1728fd-3a94-4c33-a6c4-4e86e09d2653"
      },
      "source": [
        "np.log10(m1)"
      ],
      "execution_count": null,
      "outputs": [
        {
          "output_type": "execute_result",
          "data": {
            "text/plain": [
              "array([[-0.52763672, -0.0837589 ],\n",
              "       [-0.41471636, -0.2028425 ],\n",
              "       [-0.03240167, -0.47155785],\n",
              "       [-0.40937374, -0.03675366],\n",
              "       [-0.16555553, -0.09782264],\n",
              "       [-1.27385093, -0.17794669],\n",
              "       [-1.65694418, -0.09940975],\n",
              "       [-0.03500022, -1.51722727],\n",
              "       [-0.17624904, -0.13762706],\n",
              "       [-0.64221622, -0.35509717]])"
            ]
          },
          "metadata": {
            "tags": []
          },
          "execution_count": 180
        }
      ]
    },
    {
      "cell_type": "code",
      "metadata": {
        "id": "O8qvX0qc6ycn",
        "outputId": "f9d590e3-8482-40f6-bd13-8185bef4039f"
      },
      "source": [
        "np.fmod(m,m1) # Returns Reminder"
      ],
      "execution_count": null,
      "outputs": [
        {
          "output_type": "execute_result",
          "data": {
            "text/plain": [
              "array([[0.23888496, 0.30941182],\n",
              "       [0.05089145, 0.26430253],\n",
              "       [0.18512708, 0.26968165],\n",
              "       [0.22874155, 0.50502849],\n",
              "       [0.4546292 , 0.3862327 ],\n",
              "       [0.01573095, 0.27274142],\n",
              "       [0.01480916, 0.34423355],\n",
              "       [0.63729105, 0.01757979],\n",
              "       [0.04802742, 0.28184011],\n",
              "       [0.14900886, 0.41295481]])"
            ]
          },
          "metadata": {
            "tags": []
          },
          "execution_count": 181
        }
      ]
    },
    {
      "cell_type": "code",
      "metadata": {
        "id": "v1JeXj4w6yco"
      },
      "source": [
        ""
      ],
      "execution_count": null,
      "outputs": []
    }
  ]
}