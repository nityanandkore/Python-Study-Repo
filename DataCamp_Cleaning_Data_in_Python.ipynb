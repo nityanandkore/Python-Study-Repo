{
  "nbformat": 4,
  "nbformat_minor": 0,
  "metadata": {
    "kernelspec": {
      "display_name": "Python 3",
      "language": "python",
      "name": "python3"
    },
    "language_info": {
      "codemirror_mode": {
        "name": "ipython",
        "version": 3
      },
      "file_extension": ".py",
      "mimetype": "text/x-python",
      "name": "python",
      "nbconvert_exporter": "python",
      "pygments_lexer": "ipython3",
      "version": "3.7.4"
    },
    "colab": {
      "name": "DataCamp- Cleaning Data in Python.ipynb",
      "provenance": [],
      "include_colab_link": true
    }
  },
  "cells": [
    {
      "cell_type": "markdown",
      "metadata": {
        "id": "view-in-github",
        "colab_type": "text"
      },
      "source": [
        "<a href=\"https://colab.research.google.com/github/nityanandkore/Python-Study-Repo/blob/master/DataCamp_Cleaning_Data_in_Python.ipynb\" target=\"_parent\"><img src=\"https://colab.research.google.com/assets/colab-badge.svg\" alt=\"Open In Colab\"/></a>"
      ]
    },
    {
      "cell_type": "markdown",
      "metadata": {
        "id": "hN7-x3Nq6VQF"
      },
      "source": [
        "# Loading and viewing your data\n",
        "In this chapter, you're going to look at a subset of the Department of Buildings Job Application Filings dataset from the NYC Open Data portal. This dataset consists of job applications filed on January 22, 2017.\n",
        "Your first task is to load this dataset into a DataFrame and then inspect it using the .head() and .tail() methods. However, you'll find out very quickly that the printed results don't allow you to see everything you need, since there are too many columns. Therefore, you need to look at the data in another way. \n",
        "The .shape and .columns attributes let you see the shape of the DataFrame and obtain a list of its columns. From here, you can see which columns are relevant to the questions you'd like to ask of the data. To this end, a new DataFrame, df_subset, consisting only of these relevant columns, has been pre-loaded. This is the DataFrame you'll work with in the rest of the chapter.\n",
        "Get acquainted with the dataset now by exploring it with pandas! This initial exploratory analysis is a crucial first step of data cleaning.\n",
        "\n",
        "**Instructions**\n",
        "\n",
        "Import pandas as pd.\n",
        "Read 'dob_job_application_filings_subset.csv' into a DataFrame called df.\n",
        "Print the head and tail of df.\n",
        "Print the shape of df and its columns. Note: .shape and .columns are attributes, not methods, so you don't need to follow these with parentheses ().\n",
        "Hit 'Submit Answer' to view the results! Notice the suspicious number of 0 values. Perhaps these represent missing data."
      ]
    },
    {
      "cell_type": "code",
      "metadata": {
        "id": "vfOfGE7l6VQN",
        "outputId": "9fffd563-3374-4d70-8472-a0ca9f941dbb"
      },
      "source": [
        "# Import pandas\n",
        "import pandas as pd\n",
        "\n",
        "# Read the file into a DataFrame: df\n",
        "df = pd.read_csv('_datasets/dob_job_application_filings_subset.csv')\n",
        "\n",
        "# Print the head of df\n",
        "print(df.head())\n",
        "\n",
        "# Print the tail of df\n",
        "print(df.tail())\n",
        "\n",
        "# Print the shape of df\n",
        "print(df.shape)\n",
        "\n",
        "# Print the columns of df\n",
        "print(df.columns)\n",
        "\n",
        "# Create a subset of df\n",
        "\n",
        "df_subset = df[['Job #', 'Doc #', 'Borough', 'Initial Cost', 'Total Est. Fee', 'Existing Zoning Sqft', 'Proposed Zoning Sqft', 'Enlargement SQ Footage', 'Street Frontage', 'ExistingNo. of Stories',\n",
        "       'Proposed No. of Stories', 'Existing Height', 'Proposed Height']]\n",
        "\n",
        "\n",
        "\n",
        "# Print the head and tail of df_subset\n",
        "print(df_subset.head())\n",
        "print(df_subset.tail())\n"
      ],
      "execution_count": null,
      "outputs": [
        {
          "output_type": "stream",
          "text": [
            "       Job #  Doc #        Borough       House #  \\\n",
            "0  121577873      2      MANHATTAN  386            \n",
            "1  520129502      1  STATEN ISLAND  107            \n",
            "2  121601560      1      MANHATTAN  63             \n",
            "3  121601203      1      MANHATTAN  48             \n",
            "4  121601338      1      MANHATTAN  45             \n",
            "\n",
            "                        Street Name  Block  Lot    Bin # Job Type Job Status  \\\n",
            "0  PARK AVENUE SOUTH                   857   38  1016890       A2          D   \n",
            "1  KNOX PLACE                          342    1  5161350       A3          A   \n",
            "2  WEST 131 STREET                    1729    9  1053831       A2          Q   \n",
            "3  WEST 25TH STREET                    826   69  1015610       A2          D   \n",
            "4  WEST 29 STREET                      831    7  1015754       A3          D   \n",
            "\n",
            "   ...               Owner's Last Name             Owner's Business Name  \\\n",
            "0  ...  MIGLIORE                        MACKLOWE MANAGEMENT                \n",
            "1  ...  BLUMENBERG                      NA                                 \n",
            "2  ...  MARKOWITZ                       635 RIVERSIDE DRIVE NY LLC         \n",
            "3  ...  CASALE                          48 W 25 ST LLC C/O BERNSTEIN       \n",
            "4  ...  LEE                             HYUNG-HYANG REALTY CORP            \n",
            "\n",
            "  Owner's House Number          Owner'sHouse Street Name            City   \\\n",
            "0         126           EAST 56TH STREET                  NEW YORK          \n",
            "1         107           KNOX PLACE                        STATEN ISLAND     \n",
            "2         619           WEST 54TH STREET                  NEW YORK          \n",
            "3         150           WEST 30TH STREET                  NEW YORK          \n",
            "4         614           8 AVENUE                          NEW YORK          \n",
            "\n",
            "  State    Zip Owner'sPhone #  \\\n",
            "0    NY  10222     2125545837   \n",
            "1    NY  10314     3477398892   \n",
            "2    NY  10016     2127652555   \n",
            "3    NY  10001     2125941414   \n",
            "4    NY  10001     2019881222   \n",
            "\n",
            "                                     Job Description              DOBRunDate  \n",
            "0  GENERAL MECHANICAL & PLUMBING MODIFICATIONS AS...  04/26/2013 12:00:00 AM  \n",
            "1  BUILDERS PAVEMENT PLAN 143 LF.                ...  04/26/2013 12:00:00 AM  \n",
            "2  GENERAL CONSTRUCTION TO INCLUDE NEW PARTITIONS...  04/26/2013 12:00:00 AM  \n",
            "3  STRUCTURAL CHANGES ON THE 5TH FLOOR (MOONDOG E...  04/26/2013 12:00:00 AM  \n",
            "4  FILING HEREWITH FACADE REPAIR PLANS. WORK SCOP...  04/26/2013 12:00:00 AM  \n",
            "\n",
            "[5 rows x 82 columns]\n",
            "           Job #  Doc #        Borough       House #  \\\n",
            "12841  520143988      1  STATEN ISLAND  8              \n",
            "12842  121613833      1      MANHATTAN  724            \n",
            "12843  121681260      1      MANHATTAN  350            \n",
            "12844  320771704      1       BROOKLYN  499            \n",
            "12845  520143951      1  STATEN ISLAND  1755           \n",
            "\n",
            "                            Street Name  Block  Lot    Bin # Job Type  \\\n",
            "12841  NOEL STREET                        5382   20  5069722       A2   \n",
            "12842  10 AVENUE                          1059    4  1082503       A2   \n",
            "12843  MANHATTAN AVE.                     1848   31  1055849       A2   \n",
            "12844  UNION STREET                        431   43  3007185       A2   \n",
            "12845  RICHMOND ROAD                       887   28  5022931       A2   \n",
            "\n",
            "      Job Status  ...               Owner's Last Name  \\\n",
            "12841          D  ...  MALITO                           \n",
            "12842          D  ...  CROMAN                           \n",
            "12843          A  ...  ARYEH                            \n",
            "12844          D  ...  WIGGINS                          \n",
            "12845          D  ...  CAMBRIA                          \n",
            "\n",
            "                  Owner's Business Name Owner's House Number  \\\n",
            "12841  GENO MALITO                              8              \n",
            "12842  722-724 10TH AVENUE HOLDING LLC          632            \n",
            "12843  DG UWS LLC                               619            \n",
            "12844  N/A                                      77             \n",
            "12845  RONALD CAMBRIA                           1755           \n",
            "\n",
            "               Owner'sHouse Street Name            City  State    Zip  \\\n",
            "12841  NOEL STREET                       STATEN ISLAND      NY  10312   \n",
            "12842  BROADWAY                          NEW YORK           NY  10012   \n",
            "12843  WEST 54TH STREET                  NEW YORK           NY  10019   \n",
            "12844  PROSPECT PLACE                    BROOKLYN           NY  11217   \n",
            "12845  RICHMOND ROAD                     STATEN ISLAND      NY  10304   \n",
            "\n",
            "      Owner'sPhone #                                    Job Description  \\\n",
            "12841     9174685659  HORIZONTAL ENLARGEMENT OF ATTACHED ONE CAR GAR...   \n",
            "12842     2122289300  RENOVATION OF EXISTING APARTMENT #3B ON THIRD ...   \n",
            "12843     2127652555  REPLACE BURNER IN EXSTG BOILER WITH NEW GAS BU...   \n",
            "12844     9178487799  INSTALL NEW SPRINKLER SYSTEM THROUGHOUT THE BU...   \n",
            "12845     7184482740  INTERIOR PARTITIONS AND MINOR PLUMBING WORK TO...   \n",
            "\n",
            "                   DOBRunDate  \n",
            "12841  06/13/2013 12:00:00 AM  \n",
            "12842  06/13/2013 12:00:00 AM  \n",
            "12843  06/13/2013 12:00:00 AM  \n",
            "12844  06/13/2013 12:00:00 AM  \n",
            "12845  06/13/2013 12:00:00 AM  \n",
            "\n",
            "[5 rows x 82 columns]\n",
            "(12846, 82)\n",
            "Index(['Job #', 'Doc #', 'Borough', 'House #', 'Street Name', 'Block', 'Lot',\n",
            "       'Bin #', 'Job Type', 'Job Status', 'Job Status Descrp',\n",
            "       'Latest Action Date', 'Building Type', 'Community - Board', 'Cluster',\n",
            "       'Landmarked', 'Adult Estab', 'Loft Board', 'City Owned', 'Little e',\n",
            "       'PC Filed', 'eFiling Filed', 'Plumbing', 'Mechanical', 'Boiler',\n",
            "       'Fuel Burning', 'Fuel Storage', 'Standpipe', 'Sprinkler', 'Fire Alarm',\n",
            "       'Equipment', 'Fire Suppression', 'Curb Cut', 'Other',\n",
            "       'Other Description', 'Applicant's First Name', 'Applicant's Last Name',\n",
            "       'Applicant Professional Title', 'Applicant License #',\n",
            "       'Professional Cert', 'Pre- Filing Date', 'Paid', 'Fully Paid',\n",
            "       'Assigned', 'Approved', 'Fully Permitted', 'Initial Cost',\n",
            "       'Total Est. Fee', 'Fee Status', 'Existing Zoning Sqft',\n",
            "       'Proposed Zoning Sqft', 'Horizontal Enlrgmt', 'Vertical Enlrgmt',\n",
            "       'Enlargement SQ Footage', 'Street Frontage', 'ExistingNo. of Stories',\n",
            "       'Proposed No. of Stories', 'Existing Height', 'Proposed Height',\n",
            "       'Existing Dwelling Units', 'Proposed Dwelling Units',\n",
            "       'Existing Occupancy', 'Proposed Occupancy', 'Site Fill', 'Zoning Dist1',\n",
            "       'Zoning Dist2', 'Zoning Dist3', 'Special District 1',\n",
            "       'Special District 2', 'Owner Type', 'Non-Profit', 'Owner's First Name',\n",
            "       'Owner's Last Name', 'Owner's Business Name', 'Owner's House Number',\n",
            "       'Owner'sHouse Street Name', 'City ', 'State', 'Zip', 'Owner'sPhone #',\n",
            "       'Job Description', 'DOBRunDate'],\n",
            "      dtype='object')\n",
            "       Job #  Doc #        Borough Initial Cost Total Est. Fee  \\\n",
            "0  121577873      2      MANHATTAN    $75000.00        $986.00   \n",
            "1  520129502      1  STATEN ISLAND        $0.00       $1144.00   \n",
            "2  121601560      1      MANHATTAN    $30000.00        $522.50   \n",
            "3  121601203      1      MANHATTAN     $1500.00        $225.00   \n",
            "4  121601338      1      MANHATTAN    $19500.00        $389.50   \n",
            "\n",
            "   Existing Zoning Sqft  Proposed Zoning Sqft  Enlargement SQ Footage  \\\n",
            "0                     0                     0                       0   \n",
            "1                     0                     0                       0   \n",
            "2                     0                     0                       0   \n",
            "3                     0                     0                       0   \n",
            "4                     0                     0                       0   \n",
            "\n",
            "   Street Frontage  ExistingNo. of Stories  Proposed No. of Stories  \\\n",
            "0                0                       0                        0   \n",
            "1              143                       0                        0   \n",
            "2                0                       5                        5   \n",
            "3                0                      12                       12   \n",
            "4                0                       6                        6   \n",
            "\n",
            "   Existing Height  Proposed Height  \n",
            "0                0                0  \n",
            "1                0                0  \n",
            "2               54               54  \n",
            "3              120              120  \n",
            "4               64               64  \n",
            "           Job #  Doc #        Borough Initial Cost Total Est. Fee  \\\n",
            "12841  520143988      1  STATEN ISLAND    $30700.00        $448.62   \n",
            "12842  121613833      1      MANHATTAN    $62000.00        $852.10   \n",
            "12843  121681260      1      MANHATTAN   $166000.00       $1923.30   \n",
            "12844  320771704      1       BROOKLYN    $65000.00        $883.00   \n",
            "12845  520143951      1  STATEN ISLAND     $9500.00        $316.50   \n",
            "\n",
            "       Existing Zoning Sqft  Proposed Zoning Sqft  Enlargement SQ Footage  \\\n",
            "12841                  1490                  1782                     206   \n",
            "12842                     0                     0                       0   \n",
            "12843                     0                     0                       0   \n",
            "12844                     0                     0                       0   \n",
            "12845                     0                     0                       0   \n",
            "\n",
            "       Street Frontage  ExistingNo. of Stories  Proposed No. of Stories  \\\n",
            "12841                0                       1                        1   \n",
            "12842                0                       5                        5   \n",
            "12843                0                       6                        6   \n",
            "12844                0                       1                        1   \n",
            "12845                0                       1                        1   \n",
            "\n",
            "       Existing Height  Proposed Height  \n",
            "12841               10               10  \n",
            "12842               55               55  \n",
            "12843               64               64  \n",
            "12844               18               18  \n",
            "12845               18               18  \n"
          ],
          "name": "stdout"
        },
        {
          "output_type": "stream",
          "text": [
            "C:\\Users\\P2190101\\AppData\\Local\\Continuum\\anaconda3\\lib\\site-packages\\IPython\\core\\interactiveshell.py:3063: DtypeWarning: Columns (16) have mixed types.Specify dtype option on import or set low_memory=False.\n",
            "  interactivity=interactivity, compiler=compiler, result=result)\n"
          ],
          "name": "stderr"
        }
      ]
    },
    {
      "cell_type": "markdown",
      "metadata": {
        "id": "RGPhTCdg6VQP"
      },
      "source": [
        "# Further diagnosis\n",
        "In the previous exercise, you identified some potentially unclean or missing data. Now, you'll continue to diagnose your data with the very useful .info() method. \n",
        "The .info() method provides important information about a DataFrame, such as the number of rows, number of columns, number of non-missing values in each column, and the data type stored in each column. This is the kind of information that will allow you to confirm whether the 'Initial Cost' and 'Total Est. Fee' columns are numeric or strings. From the results, you'll also be able to see whether or not all columns have complete data in them. \n",
        "The full DataFrame df and the subset DataFrame df_subset have been pre-loaded. Your task is to use the .info() method on these and analyze the results.\n",
        "\n",
        "**Instructions**\n",
        "100 XP\n",
        "Print the info of df.\n",
        "Print the info of the subset dataframe, df_subset"
      ]
    },
    {
      "cell_type": "code",
      "metadata": {
        "id": "rLThwhPU6VQP",
        "outputId": "12906b07-5c27-499b-d70b-4e215788f51f"
      },
      "source": [
        "# Print the info of df\n",
        "print(df.info())\n",
        "\n",
        "# Print the info of df_subset\n",
        "print(df_subset.info())"
      ],
      "execution_count": null,
      "outputs": [
        {
          "output_type": "stream",
          "text": [
            "<class 'pandas.core.frame.DataFrame'>\n",
            "RangeIndex: 12846 entries, 0 to 12845\n",
            "Data columns (total 82 columns):\n",
            " #   Column                        Non-Null Count  Dtype  \n",
            "---  ------                        --------------  -----  \n",
            " 0   Job #                         12846 non-null  int64  \n",
            " 1   Doc #                         12846 non-null  int64  \n",
            " 2   Borough                       12846 non-null  object \n",
            " 3   House #                       12846 non-null  object \n",
            " 4   Street Name                   12846 non-null  object \n",
            " 5   Block                         12846 non-null  int64  \n",
            " 6   Lot                           12846 non-null  int64  \n",
            " 7   Bin #                         12846 non-null  int64  \n",
            " 8   Job Type                      12846 non-null  object \n",
            " 9   Job Status                    12846 non-null  object \n",
            " 10  Job Status Descrp             12846 non-null  object \n",
            " 11  Latest Action Date            12846 non-null  object \n",
            " 12  Building Type                 12846 non-null  object \n",
            " 13  Community - Board             12846 non-null  object \n",
            " 14  Cluster                       0 non-null      float64\n",
            " 15  Landmarked                    2067 non-null   object \n",
            " 16  Adult Estab                   1 non-null      object \n",
            " 17  Loft Board                    65 non-null     object \n",
            " 18  City Owned                    1419 non-null   object \n",
            " 19  Little e                      365 non-null    object \n",
            " 20  PC Filed                      0 non-null      float64\n",
            " 21  eFiling Filed                 12846 non-null  object \n",
            " 22  Plumbing                      12846 non-null  object \n",
            " 23  Mechanical                    12846 non-null  object \n",
            " 24  Boiler                        12846 non-null  object \n",
            " 25  Fuel Burning                  12846 non-null  object \n",
            " 26  Fuel Storage                  12846 non-null  object \n",
            " 27  Standpipe                     12846 non-null  object \n",
            " 28  Sprinkler                     12846 non-null  object \n",
            " 29  Fire Alarm                    12846 non-null  object \n",
            " 30  Equipment                     12846 non-null  object \n",
            " 31  Fire Suppression              12846 non-null  object \n",
            " 32  Curb Cut                      12846 non-null  object \n",
            " 33  Other                         12846 non-null  object \n",
            " 34  Other Description             12846 non-null  object \n",
            " 35  Applicant's First Name        12846 non-null  object \n",
            " 36  Applicant's Last Name         12846 non-null  object \n",
            " 37  Applicant Professional Title  12846 non-null  object \n",
            " 38  Applicant License #           12846 non-null  object \n",
            " 39  Professional Cert             6908 non-null   object \n",
            " 40  Pre- Filing Date              12846 non-null  object \n",
            " 41  Paid                          11961 non-null  object \n",
            " 42  Fully Paid                    11963 non-null  object \n",
            " 43  Assigned                      3817 non-null   object \n",
            " 44  Approved                      4062 non-null   object \n",
            " 45  Fully Permitted               1495 non-null   object \n",
            " 46  Initial Cost                  12846 non-null  object \n",
            " 47  Total Est. Fee                12846 non-null  object \n",
            " 48  Fee Status                    12846 non-null  object \n",
            " 49  Existing Zoning Sqft          12846 non-null  int64  \n",
            " 50  Proposed Zoning Sqft          12846 non-null  int64  \n",
            " 51  Horizontal Enlrgmt            231 non-null    object \n",
            " 52  Vertical Enlrgmt              142 non-null    object \n",
            " 53  Enlargement SQ Footage        12846 non-null  int64  \n",
            " 54  Street Frontage               12846 non-null  int64  \n",
            " 55  ExistingNo. of Stories        12846 non-null  int64  \n",
            " 56  Proposed No. of Stories       12846 non-null  int64  \n",
            " 57  Existing Height               12846 non-null  int64  \n",
            " 58  Proposed Height               12846 non-null  int64  \n",
            " 59  Existing Dwelling Units       12846 non-null  object \n",
            " 60  Proposed Dwelling Units       12846 non-null  object \n",
            " 61  Existing Occupancy            12846 non-null  object \n",
            " 62  Proposed Occupancy            12846 non-null  object \n",
            " 63  Site Fill                     8641 non-null   object \n",
            " 64  Zoning Dist1                  11263 non-null  object \n",
            " 65  Zoning Dist2                  1652 non-null   object \n",
            " 66  Zoning Dist3                  88 non-null     object \n",
            " 67  Special District 1            3062 non-null   object \n",
            " 68  Special District 2            848 non-null    object \n",
            " 69  Owner Type                    0 non-null      float64\n",
            " 70  Non-Profit                    971 non-null    object \n",
            " 71  Owner's First Name            12846 non-null  object \n",
            " 72  Owner's Last Name             12846 non-null  object \n",
            " 73  Owner's Business Name         12846 non-null  object \n",
            " 74  Owner's House Number          12846 non-null  object \n",
            " 75  Owner'sHouse Street Name      12846 non-null  object \n",
            " 76  City                          12846 non-null  object \n",
            " 77  State                         12846 non-null  object \n",
            " 78  Zip                           12846 non-null  int64  \n",
            " 79  Owner'sPhone #                12846 non-null  int64  \n",
            " 80  Job Description               12699 non-null  object \n",
            " 81  DOBRunDate                    12846 non-null  object \n",
            "dtypes: float64(3), int64(15), object(64)\n",
            "memory usage: 8.0+ MB\n",
            "None\n",
            "<class 'pandas.core.frame.DataFrame'>\n",
            "RangeIndex: 12846 entries, 0 to 12845\n",
            "Data columns (total 13 columns):\n",
            " #   Column                   Non-Null Count  Dtype \n",
            "---  ------                   --------------  ----- \n",
            " 0   Job #                    12846 non-null  int64 \n",
            " 1   Doc #                    12846 non-null  int64 \n",
            " 2   Borough                  12846 non-null  object\n",
            " 3   Initial Cost             12846 non-null  object\n",
            " 4   Total Est. Fee           12846 non-null  object\n",
            " 5   Existing Zoning Sqft     12846 non-null  int64 \n",
            " 6   Proposed Zoning Sqft     12846 non-null  int64 \n",
            " 7   Enlargement SQ Footage   12846 non-null  int64 \n",
            " 8   Street Frontage          12846 non-null  int64 \n",
            " 9   ExistingNo. of Stories   12846 non-null  int64 \n",
            " 10  Proposed No. of Stories  12846 non-null  int64 \n",
            " 11  Existing Height          12846 non-null  int64 \n",
            " 12  Proposed Height          12846 non-null  int64 \n",
            "dtypes: int64(10), object(3)\n",
            "memory usage: 1.3+ MB\n",
            "None\n"
          ],
          "name": "stdout"
        }
      ]
    },
    {
      "cell_type": "markdown",
      "metadata": {
        "id": "0fEfwuUW6VQQ"
      },
      "source": [
        "Excellent! Notice that the columns 'Initial Cost' and 'Total Est. Fee' are of type object. The currency sign in the beginning of each value in these columns needs to be removed, and the columns need to be converted to numeric. In the full DataFrame, note that there are a lot of missing values. You saw in the previous exercise that there are also a lot of 0 values. Given the amount of data that is missing in the full dataset, it's highly likely that these 0 values represent missing data."
      ]
    },
    {
      "cell_type": "code",
      "metadata": {
        "id": "kK4ynSyY6VQQ",
        "outputId": "2644d370-b2b5-4497-960f-ee0f68abab72"
      },
      "source": [
        "df_subset.columns"
      ],
      "execution_count": null,
      "outputs": [
        {
          "output_type": "execute_result",
          "data": {
            "text/plain": [
              "Index(['Job #', 'Doc #', 'Borough', 'Initial Cost', 'Total Est. Fee',\n",
              "       'Existing Zoning Sqft', 'Proposed Zoning Sqft',\n",
              "       'Enlargement SQ Footage', 'Street Frontage', 'ExistingNo. of Stories',\n",
              "       'Proposed No. of Stories', 'Existing Height', 'Proposed Height'],\n",
              "      dtype='object')"
            ]
          },
          "metadata": {
            "tags": []
          },
          "execution_count": 5
        }
      ]
    },
    {
      "cell_type": "markdown",
      "metadata": {
        "id": "VlDP73jC6VQQ"
      },
      "source": [
        "# Calculating summary statistics\n",
        "You'll now use the .describe() method to calculate summary statistics of your data.\n",
        "In this exercise, an adapted DataFrame has been prepared for you to inspect, with fewer columns to increase readability in the IPython Shell.\n",
        "This adapted DataFrame has been pre-loaded as df. Your job is to use the .describe() method on it in the IPython Shell and select the statement below that is False."
      ]
    },
    {
      "cell_type": "code",
      "metadata": {
        "id": "XpJtxsnf6VQR",
        "outputId": "4df16b51-8a78-43f6-fa30-b3709acc6a15"
      },
      "source": [
        "In [1]: df.describe()\n",
        "Out[1]: \n",
        "       Street Frontage  Existing Height  Proposed Height\n",
        "count     12846.000000     12846.000000     12846.000000\n",
        "mean          3.069360        94.022809        94.917562\n",
        "std          37.246034       146.917360       146.580666\n",
        "min           0.000000         0.000000         0.000000\n",
        "25%           0.000000        20.000000        21.000000\n",
        "50%           0.000000        45.000000        45.000000\n",
        "75%           0.000000       105.000000       107.000000\n",
        "max        3160.000000      4200.000000      4200.000000\n"
      ],
      "execution_count": null,
      "outputs": [
        {
          "output_type": "error",
          "ename": "SyntaxError",
          "evalue": "invalid syntax (<ipython-input-6-73ddc227a4e4>, line 2)",
          "traceback": [
            "\u001b[1;36m  File \u001b[1;32m\"<ipython-input-6-73ddc227a4e4>\"\u001b[1;36m, line \u001b[1;32m2\u001b[0m\n\u001b[1;33m    Out[1]:\u001b[0m\n\u001b[1;37m            ^\u001b[0m\n\u001b[1;31mSyntaxError\u001b[0m\u001b[1;31m:\u001b[0m invalid syntax\n"
          ]
        }
      ]
    },
    {
      "cell_type": "code",
      "metadata": {
        "id": "5g3ICkBU6VQR"
      },
      "source": [
        "The standard deviation of 'Street Frontage' is 11.874080"
      ],
      "execution_count": null,
      "outputs": []
    },
    {
      "cell_type": "markdown",
      "metadata": {
        "id": "80cT8psu6VQS"
      },
      "source": [
        "# Frequency counts for categorical data\n",
        "As you've seen, .describe() can only be used on numeric columns. So how can you diagnose data issues when you have categorical data? One way is by using the .value_counts() method, which returns the frequency counts for each unique value in a column!\n",
        "This method also has an optional parameter called dropna which is True by default. What this means is if you have missing data in a column, it will not give a frequency count of them. You want to set the dropna column to False so if there are missing values in a column, it will give you the frequency counts.\n",
        "In this exercise, you're going to look at the 'Borough', 'State', and 'Site Fill' columns to make sure all the values in there are valid. When looking at the output, do a sanity check: Are all values in the 'State' column from NY, for example? Since the dataset consists of applications filed in NY, you would expect this to be the case.\n",
        "\n",
        "**Instructions**\n",
        "\n",
        "Print the value counts for:\n",
        "The 'Borough' column.\n",
        "The 'State' column.\n",
        "The 'Site Fill' column."
      ]
    },
    {
      "cell_type": "code",
      "metadata": {
        "id": "Ic4gAh-d6VQS",
        "outputId": "372dea4d-e03e-4132-eb73-f216e1f2bb30"
      },
      "source": [
        "# Print the value counts for 'Borough'\n",
        "\n",
        "print(df['Borough'].value_counts(dropna=False))\n",
        "\n",
        "# Print the value_counts for 'State'\n",
        "print(df['State'].value_counts(dropna=False))\n",
        "\n",
        "# Print the value counts for 'Site Fill'\n",
        "print(df['Site Fill'].value_counts(dropna=False))"
      ],
      "execution_count": null,
      "outputs": [
        {
          "output_type": "stream",
          "text": [
            "MANHATTAN        6310\n",
            "BROOKLYN         2866\n",
            "QUEENS           2121\n",
            "BRONX             974\n",
            "STATEN ISLAND     575\n",
            "Name: Borough, dtype: int64\n",
            "NY    12391\n",
            "NJ      241\n",
            "PA       38\n",
            "CA       20\n",
            "OH       19\n",
            "IL       17\n",
            "FL       17\n",
            "CT       16\n",
            "TX       13\n",
            "TN       10\n",
            "MD        7\n",
            "DC        7\n",
            "GA        6\n",
            "KS        6\n",
            "MA        6\n",
            "VA        5\n",
            "CO        4\n",
            "MN        3\n",
            "AZ        3\n",
            "WI        3\n",
            "SC        3\n",
            "NC        2\n",
            "UT        2\n",
            "RI        2\n",
            "MI        1\n",
            "VT        1\n",
            "NM        1\n",
            "WA        1\n",
            "IN        1\n",
            "Name: State, dtype: int64\n",
            "NOT APPLICABLE                              7806\n",
            "NaN                                         4205\n",
            "ON-SITE                                      519\n",
            "OFF-SITE                                     186\n",
            "USE UNDER 300 CU.YD                          130\n",
            "Name: Site Fill, dtype: int64\n"
          ],
          "name": "stdout"
        }
      ]
    },
    {
      "cell_type": "markdown",
      "metadata": {
        "id": "4qSDo-zn6VQT"
      },
      "source": [
        "Fantastic work! Notice how not all values in the 'State' column are NY. This is an interesting find, as this data is supposed to consist of applications filed in NYC. Curiously, all the 'Borough' values are correct. A good start as to why this may be the case would be to find and look at the codebook for this dataset. Also, for the 'Site Fill' column, you may or may not need to recode the NOT APPLICABLE values to NaN in your final analysis."
      ]
    },
    {
      "cell_type": "markdown",
      "metadata": {
        "id": "ipgMZXp36VQT"
      },
      "source": [
        "# Visualizing single variables with histograms\n",
        "Up until now, you've been looking at descriptive statistics of your data. One of the best ways to confirm what the numbers are telling you is to plot and visualize the data.\n",
        "You'll start by visualizing single variables using a histogram for numeric values. The column you will work on in this exercise is 'Existing Zoning Sqft'.\n",
        "The .plot() method allows you to create a plot of each column of a DataFrame. The kind parameter allows you to specify the type of plot to use - kind='hist', for example, plots a histogram.\n",
        "In the IPython Shell, begin by computing summary statistics for the 'Existing Zoning Sqft' column using the .describe() method. You'll notice that there are extremely large differences between the min and max values, and the plot will need to be adjusted accordingly. In such cases, it's good to look at the plot on a log scale. The keyword arguments logx=True or logy=True can be passed in to .plot() depending on which axis you want to rescale.\n",
        "Finally, note that Python will render a plot such that the axis will hold all the information. That is, if you end up with large amounts of whitespace in your plot, it indicates counts or values too small to render.\n",
        "\n",
        "**Instructions**\n",
        "\n",
        "Import matplotlib.pyplot as plt.\n",
        "Create a histogram of the 'Existing Zoning Sqft' column. Rotate the axis labels by 70 degrees and use a log scale for both axes.\n",
        "Display the histogram using plt.show()"
      ]
    },
    {
      "cell_type": "code",
      "metadata": {
        "id": "8anJXgzT6VQU",
        "outputId": "c55828b3-882e-4ce8-b414-e879fc79619e"
      },
      "source": [
        "# Import matplotlib.pyplot\n",
        "import matplotlib.pyplot as plt\n",
        "\n",
        "# Describe the column\n",
        "print(df['Existing Zoning Sqft'].describe())\n",
        "\n",
        "# Plot the histogram\n",
        "df['Existing Zoning Sqft'].plot(kind='hist', rot=70, logx=True, logy=True)\n",
        "\n",
        "# Display the histogram\n",
        "plt.show()\n"
      ],
      "execution_count": null,
      "outputs": [
        {
          "output_type": "stream",
          "text": [
            "count    1.284600e+04\n",
            "mean     1.439973e+03\n",
            "std      3.860757e+04\n",
            "min      0.000000e+00\n",
            "25%      0.000000e+00\n",
            "50%      0.000000e+00\n",
            "75%      0.000000e+00\n",
            "max      2.873107e+06\n",
            "Name: Existing Zoning Sqft, dtype: float64\n"
          ],
          "name": "stdout"
        },
        {
          "output_type": "display_data",
          "data": {
            "image/png": "[encoded data removed]",
            "text/plain": [
              "<Figure size 432x288 with 1 Axes>"
            ]
          },
          "metadata": {
            "tags": [],
            "needs_background": "light"
          }
        }
      ]
    },
    {
      "cell_type": "markdown",
      "metadata": {
        "id": "rzFME4Kw6VQV"
      },
      "source": [
        "Excellent work! While visualizing your data is a great way to understand it, keep in mind that no one technique is better than another. As you saw here, you still needed to look at the summary statistics to help understand your data better. You expected a large amount of counts on the left side of the plot because the 25th, 50th, and 75th percentiles have a value of 0. The plot shows us that there are barely any counts near the max value, signifying an outlier."
      ]
    },
    {
      "cell_type": "markdown",
      "metadata": {
        "id": "2DF09hQA6VQV"
      },
      "source": [
        "# Visualizing multiple variables with boxplots\n",
        "Histograms are great ways of visualizing single variables. To visualize multiple variables, boxplots are useful, especially when one of the variables is categorical. \n",
        "In this exercise, your job is to use a boxplot to compare the 'initial_cost' across the different values of the 'Borough' column. The pandas .boxplot() method is a quick way to do this, in which you have to specify the column and by parameters. Here, you want to visualize how 'initial_cost' varies by 'Borough'.\n",
        "pandas and matplotlib.pyplot have been imported for you as pd and plt, respectively, and the DataFrame has been pre-loaded as df.\n",
        "\n",
        "**Instructions**\n",
        "\n",
        "Using the .boxplot() method of df, create a boxplot of 'initial_cost' across the different values of 'Borough'.\n",
        "Display the plot."
      ]
    },
    {
      "cell_type": "code",
      "metadata": {
        "id": "4xLmX5Jl6VQW",
        "outputId": "0476e08c-7d97-4e38-cbad-f454e18d9077"
      },
      "source": [
        "# Import necessary modules\n",
        "import pandas as pd\n",
        "import matplotlib.pyplot as plt\n",
        "\n",
        "# Create the boxplot\n",
        "df.boxplot(column='initial_cost', by='Borough', rot=90)\n",
        "\n",
        "# Display the plot\n",
        "plt.show()\n"
      ],
      "execution_count": null,
      "outputs": [
        {
          "output_type": "error",
          "ename": "KeyError",
          "evalue": "'Column not found: initial_cost'",
          "traceback": [
            "\u001b[1;31m---------------------------------------------------------------------------\u001b[0m",
            "\u001b[1;31mKeyError\u001b[0m                                  Traceback (most recent call last)",
            "\u001b[1;32m<ipython-input-9-69f3d0418c73>\u001b[0m in \u001b[0;36m<module>\u001b[1;34m\u001b[0m\n\u001b[0;32m      4\u001b[0m \u001b[1;33m\u001b[0m\u001b[0m\n\u001b[0;32m      5\u001b[0m \u001b[1;31m# Create the boxplot\u001b[0m\u001b[1;33m\u001b[0m\u001b[1;33m\u001b[0m\u001b[1;33m\u001b[0m\u001b[0m\n\u001b[1;32m----> 6\u001b[1;33m \u001b[0mdf\u001b[0m\u001b[1;33m.\u001b[0m\u001b[0mboxplot\u001b[0m\u001b[1;33m(\u001b[0m\u001b[0mcolumn\u001b[0m\u001b[1;33m=\u001b[0m\u001b[1;34m'initial_cost'\u001b[0m\u001b[1;33m,\u001b[0m \u001b[0mby\u001b[0m\u001b[1;33m=\u001b[0m\u001b[1;34m'Borough'\u001b[0m\u001b[1;33m,\u001b[0m \u001b[0mrot\u001b[0m\u001b[1;33m=\u001b[0m\u001b[1;36m90\u001b[0m\u001b[1;33m)\u001b[0m\u001b[1;33m\u001b[0m\u001b[1;33m\u001b[0m\u001b[0m\n\u001b[0m\u001b[0;32m      7\u001b[0m \u001b[1;33m\u001b[0m\u001b[0m\n\u001b[0;32m      8\u001b[0m \u001b[1;31m# Display the plot\u001b[0m\u001b[1;33m\u001b[0m\u001b[1;33m\u001b[0m\u001b[1;33m\u001b[0m\u001b[0m\n",
            "\u001b[1;32m~\\AppData\\Local\\Continuum\\anaconda3\\lib\\site-packages\\pandas\\plotting\\_core.py\u001b[0m in \u001b[0;36mboxplot_frame\u001b[1;34m(self, column, by, ax, fontsize, rot, grid, figsize, layout, return_type, backend, **kwargs)\u001b[0m\n\u001b[0;32m    445\u001b[0m         \u001b[0mlayout\u001b[0m\u001b[1;33m=\u001b[0m\u001b[0mlayout\u001b[0m\u001b[1;33m,\u001b[0m\u001b[1;33m\u001b[0m\u001b[1;33m\u001b[0m\u001b[0m\n\u001b[0;32m    446\u001b[0m         \u001b[0mreturn_type\u001b[0m\u001b[1;33m=\u001b[0m\u001b[0mreturn_type\u001b[0m\u001b[1;33m,\u001b[0m\u001b[1;33m\u001b[0m\u001b[1;33m\u001b[0m\u001b[0m\n\u001b[1;32m--> 447\u001b[1;33m         \u001b[1;33m**\u001b[0m\u001b[0mkwargs\u001b[0m\u001b[1;33m,\u001b[0m\u001b[1;33m\u001b[0m\u001b[1;33m\u001b[0m\u001b[0m\n\u001b[0m\u001b[0;32m    448\u001b[0m     )\n\u001b[0;32m    449\u001b[0m \u001b[1;33m\u001b[0m\u001b[0m\n",
            "\u001b[1;32m~\\AppData\\Local\\Continuum\\anaconda3\\lib\\site-packages\\pandas\\plotting\\_matplotlib\\boxplot.py\u001b[0m in \u001b[0;36mboxplot_frame\u001b[1;34m(self, column, by, ax, fontsize, rot, grid, figsize, layout, return_type, **kwds)\u001b[0m\n\u001b[0;32m    373\u001b[0m         \u001b[0mlayout\u001b[0m\u001b[1;33m=\u001b[0m\u001b[0mlayout\u001b[0m\u001b[1;33m,\u001b[0m\u001b[1;33m\u001b[0m\u001b[1;33m\u001b[0m\u001b[0m\n\u001b[0;32m    374\u001b[0m         \u001b[0mreturn_type\u001b[0m\u001b[1;33m=\u001b[0m\u001b[0mreturn_type\u001b[0m\u001b[1;33m,\u001b[0m\u001b[1;33m\u001b[0m\u001b[1;33m\u001b[0m\u001b[0m\n\u001b[1;32m--> 375\u001b[1;33m         \u001b[1;33m**\u001b[0m\u001b[0mkwds\u001b[0m\u001b[1;33m,\u001b[0m\u001b[1;33m\u001b[0m\u001b[1;33m\u001b[0m\u001b[0m\n\u001b[0m\u001b[0;32m    376\u001b[0m     )\n\u001b[0;32m    377\u001b[0m     \u001b[0mplt\u001b[0m\u001b[1;33m.\u001b[0m\u001b[0mdraw_if_interactive\u001b[0m\u001b[1;33m(\u001b[0m\u001b[1;33m)\u001b[0m\u001b[1;33m\u001b[0m\u001b[1;33m\u001b[0m\u001b[0m\n",
            "\u001b[1;32m~\\AppData\\Local\\Continuum\\anaconda3\\lib\\site-packages\\pandas\\plotting\\_matplotlib\\boxplot.py\u001b[0m in \u001b[0;36mboxplot\u001b[1;34m(data, column, by, ax, fontsize, rot, grid, figsize, layout, return_type, **kwds)\u001b[0m\n\u001b[0;32m    323\u001b[0m             \u001b[0max\u001b[0m\u001b[1;33m=\u001b[0m\u001b[0max\u001b[0m\u001b[1;33m,\u001b[0m\u001b[1;33m\u001b[0m\u001b[1;33m\u001b[0m\u001b[0m\n\u001b[0;32m    324\u001b[0m             \u001b[0mlayout\u001b[0m\u001b[1;33m=\u001b[0m\u001b[0mlayout\u001b[0m\u001b[1;33m,\u001b[0m\u001b[1;33m\u001b[0m\u001b[1;33m\u001b[0m\u001b[0m\n\u001b[1;32m--> 325\u001b[1;33m             \u001b[0mreturn_type\u001b[0m\u001b[1;33m=\u001b[0m\u001b[0mreturn_type\u001b[0m\u001b[1;33m,\u001b[0m\u001b[1;33m\u001b[0m\u001b[1;33m\u001b[0m\u001b[0m\n\u001b[0m\u001b[0;32m    326\u001b[0m         )\n\u001b[0;32m    327\u001b[0m     \u001b[1;32melse\u001b[0m\u001b[1;33m:\u001b[0m\u001b[1;33m\u001b[0m\u001b[1;33m\u001b[0m\u001b[0m\n",
            "\u001b[1;32m~\\AppData\\Local\\Continuum\\anaconda3\\lib\\site-packages\\pandas\\plotting\\_matplotlib\\boxplot.py\u001b[0m in \u001b[0;36m_grouped_plot_by_column\u001b[1;34m(plotf, data, columns, by, numeric_only, grid, figsize, ax, layout, return_type, **kwargs)\u001b[0m\n\u001b[0;32m    202\u001b[0m     \u001b[1;32mfor\u001b[0m \u001b[0mi\u001b[0m\u001b[1;33m,\u001b[0m \u001b[0mcol\u001b[0m \u001b[1;32min\u001b[0m \u001b[0menumerate\u001b[0m\u001b[1;33m(\u001b[0m\u001b[0mcolumns\u001b[0m\u001b[1;33m)\u001b[0m\u001b[1;33m:\u001b[0m\u001b[1;33m\u001b[0m\u001b[1;33m\u001b[0m\u001b[0m\n\u001b[0;32m    203\u001b[0m         \u001b[0max\u001b[0m \u001b[1;33m=\u001b[0m \u001b[0m_axes\u001b[0m\u001b[1;33m[\u001b[0m\u001b[0mi\u001b[0m\u001b[1;33m]\u001b[0m\u001b[1;33m\u001b[0m\u001b[1;33m\u001b[0m\u001b[0m\n\u001b[1;32m--> 204\u001b[1;33m         \u001b[0mgp_col\u001b[0m \u001b[1;33m=\u001b[0m \u001b[0mgrouped\u001b[0m\u001b[1;33m[\u001b[0m\u001b[0mcol\u001b[0m\u001b[1;33m]\u001b[0m\u001b[1;33m\u001b[0m\u001b[1;33m\u001b[0m\u001b[0m\n\u001b[0m\u001b[0;32m    205\u001b[0m         \u001b[0mkeys\u001b[0m\u001b[1;33m,\u001b[0m \u001b[0mvalues\u001b[0m \u001b[1;33m=\u001b[0m \u001b[0mzip\u001b[0m\u001b[1;33m(\u001b[0m\u001b[1;33m*\u001b[0m\u001b[0mgp_col\u001b[0m\u001b[1;33m)\u001b[0m\u001b[1;33m\u001b[0m\u001b[1;33m\u001b[0m\u001b[0m\n\u001b[0;32m    206\u001b[0m         \u001b[0mre_plotf\u001b[0m \u001b[1;33m=\u001b[0m \u001b[0mplotf\u001b[0m\u001b[1;33m(\u001b[0m\u001b[0mkeys\u001b[0m\u001b[1;33m,\u001b[0m \u001b[0mvalues\u001b[0m\u001b[1;33m,\u001b[0m \u001b[0max\u001b[0m\u001b[1;33m,\u001b[0m \u001b[1;33m**\u001b[0m\u001b[0mkwargs\u001b[0m\u001b[1;33m)\u001b[0m\u001b[1;33m\u001b[0m\u001b[1;33m\u001b[0m\u001b[0m\n",
            "\u001b[1;32m~\\AppData\\Local\\Continuum\\anaconda3\\lib\\site-packages\\pandas\\core\\groupby\\generic.py\u001b[0m in \u001b[0;36m__getitem__\u001b[1;34m(self, key)\u001b[0m\n\u001b[0;32m   1591\u001b[0m                 \u001b[0mstacklevel\u001b[0m\u001b[1;33m=\u001b[0m\u001b[1;36m2\u001b[0m\u001b[1;33m,\u001b[0m\u001b[1;33m\u001b[0m\u001b[1;33m\u001b[0m\u001b[0m\n\u001b[0;32m   1592\u001b[0m             )\n\u001b[1;32m-> 1593\u001b[1;33m         \u001b[1;32mreturn\u001b[0m \u001b[0msuper\u001b[0m\u001b[1;33m(\u001b[0m\u001b[1;33m)\u001b[0m\u001b[1;33m.\u001b[0m\u001b[0m__getitem__\u001b[0m\u001b[1;33m(\u001b[0m\u001b[0mkey\u001b[0m\u001b[1;33m)\u001b[0m\u001b[1;33m\u001b[0m\u001b[1;33m\u001b[0m\u001b[0m\n\u001b[0m\u001b[0;32m   1594\u001b[0m \u001b[1;33m\u001b[0m\u001b[0m\n\u001b[0;32m   1595\u001b[0m     \u001b[1;32mdef\u001b[0m \u001b[0m_gotitem\u001b[0m\u001b[1;33m(\u001b[0m\u001b[0mself\u001b[0m\u001b[1;33m,\u001b[0m \u001b[0mkey\u001b[0m\u001b[1;33m,\u001b[0m \u001b[0mndim\u001b[0m\u001b[1;33m:\u001b[0m \u001b[0mint\u001b[0m\u001b[1;33m,\u001b[0m \u001b[0msubset\u001b[0m\u001b[1;33m=\u001b[0m\u001b[1;32mNone\u001b[0m\u001b[1;33m)\u001b[0m\u001b[1;33m:\u001b[0m\u001b[1;33m\u001b[0m\u001b[1;33m\u001b[0m\u001b[0m\n",
            "\u001b[1;32m~\\AppData\\Local\\Continuum\\anaconda3\\lib\\site-packages\\pandas\\core\\base.py\u001b[0m in \u001b[0;36m__getitem__\u001b[1;34m(self, key)\u001b[0m\n\u001b[0;32m    237\u001b[0m         \u001b[1;32melse\u001b[0m\u001b[1;33m:\u001b[0m\u001b[1;33m\u001b[0m\u001b[1;33m\u001b[0m\u001b[0m\n\u001b[0;32m    238\u001b[0m             \u001b[1;32mif\u001b[0m \u001b[0mkey\u001b[0m \u001b[1;32mnot\u001b[0m \u001b[1;32min\u001b[0m \u001b[0mself\u001b[0m\u001b[1;33m.\u001b[0m\u001b[0mobj\u001b[0m\u001b[1;33m:\u001b[0m\u001b[1;33m\u001b[0m\u001b[1;33m\u001b[0m\u001b[0m\n\u001b[1;32m--> 239\u001b[1;33m                 \u001b[1;32mraise\u001b[0m \u001b[0mKeyError\u001b[0m\u001b[1;33m(\u001b[0m\u001b[1;34mf\"Column not found: {key}\"\u001b[0m\u001b[1;33m)\u001b[0m\u001b[1;33m\u001b[0m\u001b[1;33m\u001b[0m\u001b[0m\n\u001b[0m\u001b[0;32m    240\u001b[0m             \u001b[1;32mreturn\u001b[0m \u001b[0mself\u001b[0m\u001b[1;33m.\u001b[0m\u001b[0m_gotitem\u001b[0m\u001b[1;33m(\u001b[0m\u001b[0mkey\u001b[0m\u001b[1;33m,\u001b[0m \u001b[0mndim\u001b[0m\u001b[1;33m=\u001b[0m\u001b[1;36m1\u001b[0m\u001b[1;33m)\u001b[0m\u001b[1;33m\u001b[0m\u001b[1;33m\u001b[0m\u001b[0m\n\u001b[0;32m    241\u001b[0m \u001b[1;33m\u001b[0m\u001b[0m\n",
            "\u001b[1;31mKeyError\u001b[0m: 'Column not found: initial_cost'"
          ]
        },
        {
          "output_type": "display_data",
          "data": {
            "image/png": "[encoded data removed]",
            "text/plain": [
              "<Figure size 432x288 with 1 Axes>"
            ]
          },
          "metadata": {
            "tags": [],
            "needs_background": "light"
          }
        }
      ]
    },
    {
      "cell_type": "markdown",
      "metadata": {
        "id": "ZVfi_QOe6VQW"
      },
      "source": [
        "Great work! You can see the 2 extreme outliers are in the borough of Manhattan. An initial guess could be that since land in Manhattan is extremely expensive, these outliers may be valid data points. Again, further investigation is needed to determine whether or not you can drop or keep those points in your data."
      ]
    },
    {
      "cell_type": "markdown",
      "metadata": {
        "id": "jaz_zN5b6VQW"
      },
      "source": [
        "# Visualizing multiple variables with scatter plots\n",
        "Boxplots are great when you have a numeric column that you want to compare across different categories. When you want to visualize two numeric columns, scatter plots are ideal.\n",
        "In this exercise, your job is to make a scatter plot with 'initial_cost' on the x-axis and the 'total_est_fee' on the y-axis. You can do this by using the DataFrame .plot() method with kind='scatter'. You'll notice right away that there are 2 major outliers shown in the plots.\n",
        "Since these outliers dominate the plot, an additional DataFrame, df_subset, has been provided, in which some of the extreme values have been removed. After making a scatter plot using this, you'll find some interesting patterns here that would not have been seen by looking at summary statistics or 1 variable plots.\n",
        "When you're done, you can cycle between the two plots by clicking the 'Previous Plot' and 'Next Plot' buttons below the plot.\n",
        "\n",
        "**Instructions**\n",
        "\n",
        "Using df, create a scatter plot (kind='scatter') with 'initial_cost' on the x-axis and the 'total_est_fee' on the y-axis. Rotate the x-axis labels by 70 degrees.\n",
        "Create another scatter plot exactly as above, substituting df_subset in place of df"
      ]
    },
    {
      "cell_type": "code",
      "metadata": {
        "id": "QxaZvM_f6VQX",
        "outputId": "7b0ea9c3-b8bf-495a-f43a-f67d379a8c46"
      },
      "source": [
        "# Import necessary modules\n",
        "import pandas as pd\n",
        "import matplotlib.pyplot as plt\n",
        "\n",
        "# Create and display the first scatter plot\n",
        "df.plot(kind='scatter', x='initial_cost', y='total_est_fee', rot=70)\n",
        "plt.show()\n",
        "\n",
        "# Create and display the second scatter plot\n",
        "df_subset.plot(kind='scatter', x='initial_cost', y='total_est_fee', rot=70)\n",
        "plt.show()"
      ],
      "execution_count": null,
      "outputs": [
        {
          "output_type": "error",
          "ename": "KeyError",
          "evalue": "'initial_cost'",
          "traceback": [
            "\u001b[1;31m---------------------------------------------------------------------------\u001b[0m",
            "\u001b[1;31mKeyError\u001b[0m                                  Traceback (most recent call last)",
            "\u001b[1;32m~\\AppData\\Local\\Continuum\\anaconda3\\lib\\site-packages\\pandas\\core\\indexes\\base.py\u001b[0m in \u001b[0;36mget_loc\u001b[1;34m(self, key, method, tolerance)\u001b[0m\n\u001b[0;32m   2645\u001b[0m             \u001b[1;32mtry\u001b[0m\u001b[1;33m:\u001b[0m\u001b[1;33m\u001b[0m\u001b[1;33m\u001b[0m\u001b[0m\n\u001b[1;32m-> 2646\u001b[1;33m                 \u001b[1;32mreturn\u001b[0m \u001b[0mself\u001b[0m\u001b[1;33m.\u001b[0m\u001b[0m_engine\u001b[0m\u001b[1;33m.\u001b[0m\u001b[0mget_loc\u001b[0m\u001b[1;33m(\u001b[0m\u001b[0mkey\u001b[0m\u001b[1;33m)\u001b[0m\u001b[1;33m\u001b[0m\u001b[1;33m\u001b[0m\u001b[0m\n\u001b[0m\u001b[0;32m   2647\u001b[0m             \u001b[1;32mexcept\u001b[0m \u001b[0mKeyError\u001b[0m\u001b[1;33m:\u001b[0m\u001b[1;33m\u001b[0m\u001b[1;33m\u001b[0m\u001b[0m\n",
            "\u001b[1;32mpandas\\_libs\\index.pyx\u001b[0m in \u001b[0;36mpandas._libs.index.IndexEngine.get_loc\u001b[1;34m()\u001b[0m\n",
            "\u001b[1;32mpandas\\_libs\\index.pyx\u001b[0m in \u001b[0;36mpandas._libs.index.IndexEngine.get_loc\u001b[1;34m()\u001b[0m\n",
            "\u001b[1;32mpandas\\_libs\\hashtable_class_helper.pxi\u001b[0m in \u001b[0;36mpandas._libs.hashtable.PyObjectHashTable.get_item\u001b[1;34m()\u001b[0m\n",
            "\u001b[1;32mpandas\\_libs\\hashtable_class_helper.pxi\u001b[0m in \u001b[0;36mpandas._libs.hashtable.PyObjectHashTable.get_item\u001b[1;34m()\u001b[0m\n",
            "\u001b[1;31mKeyError\u001b[0m: 'initial_cost'",
            "\nDuring handling of the above exception, another exception occurred:\n",
            "\u001b[1;31mKeyError\u001b[0m                                  Traceback (most recent call last)",
            "\u001b[1;32m<ipython-input-10-f7ec64212d22>\u001b[0m in \u001b[0;36m<module>\u001b[1;34m\u001b[0m\n\u001b[0;32m      4\u001b[0m \u001b[1;33m\u001b[0m\u001b[0m\n\u001b[0;32m      5\u001b[0m \u001b[1;31m# Create and display the first scatter plot\u001b[0m\u001b[1;33m\u001b[0m\u001b[1;33m\u001b[0m\u001b[1;33m\u001b[0m\u001b[0m\n\u001b[1;32m----> 6\u001b[1;33m \u001b[0mdf\u001b[0m\u001b[1;33m.\u001b[0m\u001b[0mplot\u001b[0m\u001b[1;33m(\u001b[0m\u001b[0mkind\u001b[0m\u001b[1;33m=\u001b[0m\u001b[1;34m'scatter'\u001b[0m\u001b[1;33m,\u001b[0m \u001b[0mx\u001b[0m\u001b[1;33m=\u001b[0m\u001b[1;34m'initial_cost'\u001b[0m\u001b[1;33m,\u001b[0m \u001b[0my\u001b[0m\u001b[1;33m=\u001b[0m\u001b[1;34m'total_est_fee'\u001b[0m\u001b[1;33m,\u001b[0m \u001b[0mrot\u001b[0m\u001b[1;33m=\u001b[0m\u001b[1;36m70\u001b[0m\u001b[1;33m)\u001b[0m\u001b[1;33m\u001b[0m\u001b[1;33m\u001b[0m\u001b[0m\n\u001b[0m\u001b[0;32m      7\u001b[0m \u001b[0mplt\u001b[0m\u001b[1;33m.\u001b[0m\u001b[0mshow\u001b[0m\u001b[1;33m(\u001b[0m\u001b[1;33m)\u001b[0m\u001b[1;33m\u001b[0m\u001b[1;33m\u001b[0m\u001b[0m\n\u001b[0;32m      8\u001b[0m \u001b[1;33m\u001b[0m\u001b[0m\n",
            "\u001b[1;32m~\\AppData\\Local\\Continuum\\anaconda3\\lib\\site-packages\\pandas\\plotting\\_core.py\u001b[0m in \u001b[0;36m__call__\u001b[1;34m(self, *args, **kwargs)\u001b[0m\n\u001b[0;32m    790\u001b[0m         \u001b[1;32mif\u001b[0m \u001b[0mkind\u001b[0m \u001b[1;32min\u001b[0m \u001b[0mself\u001b[0m\u001b[1;33m.\u001b[0m\u001b[0m_dataframe_kinds\u001b[0m\u001b[1;33m:\u001b[0m\u001b[1;33m\u001b[0m\u001b[1;33m\u001b[0m\u001b[0m\n\u001b[0;32m    791\u001b[0m             \u001b[1;32mif\u001b[0m \u001b[0misinstance\u001b[0m\u001b[1;33m(\u001b[0m\u001b[0mdata\u001b[0m\u001b[1;33m,\u001b[0m \u001b[0mABCDataFrame\u001b[0m\u001b[1;33m)\u001b[0m\u001b[1;33m:\u001b[0m\u001b[1;33m\u001b[0m\u001b[1;33m\u001b[0m\u001b[0m\n\u001b[1;32m--> 792\u001b[1;33m                 \u001b[1;32mreturn\u001b[0m \u001b[0mplot_backend\u001b[0m\u001b[1;33m.\u001b[0m\u001b[0mplot\u001b[0m\u001b[1;33m(\u001b[0m\u001b[0mdata\u001b[0m\u001b[1;33m,\u001b[0m \u001b[0mx\u001b[0m\u001b[1;33m=\u001b[0m\u001b[0mx\u001b[0m\u001b[1;33m,\u001b[0m \u001b[0my\u001b[0m\u001b[1;33m=\u001b[0m\u001b[0my\u001b[0m\u001b[1;33m,\u001b[0m \u001b[0mkind\u001b[0m\u001b[1;33m=\u001b[0m\u001b[0mkind\u001b[0m\u001b[1;33m,\u001b[0m \u001b[1;33m**\u001b[0m\u001b[0mkwargs\u001b[0m\u001b[1;33m)\u001b[0m\u001b[1;33m\u001b[0m\u001b[1;33m\u001b[0m\u001b[0m\n\u001b[0m\u001b[0;32m    793\u001b[0m             \u001b[1;32melse\u001b[0m\u001b[1;33m:\u001b[0m\u001b[1;33m\u001b[0m\u001b[1;33m\u001b[0m\u001b[0m\n\u001b[0;32m    794\u001b[0m                 \u001b[1;32mraise\u001b[0m \u001b[0mValueError\u001b[0m\u001b[1;33m(\u001b[0m\u001b[1;34mf\"plot kind {kind} can only be used for data frames\"\u001b[0m\u001b[1;33m)\u001b[0m\u001b[1;33m\u001b[0m\u001b[1;33m\u001b[0m\u001b[0m\n",
            "\u001b[1;32m~\\AppData\\Local\\Continuum\\anaconda3\\lib\\site-packages\\pandas\\plotting\\_matplotlib\\__init__.py\u001b[0m in \u001b[0;36mplot\u001b[1;34m(data, kind, **kwargs)\u001b[0m\n\u001b[0;32m     59\u001b[0m             \u001b[0mkwargs\u001b[0m\u001b[1;33m[\u001b[0m\u001b[1;34m\"ax\"\u001b[0m\u001b[1;33m]\u001b[0m \u001b[1;33m=\u001b[0m \u001b[0mgetattr\u001b[0m\u001b[1;33m(\u001b[0m\u001b[0max\u001b[0m\u001b[1;33m,\u001b[0m \u001b[1;34m\"left_ax\"\u001b[0m\u001b[1;33m,\u001b[0m \u001b[0max\u001b[0m\u001b[1;33m)\u001b[0m\u001b[1;33m\u001b[0m\u001b[1;33m\u001b[0m\u001b[0m\n\u001b[0;32m     60\u001b[0m     \u001b[0mplot_obj\u001b[0m \u001b[1;33m=\u001b[0m \u001b[0mPLOT_CLASSES\u001b[0m\u001b[1;33m[\u001b[0m\u001b[0mkind\u001b[0m\u001b[1;33m]\u001b[0m\u001b[1;33m(\u001b[0m\u001b[0mdata\u001b[0m\u001b[1;33m,\u001b[0m \u001b[1;33m**\u001b[0m\u001b[0mkwargs\u001b[0m\u001b[1;33m)\u001b[0m\u001b[1;33m\u001b[0m\u001b[1;33m\u001b[0m\u001b[0m\n\u001b[1;32m---> 61\u001b[1;33m     \u001b[0mplot_obj\u001b[0m\u001b[1;33m.\u001b[0m\u001b[0mgenerate\u001b[0m\u001b[1;33m(\u001b[0m\u001b[1;33m)\u001b[0m\u001b[1;33m\u001b[0m\u001b[1;33m\u001b[0m\u001b[0m\n\u001b[0m\u001b[0;32m     62\u001b[0m     \u001b[0mplot_obj\u001b[0m\u001b[1;33m.\u001b[0m\u001b[0mdraw\u001b[0m\u001b[1;33m(\u001b[0m\u001b[1;33m)\u001b[0m\u001b[1;33m\u001b[0m\u001b[1;33m\u001b[0m\u001b[0m\n\u001b[0;32m     63\u001b[0m     \u001b[1;32mreturn\u001b[0m \u001b[0mplot_obj\u001b[0m\u001b[1;33m.\u001b[0m\u001b[0mresult\u001b[0m\u001b[1;33m\u001b[0m\u001b[1;33m\u001b[0m\u001b[0m\n",
            "\u001b[1;32m~\\AppData\\Local\\Continuum\\anaconda3\\lib\\site-packages\\pandas\\plotting\\_matplotlib\\core.py\u001b[0m in \u001b[0;36mgenerate\u001b[1;34m(self)\u001b[0m\n\u001b[0;32m    261\u001b[0m         \u001b[0mself\u001b[0m\u001b[1;33m.\u001b[0m\u001b[0m_compute_plot_data\u001b[0m\u001b[1;33m(\u001b[0m\u001b[1;33m)\u001b[0m\u001b[1;33m\u001b[0m\u001b[1;33m\u001b[0m\u001b[0m\n\u001b[0;32m    262\u001b[0m         \u001b[0mself\u001b[0m\u001b[1;33m.\u001b[0m\u001b[0m_setup_subplots\u001b[0m\u001b[1;33m(\u001b[0m\u001b[1;33m)\u001b[0m\u001b[1;33m\u001b[0m\u001b[1;33m\u001b[0m\u001b[0m\n\u001b[1;32m--> 263\u001b[1;33m         \u001b[0mself\u001b[0m\u001b[1;33m.\u001b[0m\u001b[0m_make_plot\u001b[0m\u001b[1;33m(\u001b[0m\u001b[1;33m)\u001b[0m\u001b[1;33m\u001b[0m\u001b[1;33m\u001b[0m\u001b[0m\n\u001b[0m\u001b[0;32m    264\u001b[0m         \u001b[0mself\u001b[0m\u001b[1;33m.\u001b[0m\u001b[0m_add_table\u001b[0m\u001b[1;33m(\u001b[0m\u001b[1;33m)\u001b[0m\u001b[1;33m\u001b[0m\u001b[1;33m\u001b[0m\u001b[0m\n\u001b[0;32m    265\u001b[0m         \u001b[0mself\u001b[0m\u001b[1;33m.\u001b[0m\u001b[0m_make_legend\u001b[0m\u001b[1;33m(\u001b[0m\u001b[1;33m)\u001b[0m\u001b[1;33m\u001b[0m\u001b[1;33m\u001b[0m\u001b[0m\n",
            "\u001b[1;32m~\\AppData\\Local\\Continuum\\anaconda3\\lib\\site-packages\\pandas\\plotting\\_matplotlib\\core.py\u001b[0m in \u001b[0;36m_make_plot\u001b[1;34m(self)\u001b[0m\n\u001b[0;32m    968\u001b[0m             \u001b[0mlabel\u001b[0m \u001b[1;33m=\u001b[0m \u001b[1;32mNone\u001b[0m\u001b[1;33m\u001b[0m\u001b[1;33m\u001b[0m\u001b[0m\n\u001b[0;32m    969\u001b[0m         scatter = ax.scatter(\n\u001b[1;32m--> 970\u001b[1;33m             \u001b[0mdata\u001b[0m\u001b[1;33m[\u001b[0m\u001b[0mx\u001b[0m\u001b[1;33m]\u001b[0m\u001b[1;33m.\u001b[0m\u001b[0mvalues\u001b[0m\u001b[1;33m,\u001b[0m\u001b[1;33m\u001b[0m\u001b[1;33m\u001b[0m\u001b[0m\n\u001b[0m\u001b[0;32m    971\u001b[0m             \u001b[0mdata\u001b[0m\u001b[1;33m[\u001b[0m\u001b[0my\u001b[0m\u001b[1;33m]\u001b[0m\u001b[1;33m.\u001b[0m\u001b[0mvalues\u001b[0m\u001b[1;33m,\u001b[0m\u001b[1;33m\u001b[0m\u001b[1;33m\u001b[0m\u001b[0m\n\u001b[0;32m    972\u001b[0m             \u001b[0mc\u001b[0m\u001b[1;33m=\u001b[0m\u001b[0mc_values\u001b[0m\u001b[1;33m,\u001b[0m\u001b[1;33m\u001b[0m\u001b[1;33m\u001b[0m\u001b[0m\n",
            "\u001b[1;32m~\\AppData\\Local\\Continuum\\anaconda3\\lib\\site-packages\\pandas\\core\\frame.py\u001b[0m in \u001b[0;36m__getitem__\u001b[1;34m(self, key)\u001b[0m\n\u001b[0;32m   2798\u001b[0m             \u001b[1;32mif\u001b[0m \u001b[0mself\u001b[0m\u001b[1;33m.\u001b[0m\u001b[0mcolumns\u001b[0m\u001b[1;33m.\u001b[0m\u001b[0mnlevels\u001b[0m \u001b[1;33m>\u001b[0m \u001b[1;36m1\u001b[0m\u001b[1;33m:\u001b[0m\u001b[1;33m\u001b[0m\u001b[1;33m\u001b[0m\u001b[0m\n\u001b[0;32m   2799\u001b[0m                 \u001b[1;32mreturn\u001b[0m \u001b[0mself\u001b[0m\u001b[1;33m.\u001b[0m\u001b[0m_getitem_multilevel\u001b[0m\u001b[1;33m(\u001b[0m\u001b[0mkey\u001b[0m\u001b[1;33m)\u001b[0m\u001b[1;33m\u001b[0m\u001b[1;33m\u001b[0m\u001b[0m\n\u001b[1;32m-> 2800\u001b[1;33m             \u001b[0mindexer\u001b[0m \u001b[1;33m=\u001b[0m \u001b[0mself\u001b[0m\u001b[1;33m.\u001b[0m\u001b[0mcolumns\u001b[0m\u001b[1;33m.\u001b[0m\u001b[0mget_loc\u001b[0m\u001b[1;33m(\u001b[0m\u001b[0mkey\u001b[0m\u001b[1;33m)\u001b[0m\u001b[1;33m\u001b[0m\u001b[1;33m\u001b[0m\u001b[0m\n\u001b[0m\u001b[0;32m   2801\u001b[0m             \u001b[1;32mif\u001b[0m \u001b[0mis_integer\u001b[0m\u001b[1;33m(\u001b[0m\u001b[0mindexer\u001b[0m\u001b[1;33m)\u001b[0m\u001b[1;33m:\u001b[0m\u001b[1;33m\u001b[0m\u001b[1;33m\u001b[0m\u001b[0m\n\u001b[0;32m   2802\u001b[0m                 \u001b[0mindexer\u001b[0m \u001b[1;33m=\u001b[0m \u001b[1;33m[\u001b[0m\u001b[0mindexer\u001b[0m\u001b[1;33m]\u001b[0m\u001b[1;33m\u001b[0m\u001b[1;33m\u001b[0m\u001b[0m\n",
            "\u001b[1;32m~\\AppData\\Local\\Continuum\\anaconda3\\lib\\site-packages\\pandas\\core\\indexes\\base.py\u001b[0m in \u001b[0;36mget_loc\u001b[1;34m(self, key, method, tolerance)\u001b[0m\n\u001b[0;32m   2646\u001b[0m                 \u001b[1;32mreturn\u001b[0m \u001b[0mself\u001b[0m\u001b[1;33m.\u001b[0m\u001b[0m_engine\u001b[0m\u001b[1;33m.\u001b[0m\u001b[0mget_loc\u001b[0m\u001b[1;33m(\u001b[0m\u001b[0mkey\u001b[0m\u001b[1;33m)\u001b[0m\u001b[1;33m\u001b[0m\u001b[1;33m\u001b[0m\u001b[0m\n\u001b[0;32m   2647\u001b[0m             \u001b[1;32mexcept\u001b[0m \u001b[0mKeyError\u001b[0m\u001b[1;33m:\u001b[0m\u001b[1;33m\u001b[0m\u001b[1;33m\u001b[0m\u001b[0m\n\u001b[1;32m-> 2648\u001b[1;33m                 \u001b[1;32mreturn\u001b[0m \u001b[0mself\u001b[0m\u001b[1;33m.\u001b[0m\u001b[0m_engine\u001b[0m\u001b[1;33m.\u001b[0m\u001b[0mget_loc\u001b[0m\u001b[1;33m(\u001b[0m\u001b[0mself\u001b[0m\u001b[1;33m.\u001b[0m\u001b[0m_maybe_cast_indexer\u001b[0m\u001b[1;33m(\u001b[0m\u001b[0mkey\u001b[0m\u001b[1;33m)\u001b[0m\u001b[1;33m)\u001b[0m\u001b[1;33m\u001b[0m\u001b[1;33m\u001b[0m\u001b[0m\n\u001b[0m\u001b[0;32m   2649\u001b[0m         \u001b[0mindexer\u001b[0m \u001b[1;33m=\u001b[0m \u001b[0mself\u001b[0m\u001b[1;33m.\u001b[0m\u001b[0mget_indexer\u001b[0m\u001b[1;33m(\u001b[0m\u001b[1;33m[\u001b[0m\u001b[0mkey\u001b[0m\u001b[1;33m]\u001b[0m\u001b[1;33m,\u001b[0m \u001b[0mmethod\u001b[0m\u001b[1;33m=\u001b[0m\u001b[0mmethod\u001b[0m\u001b[1;33m,\u001b[0m \u001b[0mtolerance\u001b[0m\u001b[1;33m=\u001b[0m\u001b[0mtolerance\u001b[0m\u001b[1;33m)\u001b[0m\u001b[1;33m\u001b[0m\u001b[1;33m\u001b[0m\u001b[0m\n\u001b[0;32m   2650\u001b[0m         \u001b[1;32mif\u001b[0m \u001b[0mindexer\u001b[0m\u001b[1;33m.\u001b[0m\u001b[0mndim\u001b[0m \u001b[1;33m>\u001b[0m \u001b[1;36m1\u001b[0m \u001b[1;32mor\u001b[0m \u001b[0mindexer\u001b[0m\u001b[1;33m.\u001b[0m\u001b[0msize\u001b[0m \u001b[1;33m>\u001b[0m \u001b[1;36m1\u001b[0m\u001b[1;33m:\u001b[0m\u001b[1;33m\u001b[0m\u001b[1;33m\u001b[0m\u001b[0m\n",
            "\u001b[1;32mpandas\\_libs\\index.pyx\u001b[0m in \u001b[0;36mpandas._libs.index.IndexEngine.get_loc\u001b[1;34m()\u001b[0m\n",
            "\u001b[1;32mpandas\\_libs\\index.pyx\u001b[0m in \u001b[0;36mpandas._libs.index.IndexEngine.get_loc\u001b[1;34m()\u001b[0m\n",
            "\u001b[1;32mpandas\\_libs\\hashtable_class_helper.pxi\u001b[0m in \u001b[0;36mpandas._libs.hashtable.PyObjectHashTable.get_item\u001b[1;34m()\u001b[0m\n",
            "\u001b[1;32mpandas\\_libs\\hashtable_class_helper.pxi\u001b[0m in \u001b[0;36mpandas._libs.hashtable.PyObjectHashTable.get_item\u001b[1;34m()\u001b[0m\n",
            "\u001b[1;31mKeyError\u001b[0m: 'initial_cost'"
          ]
        },
        {
          "output_type": "display_data",
          "data": {
            "image/png": "[encoded data removed]",
            "text/plain": [
              "<Figure size 432x288 with 1 Axes>"
            ]
          },
          "metadata": {
            "tags": [],
            "needs_background": "light"
          }
        }
      ]
    },
    {
      "cell_type": "markdown",
      "metadata": {
        "id": "rKeqqhbK6VQX"
      },
      "source": [
        "Excellent work! In general, from the second plot it seems like there is a strong correlation between 'initial_cost' and 'total_est_fee'. In addition, take note of the large number of points that have an 'initial_cost' of 0. It is difficult to infer any trends from the first plot because it is dominated by the outliers."
      ]
    },
    {
      "cell_type": "markdown",
      "metadata": {
        "id": "djrGKRhc6VQX"
      },
      "source": [
        "# Tidying data for analysis"
      ]
    },
    {
      "cell_type": "markdown",
      "metadata": {
        "id": "0LpZHx4s6VQY"
      },
      "source": [
        "# Recognizing tidy data\n",
        "For data to be tidy, it must have:\n",
        "Each column contains exactly one variable.\n",
        "Each row contains exactly one observation.\n",
        "However, what constitutes a unique observation depends on your use case. As a data scientist, you'll encounter data that is represented in a variety of different ways, so it is important to be able understand and describe the structure of your data.\n",
        "In this exercise, two example datasets have been pre-loaded into the DataFrames df1 and df2. They contain the same data, but structured in different ways. Your job is to explore these further in the IPython Shell and answer the question below.\n",
        "A note before proceeding. In the rest of this course, you will frequently be asked to explore the structure of DataFrames in the IPython Shell prior to performing different operations on them. Doing this will not only strengthen your comprehension of the data cleaning concepts covered in this course, but will also help you realize and take advantage of the relationship between working in the Shell and in the script.\n",
        "Which of the following statements is true?"
      ]
    },
    {
      "cell_type": "markdown",
      "metadata": {
        "id": "w53HWnJX6VQY"
      },
      "source": [
        "In both datasets, Date identifies each observation.\n",
        "\n",
        "Correct! Both formats are tidy for different reasons, one is focused on individual sensor measurements, and the other is focused on daily measurements. When you get data into a tidy format it's easier to tranform it to whatever suits your needs."
      ]
    },
    {
      "cell_type": "code",
      "metadata": {
        "id": "VaPcN_DK6VQY",
        "outputId": "3f428c39-8333-4d1a-c6ac-258e44d99229"
      },
      "source": [
        "import pandas as pd\n",
        "df1=pd.read_csv(\"_datasets/airquality.csv\")\n",
        "df1.head()"
      ],
      "execution_count": null,
      "outputs": [
        {
          "output_type": "execute_result",
          "data": {
            "text/html": [
              "<div>\n",
              "<style scoped>\n",
              "    .dataframe tbody tr th:only-of-type {\n",
              "        vertical-align: middle;\n",
              "    }\n",
              "\n",
              "    .dataframe tbody tr th {\n",
              "        vertical-align: top;\n",
              "    }\n",
              "\n",
              "    .dataframe thead th {\n",
              "        text-align: right;\n",
              "    }\n",
              "</style>\n",
              "<table border=\"1\" class=\"dataframe\">\n",
              "  <thead>\n",
              "    <tr style=\"text-align: right;\">\n",
              "      <th></th>\n",
              "      <th>Ozone</th>\n",
              "      <th>Solar.R</th>\n",
              "      <th>Wind</th>\n",
              "      <th>Temp</th>\n",
              "      <th>Month</th>\n",
              "      <th>Day</th>\n",
              "    </tr>\n",
              "  </thead>\n",
              "  <tbody>\n",
              "    <tr>\n",
              "      <th>0</th>\n",
              "      <td>41.0</td>\n",
              "      <td>190.0</td>\n",
              "      <td>7.4</td>\n",
              "      <td>67</td>\n",
              "      <td>5</td>\n",
              "      <td>1</td>\n",
              "    </tr>\n",
              "    <tr>\n",
              "      <th>1</th>\n",
              "      <td>36.0</td>\n",
              "      <td>118.0</td>\n",
              "      <td>8.0</td>\n",
              "      <td>72</td>\n",
              "      <td>5</td>\n",
              "      <td>2</td>\n",
              "    </tr>\n",
              "    <tr>\n",
              "      <th>2</th>\n",
              "      <td>12.0</td>\n",
              "      <td>149.0</td>\n",
              "      <td>12.6</td>\n",
              "      <td>74</td>\n",
              "      <td>5</td>\n",
              "      <td>3</td>\n",
              "    </tr>\n",
              "    <tr>\n",
              "      <th>3</th>\n",
              "      <td>18.0</td>\n",
              "      <td>313.0</td>\n",
              "      <td>11.5</td>\n",
              "      <td>62</td>\n",
              "      <td>5</td>\n",
              "      <td>4</td>\n",
              "    </tr>\n",
              "    <tr>\n",
              "      <th>4</th>\n",
              "      <td>NaN</td>\n",
              "      <td>NaN</td>\n",
              "      <td>14.3</td>\n",
              "      <td>56</td>\n",
              "      <td>5</td>\n",
              "      <td>5</td>\n",
              "    </tr>\n",
              "  </tbody>\n",
              "</table>\n",
              "</div>"
            ],
            "text/plain": [
              "   Ozone  Solar.R  Wind  Temp  Month  Day\n",
              "0   41.0    190.0   7.4    67      5    1\n",
              "1   36.0    118.0   8.0    72      5    2\n",
              "2   12.0    149.0  12.6    74      5    3\n",
              "3   18.0    313.0  11.5    62      5    4\n",
              "4    NaN      NaN  14.3    56      5    5"
            ]
          },
          "metadata": {
            "tags": []
          },
          "execution_count": 12
        }
      ]
    },
    {
      "cell_type": "markdown",
      "metadata": {
        "id": "xCDZp8yJ6VQY"
      },
      "source": [
        "# Reshaping your data using melt\n",
        "Melting data is the process of turning columns of your data into rows of data. Consider the DataFrames from the previous exercise. In the tidy DataFrame, the variables Ozone, Solar.R, Wind, and Temp each had their own column. If, however, you wanted these variables to be in rows instead, you could melt the DataFrame. In doing so, however, you would make the data untidy! This is important to keep in mind: Depending on how your data is represented, you will have to reshape it differently (e.g., this could make it easier to plot values).\n",
        "In this exercise, you will practice melting a DataFrame using pd.melt(). There are two parameters you should be aware of: id_vars and value_vars. The id_vars represent the columns of the data you do not want to melt (i.e., keep it in its current shape), while the value_vars represent the columns you do wish to melt into rows. By default, if no value_vars are provided, all columns not set in the id_vars will be melted. This could save a bit of typing, depending on the number of columns that need to be melted.\n",
        "The (tidy) DataFrame airquality has been pre-loaded. Your job is to melt its Ozone, Solar.R, Wind, and Temp columns into rows. Later in this chapter, you'll learn how to bring this melted DataFrame back into a tidy form.\n",
        "\n",
        "**Instructions**\n",
        "100 XP\n",
        "Print the head of airquality.\n",
        "Use pd.melt() to melt the Ozone, Solar.R, Wind, and Temp columns of airquality into rows. Do this by using id_vars to the column you do not wish to melt: 'Date'.\n",
        "Print the head of airquality_melt"
      ]
    },
    {
      "cell_type": "code",
      "metadata": {
        "id": "pKksaUPR6VQZ"
      },
      "source": [
        "# Print the head of airquality\n",
        "print(airquality.head())\n",
        "\n",
        "# Melt airquality: airquality_melt\n",
        "airquality_melt = pd.melt(airquality, id_vars='Date')\n",
        "\n",
        "# Print the head of airquality_melt\n",
        "print(airquality_melt.head())"
      ],
      "execution_count": null,
      "outputs": []
    },
    {
      "cell_type": "code",
      "metadata": {
        "id": "8HHJHqP16VQZ"
      },
      "source": [
        "Date  Ozone  Solar.R  Wind  Temp\n",
        "0 1973-05-01   41.0    190.0   7.4    67\n",
        "1 1973-05-02   36.0    118.0   8.0    72\n",
        "2 1973-05-03   12.0    149.0  12.6    74\n",
        "3 1973-05-04   18.0    313.0  11.5    62\n",
        "4 1973-05-05    NaN      NaN  14.3    56\n",
        "        Date variable  value\n",
        "0 1973-05-01    Ozone   41.0\n",
        "1 1973-05-02    Ozone   36.0\n",
        "2 1973-05-03    Ozone   12.0\n",
        "3 1973-05-04    Ozone   18.0\n",
        "4 1973-05-05    Ozone    NaN\n",
        "\n",
        "<script.py> output:\n",
        "            Date  Ozone  Solar.R  Wind  Temp\n",
        "    0 1973-05-01   41.0    190.0   7.4    67\n",
        "    1 1973-05-02   36.0    118.0   8.0    72\n",
        "    2 1973-05-03   12.0    149.0  12.6    74\n",
        "    3 1973-05-04   18.0    313.0  11.5    62\n",
        "    4 1973-05-05    NaN      NaN  14.3    56\n",
        "            Date variable  value\n",
        "    0 1973-05-01    Ozone   41.0\n",
        "    1 1973-05-02    Ozone   36.0\n",
        "    2 1973-05-03    Ozone   12.0\n",
        "    3 1973-05-04    Ozone   18.0\n",
        "    4 1973-05-05    Ozone    NaN"
      ],
      "execution_count": null,
      "outputs": []
    },
    {
      "cell_type": "markdown",
      "metadata": {
        "id": "01viP5uB6VQZ"
      },
      "source": [
        "Well done! This exercise demonstrates that melting a DataFrame is not always appropriate if you want to make it tidy. You may have to perform other transformations depending on how your data is represented."
      ]
    },
    {
      "cell_type": "markdown",
      "metadata": {
        "id": "S0yx-taq6VQZ"
      },
      "source": [
        "# Customizing melted data\n",
        "When melting DataFrames, it would be better to have column names more meaningful than variable and value (the default names used by pd.melt()).\n",
        "The default names may work in certain situations, but it's best to always have data that is self explanatory.\n",
        "You can rename the variable column by specifying an argument to the var_name parameter, and the value column by specifying an argument to the value_name parameter. You will now practice doing exactly this. Pandas as pd and the DataFrame airquality has been pre-loaded for you.\n",
        "\n",
        "**Instructions**\n",
        "100 XP\n",
        "Print the head of airquality.\n",
        "Melt the columns of airquality with the default variable column renamed to 'measurement' and the default value column renamed to 'reading'. You can do this by specifying, respectively, the var_name and value_name parameters.\n",
        "Print the head of airquality_melt"
      ]
    },
    {
      "cell_type": "code",
      "metadata": {
        "id": "m4cB8e_j6VQZ"
      },
      "source": [
        "print(airquality.head())\n",
        "\n",
        "# Melt airquality: airquality_melt\n",
        "airquality_melt = pd.melt(airquality, id_vars='Date', var_name='measurement', value_name='reading')\n",
        "\n",
        "# Print the head of airquality_melt\n",
        "print(airquality_melt.head())"
      ],
      "execution_count": null,
      "outputs": []
    },
    {
      "cell_type": "code",
      "metadata": {
        "id": "2Gvsp-LA6VQZ"
      },
      "source": [
        "Date  Ozone  Solar.R  Wind  Temp\n",
        "0 1973-05-01   41.0    190.0   7.4    67\n",
        "1 1973-05-02   36.0    118.0   8.0    72\n",
        "2 1973-05-03   12.0    149.0  12.6    74\n",
        "3 1973-05-04   18.0    313.0  11.5    62\n",
        "4 1973-05-05    NaN      NaN  14.3    56\n",
        "        Date measurement  reading\n",
        "0 1973-05-01       Ozone     41.0\n",
        "1 1973-05-02       Ozone     36.0\n",
        "2 1973-05-03       Ozone     12.0\n",
        "3 1973-05-04       Ozone     18.0\n",
        "4 1973-05-05       Ozone      NaN\n"
      ],
      "execution_count": null,
      "outputs": []
    },
    {
      "cell_type": "markdown",
      "metadata": {
        "id": "gT4u5mT66VQa"
      },
      "source": [
        "\n",
        "\n",
        "\n",
        "Course Outline\n",
        "\n",
        "\n",
        "\n",
        "\n",
        "\n",
        "\n",
        "\n",
        "\n",
        "Great work! The DataFrame is more informative now. In the next video, you'll learn about pivoting, which is the opposite of melting. You'll then be able to convert this DataFrame back into its original, tidy, form!"
      ]
    },
    {
      "cell_type": "markdown",
      "metadata": {
        "id": "5Sgqcoj46VQa"
      },
      "source": [
        "# Pivot data\n",
        "Pivoting data is the opposite of melting it. Remember the tidy form that the airquality DataFrame was in before you melted it? You'll now begin pivoting it back into that form using the .pivot_table() method!\n",
        "While melting takes a set of columns and turns it into a single column, pivoting will create a new column for each unique value in a specified column.\n",
        ".pivot_table() has an index parameter which you can use to specify the columns that you don't want pivoted: It is similar to the id_vars parameter of pd.melt(). Two other parameters that you have to specify are columns (the name of the column you want to pivot), and values (the values to be used when the column is pivoted). The melted DataFrame airquality_melt has been pre-loaded for you.\n",
        "\n",
        "**Instructions**\n",
        "\n",
        "100 XP\n",
        "Print the head of airquality_melt.\n",
        "Pivot airquality_melt by using .pivot_table() with the rows indexed by 'Date', the columns indexed by 'measurement', and the values populated with 'reading'.\n",
        "Print the head of airquality_pivot"
      ]
    },
    {
      "cell_type": "code",
      "metadata": {
        "id": "hM9AJ8TF6VQa"
      },
      "source": [
        "# Print the head of airquality_melt\n",
        "print(airquality_melt.head())\n",
        "\n",
        "# Pivot airquality_melt: airquality_pivot\n",
        "airquality_pivot = airquality_melt.pivot_table(index='Date', columns='measurement', values='reading')\n",
        "\n",
        "# Print the head of airquality_pivot\n",
        "print(airquality_pivot.head())\n"
      ],
      "execution_count": null,
      "outputs": []
    },
    {
      "cell_type": "code",
      "metadata": {
        "id": "H-R10FR46VQa"
      },
      "source": [
        "<script.py> output:\n",
        "            Date measurement  reading\n",
        "    0 1973-05-01       Ozone     41.0\n",
        "    1 1973-05-02       Ozone     36.0\n",
        "    2 1973-05-03       Ozone     12.0\n",
        "    3 1973-05-04       Ozone     18.0\n",
        "    4 1973-05-05       Ozone      NaN\n",
        "    measurement  Ozone  Solar.R  Temp  Wind\n",
        "    Date                                   \n",
        "    1973-05-01    41.0    190.0  67.0   7.4\n",
        "    1973-05-02    36.0    118.0  72.0   8.0\n",
        "    1973-05-03    12.0    149.0  74.0  12.6\n",
        "    1973-05-04    18.0    313.0  62.0  11.5\n",
        "    1973-05-05     NaN      NaN  56.0  14.3"
      ],
      "execution_count": null,
      "outputs": []
    },
    {
      "cell_type": "markdown",
      "metadata": {
        "id": "7oCBsd0W6VQa"
      },
      "source": [
        "Excellent work! Notice that the pivoted DataFrame does not actually look like the original DataFrame. In the next exercise, you'll turn this pivoted DataFrame back into its original form."
      ]
    },
    {
      "cell_type": "markdown",
      "metadata": {
        "id": "wyU2H2dE6VQb"
      },
      "source": [
        "# Resetting the index of a DataFrame\n",
        "\n",
        "After pivoting airquality_melt in the previous exercise, you didn't quite get back the original DataFrame.\n",
        "What you got back instead was a pandas DataFrame with a hierarchical index (also known as a MultiIndex).\n",
        "Hierarchical indexes are covered in depth in Manipulating DataFrames with pandas. In essence, they allow you to group columns or rows by another variable - in this case, by 'Date'. \n",
        "There's a very simple method you can use to get back the original DataFrame from the pivoted DataFrame: .reset_index(). Dan didn't show you how to use this method in the video, but you're now going to practice using it in this exercise to get back the original DataFrame from airquality_pivot, which has been pre-loaded.\n",
        "\n",
        "**Instructions**\n",
        "\n",
        "100 XP\n",
        "Print the index of airquality_pivot by accessing its .index attribute. This has been done for you.\n",
        "Reset the index of airquality_pivot using its .reset_index() method.\n",
        "Print the new index of airquality_pivot_reset.\n",
        "Print the head of airquality_pivot_reset"
      ]
    },
    {
      "cell_type": "code",
      "metadata": {
        "id": "GMiB6LCV6VQb"
      },
      "source": [
        "# Print the index of airquality_pivot\n",
        "print(airquality_pivot.index)\n",
        "\n",
        "# Reset the index of airquality_pivot: airquality_pivot_reset\n",
        "airquality_pivot_reset = airquality_pivot.reset_index()\n",
        "\n",
        "# Print the new index of airquality_pivot_reset\n",
        "print(airquality_pivot_reset.index)\n",
        "\n",
        "# Print the head of airquality_pivot_reset\n",
        "print(airquality_pivot_reset.head())\n"
      ],
      "execution_count": null,
      "outputs": []
    },
    {
      "cell_type": "code",
      "metadata": {
        "id": "CfrgJX7p6VQb"
      },
      "source": [
        "DatetimeIndex(['1973-05-01', '1973-05-02', '1973-05-03', '1973-05-04', '1973-05-05', '1973-05-06', '1973-05-07', '1973-05-08', '1973-05-09', '1973-05-10',\n",
        "               ...\n",
        "               '1973-09-21', '1973-09-22', '1973-09-23', '1973-09-24', '1973-09-25', '1973-09-26', '1973-09-27', '1973-09-28', '1973-09-29', '1973-09-30'],\n",
        "              dtype='datetime64[ns]', name='Date', length=153, freq=None)\n",
        "RangeIndex(start=0, stop=153, step=1)\n",
        "measurement       Date  Ozone  Solar.R  Temp  Wind\n",
        "0           1973-05-01   41.0    190.0  67.0   7.4\n",
        "1           1973-05-02   36.0    118.0  72.0   8.0\n",
        "2           1973-05-03   12.0    149.0  74.0  12.6\n",
        "3           1973-05-04   18.0    313.0  62.0  11.5\n",
        "4           1973-05-05    NaN      NaN  56.0  14.3\n",
        "\n",
        "<script.py> output:\n",
        "    DatetimeIndex(['1973-05-01', '1973-05-02', '1973-05-03', '1973-05-04', '1973-05-05', '1973-05-06', '1973-05-07', '1973-05-08', '1973-05-09', '1973-05-10',\n",
        "                   ...\n",
        "                   '1973-09-21', '1973-09-22', '1973-09-23', '1973-09-24', '1973-09-25', '1973-09-26', '1973-09-27', '1973-09-28', '1973-09-29', '1973-09-30'],\n",
        "                  dtype='datetime64[ns]', name='Date', length=153, freq=None)\n",
        "    RangeIndex(start=0, stop=153, step=1)\n",
        "    measurement       Date  Ozone  Solar.R  Temp  Wind\n",
        "    0           1973-05-01   41.0    190.0  67.0   7.4\n",
        "    1           1973-05-02   36.0    118.0  72.0   8.0\n",
        "    2           1973-05-03   12.0    149.0  74.0  12.6\n",
        "    3           1973-05-04   18.0    313.0  62.0  11.5\n",
        "    4           1973-05-05    NaN      NaN  56.0  14.3"
      ],
      "execution_count": null,
      "outputs": []
    },
    {
      "cell_type": "markdown",
      "metadata": {
        "id": "wRti3FPh6VQb"
      },
      "source": [
        "# Pivoting duplicate values\n",
        "\n",
        "So far, you've used the .pivot_table() method when there are multiple index values you want to hold constant during a pivot. In the video, Dan showed you how you can also use pivot tables to deal with duplicate values by providing an aggregation function through the aggfunc parameter. Here, you're going to combine both these uses of pivot tables.\n",
        "Let's say your data collection method accidentally duplicated your dataset. Such a dataset, in which each row is duplicated, has been pre-loaded as airquality_dup. In addition, the airquality_melt DataFrame from the previous exercise has been pre-loaded. Explore their shapes in the IPython Shell by accessing their .shape attributes to confirm the duplicate rows present in airquality_dup.\n",
        "You'll see that by using .pivot_table() and the aggfunc parameter, you can not only reshape your data, but also remove duplicates. Finally, you can then flatten the columns of the pivoted DataFrame using .reset_index().\n",
        "NumPy and pandas have been imported as np and pd respectively.\n",
        "\n",
        "**Instructions**\n",
        "\n",
        "100 XP\n",
        "\n",
        "Instructions\n",
        "100 XP\n",
        "Pivot airquality_dup by using .pivot_table() with the rows indexed by 'Date', the columns indexed by 'measurement', and the values populated with 'reading'. Use np.mean for the aggregation function. \n",
        "Print the head of airquality_pivot.\n",
        "Flatten airquality_pivot by resetting its index.\n",
        "Print the head of airquality_pivot and then the original airquality DataFrame to compare their structure."
      ]
    },
    {
      "cell_type": "code",
      "metadata": {
        "id": "RfyMzzdv6VQb"
      },
      "source": [
        "# Pivot table the airquality_dup: airquality_pivot\n",
        "airquality_pivot = airquality_dup.pivot_table(index='Date', columns='measurement', values='reading', aggfunc=np.mean)\n",
        "\n",
        "# Print the head of airquality_pivot before reset_index\n",
        "print(airquality_pivot.head())\n",
        "\n",
        "# Reset the index of airquality_pivot\n",
        "airquality_pivot = airquality_pivot.reset_index()"
      ],
      "execution_count": null,
      "outputs": []
    },
    {
      "cell_type": "code",
      "metadata": {
        "id": "jS6N9Ayg6VQc"
      },
      "source": [
        "In [3]: airquality_dup.shape\n",
        "Out[3]: (1224, 3)\n",
        "\n",
        "In [4]: airquality_melt.shape\n",
        "Out[4]: (612, 3)\n",
        "\n",
        "In [5]: # Pivot table the airquality_dup: airquality_pivot\n",
        "        airquality_pivot = airquality_dup.pivot_table(index='Date', columns='measurement', values='reading', aggfunc=np.mean)\n",
        "        \n",
        "        # Print the head of airquality_pivot before reset_index\n",
        "        print(airquality_pivot.head())\n",
        "        \n",
        "        # Reset the index of airquality_pivot\n",
        "        airquality_pivot = airquality_pivot.reset_index()\n",
        "        \n",
        "        # Print the head of airquality_pivot\n",
        "        print(airquality_pivot.head())\n",
        "        \n",
        "        # Print the head of airquality\n",
        "        print(airquality.head())\n",
        "measurement  Ozone  Solar.R  Temp  Wind\n",
        "Date                                   \n",
        "1973-05-01    41.0    190.0  67.0   7.4\n",
        "1973-05-02    36.0    118.0  72.0   8.0\n",
        "1973-05-03    12.0    149.0  74.0  12.6\n",
        "1973-05-04    18.0    313.0  62.0  11.5\n",
        "1973-05-05     NaN      NaN  56.0  14.3\n",
        "measurement       Date  Ozone  Solar.R  Temp  Wind\n",
        "0           1973-05-01   41.0    190.0  67.0   7.4\n",
        "1           1973-05-02   36.0    118.0  72.0   8.0\n",
        "2           1973-05-03   12.0    149.0  74.0  12.6\n",
        "3           1973-05-04   18.0    313.0  62.0  11.5\n",
        "4           1973-05-05    NaN      NaN  56.0  14.3\n",
        "        Date  Ozone  Solar.R  Wind  Temp\n",
        "0 1973-05-01   41.0    190.0   7.4    67\n",
        "1 1973-05-02   36.0    118.0   8.0    72\n",
        "2 1973-05-03   12.0    149.0  12.6    74\n",
        "3 1973-05-04   18.0    313.0  11.5    62\n",
        "4 1973-05-05    NaN      NaN  14.3    56"
      ],
      "execution_count": null,
      "outputs": []
    },
    {
      "cell_type": "markdown",
      "metadata": {
        "id": "SAQajmVR6VQc"
      },
      "source": [
        "Fantastic! The default aggregation function used by .pivot_table() is np.mean(). So you could have pivoted the duplicate values in this DataFrame even without explicitly specifying the aggfunc parameter."
      ]
    },
    {
      "cell_type": "markdown",
      "metadata": {
        "id": "l8FSkNo-6VQc"
      },
      "source": [
        "# Splitting a column with .str\n",
        "\n",
        "The dataset you saw in the video, consisting of case counts of tuberculosis by country, year, gender, and age group, has been pre-loaded into a DataFrame as tb.\n",
        "In this exercise, you're going to tidy the 'm014' column, which represents males aged 0-14 years of age. In order to parse this value, you need to extract the first letter into a new column for gender, and the rest into a column for age_group. Here, since you can parse values by position, you can take advantage of pandas' vectorized string slicing by using the str attribute of columns of type object.\n",
        "Begin by printing the columns of tb in the IPython Shell using its .columns attribute, and take note of the problematic column.\n",
        "\n",
        "**Instructions**\n",
        "100 XP\n",
        "Melt tb keeping 'country' and 'year' fixed.\n",
        "Create a 'gender' column by slicing the first letter of the variable column of tb_melt.\n",
        "Create an 'age_group' column by slicing the rest of the variable column of tb_melt.\n",
        "Print the head of tb_melt. This has been done for you, so hit 'Submit Answer' to see the results!"
      ]
    },
    {
      "cell_type": "code",
      "metadata": {
        "id": "JTCJLGf46VQc"
      },
      "source": [
        "# Melt tb: tb_melt\n",
        "tb_melt = pd.melt(tb, id_vars=['country', 'year'])\n",
        "\n",
        "# Create the 'gender' column\n",
        "tb_melt['gender'] = tb_melt.variable.str[0]\n",
        "\n",
        "# Create the 'age_group' column\n",
        "tb_melt['age_group'] = tb_melt.variable.str[1:]\n",
        "\n",
        "# Print the head of tb_melt\n",
        "print(tb_melt.head())\n"
      ],
      "execution_count": null,
      "outputs": []
    },
    {
      "cell_type": "code",
      "metadata": {
        "id": "r2epgZ0G6VQc"
      },
      "source": [
        "\n",
        "<script.py> output:\n",
        "      country  year variable  value gender age_group\n",
        "    0      AD  2000     m014    0.0      m       014\n",
        "    1      AE  2000     m014    2.0      m       014\n",
        "    2      AF  2000     m014   52.0      m       014\n",
        "    3      AG  2000     m014    0.0      m       014\n",
        "    4      AL  2000     m014    2.0      m       014\n",
        "\n",
        "In [1]: "
      ],
      "execution_count": null,
      "outputs": []
    },
    {
      "cell_type": "markdown",
      "metadata": {
        "id": "o2Dg8ORj6VQd"
      },
      "source": [
        "Superb! Notice the new 'gender' and 'age_group' columns you created. It is vital to be able to split columns as needed so you can access the data that is relevant to your question."
      ]
    },
    {
      "cell_type": "markdown",
      "metadata": {
        "id": "Vqlk3fOV6VQd"
      },
      "source": [
        "# Splitting a column with .split() and .get()\n",
        "\n",
        "Another common way multiple variables are stored in columns is with a delimiter. You'll learn how to deal with such cases in this exercise, using a dataset consisting of Ebola cases and death counts by state and country. It has been pre-loaded into a DataFrame as ebola.\n",
        "Print the columns of ebola in the IPython Shell using ebola.columns. Notice that the data has column names such as Cases_Guinea and Deaths_Guinea. Here, the underscore _ serves as a delimiter between the first part (cases or deaths), and the second part (country).\n",
        "This time, you cannot directly slice the variable by position as in the previous exercise. You now need to use Python's built-in string method called .split(). By default, this method will split a string into parts separated by a space. However, in this case you want it to split by an underscore. You can do this on 'Cases_Guinea', for example, using 'Cases_Guinea'.split('_'), which returns the list ['Cases', 'Guinea'].\n",
        "The next challenge is to extract the first element of this list and assign it to a type variable, and the second element of the list to a country variable. You can accomplish this by accessing the str attribute of the column and using the .get() method to retrieve the 0 or 1 index, depending on the part you want.\n",
        "\n",
        "\n",
        "**Instructions**\n",
        "100 XP\n",
        "Melt ebola using 'Date' and 'Day' as the id_vars, 'type_country' as the var_name, and 'counts' as the value_name.\n",
        "Create a column called 'str_split' by splitting the 'type_country' column of ebola_melt on '_'. Note that you will first have to access the str attribute of type_country before you can use .split().\n",
        "Create a column called 'type' by using the .get() method to retrieve index 0 of the 'str_split' column of ebola_melt.\n",
        "Create a column called 'country' by using the .get() method to retrieve index 1 of the 'str_split' column of ebola_melt.\n",
        "Print the head of ebola_melt. This has been done for you, so hit 'Submit Answer' to view the results!"
      ]
    },
    {
      "cell_type": "code",
      "metadata": {
        "id": "zAfn56CZ6VQd"
      },
      "source": [
        "# Melt ebola: ebola_melt\n",
        "ebola_melt = pd.melt(ebola, id_vars=['Date', 'Day'], var_name='type_country', value_name='counts')\n",
        "\n",
        "# Create the 'str_split' column\n",
        "ebola_melt['str_split'] = ebola_melt.type_country.str.split('_')\n",
        "\n",
        "# Create the 'type' column\n",
        "ebola_melt['type'] = ebola_melt.str_split.str.get(0)\n",
        "\n",
        "# Create the 'country' column\n",
        "ebola_melt['country'] = ebola_melt.str_split.str.get(1)\n",
        "\n",
        "# Print the head of ebola_melt\n",
        "print(ebola_melt.head())\n"
      ],
      "execution_count": null,
      "outputs": []
    },
    {
      "cell_type": "code",
      "metadata": {
        "id": "NPh9enMy6VQd"
      },
      "source": [
        "\n",
        "<script.py> output:\n",
        "             Date  Day  type_country  counts        str_split   type country\n",
        "    0    1/5/2015  289  Cases_Guinea  2776.0  [Cases, Guinea]  Cases  Guinea\n",
        "    1    1/4/2015  288  Cases_Guinea  2775.0  [Cases, Guinea]  Cases  Guinea\n",
        "    2    1/3/2015  287  Cases_Guinea  2769.0  [Cases, Guinea]  Cases  Guinea\n",
        "    3    1/2/2015  286  Cases_Guinea     NaN  [Cases, Guinea]  Cases  Guinea\n",
        "    4  12/31/2014  284  Cases_Guinea  2730.0  [Cases, Guinea]  Cases  Guinea"
      ],
      "execution_count": null,
      "outputs": []
    },
    {
      "cell_type": "code",
      "metadata": {
        "id": "hJ9FBOPy6VQe"
      },
      "source": [
        ""
      ],
      "execution_count": null,
      "outputs": []
    }
  ]
}